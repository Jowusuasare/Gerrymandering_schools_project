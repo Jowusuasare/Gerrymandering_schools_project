{
 "cells": [
  {
   "cell_type": "code",
   "execution_count": 3,
   "metadata": {},
   "outputs": [],
   "source": [
    "import geopandas as gpd\n",
    "from tqdm import tqdm\n",
    "import libpysal as lp\n",
    "import json\n",
    "import pandas as pd"
   ]
  },
  {
   "cell_type": "code",
   "execution_count": 4,
   "metadata": {},
   "outputs": [],
   "source": [
    "def retrieve_data(sy):\n",
    "    \"\"\"\n",
    "    Retrieve data for a given school year (sy)\n",
    "    \"\"\"\n",
    "    data_dir = \"./LCPS_data\"\n",
    "    # Read the data files\n",
    "    schools = gpd.read_file('{}/LCPS_Sites_{}.shp'.format(data_dir, sy))\n",
    "    students = gpd.read_file('{}/Students_{}.shp'.format(data_dir, sy))\n",
    "    #spas = gpd.read_file('{}/PlanningZones_{}.shp'.format(data_dir, sy))\n",
    "    \n",
    "    return students, schools\n"
   ]
  },
  {
   "cell_type": "code",
   "execution_count": 5,
   "metadata": {},
   "outputs": [],
   "source": [
    "sy = '2017_2018'"
   ]
  },
  {
   "cell_type": "code",
   "execution_count": 6,
   "metadata": {},
   "outputs": [],
   "source": [
    "students, schools = retrieve_data(sy)"
   ]
  },
  {
   "cell_type": "markdown",
   "metadata": {},
   "source": [
    "# Comparing student population to capacity (WRONG APPROACH)"
   ]
  },
  {
   "cell_type": "code",
   "execution_count": 7,
   "metadata": {},
   "outputs": [
    {
     "data": {
      "text/html": [
       "<div>\n",
       "<style scoped>\n",
       "    .dataframe tbody tr th:only-of-type {\n",
       "        vertical-align: middle;\n",
       "    }\n",
       "\n",
       "    .dataframe tbody tr th {\n",
       "        vertical-align: top;\n",
       "    }\n",
       "\n",
       "    .dataframe thead th {\n",
       "        text-align: right;\n",
       "    }\n",
       "</style>\n",
       "<table border=\"1\" class=\"dataframe\">\n",
       "  <thead>\n",
       "    <tr style=\"text-align: right;\">\n",
       "      <th></th>\n",
       "      <th>OBJECTID</th>\n",
       "      <th>SCH_CODE</th>\n",
       "      <th>CLASS</th>\n",
       "      <th>SCH_NUM</th>\n",
       "      <th>NAME</th>\n",
       "      <th>DATE_OPENE</th>\n",
       "      <th>BUILDING_D</th>\n",
       "      <th>CLASSROOMS</th>\n",
       "      <th>SPECIAL_SI</th>\n",
       "      <th>TRAILERS</th>\n",
       "      <th>...</th>\n",
       "      <th>STRT_GRD</th>\n",
       "      <th>END_GRD</th>\n",
       "      <th>ELEM_</th>\n",
       "      <th>INT_</th>\n",
       "      <th>MID_</th>\n",
       "      <th>HIGH_</th>\n",
       "      <th>CAPACITY</th>\n",
       "      <th>PERM_CLRM</th>\n",
       "      <th>PORT_CLRM</th>\n",
       "      <th>geometry</th>\n",
       "    </tr>\n",
       "  </thead>\n",
       "  <tbody>\n",
       "    <tr>\n",
       "      <td>0</td>\n",
       "      <td>1</td>\n",
       "      <td>HCA</td>\n",
       "      <td>CHARTER</td>\n",
       "      <td>119</td>\n",
       "      <td>HILLSBORO CHARTER ACADEMY</td>\n",
       "      <td>1966</td>\n",
       "      <td>7</td>\n",
       "      <td>6</td>\n",
       "      <td>0</td>\n",
       "      <td>0</td>\n",
       "      <td>...</td>\n",
       "      <td>-1</td>\n",
       "      <td>5</td>\n",
       "      <td>119</td>\n",
       "      <td>0</td>\n",
       "      <td>0</td>\n",
       "      <td>0</td>\n",
       "      <td>0</td>\n",
       "      <td>6</td>\n",
       "      <td>0</td>\n",
       "      <td>POINT (11704031.792 7120651.489)</td>\n",
       "    </tr>\n",
       "    <tr>\n",
       "      <td>1</td>\n",
       "      <td>2</td>\n",
       "      <td>MSE</td>\n",
       "      <td>ELEMENTARY</td>\n",
       "      <td>155</td>\n",
       "      <td>MOOREFIELD STATION ES</td>\n",
       "      <td>2013</td>\n",
       "      <td>46</td>\n",
       "      <td>48</td>\n",
       "      <td>0</td>\n",
       "      <td>0</td>\n",
       "      <td>...</td>\n",
       "      <td>-1</td>\n",
       "      <td>5</td>\n",
       "      <td>155</td>\n",
       "      <td>0</td>\n",
       "      <td>0</td>\n",
       "      <td>0</td>\n",
       "      <td>1003</td>\n",
       "      <td>48</td>\n",
       "      <td>0</td>\n",
       "      <td>POINT (11765618.437 7048564.330)</td>\n",
       "    </tr>\n",
       "    <tr>\n",
       "      <td>2</td>\n",
       "      <td>3</td>\n",
       "      <td>CTY</td>\n",
       "      <td>ELEMENTARY</td>\n",
       "      <td>111</td>\n",
       "      <td>COUNTRYSIDE ES</td>\n",
       "      <td>2003</td>\n",
       "      <td>39</td>\n",
       "      <td>40</td>\n",
       "      <td>0</td>\n",
       "      <td>0</td>\n",
       "      <td>...</td>\n",
       "      <td>-1</td>\n",
       "      <td>5</td>\n",
       "      <td>111</td>\n",
       "      <td>0</td>\n",
       "      <td>0</td>\n",
       "      <td>0</td>\n",
       "      <td>815</td>\n",
       "      <td>40</td>\n",
       "      <td>0</td>\n",
       "      <td>POINT (11791339.593 7064856.835)</td>\n",
       "    </tr>\n",
       "    <tr>\n",
       "      <td>3</td>\n",
       "      <td>4</td>\n",
       "      <td>HUT</td>\n",
       "      <td>ELEMENTARY</td>\n",
       "      <td>122</td>\n",
       "      <td>HUTCHISON FARM ES</td>\n",
       "      <td>2002</td>\n",
       "      <td>37</td>\n",
       "      <td>38</td>\n",
       "      <td>2</td>\n",
       "      <td>0</td>\n",
       "      <td>...</td>\n",
       "      <td>-1</td>\n",
       "      <td>5</td>\n",
       "      <td>122</td>\n",
       "      <td>0</td>\n",
       "      <td>0</td>\n",
       "      <td>0</td>\n",
       "      <td>862</td>\n",
       "      <td>38</td>\n",
       "      <td>0</td>\n",
       "      <td>POINT (11761074.023 7017323.603)</td>\n",
       "    </tr>\n",
       "    <tr>\n",
       "      <td>4</td>\n",
       "      <td>5</td>\n",
       "      <td>MTC</td>\n",
       "      <td>HIGH</td>\n",
       "      <td>312</td>\n",
       "      <td>CS MONROE TECHNOLOGY</td>\n",
       "      <td>1977</td>\n",
       "      <td>0</td>\n",
       "      <td>0</td>\n",
       "      <td>0</td>\n",
       "      <td>0</td>\n",
       "      <td>...</td>\n",
       "      <td>9</td>\n",
       "      <td>12</td>\n",
       "      <td>0</td>\n",
       "      <td>0</td>\n",
       "      <td>0</td>\n",
       "      <td>312</td>\n",
       "      <td>0</td>\n",
       "      <td>0</td>\n",
       "      <td>0</td>\n",
       "      <td>POINT (11743154.119 7090534.950)</td>\n",
       "    </tr>\n",
       "  </tbody>\n",
       "</table>\n",
       "<p>5 rows × 21 columns</p>\n",
       "</div>"
      ],
      "text/plain": [
       "   OBJECTID SCH_CODE       CLASS  SCH_NUM                       NAME  \\\n",
       "0         1      HCA     CHARTER      119  HILLSBORO CHARTER ACADEMY   \n",
       "1         2      MSE  ELEMENTARY      155      MOOREFIELD STATION ES   \n",
       "2         3      CTY  ELEMENTARY      111             COUNTRYSIDE ES   \n",
       "3         4      HUT  ELEMENTARY      122          HUTCHISON FARM ES   \n",
       "4         5      MTC        HIGH      312       CS MONROE TECHNOLOGY   \n",
       "\n",
       "  DATE_OPENE  BUILDING_D  CLASSROOMS  SPECIAL_SI  TRAILERS  ...  STRT_GRD  \\\n",
       "0       1966           7           6           0         0  ...        -1   \n",
       "1       2013          46          48           0         0  ...        -1   \n",
       "2       2003          39          40           0         0  ...        -1   \n",
       "3       2002          37          38           2         0  ...        -1   \n",
       "4       1977           0           0           0         0  ...         9   \n",
       "\n",
       "   END_GRD  ELEM_  INT_  MID_  HIGH_  CAPACITY  PERM_CLRM  PORT_CLRM  \\\n",
       "0        5    119     0     0      0         0          6          0   \n",
       "1        5    155     0     0      0      1003         48          0   \n",
       "2        5    111     0     0      0       815         40          0   \n",
       "3        5    122     0     0      0       862         38          0   \n",
       "4       12      0     0     0    312         0          0          0   \n",
       "\n",
       "                           geometry  \n",
       "0  POINT (11704031.792 7120651.489)  \n",
       "1  POINT (11765618.437 7048564.330)  \n",
       "2  POINT (11791339.593 7064856.835)  \n",
       "3  POINT (11761074.023 7017323.603)  \n",
       "4  POINT (11743154.119 7090534.950)  \n",
       "\n",
       "[5 rows x 21 columns]"
      ]
     },
     "execution_count": 7,
     "metadata": {},
     "output_type": "execute_result"
    }
   ],
   "source": [
    "schools.head()\n"
   ]
  },
  {
   "cell_type": "code",
   "execution_count": 8,
   "metadata": {},
   "outputs": [],
   "source": [
    "#schools['SCH_NUM']\n",
    "#schools['CAPACITY']\n",
    "# imbalance = schools['SCH_NUM'] > schools['CAPACITY']\n",
    "# num_imbalance = sum(imbalance)\n",
    "# print('The number of imbalanced/ overpopulated schools is', num_imbalance)\n",
    "# balance = len(schools['CAPACITY']) - num_imbalance\n",
    "# print('The number of balanced schools is', balance)"
   ]
  },
  {
   "cell_type": "code",
   "execution_count": 9,
   "metadata": {},
   "outputs": [],
   "source": [
    "# schools[imbalance]\n",
    "# charter_schools = schools['CLASS']=='CHARTER'\n",
    "# schools[charter_schools]\n",
    "\n",
    "#interested in the charter schools since its capacity is 0\n",
    "#printed out the schoools that were imbalanced since that gave clarity on the overpopulated schools"
   ]
  },
  {
   "cell_type": "code",
   "execution_count": 10,
   "metadata": {},
   "outputs": [
    {
     "data": {
      "text/plain": [
       "Index(['OBJECTID', 'SCH_CODE', 'CLASS', 'SCH_NUM', 'NAME', 'DATE_OPENE',\n",
       "       'BUILDING_D', 'CLASSROOMS', 'SPECIAL_SI', 'TRAILERS', 'SCHL_CODE',\n",
       "       'STRT_GRD', 'END_GRD', 'ELEM_', 'INT_', 'MID_', 'HIGH_', 'CAPACITY',\n",
       "       'PERM_CLRM', 'PORT_CLRM', 'geometry'],\n",
       "      dtype='object')"
      ]
     },
     "execution_count": 10,
     "metadata": {},
     "output_type": "execute_result"
    }
   ],
   "source": [
    "# schools_elem_code = schools[['OBJECTID', 'SCH_CODE']]\n",
    "# schools_elem_code.groupby('SCH_CODE').agg('count')\n",
    "schools.keys()"
   ]
  },
  {
   "cell_type": "markdown",
   "metadata": {},
   "source": [
    "# To compare student population to capacity (within a district) "
   ]
  },
  {
   "cell_type": "code",
   "execution_count": 11,
   "metadata": {},
   "outputs": [
    {
     "data": {
      "text/plain": [
       "Index(['ObjectID', 'ARC_Single', 'Loud_ID', 'Address', 'Address_Ex', 'ADDwEXT',\n",
       "       'Prefix', 'Street_Nam', 'Street_Typ', 'Suffix', 'Town', 'Zip_1',\n",
       "       'Subdivisio', 'GRID_CODE', 'GRADE', 'IEP_FLAG', 'GENDER', 'ETHNIC',\n",
       "       'BIRTH', 'APT_PH', 'STATE_PH', 'LEP_FLAG', 'FSI', 'Current_S',\n",
       "       'Previous_S', 'ELEM_CODE', 'INT_CODE', 'HIGH_CODE', 'geometry'],\n",
       "      dtype='object')"
      ]
     },
     "execution_count": 11,
     "metadata": {},
     "output_type": "execute_result"
    }
   ],
   "source": [
    "students.keys()\n",
    "# students['GRADE']\n"
   ]
  },
  {
   "cell_type": "markdown",
   "metadata": {},
   "source": [
    "### Population from Students dataframe"
   ]
  },
  {
   "cell_type": "code",
   "execution_count": 12,
   "metadata": {},
   "outputs": [
    {
     "data": {
      "text/html": [
       "<div>\n",
       "<style scoped>\n",
       "    .dataframe tbody tr th:only-of-type {\n",
       "        vertical-align: middle;\n",
       "    }\n",
       "\n",
       "    .dataframe tbody tr th {\n",
       "        vertical-align: top;\n",
       "    }\n",
       "\n",
       "    .dataframe thead th {\n",
       "        text-align: right;\n",
       "    }\n",
       "</style>\n",
       "<table border=\"1\" class=\"dataframe\">\n",
       "  <thead>\n",
       "    <tr style=\"text-align: right;\">\n",
       "      <th></th>\n",
       "      <th>Num_Students</th>\n",
       "    </tr>\n",
       "    <tr>\n",
       "      <th>ELEM_CODE</th>\n",
       "      <th></th>\n",
       "    </tr>\n",
       "  </thead>\n",
       "  <tbody>\n",
       "    <tr>\n",
       "      <td>ALD</td>\n",
       "      <td>162</td>\n",
       "    </tr>\n",
       "    <tr>\n",
       "      <td>ALG</td>\n",
       "      <td>395</td>\n",
       "    </tr>\n",
       "    <tr>\n",
       "      <td>ARC</td>\n",
       "      <td>829</td>\n",
       "    </tr>\n",
       "    <tr>\n",
       "      <td>ASH</td>\n",
       "      <td>517</td>\n",
       "    </tr>\n",
       "    <tr>\n",
       "      <td>BAL</td>\n",
       "      <td>534</td>\n",
       "    </tr>\n",
       "  </tbody>\n",
       "</table>\n",
       "</div>"
      ],
      "text/plain": [
       "           Num_Students\n",
       "ELEM_CODE              \n",
       "ALD                 162\n",
       "ALG                 395\n",
       "ARC                 829\n",
       "ASH                 517\n",
       "BAL                 534"
      ]
     },
     "execution_count": 12,
     "metadata": {},
     "output_type": "execute_result"
    }
   ],
   "source": [
    "# students.head()\n",
    "#I'm interested in ELEM_code but I needed another column for the count so ObjectID\n",
    "#was chosen\n",
    "#Direct groupby with student district(ELEM_CODE)\n",
    "elementary_students = students[students['GRADE'] <= 5]\n",
    "students_elem_code = elementary_students[['ObjectID', 'ELEM_CODE']]\n",
    "students_elem_code\n",
    "grouped_df = students_elem_code.groupby(['ELEM_CODE']).agg('count')\n",
    "grouped_df.rename(columns={\"ObjectID\":\"Num_Students\"}, inplace=True)\n",
    "grouped_df.head()\n",
    "\n"
   ]
  },
  {
   "cell_type": "markdown",
   "metadata": {},
   "source": [
    "### Capacity from Schools dataframe"
   ]
  },
  {
   "cell_type": "code",
   "execution_count": 13,
   "metadata": {},
   "outputs": [
    {
     "name": "stderr",
     "output_type": "stream",
     "text": [
      "C:\\Users\\james\\Anaconda3\\lib\\site-packages\\pandas\\core\\frame.py:4223: SettingWithCopyWarning: \n",
      "A value is trying to be set on a copy of a slice from a DataFrame\n",
      "\n",
      "See the caveats in the documentation: http://pandas.pydata.org/pandas-docs/stable/user_guide/indexing.html#returning-a-view-versus-a-copy\n",
      "  return super().rename(**kwargs)\n"
     ]
    },
    {
     "data": {
      "text/html": [
       "<div>\n",
       "<style scoped>\n",
       "    .dataframe tbody tr th:only-of-type {\n",
       "        vertical-align: middle;\n",
       "    }\n",
       "\n",
       "    .dataframe tbody tr th {\n",
       "        vertical-align: top;\n",
       "    }\n",
       "\n",
       "    .dataframe thead th {\n",
       "        text-align: right;\n",
       "    }\n",
       "</style>\n",
       "<table border=\"1\" class=\"dataframe\">\n",
       "  <thead>\n",
       "    <tr style=\"text-align: right;\">\n",
       "      <th></th>\n",
       "      <th>ELEM_CODE</th>\n",
       "      <th>CAPACITY</th>\n",
       "    </tr>\n",
       "  </thead>\n",
       "  <tbody>\n",
       "    <tr>\n",
       "      <td>1</td>\n",
       "      <td>MSE</td>\n",
       "      <td>1003</td>\n",
       "    </tr>\n",
       "    <tr>\n",
       "      <td>2</td>\n",
       "      <td>CTY</td>\n",
       "      <td>815</td>\n",
       "    </tr>\n",
       "    <tr>\n",
       "      <td>3</td>\n",
       "      <td>HUT</td>\n",
       "      <td>862</td>\n",
       "    </tr>\n",
       "    <tr>\n",
       "      <td>5</td>\n",
       "      <td>BUF</td>\n",
       "      <td>1039</td>\n",
       "    </tr>\n",
       "    <tr>\n",
       "      <td>6</td>\n",
       "      <td>LIN</td>\n",
       "      <td>138</td>\n",
       "    </tr>\n",
       "  </tbody>\n",
       "</table>\n",
       "</div>"
      ],
      "text/plain": [
       "  ELEM_CODE  CAPACITY\n",
       "1       MSE      1003\n",
       "2       CTY       815\n",
       "3       HUT       862\n",
       "5       BUF      1039\n",
       "6       LIN       138"
      ]
     },
     "execution_count": 13,
     "metadata": {},
     "output_type": "execute_result"
    }
   ],
   "source": [
    "# schools['CAPACITY']\n",
    "elementary_schools = schools[schools['CLASS'] == 'ELEMENTARY']\n",
    "output_df2 = elementary_schools[['SCH_CODE', 'CAPACITY']]\n",
    "output_df2.rename(columns={\"SCH_CODE\":\"ELEM_CODE\"}, inplace=True)\n",
    "output_df2.head()"
   ]
  },
  {
   "cell_type": "markdown",
   "metadata": {},
   "source": [
    "### Merged dataframes"
   ]
  },
  {
   "cell_type": "code",
   "execution_count": 14,
   "metadata": {},
   "outputs": [
    {
     "data": {
      "text/html": [
       "<div>\n",
       "<style scoped>\n",
       "    .dataframe tbody tr th:only-of-type {\n",
       "        vertical-align: middle;\n",
       "    }\n",
       "\n",
       "    .dataframe tbody tr th {\n",
       "        vertical-align: top;\n",
       "    }\n",
       "\n",
       "    .dataframe thead th {\n",
       "        text-align: right;\n",
       "    }\n",
       "</style>\n",
       "<table border=\"1\" class=\"dataframe\">\n",
       "  <thead>\n",
       "    <tr style=\"text-align: right;\">\n",
       "      <th></th>\n",
       "      <th>ELEM_CODE</th>\n",
       "      <th>Num_Students</th>\n",
       "      <th>CAPACITY</th>\n",
       "    </tr>\n",
       "  </thead>\n",
       "  <tbody>\n",
       "    <tr>\n",
       "      <td>0</td>\n",
       "      <td>ALD</td>\n",
       "      <td>162</td>\n",
       "      <td>138</td>\n",
       "    </tr>\n",
       "    <tr>\n",
       "      <td>1</td>\n",
       "      <td>ALG</td>\n",
       "      <td>395</td>\n",
       "      <td>658</td>\n",
       "    </tr>\n",
       "    <tr>\n",
       "      <td>2</td>\n",
       "      <td>ARC</td>\n",
       "      <td>829</td>\n",
       "      <td>924</td>\n",
       "    </tr>\n",
       "    <tr>\n",
       "      <td>3</td>\n",
       "      <td>ASH</td>\n",
       "      <td>517</td>\n",
       "      <td>730</td>\n",
       "    </tr>\n",
       "    <tr>\n",
       "      <td>4</td>\n",
       "      <td>BAL</td>\n",
       "      <td>534</td>\n",
       "      <td>730</td>\n",
       "    </tr>\n",
       "  </tbody>\n",
       "</table>\n",
       "</div>"
      ],
      "text/plain": [
       "  ELEM_CODE  Num_Students  CAPACITY\n",
       "0       ALD           162       138\n",
       "1       ALG           395       658\n",
       "2       ARC           829       924\n",
       "3       ASH           517       730\n",
       "4       BAL           534       730"
      ]
     },
     "execution_count": 14,
     "metadata": {},
     "output_type": "execute_result"
    }
   ],
   "source": [
    "merged_df = pd.merge(grouped_df, output_df2, on='ELEM_CODE')\n",
    "merged_df.head()"
   ]
  },
  {
   "cell_type": "markdown",
   "metadata": {},
   "source": [
    "### Comparison of capacities to find balance"
   ]
  },
  {
   "cell_type": "code",
   "execution_count": 15,
   "metadata": {},
   "outputs": [
    {
     "name": "stdout",
     "output_type": "stream",
     "text": [
      "The number of imbalanced/ overpopulated schools is 2\n",
      "The number of balanced schools is 53\n"
     ]
    }
   ],
   "source": [
    "#schools['SCH_NUM']\n",
    "#schools['CAPACITY']\n",
    "imbalance = merged_df['Num_Students'] > merged_df['CAPACITY']\n",
    "num_imbalance = sum(imbalance)\n",
    "print('The number of imbalanced/ overpopulated schools is', num_imbalance)\n",
    "balance = len(merged_df) - num_imbalance\n",
    "print('The number of balanced schools is', balance)"
   ]
  },
  {
   "cell_type": "code",
   "execution_count": 51,
   "metadata": {},
   "outputs": [],
   "source": [
    "imbalance_df = merged_df[imbalance]"
   ]
  },
  {
   "cell_type": "markdown",
   "metadata": {},
   "source": [
    "\n",
    "### Quantifying the imbalance"
   ]
  },
  {
   "cell_type": "code",
   "execution_count": 53,
   "metadata": {},
   "outputs": [],
   "source": [
    "imbalance_df.loc[:,'Amount_Imbalance'] = (imbalance_df['Num_Students']-imbalance_df['CAPACITY'])"
   ]
  },
  {
   "cell_type": "code",
   "execution_count": 55,
   "metadata": {},
   "outputs": [],
   "source": [
    "imbalance_df.loc[:, 'Percentage'] = imbalance_df['Amount_Imbalance']/ imbalance_df['CAPACITY']"
   ]
  },
  {
   "cell_type": "code",
   "execution_count": 56,
   "metadata": {},
   "outputs": [
    {
     "data": {
      "text/html": [
       "<div>\n",
       "<style scoped>\n",
       "    .dataframe tbody tr th:only-of-type {\n",
       "        vertical-align: middle;\n",
       "    }\n",
       "\n",
       "    .dataframe tbody tr th {\n",
       "        vertical-align: top;\n",
       "    }\n",
       "\n",
       "    .dataframe thead th {\n",
       "        text-align: right;\n",
       "    }\n",
       "</style>\n",
       "<table border=\"1\" class=\"dataframe\">\n",
       "  <thead>\n",
       "    <tr style=\"text-align: right;\">\n",
       "      <th></th>\n",
       "      <th>ELEM_CODE</th>\n",
       "      <th>Num_Students</th>\n",
       "      <th>CAPACITY</th>\n",
       "      <th>Amount_Imbalance</th>\n",
       "      <th>Percentage</th>\n",
       "    </tr>\n",
       "  </thead>\n",
       "  <tbody>\n",
       "    <tr>\n",
       "      <td>0</td>\n",
       "      <td>ALD</td>\n",
       "      <td>162</td>\n",
       "      <td>138</td>\n",
       "      <td>24</td>\n",
       "      <td>0.173913</td>\n",
       "    </tr>\n",
       "    <tr>\n",
       "      <td>7</td>\n",
       "      <td>BUF</td>\n",
       "      <td>1353</td>\n",
       "      <td>1039</td>\n",
       "      <td>314</td>\n",
       "      <td>0.302214</td>\n",
       "    </tr>\n",
       "  </tbody>\n",
       "</table>\n",
       "</div>"
      ],
      "text/plain": [
       "  ELEM_CODE  Num_Students  CAPACITY  Amount_Imbalance  Percentage\n",
       "0       ALD           162       138                24    0.173913\n",
       "7       BUF          1353      1039               314    0.302214"
      ]
     },
     "execution_count": 56,
     "metadata": {},
     "output_type": "execute_result"
    }
   ],
   "source": [
    "imbalance_df"
   ]
  },
  {
   "cell_type": "markdown",
   "metadata": {},
   "source": [
    "###### The percentage imbalance of 17% and 30% was recorded for ALD and BUF respectfully"
   ]
  }
 ],
 "metadata": {
  "kernelspec": {
   "display_name": "Python 3",
   "language": "python",
   "name": "python3"
  },
  "language_info": {
   "codemirror_mode": {
    "name": "ipython",
    "version": 3
   },
   "file_extension": ".py",
   "mimetype": "text/x-python",
   "name": "python",
   "nbconvert_exporter": "python",
   "pygments_lexer": "ipython3",
   "version": "3.7.4"
  }
 },
 "nbformat": 4,
 "nbformat_minor": 2
}

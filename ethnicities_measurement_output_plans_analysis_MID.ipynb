{
 "cells": [
  {
   "cell_type": "code",
   "execution_count": 1,
   "metadata": {},
   "outputs": [],
   "source": [
    "import geopandas as gpd\n",
    "from tqdm import tqdm\n",
    "import libpysal as lp\n",
    "import json\n",
    "import pandas as pd\n",
    "from matplotlib.patches import Patch  # used for the plot legends later"
   ]
  },
  {
   "cell_type": "markdown",
   "metadata": {},
   "source": [
    "###  Get the data in the folder ./LCPS_data for pre-processing. Let's call this `retrieved data`."
   ]
  },
  {
   "cell_type": "code",
   "execution_count": 2,
   "metadata": {},
   "outputs": [],
   "source": [
    "def retrieve_data(sy):\n",
    "    \"\"\"\n",
    "    Retrieve data for a given school year (sy)\n",
    "    \"\"\"\n",
    "    data_dir = \"./LCPS_data\"\n",
    "    # Read the data files\n",
    "    schools = gpd.read_file('{}/LCPS_Sites_{}.shp'.format(data_dir, sy))\n",
    "    students = gpd.read_file('{}/Students_{}.shp'.format(data_dir, sy))\n",
    "    spas = gpd.read_file('{}/PlanningZones_{}.shp'.format(data_dir, sy))\n",
    "    \n",
    "    return schools, students, spas\n"
   ]
  },
  {
   "cell_type": "code",
   "execution_count": 3,
   "metadata": {},
   "outputs": [],
   "source": [
    "sy = '2017_2018'"
   ]
  },
  {
   "cell_type": "code",
   "execution_count": 4,
   "metadata": {},
   "outputs": [],
   "source": [
    "# raw_schools, raw_students, raw_spas = retrieve_data(sy)"
   ]
  },
  {
   "cell_type": "markdown",
   "metadata": {},
   "source": [
    "###  Get the processed data from the folder ./data"
   ]
  },
  {
   "cell_type": "code",
   "execution_count": 5,
   "metadata": {},
   "outputs": [],
   "source": [
    "#spas_processed = gpd.read_file('new_SPAs_2017_2018.json', driver='GeoJSON')\n",
    "spas = gpd.read_file('./data/new_SPAs_2017_2018.json', driver='GeoJSON')\n",
    "students = gpd.read_file('./data/new_Students_2017_2018.json', driver='GeoJSON')\n",
    "schools = gpd.read_file('./data/new_Schools_2017_2018.json', driver='GeoJSON')\n",
    "\n",
    "\n",
    "\n",
    "\n",
    "#new line to run the newly downloaded json files, should move around anywhere.\n",
    "#new line to run the newly downloaded json files, should move around anywhere."
   ]
  },
  {
   "cell_type": "code",
   "execution_count": 6,
   "metadata": {},
   "outputs": [
    {
     "data": {
      "text/html": [
       "<div>\n",
       "<style scoped>\n",
       "    .dataframe tbody tr th:only-of-type {\n",
       "        vertical-align: middle;\n",
       "    }\n",
       "\n",
       "    .dataframe tbody tr th {\n",
       "        vertical-align: top;\n",
       "    }\n",
       "\n",
       "    .dataframe thead th {\n",
       "        text-align: right;\n",
       "    }\n",
       "</style>\n",
       "<table border=\"1\" class=\"dataframe\">\n",
       "  <thead>\n",
       "    <tr style=\"text-align: right;\">\n",
       "      <th></th>\n",
       "      <th>OBJECTID</th>\n",
       "      <th>COUNT_</th>\n",
       "      <th>SPA</th>\n",
       "      <th>ELEM_</th>\n",
       "      <th>INT_</th>\n",
       "      <th>HIGH_</th>\n",
       "      <th>ELEM_CODE</th>\n",
       "      <th>MID_CODE</th>\n",
       "      <th>HIGH_CODE</th>\n",
       "      <th>DISTRICT</th>\n",
       "      <th>...</th>\n",
       "      <th>HIGH_POP_N</th>\n",
       "      <th>HIGH_POP_P</th>\n",
       "      <th>TOT_POP_A</th>\n",
       "      <th>TOT_POP_W</th>\n",
       "      <th>TOT_POP_M2</th>\n",
       "      <th>TOT_POP_B</th>\n",
       "      <th>TOT_POP_H</th>\n",
       "      <th>TOT_POP_N</th>\n",
       "      <th>TOT_POP_P</th>\n",
       "      <th>geometry</th>\n",
       "    </tr>\n",
       "  </thead>\n",
       "  <tbody>\n",
       "    <tr>\n",
       "      <td>0</td>\n",
       "      <td>1</td>\n",
       "      <td>5.0</td>\n",
       "      <td>WL03.4</td>\n",
       "      <td>126</td>\n",
       "      <td>205</td>\n",
       "      <td>311</td>\n",
       "      <td>LOV</td>\n",
       "      <td>HRM</td>\n",
       "      <td>WHS</td>\n",
       "      <td>WL</td>\n",
       "      <td>...</td>\n",
       "      <td>0</td>\n",
       "      <td>0</td>\n",
       "      <td>1</td>\n",
       "      <td>37</td>\n",
       "      <td>0</td>\n",
       "      <td>2</td>\n",
       "      <td>7</td>\n",
       "      <td>0</td>\n",
       "      <td>0</td>\n",
       "      <td>POLYGON ((11725868.086 7152149.054, 11725870.6...</td>\n",
       "    </tr>\n",
       "    <tr>\n",
       "      <td>1</td>\n",
       "      <td>2</td>\n",
       "      <td>5.0</td>\n",
       "      <td>WL03</td>\n",
       "      <td>126</td>\n",
       "      <td>205</td>\n",
       "      <td>311</td>\n",
       "      <td>LOV</td>\n",
       "      <td>HRM</td>\n",
       "      <td>WHS</td>\n",
       "      <td>WL</td>\n",
       "      <td>...</td>\n",
       "      <td>0</td>\n",
       "      <td>0</td>\n",
       "      <td>0</td>\n",
       "      <td>83</td>\n",
       "      <td>5</td>\n",
       "      <td>0</td>\n",
       "      <td>6</td>\n",
       "      <td>1</td>\n",
       "      <td>0</td>\n",
       "      <td>POLYGON ((11726805.147 7160565.439, 11726826.6...</td>\n",
       "    </tr>\n",
       "    <tr>\n",
       "      <td>2</td>\n",
       "      <td>3</td>\n",
       "      <td>5.0</td>\n",
       "      <td>WL27.2</td>\n",
       "      <td>118</td>\n",
       "      <td>202</td>\n",
       "      <td>305</td>\n",
       "      <td>HAM</td>\n",
       "      <td>BRM</td>\n",
       "      <td>LVH</td>\n",
       "      <td>WL</td>\n",
       "      <td>...</td>\n",
       "      <td>0</td>\n",
       "      <td>0</td>\n",
       "      <td>0</td>\n",
       "      <td>11</td>\n",
       "      <td>0</td>\n",
       "      <td>1</td>\n",
       "      <td>5</td>\n",
       "      <td>0</td>\n",
       "      <td>0</td>\n",
       "      <td>POLYGON ((11720159.464 7099502.139, 11720172.1...</td>\n",
       "    </tr>\n",
       "    <tr>\n",
       "      <td>3</td>\n",
       "      <td>4</td>\n",
       "      <td>5.0</td>\n",
       "      <td>WL32.1</td>\n",
       "      <td>132</td>\n",
       "      <td>205</td>\n",
       "      <td>311</td>\n",
       "      <td>MTV</td>\n",
       "      <td>HRM</td>\n",
       "      <td>WHS</td>\n",
       "      <td>WL</td>\n",
       "      <td>...</td>\n",
       "      <td>0</td>\n",
       "      <td>0</td>\n",
       "      <td>8</td>\n",
       "      <td>205</td>\n",
       "      <td>14</td>\n",
       "      <td>8</td>\n",
       "      <td>23</td>\n",
       "      <td>1</td>\n",
       "      <td>0</td>\n",
       "      <td>POLYGON ((11694466.485 7097608.657, 11694418.5...</td>\n",
       "    </tr>\n",
       "    <tr>\n",
       "      <td>4</td>\n",
       "      <td>5</td>\n",
       "      <td>5.0</td>\n",
       "      <td>WL02</td>\n",
       "      <td>126</td>\n",
       "      <td>205</td>\n",
       "      <td>311</td>\n",
       "      <td>LOV</td>\n",
       "      <td>HRM</td>\n",
       "      <td>WHS</td>\n",
       "      <td>WL</td>\n",
       "      <td>...</td>\n",
       "      <td>0</td>\n",
       "      <td>0</td>\n",
       "      <td>9</td>\n",
       "      <td>170</td>\n",
       "      <td>3</td>\n",
       "      <td>0</td>\n",
       "      <td>5</td>\n",
       "      <td>0</td>\n",
       "      <td>0</td>\n",
       "      <td>POLYGON ((11715899.154 7166497.655, 11715932.1...</td>\n",
       "    </tr>\n",
       "  </tbody>\n",
       "</table>\n",
       "<p>5 rows × 75 columns</p>\n",
       "</div>"
      ],
      "text/plain": [
       "   OBJECTID  COUNT_     SPA  ELEM_  INT_  HIGH_ ELEM_CODE MID_CODE HIGH_CODE  \\\n",
       "0         1     5.0  WL03.4    126   205    311       LOV      HRM       WHS   \n",
       "1         2     5.0    WL03    126   205    311       LOV      HRM       WHS   \n",
       "2         3     5.0  WL27.2    118   202    305       HAM      BRM       LVH   \n",
       "3         4     5.0  WL32.1    132   205    311       MTV      HRM       WHS   \n",
       "4         5     5.0    WL02    126   205    311       LOV      HRM       WHS   \n",
       "\n",
       "  DISTRICT  ... HIGH_POP_N  HIGH_POP_P  TOT_POP_A TOT_POP_W TOT_POP_M2  \\\n",
       "0       WL  ...          0           0          1        37          0   \n",
       "1       WL  ...          0           0          0        83          5   \n",
       "2       WL  ...          0           0          0        11          0   \n",
       "3       WL  ...          0           0          8       205         14   \n",
       "4       WL  ...          0           0          9       170          3   \n",
       "\n",
       "  TOT_POP_B TOT_POP_H TOT_POP_N TOT_POP_P  \\\n",
       "0         2         7         0         0   \n",
       "1         0         6         1         0   \n",
       "2         1         5         0         0   \n",
       "3         8        23         1         0   \n",
       "4         0         5         0         0   \n",
       "\n",
       "                                            geometry  \n",
       "0  POLYGON ((11725868.086 7152149.054, 11725870.6...  \n",
       "1  POLYGON ((11726805.147 7160565.439, 11726826.6...  \n",
       "2  POLYGON ((11720159.464 7099502.139, 11720172.1...  \n",
       "3  POLYGON ((11694466.485 7097608.657, 11694418.5...  \n",
       "4  POLYGON ((11715899.154 7166497.655, 11715932.1...  \n",
       "\n",
       "[5 rows x 75 columns]"
      ]
     },
     "execution_count": 6,
     "metadata": {},
     "output_type": "execute_result"
    }
   ],
   "source": [
    "#students.head()\n",
    "#schools.head()\n",
    "spas.head()\n",
    "\n",
    "#uncomment the one you want to see"
   ]
  },
  {
   "cell_type": "markdown",
   "metadata": {},
   "source": [
    "## Analysis Using New SPAs Data"
   ]
  },
  {
   "cell_type": "code",
   "execution_count": 7,
   "metadata": {},
   "outputs": [
    {
     "data": {
      "text/plain": [
       "Index(['OBJECTID', 'COUNT_', 'SPA', 'ELEM_', 'INT_', 'HIGH_', 'ELEM_CODE',\n",
       "       'MID_CODE', 'HIGH_CODE', 'DISTRICT', 'UTILITIES', 'SHAPE_Leng',\n",
       "       'SHAPE_Area', 'STDYAREA_1', 'DISTRICT_1', 'PLANNING_Z', 'ELEM', 'MID',\n",
       "       'HIGH', 'UTILITIE_1', 'DISTRICT_2', 'MID_2018', 'HIGH_2018', 'PK', 'KG',\n",
       "       'GR1', 'GR2', 'GR3', 'GR4', 'GR5', 'GR6', 'GR7', 'GR8', 'GR9', 'GR10',\n",
       "       'GR11', 'GR12', 'TOTAL_KG_5', 'TOTAL_6_8', 'TOTAL_9_12', 'TOTAL_KG_1',\n",
       "       'TOTAL_PK_1', 'ELEM_POP', 'MID_POP', 'HIGH_POP', 'TOT_POP',\n",
       "       'ELEM_POP_A', 'ELEM_POP_W', 'ELEM_POP_M2', 'ELEM_POP_B', 'ELEM_POP_H',\n",
       "       'ELEM_POP_N', 'ELEM_POP_P', 'MID_POP_A', 'MID_POP_W', 'MID_POP_M2',\n",
       "       'MID_POP_B', 'MID_POP_H', 'MID_POP_N', 'MID_POP_P', 'HIGH_POP_A',\n",
       "       'HIGH_POP_W', 'HIGH_POP_M2', 'HIGH_POP_B', 'HIGH_POP_H', 'HIGH_POP_N',\n",
       "       'HIGH_POP_P', 'TOT_POP_A', 'TOT_POP_W', 'TOT_POP_M2', 'TOT_POP_B',\n",
       "       'TOT_POP_H', 'TOT_POP_N', 'TOT_POP_P', 'geometry'],\n",
       "      dtype='object')"
      ]
     },
     "execution_count": 7,
     "metadata": {},
     "output_type": "execute_result"
    }
   ],
   "source": [
    "spas.keys()"
   ]
  },
  {
   "cell_type": "code",
   "execution_count": 8,
   "metadata": {},
   "outputs": [
    {
     "name": "stderr",
     "output_type": "stream",
     "text": [
      "C:\\Users\\james\\Anaconda3\\lib\\site-packages\\pandas\\core\\indexing.py:376: SettingWithCopyWarning: \n",
      "A value is trying to be set on a copy of a slice from a DataFrame.\n",
      "Try using .loc[row_indexer,col_indexer] = value instead\n",
      "\n",
      "See the caveats in the documentation: http://pandas.pydata.org/pandas-docs/stable/user_guide/indexing.html#returning-a-view-versus-a-copy\n",
      "  self.obj[key] = _infer_fill_value(value)\n",
      "C:\\Users\\james\\Anaconda3\\lib\\site-packages\\pandas\\core\\indexing.py:494: SettingWithCopyWarning: \n",
      "A value is trying to be set on a copy of a slice from a DataFrame.\n",
      "Try using .loc[row_indexer,col_indexer] = value instead\n",
      "\n",
      "See the caveats in the documentation: http://pandas.pydata.org/pandas-docs/stable/user_guide/indexing.html#returning-a-view-versus-a-copy\n",
      "  self.obj[item] = s\n"
     ]
    },
    {
     "data": {
      "text/html": [
       "<div>\n",
       "<style scoped>\n",
       "    .dataframe tbody tr th:only-of-type {\n",
       "        vertical-align: middle;\n",
       "    }\n",
       "\n",
       "    .dataframe tbody tr th {\n",
       "        vertical-align: top;\n",
       "    }\n",
       "\n",
       "    .dataframe thead th {\n",
       "        text-align: right;\n",
       "    }\n",
       "</style>\n",
       "<table border=\"1\" class=\"dataframe\">\n",
       "  <thead>\n",
       "    <tr style=\"text-align: right;\">\n",
       "      <th></th>\n",
       "      <th>MID_POP_W</th>\n",
       "      <th>MID_POP_NW</th>\n",
       "    </tr>\n",
       "    <tr>\n",
       "      <th>MID_CODE</th>\n",
       "      <th></th>\n",
       "      <th></th>\n",
       "    </tr>\n",
       "  </thead>\n",
       "  <tbody>\n",
       "    <tr>\n",
       "      <td>BAM</td>\n",
       "      <td>0.480736</td>\n",
       "      <td>0.519264</td>\n",
       "    </tr>\n",
       "    <tr>\n",
       "      <td>BEM</td>\n",
       "      <td>0.552448</td>\n",
       "      <td>0.447552</td>\n",
       "    </tr>\n",
       "    <tr>\n",
       "      <td>BRM</td>\n",
       "      <td>0.789247</td>\n",
       "      <td>0.210753</td>\n",
       "    </tr>\n",
       "    <tr>\n",
       "      <td>ERM</td>\n",
       "      <td>0.513199</td>\n",
       "      <td>0.486801</td>\n",
       "    </tr>\n",
       "    <tr>\n",
       "      <td>FWS</td>\n",
       "      <td>0.466607</td>\n",
       "      <td>0.533393</td>\n",
       "    </tr>\n",
       "  </tbody>\n",
       "</table>\n",
       "</div>"
      ],
      "text/plain": [
       "          MID_POP_W  MID_POP_NW\n",
       "MID_CODE                       \n",
       "BAM        0.480736    0.519264\n",
       "BEM        0.552448    0.447552\n",
       "BRM        0.789247    0.210753\n",
       "ERM        0.513199    0.486801\n",
       "FWS        0.466607    0.533393"
      ]
     },
     "execution_count": 8,
     "metadata": {},
     "output_type": "execute_result"
    }
   ],
   "source": [
    "# Choose possible grade level; ELEM, MID, HIGH for SPAs\n",
    "\n",
    "grade = 'MID'\n",
    "asians = '{}_POP_A'.format(grade)\n",
    "whites = '{}_POP_W'.format(grade)\n",
    "mixed = '{}_POP_M2'.format(grade)\n",
    "blacks = '{}_POP_B'.format(grade)\n",
    "hispanics = '{}_POP_H'.format(grade)\n",
    "natives = '{}_POP_N'.format(grade)\n",
    "pacifics = '{}_POP_P'.format(grade)\n",
    "non_whites = '{}_POP_NW'.format(grade)\n",
    "\n",
    "\n",
    "spas_ethnic = spas[['{}_CODE'.format(grade) , asians, whites, mixed, blacks, hispanics, natives, pacifics, '{}_POP'.format(grade)]]\n",
    "spas_ethnic.loc[:, non_whites] = spas_ethnic.loc[:, asians] +  spas_ethnic.loc[:,blacks] +  spas_ethnic.loc[:,mixed] \\\n",
    "                            + spas_ethnic.loc[:,hispanics] + spas_ethnic.loc[:,natives] + spas_ethnic.loc[:,pacifics]\n",
    "spas_grouped_raw = spas_ethnic.groupby(['{}_CODE'.format(grade) ]).sum()\n",
    "spas_grouped = spas_grouped_raw.div(spas_grouped_raw['{}_POP'.format(grade)], axis=0)\n",
    "spas_grouped.drop([asians, mixed, blacks, hispanics, natives, pacifics, '{}_POP'.format(grade)], axis='columns', inplace=True)\n",
    "spas_grouped.head()\n",
    "\n",
    "#when generalizing one place to change and use the FORMAT style"
   ]
  },
  {
   "cell_type": "code",
   "execution_count": 9,
   "metadata": {},
   "outputs": [],
   "source": [
    "#NOTE: Run this only once or start from the previous cell on subsequent runs - since we use iterrows and create a new column, the calculated value will change on the next runs\n",
    "\n",
    "def get_measurements(df):\n",
    "    from numpy import log\n",
    "    import itertools\n",
    "    \n",
    "    # calculate absolute differences\n",
    "    abs_diffs = []\n",
    "    for row in df.iterrows():\n",
    "    #     print([val for val in itertools.permutations(row[1], 2)])\n",
    "    #     break\n",
    "        diffs = [abs(val[1] - val[0]) for val in itertools.permutations(row[1], 2)]\n",
    "        total = sum(diffs)/2\n",
    "        abs_diffs.append(total)\n",
    "    df.loc[:,'ABS_DIFF'] = abs_diffs\n",
    "\n",
    "    # calculate dissimilarity index\n",
    "    ind_diss = 0.5 * sum(abs(df[whites]/df[whites].sum() - df[non_whites]/df[non_whites].sum()))\n",
    "\n",
    "    # calculate entropy index\n",
    "    entropy = -(df[non_whites]*log(df[non_whites]) + df[whites]*log(df[whites]))\n",
    "    entropy.replace(float('NaN'),0, inplace=True)\n",
    "\n",
    "    df.loc[:,'ENTROPY_IND'] = entropy\n",
    "\n",
    "    return df, ind_diss\n",
    "\n"
   ]
  },
  {
   "cell_type": "code",
   "execution_count": 10,
   "metadata": {},
   "outputs": [
    {
     "name": "stdout",
     "output_type": "stream",
     "text": [
      "0.22744901692196107\n"
     ]
    },
    {
     "data": {
      "text/html": [
       "<div>\n",
       "<style scoped>\n",
       "    .dataframe tbody tr th:only-of-type {\n",
       "        vertical-align: middle;\n",
       "    }\n",
       "\n",
       "    .dataframe tbody tr th {\n",
       "        vertical-align: top;\n",
       "    }\n",
       "\n",
       "    .dataframe thead th {\n",
       "        text-align: right;\n",
       "    }\n",
       "</style>\n",
       "<table border=\"1\" class=\"dataframe\">\n",
       "  <thead>\n",
       "    <tr style=\"text-align: right;\">\n",
       "      <th></th>\n",
       "      <th>MID_POP_W</th>\n",
       "      <th>MID_POP_NW</th>\n",
       "      <th>ABS_DIFF</th>\n",
       "      <th>ENTROPY_IND</th>\n",
       "    </tr>\n",
       "    <tr>\n",
       "      <th>MID_CODE</th>\n",
       "      <th></th>\n",
       "      <th></th>\n",
       "      <th></th>\n",
       "      <th></th>\n",
       "    </tr>\n",
       "  </thead>\n",
       "  <tbody>\n",
       "  </tbody>\n",
       "</table>\n",
       "</div>"
      ],
      "text/plain": [
       "Empty DataFrame\n",
       "Columns: [MID_POP_W, MID_POP_NW, ABS_DIFF, ENTROPY_IND]\n",
       "Index: []"
      ]
     },
     "execution_count": 10,
     "metadata": {},
     "output_type": "execute_result"
    }
   ],
   "source": [
    "measurements_df, ind_diss_sa1 = get_measurements(spas_grouped)\n",
    "segregated_abs_diff = measurements_df[measurements_df['ABS_DIFF'] > 0.7]\n",
    "segregated_entropy = measurements_df[measurements_df['ENTROPY_IND'] < 0.4]\n",
    "print(ind_diss_sa1)\n",
    "segregated_entropy"
   ]
  },
  {
   "cell_type": "code",
   "execution_count": 11,
   "metadata": {},
   "outputs": [
    {
     "data": {
      "text/html": [
       "<div>\n",
       "<style scoped>\n",
       "    .dataframe tbody tr th:only-of-type {\n",
       "        vertical-align: middle;\n",
       "    }\n",
       "\n",
       "    .dataframe tbody tr th {\n",
       "        vertical-align: top;\n",
       "    }\n",
       "\n",
       "    .dataframe thead th {\n",
       "        text-align: right;\n",
       "    }\n",
       "</style>\n",
       "<table border=\"1\" class=\"dataframe\">\n",
       "  <thead>\n",
       "    <tr style=\"text-align: right;\">\n",
       "      <th></th>\n",
       "      <th>MID_POP_W</th>\n",
       "      <th>MID_POP_NW</th>\n",
       "      <th>ABS_DIFF</th>\n",
       "      <th>ENTROPY_IND</th>\n",
       "    </tr>\n",
       "    <tr>\n",
       "      <th>MID_CODE</th>\n",
       "      <th></th>\n",
       "      <th></th>\n",
       "      <th></th>\n",
       "      <th></th>\n",
       "    </tr>\n",
       "  </thead>\n",
       "  <tbody>\n",
       "    <tr>\n",
       "      <td>BAM</td>\n",
       "      <td>0.480736</td>\n",
       "      <td>0.519264</td>\n",
       "      <td>0.038529</td>\n",
       "      <td>0.692405</td>\n",
       "    </tr>\n",
       "    <tr>\n",
       "      <td>BEM</td>\n",
       "      <td>0.552448</td>\n",
       "      <td>0.447552</td>\n",
       "      <td>0.104895</td>\n",
       "      <td>0.687636</td>\n",
       "    </tr>\n",
       "    <tr>\n",
       "      <td>BRM</td>\n",
       "      <td>0.789247</td>\n",
       "      <td>0.210753</td>\n",
       "      <td>0.578495</td>\n",
       "      <td>0.514952</td>\n",
       "    </tr>\n",
       "    <tr>\n",
       "      <td>ERM</td>\n",
       "      <td>0.513199</td>\n",
       "      <td>0.486801</td>\n",
       "      <td>0.026398</td>\n",
       "      <td>0.692799</td>\n",
       "    </tr>\n",
       "    <tr>\n",
       "      <td>FWS</td>\n",
       "      <td>0.466607</td>\n",
       "      <td>0.533393</td>\n",
       "      <td>0.066785</td>\n",
       "      <td>0.690915</td>\n",
       "    </tr>\n",
       "    <tr>\n",
       "      <td>HPM</td>\n",
       "      <td>0.540863</td>\n",
       "      <td>0.459137</td>\n",
       "      <td>0.081726</td>\n",
       "      <td>0.689804</td>\n",
       "    </tr>\n",
       "    <tr>\n",
       "      <td>HRM</td>\n",
       "      <td>0.825472</td>\n",
       "      <td>0.174528</td>\n",
       "      <td>0.650943</td>\n",
       "      <td>0.462994</td>\n",
       "    </tr>\n",
       "    <tr>\n",
       "      <td>JLS</td>\n",
       "      <td>0.605461</td>\n",
       "      <td>0.394539</td>\n",
       "      <td>0.210923</td>\n",
       "      <td>0.670735</td>\n",
       "    </tr>\n",
       "    <tr>\n",
       "      <td>JML</td>\n",
       "      <td>0.469982</td>\n",
       "      <td>0.530018</td>\n",
       "      <td>0.060036</td>\n",
       "      <td>0.691344</td>\n",
       "    </tr>\n",
       "    <tr>\n",
       "      <td>MMS</td>\n",
       "      <td>0.394133</td>\n",
       "      <td>0.605867</td>\n",
       "      <td>0.211733</td>\n",
       "      <td>0.670561</td>\n",
       "    </tr>\n",
       "    <tr>\n",
       "      <td>RBM</td>\n",
       "      <td>0.471637</td>\n",
       "      <td>0.528363</td>\n",
       "      <td>0.056726</td>\n",
       "      <td>0.691537</td>\n",
       "    </tr>\n",
       "    <tr>\n",
       "      <td>SHM</td>\n",
       "      <td>0.227996</td>\n",
       "      <td>0.772004</td>\n",
       "      <td>0.544008</td>\n",
       "      <td>0.536843</td>\n",
       "    </tr>\n",
       "    <tr>\n",
       "      <td>SMM</td>\n",
       "      <td>0.525244</td>\n",
       "      <td>0.474756</td>\n",
       "      <td>0.050487</td>\n",
       "      <td>0.691872</td>\n",
       "    </tr>\n",
       "    <tr>\n",
       "      <td>SRM</td>\n",
       "      <td>0.461220</td>\n",
       "      <td>0.538780</td>\n",
       "      <td>0.077559</td>\n",
       "      <td>0.690136</td>\n",
       "    </tr>\n",
       "    <tr>\n",
       "      <td>STM</td>\n",
       "      <td>0.150801</td>\n",
       "      <td>0.849199</td>\n",
       "      <td>0.698398</td>\n",
       "      <td>0.424096</td>\n",
       "    </tr>\n",
       "    <tr>\n",
       "      <td>TMS</td>\n",
       "      <td>0.590648</td>\n",
       "      <td>0.409352</td>\n",
       "      <td>0.181296</td>\n",
       "      <td>0.676622</td>\n",
       "    </tr>\n",
       "  </tbody>\n",
       "</table>\n",
       "</div>"
      ],
      "text/plain": [
       "          MID_POP_W  MID_POP_NW  ABS_DIFF  ENTROPY_IND\n",
       "MID_CODE                                              \n",
       "BAM        0.480736    0.519264  0.038529     0.692405\n",
       "BEM        0.552448    0.447552  0.104895     0.687636\n",
       "BRM        0.789247    0.210753  0.578495     0.514952\n",
       "ERM        0.513199    0.486801  0.026398     0.692799\n",
       "FWS        0.466607    0.533393  0.066785     0.690915\n",
       "HPM        0.540863    0.459137  0.081726     0.689804\n",
       "HRM        0.825472    0.174528  0.650943     0.462994\n",
       "JLS        0.605461    0.394539  0.210923     0.670735\n",
       "JML        0.469982    0.530018  0.060036     0.691344\n",
       "MMS        0.394133    0.605867  0.211733     0.670561\n",
       "RBM        0.471637    0.528363  0.056726     0.691537\n",
       "SHM        0.227996    0.772004  0.544008     0.536843\n",
       "SMM        0.525244    0.474756  0.050487     0.691872\n",
       "SRM        0.461220    0.538780  0.077559     0.690136\n",
       "STM        0.150801    0.849199  0.698398     0.424096\n",
       "TMS        0.590648    0.409352  0.181296     0.676622"
      ]
     },
     "execution_count": 11,
     "metadata": {},
     "output_type": "execute_result"
    }
   ],
   "source": [
    "# measurements_df.loc[interested_districts,:]\n",
    "measurements_df"
   ]
  },
  {
   "cell_type": "code",
   "execution_count": 12,
   "metadata": {},
   "outputs": [],
   "source": [
    "ax, props = spas_grouped.boxplot(column=[whites, non_whites], figsize=(12,8), return_type='both')"
   ]
  },
  {
   "cell_type": "markdown",
   "metadata": {},
   "source": [
    "## Conclusions for Original Data"
   ]
  },
  {
   "cell_type": "markdown",
   "metadata": {},
   "source": [
    "\n",
    "Overall, using the dissimilarity index (~ 0.2), there does not appear to be any segregation within the districts.\n",
    "\n",
    "Individually, using the absolute differences (0.7 cut-off) and entropy index (0.4 cut-off), there is no evidence of segregation in any district.\n"
   ]
  },
  {
   "cell_type": "code",
   "execution_count": 13,
   "metadata": {},
   "outputs": [
    {
     "data": {
      "text/html": [
       "<div>\n",
       "<style scoped>\n",
       "    .dataframe tbody tr th:only-of-type {\n",
       "        vertical-align: middle;\n",
       "    }\n",
       "\n",
       "    .dataframe tbody tr th {\n",
       "        vertical-align: top;\n",
       "    }\n",
       "\n",
       "    .dataframe thead th {\n",
       "        text-align: right;\n",
       "    }\n",
       "</style>\n",
       "<table border=\"1\" class=\"dataframe\">\n",
       "  <thead>\n",
       "    <tr style=\"text-align: right;\">\n",
       "      <th></th>\n",
       "      <th>MID_POP_W</th>\n",
       "      <th>MID_POP_NW</th>\n",
       "      <th>ABS_DIFF</th>\n",
       "      <th>ENTROPY_IND</th>\n",
       "    </tr>\n",
       "    <tr>\n",
       "      <th>MID_CODE</th>\n",
       "      <th></th>\n",
       "      <th></th>\n",
       "      <th></th>\n",
       "      <th></th>\n",
       "    </tr>\n",
       "  </thead>\n",
       "  <tbody>\n",
       "  </tbody>\n",
       "</table>\n",
       "</div>"
      ],
      "text/plain": [
       "Empty DataFrame\n",
       "Columns: [MID_POP_W, MID_POP_NW, ABS_DIFF, ENTROPY_IND]\n",
       "Index: []"
      ]
     },
     "execution_count": 13,
     "metadata": {},
     "output_type": "execute_result"
    }
   ],
   "source": [
    "segregated_abs_diff"
   ]
  },
  {
   "cell_type": "code",
   "execution_count": 14,
   "metadata": {
    "scrolled": true
   },
   "outputs": [
    {
     "data": {
      "text/html": [
       "<div>\n",
       "<style scoped>\n",
       "    .dataframe tbody tr th:only-of-type {\n",
       "        vertical-align: middle;\n",
       "    }\n",
       "\n",
       "    .dataframe tbody tr th {\n",
       "        vertical-align: top;\n",
       "    }\n",
       "\n",
       "    .dataframe thead th {\n",
       "        text-align: right;\n",
       "    }\n",
       "</style>\n",
       "<table border=\"1\" class=\"dataframe\">\n",
       "  <thead>\n",
       "    <tr style=\"text-align: right;\">\n",
       "      <th></th>\n",
       "      <th>MID_POP_W</th>\n",
       "      <th>MID_POP_NW</th>\n",
       "      <th>ABS_DIFF</th>\n",
       "      <th>ENTROPY_IND</th>\n",
       "    </tr>\n",
       "    <tr>\n",
       "      <th>MID_CODE</th>\n",
       "      <th></th>\n",
       "      <th></th>\n",
       "      <th></th>\n",
       "      <th></th>\n",
       "    </tr>\n",
       "  </thead>\n",
       "  <tbody>\n",
       "  </tbody>\n",
       "</table>\n",
       "</div>"
      ],
      "text/plain": [
       "Empty DataFrame\n",
       "Columns: [MID_POP_W, MID_POP_NW, ABS_DIFF, ENTROPY_IND]\n",
       "Index: []"
      ]
     },
     "execution_count": 14,
     "metadata": {},
     "output_type": "execute_result"
    }
   ],
   "source": [
    "segregated_entropy"
   ]
  },
  {
   "cell_type": "code",
   "execution_count": 15,
   "metadata": {},
   "outputs": [],
   "source": [
    "# legend_handles = [Patch(facecolor='red', label='GUI'),\n",
    "#                 Patch(facecolor='green', label='LIN'),\n",
    "#                 Patch(facecolor='yellow', label='SUG'),\n",
    "#                 Patch(facecolor='orange', label='SUL')]\n",
    "\n",
    "# ax = spas.boundary.plot(figsize=(15,14))\n",
    "# spas[spas['ELEM_CODE'] == 'GUI'].plot(ax=ax, color='red')\n",
    "# spas[spas['ELEM_CODE'] == 'LIN'].plot(ax=ax, color='green')\n",
    "# spas[spas['ELEM_CODE'] == 'SUG'].plot(ax=ax, color='yellow')\n",
    "# spas[spas['ELEM_CODE'] == 'SUL'].plot(ax=ax, color='orange')\n",
    "# # ax.legend\n",
    "# ax.legend(handles=legend_handles)"
   ]
  },
  {
   "cell_type": "markdown",
   "metadata": {},
   "source": [
    "# Comparison to data generated by Algorithms"
   ]
  },
  {
   "cell_type": "code",
   "execution_count": 16,
   "metadata": {},
   "outputs": [],
   "source": [
    "#spas_processed = gpd.read_file('new_SPAs_2017_2018.json', driver='GeoJSON')\n",
    "# sa = json.loads('./results/SA/run7_ES_SA.json')\n",
    "# shc = gpd.read_file('./results/SHC/run7_ES_SHC.json', driver='GeoJSON')\n",
    "# ts = gpd.read_file('./results/TS/run7_ES_TS.json', driver='GeoJSON')\n",
    "\n",
    "import json\n",
    "\n",
    "def retrieve_output_data(algo, level, plan):\n",
    "    output_df = pd.DataFrame({\"SPA\": [], \"NEW_{}_CODE\".format(grade): []})  #grade is a global variable\n",
    "    result_dir = 'results'\n",
    "    #Load the file as json. \n",
    "    with open('{}/{}/run7_{}_{}.json'.format(result_dir, algo, level, algo)) as file:\n",
    "        #readlines() reads the file as string and loads() loads it into a dict\n",
    "        obj = json.loads(''.join(file.readlines()))\n",
    "\n",
    "        #Then iterate its items() as key value pairs\n",
    "        for spa_code, elem_code in obj[str(plan)]['info']['Final']['zoneIds'].items():\n",
    "            output_df.loc[len(output_df.index)] = [spa_code, elem_code]\n",
    "\n",
    "    return output_df\n",
    "#new line to run the newly downloaded json files, should move around anywhere."
   ]
  },
  {
   "cell_type": "code",
   "execution_count": 17,
   "metadata": {},
   "outputs": [],
   "source": [
    "import numpy as np\n",
    "# interested_districts = [\"GUI\", \"SUL\", \"LIN\", \"FHR\", \"HAM\", \"KWC\", \"WAT\", \"EVE\", \"FDE\", \"SUG\"]\n",
    "# data_array = np.zeros([25, 2*len(interested_districts)])\n",
    "\n",
    "# Try to make dynamic later"
   ]
  },
  {
   "cell_type": "code",
   "execution_count": 18,
   "metadata": {},
   "outputs": [],
   "source": [
    "def group_data(merged_spas):\n",
    "    merged_spas_ethnic = merged_spas[['NEW_{}_CODE'.format(grade) , asians, whites, mixed, blacks, hispanics, natives, pacifics, '{}_POP'.format(grade), 'geometry']]\n",
    "    merged_spas_ethnic.loc[:, non_whites] = merged_spas_ethnic.loc[:, asians] +  merged_spas_ethnic.loc[:,blacks] +  merged_spas_ethnic.loc[:,mixed] \\\n",
    "                                + merged_spas_ethnic.loc[:,hispanics] + merged_spas_ethnic.loc[:,natives] + merged_spas_ethnic.loc[:,pacifics]\n",
    "    merged_spa_grouped_raw = merged_spas_ethnic.groupby(['NEW_{}_CODE'.format(grade) ]).sum()\n",
    "    merged_spa_grouped = merged_spa_grouped_raw.div(merged_spa_grouped_raw['{}_POP'.format(grade)], axis=0)\n",
    "    merged_spa_grouped.drop([asians, mixed, blacks, hispanics, natives, pacifics, '{}_POP'.format(grade)], axis='columns', inplace=True)\n",
    "    return merged_spa_grouped\n"
   ]
  },
  {
   "cell_type": "code",
   "execution_count": 19,
   "metadata": {},
   "outputs": [],
   "source": [
    "ind_diss = []"
   ]
  },
  {
   "cell_type": "markdown",
   "metadata": {},
   "source": [
    "## Output Plan 1"
   ]
  },
  {
   "cell_type": "markdown",
   "metadata": {},
   "source": [
    "### Simulated Annealing (SA)"
   ]
  },
  {
   "cell_type": "code",
   "execution_count": 20,
   "metadata": {},
   "outputs": [
    {
     "name": "stderr",
     "output_type": "stream",
     "text": [
      "C:\\Users\\james\\Anaconda3\\lib\\site-packages\\pandas\\core\\indexing.py:376: SettingWithCopyWarning: \n",
      "A value is trying to be set on a copy of a slice from a DataFrame.\n",
      "Try using .loc[row_indexer,col_indexer] = value instead\n",
      "\n",
      "See the caveats in the documentation: http://pandas.pydata.org/pandas-docs/stable/user_guide/indexing.html#returning-a-view-versus-a-copy\n",
      "  self.obj[key] = _infer_fill_value(value)\n",
      "C:\\Users\\james\\Anaconda3\\lib\\site-packages\\pandas\\core\\indexing.py:494: SettingWithCopyWarning: \n",
      "A value is trying to be set on a copy of a slice from a DataFrame.\n",
      "Try using .loc[row_indexer,col_indexer] = value instead\n",
      "\n",
      "See the caveats in the documentation: http://pandas.pydata.org/pandas-docs/stable/user_guide/indexing.html#returning-a-view-versus-a-copy\n",
      "  self.obj[item] = s\n"
     ]
    },
    {
     "data": {
      "text/html": [
       "<div>\n",
       "<style scoped>\n",
       "    .dataframe tbody tr th:only-of-type {\n",
       "        vertical-align: middle;\n",
       "    }\n",
       "\n",
       "    .dataframe tbody tr th {\n",
       "        vertical-align: top;\n",
       "    }\n",
       "\n",
       "    .dataframe thead th {\n",
       "        text-align: right;\n",
       "    }\n",
       "</style>\n",
       "<table border=\"1\" class=\"dataframe\">\n",
       "  <thead>\n",
       "    <tr style=\"text-align: right;\">\n",
       "      <th></th>\n",
       "      <th>MID_POP_W</th>\n",
       "      <th>MID_POP_NW</th>\n",
       "    </tr>\n",
       "    <tr>\n",
       "      <th>NEW_MID_CODE</th>\n",
       "      <th></th>\n",
       "      <th></th>\n",
       "    </tr>\n",
       "  </thead>\n",
       "  <tbody>\n",
       "    <tr>\n",
       "      <td>BAM</td>\n",
       "      <td>0.379671</td>\n",
       "      <td>0.620329</td>\n",
       "    </tr>\n",
       "    <tr>\n",
       "      <td>BEM</td>\n",
       "      <td>0.585758</td>\n",
       "      <td>0.414242</td>\n",
       "    </tr>\n",
       "    <tr>\n",
       "      <td>BRM</td>\n",
       "      <td>0.804651</td>\n",
       "      <td>0.195349</td>\n",
       "    </tr>\n",
       "    <tr>\n",
       "      <td>ERM</td>\n",
       "      <td>0.588235</td>\n",
       "      <td>0.411765</td>\n",
       "    </tr>\n",
       "    <tr>\n",
       "      <td>FWS</td>\n",
       "      <td>0.503982</td>\n",
       "      <td>0.496018</td>\n",
       "    </tr>\n",
       "  </tbody>\n",
       "</table>\n",
       "</div>"
      ],
      "text/plain": [
       "              MID_POP_W  MID_POP_NW\n",
       "NEW_MID_CODE                       \n",
       "BAM            0.379671    0.620329\n",
       "BEM            0.585758    0.414242\n",
       "BRM            0.804651    0.195349\n",
       "ERM            0.588235    0.411765\n",
       "FWS            0.503982    0.496018"
      ]
     },
     "execution_count": 20,
     "metadata": {},
     "output_type": "execute_result"
    }
   ],
   "source": [
    "plan = 1\n",
    "algo = 'SA'\n",
    "level = 'MS'\n",
    "sa_output_df = retrieve_output_data(algo, level, plan)\n",
    "new_spas_sa = pd.merge(spas, sa_output_df, on='SPA')\n",
    "new_spas_sa_grouped = group_data(new_spas_sa)\n",
    "# vals= np.concatenate([new_spas_sa_grouped.loc[i,:].values for i in interested_districts])\n",
    "# data_array[plan-1,:] = vals\n",
    "\n",
    "new_spas_sa_grouped.head()\n",
    "#To change everything down to SA or TS"
   ]
  },
  {
   "cell_type": "code",
   "execution_count": 21,
   "metadata": {
    "scrolled": true
   },
   "outputs": [
    {
     "name": "stdout",
     "output_type": "stream",
     "text": [
      "0.27276650384127993\n"
     ]
    },
    {
     "data": {
      "text/html": [
       "<div>\n",
       "<style scoped>\n",
       "    .dataframe tbody tr th:only-of-type {\n",
       "        vertical-align: middle;\n",
       "    }\n",
       "\n",
       "    .dataframe tbody tr th {\n",
       "        vertical-align: top;\n",
       "    }\n",
       "\n",
       "    .dataframe thead th {\n",
       "        text-align: right;\n",
       "    }\n",
       "</style>\n",
       "<table border=\"1\" class=\"dataframe\">\n",
       "  <thead>\n",
       "    <tr style=\"text-align: right;\">\n",
       "      <th></th>\n",
       "      <th>MID_POP_W</th>\n",
       "      <th>MID_POP_NW</th>\n",
       "      <th>ABS_DIFF</th>\n",
       "      <th>ENTROPY_IND</th>\n",
       "    </tr>\n",
       "    <tr>\n",
       "      <th>NEW_MID_CODE</th>\n",
       "      <th></th>\n",
       "      <th></th>\n",
       "      <th></th>\n",
       "      <th></th>\n",
       "    </tr>\n",
       "  </thead>\n",
       "  <tbody>\n",
       "  </tbody>\n",
       "</table>\n",
       "</div>"
      ],
      "text/plain": [
       "Empty DataFrame\n",
       "Columns: [MID_POP_W, MID_POP_NW, ABS_DIFF, ENTROPY_IND]\n",
       "Index: []"
      ]
     },
     "execution_count": 21,
     "metadata": {},
     "output_type": "execute_result"
    }
   ],
   "source": [
    "measurements_df, ind_diss_sa1 = get_measurements(new_spas_sa_grouped)\n",
    "segregated_abs_diff_sa1 = measurements_df[measurements_df['ABS_DIFF'] > 0.7]\n",
    "segregated_entropy_sa1 = measurements_df[measurements_df['ENTROPY_IND'] < 0.4]\n",
    "ind_diss.append(ind_diss_sa1)\n",
    "print(ind_diss_sa1)\n",
    "segregated_entropy_sa1"
   ]
  },
  {
   "cell_type": "markdown",
   "metadata": {},
   "source": [
    "## Output Plan 2"
   ]
  },
  {
   "cell_type": "markdown",
   "metadata": {},
   "source": [
    "### Simulated Annealing (SA)"
   ]
  },
  {
   "cell_type": "code",
   "execution_count": 22,
   "metadata": {},
   "outputs": [
    {
     "data": {
      "text/html": [
       "<div>\n",
       "<style scoped>\n",
       "    .dataframe tbody tr th:only-of-type {\n",
       "        vertical-align: middle;\n",
       "    }\n",
       "\n",
       "    .dataframe tbody tr th {\n",
       "        vertical-align: top;\n",
       "    }\n",
       "\n",
       "    .dataframe thead th {\n",
       "        text-align: right;\n",
       "    }\n",
       "</style>\n",
       "<table border=\"1\" class=\"dataframe\">\n",
       "  <thead>\n",
       "    <tr style=\"text-align: right;\">\n",
       "      <th></th>\n",
       "      <th>MID_POP_W</th>\n",
       "      <th>MID_POP_NW</th>\n",
       "    </tr>\n",
       "    <tr>\n",
       "      <th>NEW_MID_CODE</th>\n",
       "      <th></th>\n",
       "      <th></th>\n",
       "    </tr>\n",
       "  </thead>\n",
       "  <tbody>\n",
       "    <tr>\n",
       "      <td>BAM</td>\n",
       "      <td>0.541505</td>\n",
       "      <td>0.458495</td>\n",
       "    </tr>\n",
       "    <tr>\n",
       "      <td>BEM</td>\n",
       "      <td>0.582651</td>\n",
       "      <td>0.417349</td>\n",
       "    </tr>\n",
       "    <tr>\n",
       "      <td>BRM</td>\n",
       "      <td>0.820881</td>\n",
       "      <td>0.179119</td>\n",
       "    </tr>\n",
       "    <tr>\n",
       "      <td>ERM</td>\n",
       "      <td>0.572960</td>\n",
       "      <td>0.427040</td>\n",
       "    </tr>\n",
       "    <tr>\n",
       "      <td>FWS</td>\n",
       "      <td>0.473247</td>\n",
       "      <td>0.526753</td>\n",
       "    </tr>\n",
       "  </tbody>\n",
       "</table>\n",
       "</div>"
      ],
      "text/plain": [
       "              MID_POP_W  MID_POP_NW\n",
       "NEW_MID_CODE                       \n",
       "BAM            0.541505    0.458495\n",
       "BEM            0.582651    0.417349\n",
       "BRM            0.820881    0.179119\n",
       "ERM            0.572960    0.427040\n",
       "FWS            0.473247    0.526753"
      ]
     },
     "execution_count": 22,
     "metadata": {},
     "output_type": "execute_result"
    }
   ],
   "source": [
    "plan = 2\n",
    "sa_output_df = retrieve_output_data(algo, level, plan)\n",
    "new_spas_sa = pd.merge(spas, sa_output_df, on='SPA')\n",
    "new_spas_sa_grouped = group_data(new_spas_sa)\n",
    "# vals= np.concatenate([new_spas_sa_grouped.loc[i,:].values for i in interested_districts])\n",
    "# data_array[plan-1,:] = vals\n",
    "\n",
    "new_spas_sa_grouped.head()\n",
    "#To change everything down to SA or TS"
   ]
  },
  {
   "cell_type": "code",
   "execution_count": 23,
   "metadata": {
    "scrolled": true
   },
   "outputs": [
    {
     "name": "stdout",
     "output_type": "stream",
     "text": [
      "0.2738353898277511\n"
     ]
    },
    {
     "data": {
      "text/html": [
       "<div>\n",
       "<style scoped>\n",
       "    .dataframe tbody tr th:only-of-type {\n",
       "        vertical-align: middle;\n",
       "    }\n",
       "\n",
       "    .dataframe tbody tr th {\n",
       "        vertical-align: top;\n",
       "    }\n",
       "\n",
       "    .dataframe thead th {\n",
       "        text-align: right;\n",
       "    }\n",
       "</style>\n",
       "<table border=\"1\" class=\"dataframe\">\n",
       "  <thead>\n",
       "    <tr style=\"text-align: right;\">\n",
       "      <th></th>\n",
       "      <th>MID_POP_W</th>\n",
       "      <th>MID_POP_NW</th>\n",
       "      <th>ABS_DIFF</th>\n",
       "      <th>ENTROPY_IND</th>\n",
       "    </tr>\n",
       "    <tr>\n",
       "      <th>NEW_MID_CODE</th>\n",
       "      <th></th>\n",
       "      <th></th>\n",
       "      <th></th>\n",
       "      <th></th>\n",
       "    </tr>\n",
       "  </thead>\n",
       "  <tbody>\n",
       "    <tr>\n",
       "      <td>STM</td>\n",
       "      <td>0.136523</td>\n",
       "      <td>0.863477</td>\n",
       "      <td>0.726954</td>\n",
       "      <td>0.398601</td>\n",
       "    </tr>\n",
       "  </tbody>\n",
       "</table>\n",
       "</div>"
      ],
      "text/plain": [
       "              MID_POP_W  MID_POP_NW  ABS_DIFF  ENTROPY_IND\n",
       "NEW_MID_CODE                                              \n",
       "STM            0.136523    0.863477  0.726954     0.398601"
      ]
     },
     "execution_count": 23,
     "metadata": {},
     "output_type": "execute_result"
    }
   ],
   "source": [
    "measurements_df, ind_diss_sa1 = get_measurements(new_spas_sa_grouped)\n",
    "segregated_abs_diff_sa2 = measurements_df[measurements_df['ABS_DIFF'] > 0.7]\n",
    "segregated_entropy_sa2 = measurements_df[measurements_df['ENTROPY_IND'] < 0.4]\n",
    "ind_diss.append(ind_diss_sa1)\n",
    "print(ind_diss_sa1)\n",
    "segregated_entropy_sa2"
   ]
  },
  {
   "cell_type": "markdown",
   "metadata": {},
   "source": [
    "## Output Plan 3"
   ]
  },
  {
   "cell_type": "markdown",
   "metadata": {},
   "source": [
    "### Simulated Annealing (SA)"
   ]
  },
  {
   "cell_type": "code",
   "execution_count": 24,
   "metadata": {},
   "outputs": [
    {
     "data": {
      "text/html": [
       "<div>\n",
       "<style scoped>\n",
       "    .dataframe tbody tr th:only-of-type {\n",
       "        vertical-align: middle;\n",
       "    }\n",
       "\n",
       "    .dataframe tbody tr th {\n",
       "        vertical-align: top;\n",
       "    }\n",
       "\n",
       "    .dataframe thead th {\n",
       "        text-align: right;\n",
       "    }\n",
       "</style>\n",
       "<table border=\"1\" class=\"dataframe\">\n",
       "  <thead>\n",
       "    <tr style=\"text-align: right;\">\n",
       "      <th></th>\n",
       "      <th>MID_POP_W</th>\n",
       "      <th>MID_POP_NW</th>\n",
       "    </tr>\n",
       "    <tr>\n",
       "      <th>NEW_MID_CODE</th>\n",
       "      <th></th>\n",
       "      <th></th>\n",
       "    </tr>\n",
       "  </thead>\n",
       "  <tbody>\n",
       "    <tr>\n",
       "      <td>BAM</td>\n",
       "      <td>0.416208</td>\n",
       "      <td>0.583792</td>\n",
       "    </tr>\n",
       "    <tr>\n",
       "      <td>BEM</td>\n",
       "      <td>0.579024</td>\n",
       "      <td>0.420976</td>\n",
       "    </tr>\n",
       "    <tr>\n",
       "      <td>BRM</td>\n",
       "      <td>0.807960</td>\n",
       "      <td>0.192040</td>\n",
       "    </tr>\n",
       "    <tr>\n",
       "      <td>ERM</td>\n",
       "      <td>0.530000</td>\n",
       "      <td>0.470000</td>\n",
       "    </tr>\n",
       "    <tr>\n",
       "      <td>FWS</td>\n",
       "      <td>0.458626</td>\n",
       "      <td>0.541374</td>\n",
       "    </tr>\n",
       "  </tbody>\n",
       "</table>\n",
       "</div>"
      ],
      "text/plain": [
       "              MID_POP_W  MID_POP_NW\n",
       "NEW_MID_CODE                       \n",
       "BAM            0.416208    0.583792\n",
       "BEM            0.579024    0.420976\n",
       "BRM            0.807960    0.192040\n",
       "ERM            0.530000    0.470000\n",
       "FWS            0.458626    0.541374"
      ]
     },
     "execution_count": 24,
     "metadata": {},
     "output_type": "execute_result"
    }
   ],
   "source": [
    "plan = 3\n",
    "sa_output_df = retrieve_output_data(algo, level, plan)\n",
    "new_spas_sa = pd.merge(spas, sa_output_df, on='SPA')\n",
    "new_spas_sa_grouped = group_data(new_spas_sa)\n",
    "# vals= np.concatenate([new_spas_sa_grouped.loc[i,:].values for i in interested_districts])\n",
    "# data_array[plan-1,:] = vals\n",
    "\n",
    "new_spas_sa_grouped.head()\n",
    "#To change everything down to SA or TS"
   ]
  },
  {
   "cell_type": "code",
   "execution_count": 25,
   "metadata": {
    "scrolled": true
   },
   "outputs": [
    {
     "name": "stdout",
     "output_type": "stream",
     "text": [
      "0.23929685636864656\n"
     ]
    },
    {
     "data": {
      "text/html": [
       "<div>\n",
       "<style scoped>\n",
       "    .dataframe tbody tr th:only-of-type {\n",
       "        vertical-align: middle;\n",
       "    }\n",
       "\n",
       "    .dataframe tbody tr th {\n",
       "        vertical-align: top;\n",
       "    }\n",
       "\n",
       "    .dataframe thead th {\n",
       "        text-align: right;\n",
       "    }\n",
       "</style>\n",
       "<table border=\"1\" class=\"dataframe\">\n",
       "  <thead>\n",
       "    <tr style=\"text-align: right;\">\n",
       "      <th></th>\n",
       "      <th>MID_POP_W</th>\n",
       "      <th>MID_POP_NW</th>\n",
       "      <th>ABS_DIFF</th>\n",
       "      <th>ENTROPY_IND</th>\n",
       "    </tr>\n",
       "    <tr>\n",
       "      <th>NEW_MID_CODE</th>\n",
       "      <th></th>\n",
       "      <th></th>\n",
       "      <th></th>\n",
       "      <th></th>\n",
       "    </tr>\n",
       "  </thead>\n",
       "  <tbody>\n",
       "  </tbody>\n",
       "</table>\n",
       "</div>"
      ],
      "text/plain": [
       "Empty DataFrame\n",
       "Columns: [MID_POP_W, MID_POP_NW, ABS_DIFF, ENTROPY_IND]\n",
       "Index: []"
      ]
     },
     "execution_count": 25,
     "metadata": {},
     "output_type": "execute_result"
    }
   ],
   "source": [
    "measurements_df, ind_diss_sa1 = get_measurements(new_spas_sa_grouped)\n",
    "segregated_abs_diff_sa3 = measurements_df[measurements_df['ABS_DIFF'] > 0.7]\n",
    "segregated_entropy_sa3 = measurements_df[measurements_df['ENTROPY_IND'] < 0.4]\n",
    "ind_diss.append(ind_diss_sa1)\n",
    "print(ind_diss_sa1)\n",
    "segregated_entropy_sa3"
   ]
  },
  {
   "cell_type": "markdown",
   "metadata": {},
   "source": [
    "## Output Plan 4"
   ]
  },
  {
   "cell_type": "markdown",
   "metadata": {},
   "source": [
    "### Simulated Annealing (SA)"
   ]
  },
  {
   "cell_type": "code",
   "execution_count": 26,
   "metadata": {},
   "outputs": [
    {
     "data": {
      "text/html": [
       "<div>\n",
       "<style scoped>\n",
       "    .dataframe tbody tr th:only-of-type {\n",
       "        vertical-align: middle;\n",
       "    }\n",
       "\n",
       "    .dataframe tbody tr th {\n",
       "        vertical-align: top;\n",
       "    }\n",
       "\n",
       "    .dataframe thead th {\n",
       "        text-align: right;\n",
       "    }\n",
       "</style>\n",
       "<table border=\"1\" class=\"dataframe\">\n",
       "  <thead>\n",
       "    <tr style=\"text-align: right;\">\n",
       "      <th></th>\n",
       "      <th>MID_POP_W</th>\n",
       "      <th>MID_POP_NW</th>\n",
       "    </tr>\n",
       "    <tr>\n",
       "      <th>NEW_MID_CODE</th>\n",
       "      <th></th>\n",
       "      <th></th>\n",
       "    </tr>\n",
       "  </thead>\n",
       "  <tbody>\n",
       "    <tr>\n",
       "      <td>BAM</td>\n",
       "      <td>0.444144</td>\n",
       "      <td>0.555856</td>\n",
       "    </tr>\n",
       "    <tr>\n",
       "      <td>BEM</td>\n",
       "      <td>0.571296</td>\n",
       "      <td>0.428704</td>\n",
       "    </tr>\n",
       "    <tr>\n",
       "      <td>BRM</td>\n",
       "      <td>0.816814</td>\n",
       "      <td>0.183186</td>\n",
       "    </tr>\n",
       "    <tr>\n",
       "      <td>ERM</td>\n",
       "      <td>0.556217</td>\n",
       "      <td>0.443783</td>\n",
       "    </tr>\n",
       "    <tr>\n",
       "      <td>FWS</td>\n",
       "      <td>0.478955</td>\n",
       "      <td>0.521045</td>\n",
       "    </tr>\n",
       "  </tbody>\n",
       "</table>\n",
       "</div>"
      ],
      "text/plain": [
       "              MID_POP_W  MID_POP_NW\n",
       "NEW_MID_CODE                       \n",
       "BAM            0.444144    0.555856\n",
       "BEM            0.571296    0.428704\n",
       "BRM            0.816814    0.183186\n",
       "ERM            0.556217    0.443783\n",
       "FWS            0.478955    0.521045"
      ]
     },
     "execution_count": 26,
     "metadata": {},
     "output_type": "execute_result"
    }
   ],
   "source": [
    "plan = 4\n",
    "sa_output_df = retrieve_output_data(algo, level, plan)\n",
    "new_spas_sa = pd.merge(spas, sa_output_df, on='SPA')\n",
    "new_spas_sa_grouped = group_data(new_spas_sa)\n",
    "# vals= np.concatenate([new_spas_sa_grouped.loc[i,:].values for i in interested_districts])\n",
    "# data_array[plan-1,:] = vals\n",
    "\n",
    "new_spas_sa_grouped.head()\n",
    "#To change everything down to SA or TS"
   ]
  },
  {
   "cell_type": "code",
   "execution_count": 27,
   "metadata": {
    "scrolled": true
   },
   "outputs": [
    {
     "name": "stdout",
     "output_type": "stream",
     "text": [
      "0.2582196160948335\n"
     ]
    },
    {
     "data": {
      "text/html": [
       "<div>\n",
       "<style scoped>\n",
       "    .dataframe tbody tr th:only-of-type {\n",
       "        vertical-align: middle;\n",
       "    }\n",
       "\n",
       "    .dataframe tbody tr th {\n",
       "        vertical-align: top;\n",
       "    }\n",
       "\n",
       "    .dataframe thead th {\n",
       "        text-align: right;\n",
       "    }\n",
       "</style>\n",
       "<table border=\"1\" class=\"dataframe\">\n",
       "  <thead>\n",
       "    <tr style=\"text-align: right;\">\n",
       "      <th></th>\n",
       "      <th>MID_POP_W</th>\n",
       "      <th>MID_POP_NW</th>\n",
       "      <th>ABS_DIFF</th>\n",
       "      <th>ENTROPY_IND</th>\n",
       "    </tr>\n",
       "    <tr>\n",
       "      <th>NEW_MID_CODE</th>\n",
       "      <th></th>\n",
       "      <th></th>\n",
       "      <th></th>\n",
       "      <th></th>\n",
       "    </tr>\n",
       "  </thead>\n",
       "  <tbody>\n",
       "  </tbody>\n",
       "</table>\n",
       "</div>"
      ],
      "text/plain": [
       "Empty DataFrame\n",
       "Columns: [MID_POP_W, MID_POP_NW, ABS_DIFF, ENTROPY_IND]\n",
       "Index: []"
      ]
     },
     "execution_count": 27,
     "metadata": {},
     "output_type": "execute_result"
    }
   ],
   "source": [
    "measurements_df, ind_diss_sa1 = get_measurements(new_spas_sa_grouped)\n",
    "segregated_abs_diff_sa4 = measurements_df[measurements_df['ABS_DIFF'] > 0.7]\n",
    "segregated_entropy_sa4 = measurements_df[measurements_df['ENTROPY_IND'] < 0.4]\n",
    "ind_diss.append(ind_diss_sa1)\n",
    "print(ind_diss_sa1)\n",
    "segregated_entropy_sa4"
   ]
  },
  {
   "cell_type": "markdown",
   "metadata": {},
   "source": [
    "## Output Plan 5"
   ]
  },
  {
   "cell_type": "markdown",
   "metadata": {},
   "source": [
    "### Simulated Annealing (SA)"
   ]
  },
  {
   "cell_type": "code",
   "execution_count": 28,
   "metadata": {},
   "outputs": [
    {
     "data": {
      "text/html": [
       "<div>\n",
       "<style scoped>\n",
       "    .dataframe tbody tr th:only-of-type {\n",
       "        vertical-align: middle;\n",
       "    }\n",
       "\n",
       "    .dataframe tbody tr th {\n",
       "        vertical-align: top;\n",
       "    }\n",
       "\n",
       "    .dataframe thead th {\n",
       "        text-align: right;\n",
       "    }\n",
       "</style>\n",
       "<table border=\"1\" class=\"dataframe\">\n",
       "  <thead>\n",
       "    <tr style=\"text-align: right;\">\n",
       "      <th></th>\n",
       "      <th>MID_POP_W</th>\n",
       "      <th>MID_POP_NW</th>\n",
       "    </tr>\n",
       "    <tr>\n",
       "      <th>NEW_MID_CODE</th>\n",
       "      <th></th>\n",
       "      <th></th>\n",
       "    </tr>\n",
       "  </thead>\n",
       "  <tbody>\n",
       "    <tr>\n",
       "      <td>BAM</td>\n",
       "      <td>0.355321</td>\n",
       "      <td>0.644679</td>\n",
       "    </tr>\n",
       "    <tr>\n",
       "      <td>BEM</td>\n",
       "      <td>0.534387</td>\n",
       "      <td>0.465613</td>\n",
       "    </tr>\n",
       "    <tr>\n",
       "      <td>BRM</td>\n",
       "      <td>0.811209</td>\n",
       "      <td>0.188791</td>\n",
       "    </tr>\n",
       "    <tr>\n",
       "      <td>ERM</td>\n",
       "      <td>0.542433</td>\n",
       "      <td>0.457567</td>\n",
       "    </tr>\n",
       "    <tr>\n",
       "      <td>FWS</td>\n",
       "      <td>0.496212</td>\n",
       "      <td>0.503788</td>\n",
       "    </tr>\n",
       "  </tbody>\n",
       "</table>\n",
       "</div>"
      ],
      "text/plain": [
       "              MID_POP_W  MID_POP_NW\n",
       "NEW_MID_CODE                       \n",
       "BAM            0.355321    0.644679\n",
       "BEM            0.534387    0.465613\n",
       "BRM            0.811209    0.188791\n",
       "ERM            0.542433    0.457567\n",
       "FWS            0.496212    0.503788"
      ]
     },
     "execution_count": 28,
     "metadata": {},
     "output_type": "execute_result"
    }
   ],
   "source": [
    "plan = 5\n",
    "sa_output_df = retrieve_output_data(algo, level, plan)\n",
    "new_spas_sa = pd.merge(spas, sa_output_df, on='SPA')\n",
    "new_spas_sa_grouped = group_data(new_spas_sa)\n",
    "# vals= np.concatenate([new_spas_sa_grouped.loc[i,:].values for i in interested_districts])\n",
    "# data_array[plan-1,:] = vals\n",
    "\n",
    "new_spas_sa_grouped.head()\n",
    "#To change everything down to SA or TS"
   ]
  },
  {
   "cell_type": "code",
   "execution_count": 29,
   "metadata": {
    "scrolled": true
   },
   "outputs": [
    {
     "name": "stdout",
     "output_type": "stream",
     "text": [
      "0.2644286545172282\n"
     ]
    },
    {
     "data": {
      "text/html": [
       "<div>\n",
       "<style scoped>\n",
       "    .dataframe tbody tr th:only-of-type {\n",
       "        vertical-align: middle;\n",
       "    }\n",
       "\n",
       "    .dataframe tbody tr th {\n",
       "        vertical-align: top;\n",
       "    }\n",
       "\n",
       "    .dataframe thead th {\n",
       "        text-align: right;\n",
       "    }\n",
       "</style>\n",
       "<table border=\"1\" class=\"dataframe\">\n",
       "  <thead>\n",
       "    <tr style=\"text-align: right;\">\n",
       "      <th></th>\n",
       "      <th>MID_POP_W</th>\n",
       "      <th>MID_POP_NW</th>\n",
       "      <th>ABS_DIFF</th>\n",
       "      <th>ENTROPY_IND</th>\n",
       "    </tr>\n",
       "    <tr>\n",
       "      <th>NEW_MID_CODE</th>\n",
       "      <th></th>\n",
       "      <th></th>\n",
       "      <th></th>\n",
       "      <th></th>\n",
       "    </tr>\n",
       "  </thead>\n",
       "  <tbody>\n",
       "  </tbody>\n",
       "</table>\n",
       "</div>"
      ],
      "text/plain": [
       "Empty DataFrame\n",
       "Columns: [MID_POP_W, MID_POP_NW, ABS_DIFF, ENTROPY_IND]\n",
       "Index: []"
      ]
     },
     "execution_count": 29,
     "metadata": {},
     "output_type": "execute_result"
    }
   ],
   "source": [
    "measurements_df, ind_diss_sa1 = get_measurements(new_spas_sa_grouped)\n",
    "segregated_abs_diff_sa5 = measurements_df[measurements_df['ABS_DIFF'] > 0.7]\n",
    "segregated_entropy_sa5 = measurements_df[measurements_df['ENTROPY_IND'] < 0.4]\n",
    "ind_diss.append(ind_diss_sa1)\n",
    "print(ind_diss_sa1)\n",
    "segregated_entropy_sa5"
   ]
  },
  {
   "cell_type": "markdown",
   "metadata": {},
   "source": [
    "## Output Plan 6"
   ]
  },
  {
   "cell_type": "markdown",
   "metadata": {},
   "source": [
    "### Simulated Annealing (SA)"
   ]
  },
  {
   "cell_type": "code",
   "execution_count": 30,
   "metadata": {},
   "outputs": [
    {
     "data": {
      "text/html": [
       "<div>\n",
       "<style scoped>\n",
       "    .dataframe tbody tr th:only-of-type {\n",
       "        vertical-align: middle;\n",
       "    }\n",
       "\n",
       "    .dataframe tbody tr th {\n",
       "        vertical-align: top;\n",
       "    }\n",
       "\n",
       "    .dataframe thead th {\n",
       "        text-align: right;\n",
       "    }\n",
       "</style>\n",
       "<table border=\"1\" class=\"dataframe\">\n",
       "  <thead>\n",
       "    <tr style=\"text-align: right;\">\n",
       "      <th></th>\n",
       "      <th>MID_POP_W</th>\n",
       "      <th>MID_POP_NW</th>\n",
       "    </tr>\n",
       "    <tr>\n",
       "      <th>NEW_MID_CODE</th>\n",
       "      <th></th>\n",
       "      <th></th>\n",
       "    </tr>\n",
       "  </thead>\n",
       "  <tbody>\n",
       "    <tr>\n",
       "      <td>BAM</td>\n",
       "      <td>0.556951</td>\n",
       "      <td>0.443049</td>\n",
       "    </tr>\n",
       "    <tr>\n",
       "      <td>BEM</td>\n",
       "      <td>0.523224</td>\n",
       "      <td>0.476776</td>\n",
       "    </tr>\n",
       "    <tr>\n",
       "      <td>BRM</td>\n",
       "      <td>0.821513</td>\n",
       "      <td>0.178487</td>\n",
       "    </tr>\n",
       "    <tr>\n",
       "      <td>ERM</td>\n",
       "      <td>0.495376</td>\n",
       "      <td>0.504624</td>\n",
       "    </tr>\n",
       "    <tr>\n",
       "      <td>FWS</td>\n",
       "      <td>0.522013</td>\n",
       "      <td>0.477987</td>\n",
       "    </tr>\n",
       "  </tbody>\n",
       "</table>\n",
       "</div>"
      ],
      "text/plain": [
       "              MID_POP_W  MID_POP_NW\n",
       "NEW_MID_CODE                       \n",
       "BAM            0.556951    0.443049\n",
       "BEM            0.523224    0.476776\n",
       "BRM            0.821513    0.178487\n",
       "ERM            0.495376    0.504624\n",
       "FWS            0.522013    0.477987"
      ]
     },
     "execution_count": 30,
     "metadata": {},
     "output_type": "execute_result"
    }
   ],
   "source": [
    "plan = 6\n",
    "sa_output_df = retrieve_output_data(algo, level, plan)\n",
    "new_spas_sa = pd.merge(spas, sa_output_df, on='SPA')\n",
    "new_spas_sa_grouped = group_data(new_spas_sa)\n",
    "# vals= np.concatenate([new_spas_sa_grouped.loc[i,:].values for i in interested_districts])\n",
    "# data_array[plan-1,:] = vals\n",
    "\n",
    "new_spas_sa_grouped.head()\n",
    "#To change everything down to SA or TS"
   ]
  },
  {
   "cell_type": "code",
   "execution_count": 31,
   "metadata": {
    "scrolled": true
   },
   "outputs": [
    {
     "name": "stdout",
     "output_type": "stream",
     "text": [
      "0.257360211708629\n"
     ]
    },
    {
     "data": {
      "text/html": [
       "<div>\n",
       "<style scoped>\n",
       "    .dataframe tbody tr th:only-of-type {\n",
       "        vertical-align: middle;\n",
       "    }\n",
       "\n",
       "    .dataframe tbody tr th {\n",
       "        vertical-align: top;\n",
       "    }\n",
       "\n",
       "    .dataframe thead th {\n",
       "        text-align: right;\n",
       "    }\n",
       "</style>\n",
       "<table border=\"1\" class=\"dataframe\">\n",
       "  <thead>\n",
       "    <tr style=\"text-align: right;\">\n",
       "      <th></th>\n",
       "      <th>MID_POP_W</th>\n",
       "      <th>MID_POP_NW</th>\n",
       "      <th>ABS_DIFF</th>\n",
       "      <th>ENTROPY_IND</th>\n",
       "    </tr>\n",
       "    <tr>\n",
       "      <th>NEW_MID_CODE</th>\n",
       "      <th></th>\n",
       "      <th></th>\n",
       "      <th></th>\n",
       "      <th></th>\n",
       "    </tr>\n",
       "  </thead>\n",
       "  <tbody>\n",
       "  </tbody>\n",
       "</table>\n",
       "</div>"
      ],
      "text/plain": [
       "Empty DataFrame\n",
       "Columns: [MID_POP_W, MID_POP_NW, ABS_DIFF, ENTROPY_IND]\n",
       "Index: []"
      ]
     },
     "execution_count": 31,
     "metadata": {},
     "output_type": "execute_result"
    }
   ],
   "source": [
    "measurements_df, ind_diss_sa1 = get_measurements(new_spas_sa_grouped)\n",
    "segregated_abs_diff_sa6 = measurements_df[measurements_df['ABS_DIFF'] > 0.7]\n",
    "segregated_entropy_sa6 = measurements_df[measurements_df['ENTROPY_IND'] < 0.4]\n",
    "ind_diss.append(ind_diss_sa1)\n",
    "print(ind_diss_sa1)\n",
    "segregated_entropy_sa6"
   ]
  },
  {
   "cell_type": "markdown",
   "metadata": {},
   "source": [
    "## Output Plan 7"
   ]
  },
  {
   "cell_type": "markdown",
   "metadata": {},
   "source": [
    "### Simulated Annealing (SA)"
   ]
  },
  {
   "cell_type": "code",
   "execution_count": 32,
   "metadata": {},
   "outputs": [
    {
     "data": {
      "text/html": [
       "<div>\n",
       "<style scoped>\n",
       "    .dataframe tbody tr th:only-of-type {\n",
       "        vertical-align: middle;\n",
       "    }\n",
       "\n",
       "    .dataframe tbody tr th {\n",
       "        vertical-align: top;\n",
       "    }\n",
       "\n",
       "    .dataframe thead th {\n",
       "        text-align: right;\n",
       "    }\n",
       "</style>\n",
       "<table border=\"1\" class=\"dataframe\">\n",
       "  <thead>\n",
       "    <tr style=\"text-align: right;\">\n",
       "      <th></th>\n",
       "      <th>MID_POP_W</th>\n",
       "      <th>MID_POP_NW</th>\n",
       "    </tr>\n",
       "    <tr>\n",
       "      <th>NEW_MID_CODE</th>\n",
       "      <th></th>\n",
       "      <th></th>\n",
       "    </tr>\n",
       "  </thead>\n",
       "  <tbody>\n",
       "    <tr>\n",
       "      <td>BAM</td>\n",
       "      <td>0.575641</td>\n",
       "      <td>0.424359</td>\n",
       "    </tr>\n",
       "    <tr>\n",
       "      <td>BEM</td>\n",
       "      <td>0.550872</td>\n",
       "      <td>0.449128</td>\n",
       "    </tr>\n",
       "    <tr>\n",
       "      <td>BRM</td>\n",
       "      <td>0.808442</td>\n",
       "      <td>0.191558</td>\n",
       "    </tr>\n",
       "    <tr>\n",
       "      <td>ERM</td>\n",
       "      <td>0.566879</td>\n",
       "      <td>0.433121</td>\n",
       "    </tr>\n",
       "    <tr>\n",
       "      <td>FWS</td>\n",
       "      <td>0.444845</td>\n",
       "      <td>0.555155</td>\n",
       "    </tr>\n",
       "  </tbody>\n",
       "</table>\n",
       "</div>"
      ],
      "text/plain": [
       "              MID_POP_W  MID_POP_NW\n",
       "NEW_MID_CODE                       \n",
       "BAM            0.575641    0.424359\n",
       "BEM            0.550872    0.449128\n",
       "BRM            0.808442    0.191558\n",
       "ERM            0.566879    0.433121\n",
       "FWS            0.444845    0.555155"
      ]
     },
     "execution_count": 32,
     "metadata": {},
     "output_type": "execute_result"
    }
   ],
   "source": [
    "plan = 7\n",
    "sa_output_df = retrieve_output_data(algo, level, plan)\n",
    "new_spas_sa = pd.merge(spas, sa_output_df, on='SPA')\n",
    "new_spas_sa_grouped = group_data(new_spas_sa)\n",
    "# vals= np.concatenate([new_spas_sa_grouped.loc[i,:].values for i in interested_districts])\n",
    "# data_array[plan-1,:] = vals\n",
    "\n",
    "new_spas_sa_grouped.head()\n",
    "#To change everything down to SA or TS"
   ]
  },
  {
   "cell_type": "code",
   "execution_count": 33,
   "metadata": {
    "scrolled": true
   },
   "outputs": [
    {
     "name": "stdout",
     "output_type": "stream",
     "text": [
      "0.2858867787481396\n"
     ]
    },
    {
     "data": {
      "text/html": [
       "<div>\n",
       "<style scoped>\n",
       "    .dataframe tbody tr th:only-of-type {\n",
       "        vertical-align: middle;\n",
       "    }\n",
       "\n",
       "    .dataframe tbody tr th {\n",
       "        vertical-align: top;\n",
       "    }\n",
       "\n",
       "    .dataframe thead th {\n",
       "        text-align: right;\n",
       "    }\n",
       "</style>\n",
       "<table border=\"1\" class=\"dataframe\">\n",
       "  <thead>\n",
       "    <tr style=\"text-align: right;\">\n",
       "      <th></th>\n",
       "      <th>MID_POP_W</th>\n",
       "      <th>MID_POP_NW</th>\n",
       "      <th>ABS_DIFF</th>\n",
       "      <th>ENTROPY_IND</th>\n",
       "    </tr>\n",
       "    <tr>\n",
       "      <th>NEW_MID_CODE</th>\n",
       "      <th></th>\n",
       "      <th></th>\n",
       "      <th></th>\n",
       "      <th></th>\n",
       "    </tr>\n",
       "  </thead>\n",
       "  <tbody>\n",
       "  </tbody>\n",
       "</table>\n",
       "</div>"
      ],
      "text/plain": [
       "Empty DataFrame\n",
       "Columns: [MID_POP_W, MID_POP_NW, ABS_DIFF, ENTROPY_IND]\n",
       "Index: []"
      ]
     },
     "execution_count": 33,
     "metadata": {},
     "output_type": "execute_result"
    }
   ],
   "source": [
    "measurements_df, ind_diss_sa1 = get_measurements(new_spas_sa_grouped)\n",
    "segregated_abs_diff_sa7 = measurements_df[measurements_df['ABS_DIFF'] > 0.7]\n",
    "segregated_entropy_sa7 = measurements_df[measurements_df['ENTROPY_IND'] < 0.4]\n",
    "ind_diss.append(ind_diss_sa1)\n",
    "print(ind_diss_sa1)\n",
    "segregated_entropy_sa7"
   ]
  },
  {
   "cell_type": "markdown",
   "metadata": {},
   "source": [
    "## Output Plan 8"
   ]
  },
  {
   "cell_type": "markdown",
   "metadata": {},
   "source": [
    "### Simulated Annealing (SA)"
   ]
  },
  {
   "cell_type": "code",
   "execution_count": 34,
   "metadata": {},
   "outputs": [
    {
     "data": {
      "text/html": [
       "<div>\n",
       "<style scoped>\n",
       "    .dataframe tbody tr th:only-of-type {\n",
       "        vertical-align: middle;\n",
       "    }\n",
       "\n",
       "    .dataframe tbody tr th {\n",
       "        vertical-align: top;\n",
       "    }\n",
       "\n",
       "    .dataframe thead th {\n",
       "        text-align: right;\n",
       "    }\n",
       "</style>\n",
       "<table border=\"1\" class=\"dataframe\">\n",
       "  <thead>\n",
       "    <tr style=\"text-align: right;\">\n",
       "      <th></th>\n",
       "      <th>MID_POP_W</th>\n",
       "      <th>MID_POP_NW</th>\n",
       "    </tr>\n",
       "    <tr>\n",
       "      <th>NEW_MID_CODE</th>\n",
       "      <th></th>\n",
       "      <th></th>\n",
       "    </tr>\n",
       "  </thead>\n",
       "  <tbody>\n",
       "    <tr>\n",
       "      <td>BAM</td>\n",
       "      <td>0.468405</td>\n",
       "      <td>0.531595</td>\n",
       "    </tr>\n",
       "    <tr>\n",
       "      <td>BEM</td>\n",
       "      <td>0.564539</td>\n",
       "      <td>0.435461</td>\n",
       "    </tr>\n",
       "    <tr>\n",
       "      <td>BRM</td>\n",
       "      <td>0.807122</td>\n",
       "      <td>0.192878</td>\n",
       "    </tr>\n",
       "    <tr>\n",
       "      <td>ERM</td>\n",
       "      <td>0.481261</td>\n",
       "      <td>0.518739</td>\n",
       "    </tr>\n",
       "    <tr>\n",
       "      <td>FWS</td>\n",
       "      <td>0.429630</td>\n",
       "      <td>0.570370</td>\n",
       "    </tr>\n",
       "  </tbody>\n",
       "</table>\n",
       "</div>"
      ],
      "text/plain": [
       "              MID_POP_W  MID_POP_NW\n",
       "NEW_MID_CODE                       \n",
       "BAM            0.468405    0.531595\n",
       "BEM            0.564539    0.435461\n",
       "BRM            0.807122    0.192878\n",
       "ERM            0.481261    0.518739\n",
       "FWS            0.429630    0.570370"
      ]
     },
     "execution_count": 34,
     "metadata": {},
     "output_type": "execute_result"
    }
   ],
   "source": [
    "plan = 8\n",
    "sa_output_df = retrieve_output_data(algo, level, plan)\n",
    "new_spas_sa = pd.merge(spas, sa_output_df, on='SPA')\n",
    "new_spas_sa_grouped = group_data(new_spas_sa)\n",
    "# vals= np.concatenate([new_spas_sa_grouped.loc[i,:].values for i in interested_districts])\n",
    "# data_array[plan-1,:] = vals\n",
    "\n",
    "new_spas_sa_grouped.head()\n",
    "#To change everything down to SA or TS"
   ]
  },
  {
   "cell_type": "code",
   "execution_count": 35,
   "metadata": {
    "scrolled": true
   },
   "outputs": [
    {
     "name": "stdout",
     "output_type": "stream",
     "text": [
      "0.2541572824239295\n"
     ]
    },
    {
     "data": {
      "text/html": [
       "<div>\n",
       "<style scoped>\n",
       "    .dataframe tbody tr th:only-of-type {\n",
       "        vertical-align: middle;\n",
       "    }\n",
       "\n",
       "    .dataframe tbody tr th {\n",
       "        vertical-align: top;\n",
       "    }\n",
       "\n",
       "    .dataframe thead th {\n",
       "        text-align: right;\n",
       "    }\n",
       "</style>\n",
       "<table border=\"1\" class=\"dataframe\">\n",
       "  <thead>\n",
       "    <tr style=\"text-align: right;\">\n",
       "      <th></th>\n",
       "      <th>MID_POP_W</th>\n",
       "      <th>MID_POP_NW</th>\n",
       "      <th>ABS_DIFF</th>\n",
       "      <th>ENTROPY_IND</th>\n",
       "    </tr>\n",
       "    <tr>\n",
       "      <th>NEW_MID_CODE</th>\n",
       "      <th></th>\n",
       "      <th></th>\n",
       "      <th></th>\n",
       "      <th></th>\n",
       "    </tr>\n",
       "  </thead>\n",
       "  <tbody>\n",
       "  </tbody>\n",
       "</table>\n",
       "</div>"
      ],
      "text/plain": [
       "Empty DataFrame\n",
       "Columns: [MID_POP_W, MID_POP_NW, ABS_DIFF, ENTROPY_IND]\n",
       "Index: []"
      ]
     },
     "execution_count": 35,
     "metadata": {},
     "output_type": "execute_result"
    }
   ],
   "source": [
    "measurements_df, ind_diss_sa1 = get_measurements(new_spas_sa_grouped)\n",
    "segregated_abs_diff_sa8 = measurements_df[measurements_df['ABS_DIFF'] > 0.7]\n",
    "segregated_entropy_sa8 = measurements_df[measurements_df['ENTROPY_IND'] < 0.4]\n",
    "ind_diss.append(ind_diss_sa1)\n",
    "print(ind_diss_sa1)\n",
    "segregated_entropy_sa8"
   ]
  },
  {
   "cell_type": "markdown",
   "metadata": {},
   "source": [
    "## Output Plan 9"
   ]
  },
  {
   "cell_type": "markdown",
   "metadata": {},
   "source": [
    "### Simulated Annealing (SA)"
   ]
  },
  {
   "cell_type": "code",
   "execution_count": 36,
   "metadata": {},
   "outputs": [
    {
     "data": {
      "text/html": [
       "<div>\n",
       "<style scoped>\n",
       "    .dataframe tbody tr th:only-of-type {\n",
       "        vertical-align: middle;\n",
       "    }\n",
       "\n",
       "    .dataframe tbody tr th {\n",
       "        vertical-align: top;\n",
       "    }\n",
       "\n",
       "    .dataframe thead th {\n",
       "        text-align: right;\n",
       "    }\n",
       "</style>\n",
       "<table border=\"1\" class=\"dataframe\">\n",
       "  <thead>\n",
       "    <tr style=\"text-align: right;\">\n",
       "      <th></th>\n",
       "      <th>MID_POP_W</th>\n",
       "      <th>MID_POP_NW</th>\n",
       "    </tr>\n",
       "    <tr>\n",
       "      <th>NEW_MID_CODE</th>\n",
       "      <th></th>\n",
       "      <th></th>\n",
       "    </tr>\n",
       "  </thead>\n",
       "  <tbody>\n",
       "    <tr>\n",
       "      <td>BAM</td>\n",
       "      <td>0.396512</td>\n",
       "      <td>0.603488</td>\n",
       "    </tr>\n",
       "    <tr>\n",
       "      <td>BEM</td>\n",
       "      <td>0.647677</td>\n",
       "      <td>0.352323</td>\n",
       "    </tr>\n",
       "    <tr>\n",
       "      <td>BRM</td>\n",
       "      <td>0.817374</td>\n",
       "      <td>0.182626</td>\n",
       "    </tr>\n",
       "    <tr>\n",
       "      <td>ERM</td>\n",
       "      <td>0.556399</td>\n",
       "      <td>0.443601</td>\n",
       "    </tr>\n",
       "    <tr>\n",
       "      <td>FWS</td>\n",
       "      <td>0.524786</td>\n",
       "      <td>0.475214</td>\n",
       "    </tr>\n",
       "  </tbody>\n",
       "</table>\n",
       "</div>"
      ],
      "text/plain": [
       "              MID_POP_W  MID_POP_NW\n",
       "NEW_MID_CODE                       \n",
       "BAM            0.396512    0.603488\n",
       "BEM            0.647677    0.352323\n",
       "BRM            0.817374    0.182626\n",
       "ERM            0.556399    0.443601\n",
       "FWS            0.524786    0.475214"
      ]
     },
     "execution_count": 36,
     "metadata": {},
     "output_type": "execute_result"
    }
   ],
   "source": [
    "plan = 9\n",
    "sa_output_df = retrieve_output_data(algo, level, plan)\n",
    "new_spas_sa = pd.merge(spas, sa_output_df, on='SPA')\n",
    "new_spas_sa_grouped = group_data(new_spas_sa)\n",
    "# vals= np.concatenate([new_spas_sa_grouped.loc[i,:].values for i in interested_districts])\n",
    "# data_array[plan-1,:] = vals\n",
    "\n",
    "new_spas_sa_grouped.head()\n",
    "#To change everything down to SA or TS"
   ]
  },
  {
   "cell_type": "code",
   "execution_count": 37,
   "metadata": {
    "scrolled": true
   },
   "outputs": [
    {
     "name": "stdout",
     "output_type": "stream",
     "text": [
      "0.2777403215271193\n"
     ]
    },
    {
     "data": {
      "text/html": [
       "<div>\n",
       "<style scoped>\n",
       "    .dataframe tbody tr th:only-of-type {\n",
       "        vertical-align: middle;\n",
       "    }\n",
       "\n",
       "    .dataframe tbody tr th {\n",
       "        vertical-align: top;\n",
       "    }\n",
       "\n",
       "    .dataframe thead th {\n",
       "        text-align: right;\n",
       "    }\n",
       "</style>\n",
       "<table border=\"1\" class=\"dataframe\">\n",
       "  <thead>\n",
       "    <tr style=\"text-align: right;\">\n",
       "      <th></th>\n",
       "      <th>MID_POP_W</th>\n",
       "      <th>MID_POP_NW</th>\n",
       "      <th>ABS_DIFF</th>\n",
       "      <th>ENTROPY_IND</th>\n",
       "    </tr>\n",
       "    <tr>\n",
       "      <th>NEW_MID_CODE</th>\n",
       "      <th></th>\n",
       "      <th></th>\n",
       "      <th></th>\n",
       "      <th></th>\n",
       "    </tr>\n",
       "  </thead>\n",
       "  <tbody>\n",
       "  </tbody>\n",
       "</table>\n",
       "</div>"
      ],
      "text/plain": [
       "Empty DataFrame\n",
       "Columns: [MID_POP_W, MID_POP_NW, ABS_DIFF, ENTROPY_IND]\n",
       "Index: []"
      ]
     },
     "execution_count": 37,
     "metadata": {},
     "output_type": "execute_result"
    }
   ],
   "source": [
    "measurements_df, ind_diss_sa1 = get_measurements(new_spas_sa_grouped)\n",
    "segregated_abs_diff_sa9 = measurements_df[measurements_df['ABS_DIFF'] > 0.7]\n",
    "segregated_entropy_sa9 = measurements_df[measurements_df['ENTROPY_IND'] < 0.4]\n",
    "ind_diss.append(ind_diss_sa1)\n",
    "print(ind_diss_sa1)\n",
    "segregated_entropy_sa9"
   ]
  },
  {
   "cell_type": "markdown",
   "metadata": {},
   "source": [
    "## Output Plan 10"
   ]
  },
  {
   "cell_type": "markdown",
   "metadata": {},
   "source": [
    "### Simulated Annealing (SA)"
   ]
  },
  {
   "cell_type": "code",
   "execution_count": 38,
   "metadata": {},
   "outputs": [
    {
     "data": {
      "text/html": [
       "<div>\n",
       "<style scoped>\n",
       "    .dataframe tbody tr th:only-of-type {\n",
       "        vertical-align: middle;\n",
       "    }\n",
       "\n",
       "    .dataframe tbody tr th {\n",
       "        vertical-align: top;\n",
       "    }\n",
       "\n",
       "    .dataframe thead th {\n",
       "        text-align: right;\n",
       "    }\n",
       "</style>\n",
       "<table border=\"1\" class=\"dataframe\">\n",
       "  <thead>\n",
       "    <tr style=\"text-align: right;\">\n",
       "      <th></th>\n",
       "      <th>MID_POP_W</th>\n",
       "      <th>MID_POP_NW</th>\n",
       "    </tr>\n",
       "    <tr>\n",
       "      <th>NEW_MID_CODE</th>\n",
       "      <th></th>\n",
       "      <th></th>\n",
       "    </tr>\n",
       "  </thead>\n",
       "  <tbody>\n",
       "    <tr>\n",
       "      <td>BAM</td>\n",
       "      <td>0.441687</td>\n",
       "      <td>0.558313</td>\n",
       "    </tr>\n",
       "    <tr>\n",
       "      <td>BEM</td>\n",
       "      <td>0.522537</td>\n",
       "      <td>0.477463</td>\n",
       "    </tr>\n",
       "    <tr>\n",
       "      <td>BRM</td>\n",
       "      <td>0.810834</td>\n",
       "      <td>0.189166</td>\n",
       "    </tr>\n",
       "    <tr>\n",
       "      <td>ERM</td>\n",
       "      <td>0.544368</td>\n",
       "      <td>0.455632</td>\n",
       "    </tr>\n",
       "    <tr>\n",
       "      <td>FWS</td>\n",
       "      <td>0.436559</td>\n",
       "      <td>0.563441</td>\n",
       "    </tr>\n",
       "  </tbody>\n",
       "</table>\n",
       "</div>"
      ],
      "text/plain": [
       "              MID_POP_W  MID_POP_NW\n",
       "NEW_MID_CODE                       \n",
       "BAM            0.441687    0.558313\n",
       "BEM            0.522537    0.477463\n",
       "BRM            0.810834    0.189166\n",
       "ERM            0.544368    0.455632\n",
       "FWS            0.436559    0.563441"
      ]
     },
     "execution_count": 38,
     "metadata": {},
     "output_type": "execute_result"
    }
   ],
   "source": [
    "plan = 10\n",
    "sa_output_df = retrieve_output_data(algo, level, plan)\n",
    "new_spas_sa = pd.merge(spas, sa_output_df, on='SPA')\n",
    "new_spas_sa_grouped = group_data(new_spas_sa)\n",
    "# vals= np.concatenate([new_spas_sa_grouped.loc[i,:].values for i in interested_districts])\n",
    "# data_array[plan-1,:] = vals\n",
    "\n",
    "new_spas_sa_grouped.head()\n",
    "#To change everything down to SA or TS"
   ]
  },
  {
   "cell_type": "code",
   "execution_count": 39,
   "metadata": {
    "scrolled": true
   },
   "outputs": [
    {
     "name": "stdout",
     "output_type": "stream",
     "text": [
      "0.2639503043620315\n"
     ]
    },
    {
     "data": {
      "text/html": [
       "<div>\n",
       "<style scoped>\n",
       "    .dataframe tbody tr th:only-of-type {\n",
       "        vertical-align: middle;\n",
       "    }\n",
       "\n",
       "    .dataframe tbody tr th {\n",
       "        vertical-align: top;\n",
       "    }\n",
       "\n",
       "    .dataframe thead th {\n",
       "        text-align: right;\n",
       "    }\n",
       "</style>\n",
       "<table border=\"1\" class=\"dataframe\">\n",
       "  <thead>\n",
       "    <tr style=\"text-align: right;\">\n",
       "      <th></th>\n",
       "      <th>MID_POP_W</th>\n",
       "      <th>MID_POP_NW</th>\n",
       "      <th>ABS_DIFF</th>\n",
       "      <th>ENTROPY_IND</th>\n",
       "    </tr>\n",
       "    <tr>\n",
       "      <th>NEW_MID_CODE</th>\n",
       "      <th></th>\n",
       "      <th></th>\n",
       "      <th></th>\n",
       "      <th></th>\n",
       "    </tr>\n",
       "  </thead>\n",
       "  <tbody>\n",
       "  </tbody>\n",
       "</table>\n",
       "</div>"
      ],
      "text/plain": [
       "Empty DataFrame\n",
       "Columns: [MID_POP_W, MID_POP_NW, ABS_DIFF, ENTROPY_IND]\n",
       "Index: []"
      ]
     },
     "execution_count": 39,
     "metadata": {},
     "output_type": "execute_result"
    }
   ],
   "source": [
    "measurements_df, ind_diss_sa1 = get_measurements(new_spas_sa_grouped)\n",
    "segregated_abs_diff_sa10 = measurements_df[measurements_df['ABS_DIFF'] > 0.7]\n",
    "segregated_entropy_sa10 = measurements_df[measurements_df['ENTROPY_IND'] < 0.4]\n",
    "ind_diss.append(ind_diss_sa1)\n",
    "print(ind_diss_sa1)\n",
    "segregated_entropy_sa10"
   ]
  },
  {
   "cell_type": "markdown",
   "metadata": {},
   "source": [
    "## Output Plan 11"
   ]
  },
  {
   "cell_type": "markdown",
   "metadata": {},
   "source": [
    "### Simulated Annealing (SA)"
   ]
  },
  {
   "cell_type": "code",
   "execution_count": 40,
   "metadata": {},
   "outputs": [
    {
     "data": {
      "text/html": [
       "<div>\n",
       "<style scoped>\n",
       "    .dataframe tbody tr th:only-of-type {\n",
       "        vertical-align: middle;\n",
       "    }\n",
       "\n",
       "    .dataframe tbody tr th {\n",
       "        vertical-align: top;\n",
       "    }\n",
       "\n",
       "    .dataframe thead th {\n",
       "        text-align: right;\n",
       "    }\n",
       "</style>\n",
       "<table border=\"1\" class=\"dataframe\">\n",
       "  <thead>\n",
       "    <tr style=\"text-align: right;\">\n",
       "      <th></th>\n",
       "      <th>MID_POP_W</th>\n",
       "      <th>MID_POP_NW</th>\n",
       "    </tr>\n",
       "    <tr>\n",
       "      <th>NEW_MID_CODE</th>\n",
       "      <th></th>\n",
       "      <th></th>\n",
       "    </tr>\n",
       "  </thead>\n",
       "  <tbody>\n",
       "    <tr>\n",
       "      <td>BAM</td>\n",
       "      <td>0.388095</td>\n",
       "      <td>0.611905</td>\n",
       "    </tr>\n",
       "    <tr>\n",
       "      <td>BEM</td>\n",
       "      <td>0.546218</td>\n",
       "      <td>0.453782</td>\n",
       "    </tr>\n",
       "    <tr>\n",
       "      <td>BRM</td>\n",
       "      <td>0.824546</td>\n",
       "      <td>0.175454</td>\n",
       "    </tr>\n",
       "    <tr>\n",
       "      <td>ERM</td>\n",
       "      <td>0.555006</td>\n",
       "      <td>0.444994</td>\n",
       "    </tr>\n",
       "    <tr>\n",
       "      <td>FWS</td>\n",
       "      <td>0.483204</td>\n",
       "      <td>0.516796</td>\n",
       "    </tr>\n",
       "  </tbody>\n",
       "</table>\n",
       "</div>"
      ],
      "text/plain": [
       "              MID_POP_W  MID_POP_NW\n",
       "NEW_MID_CODE                       \n",
       "BAM            0.388095    0.611905\n",
       "BEM            0.546218    0.453782\n",
       "BRM            0.824546    0.175454\n",
       "ERM            0.555006    0.444994\n",
       "FWS            0.483204    0.516796"
      ]
     },
     "execution_count": 40,
     "metadata": {},
     "output_type": "execute_result"
    }
   ],
   "source": [
    "plan = 11\n",
    "sa_output_df = retrieve_output_data(algo, level, plan)\n",
    "new_spas_sa = pd.merge(spas, sa_output_df, on='SPA')\n",
    "new_spas_sa_grouped = group_data(new_spas_sa)\n",
    "# vals= np.concatenate([new_spas_sa_grouped.loc[i,:].values for i in interested_districts])\n",
    "# data_array[plan-1,:] = vals\n",
    "\n",
    "new_spas_sa_grouped.head()\n",
    "#To change everything down to SA or TS"
   ]
  },
  {
   "cell_type": "code",
   "execution_count": 41,
   "metadata": {
    "scrolled": true
   },
   "outputs": [
    {
     "name": "stdout",
     "output_type": "stream",
     "text": [
      "0.2795335308226203\n"
     ]
    },
    {
     "data": {
      "text/html": [
       "<div>\n",
       "<style scoped>\n",
       "    .dataframe tbody tr th:only-of-type {\n",
       "        vertical-align: middle;\n",
       "    }\n",
       "\n",
       "    .dataframe tbody tr th {\n",
       "        vertical-align: top;\n",
       "    }\n",
       "\n",
       "    .dataframe thead th {\n",
       "        text-align: right;\n",
       "    }\n",
       "</style>\n",
       "<table border=\"1\" class=\"dataframe\">\n",
       "  <thead>\n",
       "    <tr style=\"text-align: right;\">\n",
       "      <th></th>\n",
       "      <th>MID_POP_W</th>\n",
       "      <th>MID_POP_NW</th>\n",
       "      <th>ABS_DIFF</th>\n",
       "      <th>ENTROPY_IND</th>\n",
       "    </tr>\n",
       "    <tr>\n",
       "      <th>NEW_MID_CODE</th>\n",
       "      <th></th>\n",
       "      <th></th>\n",
       "      <th></th>\n",
       "      <th></th>\n",
       "    </tr>\n",
       "  </thead>\n",
       "  <tbody>\n",
       "  </tbody>\n",
       "</table>\n",
       "</div>"
      ],
      "text/plain": [
       "Empty DataFrame\n",
       "Columns: [MID_POP_W, MID_POP_NW, ABS_DIFF, ENTROPY_IND]\n",
       "Index: []"
      ]
     },
     "execution_count": 41,
     "metadata": {},
     "output_type": "execute_result"
    }
   ],
   "source": [
    "measurements_df, ind_diss_sa1 = get_measurements(new_spas_sa_grouped)\n",
    "segregated_abs_diff_sa11 = measurements_df[measurements_df['ABS_DIFF'] > 0.7]\n",
    "segregated_entropy_sa11 = measurements_df[measurements_df['ENTROPY_IND'] < 0.4]\n",
    "ind_diss.append(ind_diss_sa1)\n",
    "print(ind_diss_sa1)\n",
    "segregated_entropy_sa11"
   ]
  },
  {
   "cell_type": "markdown",
   "metadata": {},
   "source": [
    "## Output Plan 12"
   ]
  },
  {
   "cell_type": "markdown",
   "metadata": {},
   "source": [
    "### Simulated Annealing (SA)"
   ]
  },
  {
   "cell_type": "code",
   "execution_count": 42,
   "metadata": {},
   "outputs": [
    {
     "data": {
      "text/html": [
       "<div>\n",
       "<style scoped>\n",
       "    .dataframe tbody tr th:only-of-type {\n",
       "        vertical-align: middle;\n",
       "    }\n",
       "\n",
       "    .dataframe tbody tr th {\n",
       "        vertical-align: top;\n",
       "    }\n",
       "\n",
       "    .dataframe thead th {\n",
       "        text-align: right;\n",
       "    }\n",
       "</style>\n",
       "<table border=\"1\" class=\"dataframe\">\n",
       "  <thead>\n",
       "    <tr style=\"text-align: right;\">\n",
       "      <th></th>\n",
       "      <th>MID_POP_W</th>\n",
       "      <th>MID_POP_NW</th>\n",
       "    </tr>\n",
       "    <tr>\n",
       "      <th>NEW_MID_CODE</th>\n",
       "      <th></th>\n",
       "      <th></th>\n",
       "    </tr>\n",
       "  </thead>\n",
       "  <tbody>\n",
       "    <tr>\n",
       "      <td>BAM</td>\n",
       "      <td>0.463215</td>\n",
       "      <td>0.536785</td>\n",
       "    </tr>\n",
       "    <tr>\n",
       "      <td>BEM</td>\n",
       "      <td>0.646825</td>\n",
       "      <td>0.353175</td>\n",
       "    </tr>\n",
       "    <tr>\n",
       "      <td>BRM</td>\n",
       "      <td>0.809641</td>\n",
       "      <td>0.190359</td>\n",
       "    </tr>\n",
       "    <tr>\n",
       "      <td>ERM</td>\n",
       "      <td>0.468543</td>\n",
       "      <td>0.531457</td>\n",
       "    </tr>\n",
       "    <tr>\n",
       "      <td>FWS</td>\n",
       "      <td>0.468391</td>\n",
       "      <td>0.531609</td>\n",
       "    </tr>\n",
       "  </tbody>\n",
       "</table>\n",
       "</div>"
      ],
      "text/plain": [
       "              MID_POP_W  MID_POP_NW\n",
       "NEW_MID_CODE                       \n",
       "BAM            0.463215    0.536785\n",
       "BEM            0.646825    0.353175\n",
       "BRM            0.809641    0.190359\n",
       "ERM            0.468543    0.531457\n",
       "FWS            0.468391    0.531609"
      ]
     },
     "execution_count": 42,
     "metadata": {},
     "output_type": "execute_result"
    }
   ],
   "source": [
    "plan = 12\n",
    "sa_output_df = retrieve_output_data(algo, level, plan)\n",
    "new_spas_sa = pd.merge(spas, sa_output_df, on='SPA')\n",
    "new_spas_sa_grouped = group_data(new_spas_sa)\n",
    "# vals= np.concatenate([new_spas_sa_grouped.loc[i,:].values for i in interested_districts])\n",
    "# data_array[plan-1,:] = vals\n",
    "\n",
    "new_spas_sa_grouped.head()\n",
    "#To change everything down to SA or TS"
   ]
  },
  {
   "cell_type": "code",
   "execution_count": 43,
   "metadata": {
    "scrolled": true
   },
   "outputs": [
    {
     "name": "stdout",
     "output_type": "stream",
     "text": [
      "0.25322657126803766\n"
     ]
    },
    {
     "data": {
      "text/html": [
       "<div>\n",
       "<style scoped>\n",
       "    .dataframe tbody tr th:only-of-type {\n",
       "        vertical-align: middle;\n",
       "    }\n",
       "\n",
       "    .dataframe tbody tr th {\n",
       "        vertical-align: top;\n",
       "    }\n",
       "\n",
       "    .dataframe thead th {\n",
       "        text-align: right;\n",
       "    }\n",
       "</style>\n",
       "<table border=\"1\" class=\"dataframe\">\n",
       "  <thead>\n",
       "    <tr style=\"text-align: right;\">\n",
       "      <th></th>\n",
       "      <th>MID_POP_W</th>\n",
       "      <th>MID_POP_NW</th>\n",
       "      <th>ABS_DIFF</th>\n",
       "      <th>ENTROPY_IND</th>\n",
       "    </tr>\n",
       "    <tr>\n",
       "      <th>NEW_MID_CODE</th>\n",
       "      <th></th>\n",
       "      <th></th>\n",
       "      <th></th>\n",
       "      <th></th>\n",
       "    </tr>\n",
       "  </thead>\n",
       "  <tbody>\n",
       "  </tbody>\n",
       "</table>\n",
       "</div>"
      ],
      "text/plain": [
       "Empty DataFrame\n",
       "Columns: [MID_POP_W, MID_POP_NW, ABS_DIFF, ENTROPY_IND]\n",
       "Index: []"
      ]
     },
     "execution_count": 43,
     "metadata": {},
     "output_type": "execute_result"
    }
   ],
   "source": [
    "measurements_df, ind_diss_sa1 = get_measurements(new_spas_sa_grouped)\n",
    "segregated_abs_diff_sa12 = measurements_df[measurements_df['ABS_DIFF'] > 0.7]\n",
    "segregated_entropy_sa12 = measurements_df[measurements_df['ENTROPY_IND'] < 0.4]\n",
    "ind_diss.append(ind_diss_sa1)\n",
    "print(ind_diss_sa1)\n",
    "segregated_entropy_sa12"
   ]
  },
  {
   "cell_type": "markdown",
   "metadata": {},
   "source": [
    "## Output Plan 13"
   ]
  },
  {
   "cell_type": "markdown",
   "metadata": {},
   "source": [
    "### Simulated Annealing (SA)"
   ]
  },
  {
   "cell_type": "code",
   "execution_count": 44,
   "metadata": {},
   "outputs": [
    {
     "data": {
      "text/html": [
       "<div>\n",
       "<style scoped>\n",
       "    .dataframe tbody tr th:only-of-type {\n",
       "        vertical-align: middle;\n",
       "    }\n",
       "\n",
       "    .dataframe tbody tr th {\n",
       "        vertical-align: top;\n",
       "    }\n",
       "\n",
       "    .dataframe thead th {\n",
       "        text-align: right;\n",
       "    }\n",
       "</style>\n",
       "<table border=\"1\" class=\"dataframe\">\n",
       "  <thead>\n",
       "    <tr style=\"text-align: right;\">\n",
       "      <th></th>\n",
       "      <th>MID_POP_W</th>\n",
       "      <th>MID_POP_NW</th>\n",
       "    </tr>\n",
       "    <tr>\n",
       "      <th>NEW_MID_CODE</th>\n",
       "      <th></th>\n",
       "      <th></th>\n",
       "    </tr>\n",
       "  </thead>\n",
       "  <tbody>\n",
       "    <tr>\n",
       "      <td>BAM</td>\n",
       "      <td>0.410513</td>\n",
       "      <td>0.589487</td>\n",
       "    </tr>\n",
       "    <tr>\n",
       "      <td>BEM</td>\n",
       "      <td>0.591391</td>\n",
       "      <td>0.408609</td>\n",
       "    </tr>\n",
       "    <tr>\n",
       "      <td>BRM</td>\n",
       "      <td>0.807292</td>\n",
       "      <td>0.192708</td>\n",
       "    </tr>\n",
       "    <tr>\n",
       "      <td>ERM</td>\n",
       "      <td>0.553555</td>\n",
       "      <td>0.446445</td>\n",
       "    </tr>\n",
       "    <tr>\n",
       "      <td>FWS</td>\n",
       "      <td>0.433766</td>\n",
       "      <td>0.566234</td>\n",
       "    </tr>\n",
       "  </tbody>\n",
       "</table>\n",
       "</div>"
      ],
      "text/plain": [
       "              MID_POP_W  MID_POP_NW\n",
       "NEW_MID_CODE                       \n",
       "BAM            0.410513    0.589487\n",
       "BEM            0.591391    0.408609\n",
       "BRM            0.807292    0.192708\n",
       "ERM            0.553555    0.446445\n",
       "FWS            0.433766    0.566234"
      ]
     },
     "execution_count": 44,
     "metadata": {},
     "output_type": "execute_result"
    }
   ],
   "source": [
    "plan = 13\n",
    "sa_output_df = retrieve_output_data(algo, level, plan)\n",
    "new_spas_sa = pd.merge(spas, sa_output_df, on='SPA')\n",
    "new_spas_sa_grouped = group_data(new_spas_sa)\n",
    "# vals= np.concatenate([new_spas_sa_grouped.loc[i,:].values for i in interested_districts])\n",
    "# data_array[plan-1,:] = vals\n",
    "\n",
    "new_spas_sa_grouped.head()\n",
    "#To change everything down to SA or TS"
   ]
  },
  {
   "cell_type": "code",
   "execution_count": 45,
   "metadata": {
    "scrolled": true
   },
   "outputs": [
    {
     "name": "stdout",
     "output_type": "stream",
     "text": [
      "0.2635066574597967\n"
     ]
    },
    {
     "data": {
      "text/html": [
       "<div>\n",
       "<style scoped>\n",
       "    .dataframe tbody tr th:only-of-type {\n",
       "        vertical-align: middle;\n",
       "    }\n",
       "\n",
       "    .dataframe tbody tr th {\n",
       "        vertical-align: top;\n",
       "    }\n",
       "\n",
       "    .dataframe thead th {\n",
       "        text-align: right;\n",
       "    }\n",
       "</style>\n",
       "<table border=\"1\" class=\"dataframe\">\n",
       "  <thead>\n",
       "    <tr style=\"text-align: right;\">\n",
       "      <th></th>\n",
       "      <th>MID_POP_W</th>\n",
       "      <th>MID_POP_NW</th>\n",
       "      <th>ABS_DIFF</th>\n",
       "      <th>ENTROPY_IND</th>\n",
       "    </tr>\n",
       "    <tr>\n",
       "      <th>NEW_MID_CODE</th>\n",
       "      <th></th>\n",
       "      <th></th>\n",
       "      <th></th>\n",
       "      <th></th>\n",
       "    </tr>\n",
       "  </thead>\n",
       "  <tbody>\n",
       "  </tbody>\n",
       "</table>\n",
       "</div>"
      ],
      "text/plain": [
       "Empty DataFrame\n",
       "Columns: [MID_POP_W, MID_POP_NW, ABS_DIFF, ENTROPY_IND]\n",
       "Index: []"
      ]
     },
     "execution_count": 45,
     "metadata": {},
     "output_type": "execute_result"
    }
   ],
   "source": [
    "measurements_df, ind_diss_sa1 = get_measurements(new_spas_sa_grouped)\n",
    "segregated_abs_diff_sa13 = measurements_df[measurements_df['ABS_DIFF'] > 0.7]\n",
    "segregated_entropy_sa13 = measurements_df[measurements_df['ENTROPY_IND'] < 0.4]\n",
    "ind_diss.append(ind_diss_sa1)\n",
    "print(ind_diss_sa1)\n",
    "segregated_entropy_sa13"
   ]
  },
  {
   "cell_type": "markdown",
   "metadata": {},
   "source": [
    "## Output Plan 14"
   ]
  },
  {
   "cell_type": "markdown",
   "metadata": {},
   "source": [
    "### Simulated Annealing (SA)"
   ]
  },
  {
   "cell_type": "code",
   "execution_count": 46,
   "metadata": {},
   "outputs": [
    {
     "data": {
      "text/html": [
       "<div>\n",
       "<style scoped>\n",
       "    .dataframe tbody tr th:only-of-type {\n",
       "        vertical-align: middle;\n",
       "    }\n",
       "\n",
       "    .dataframe tbody tr th {\n",
       "        vertical-align: top;\n",
       "    }\n",
       "\n",
       "    .dataframe thead th {\n",
       "        text-align: right;\n",
       "    }\n",
       "</style>\n",
       "<table border=\"1\" class=\"dataframe\">\n",
       "  <thead>\n",
       "    <tr style=\"text-align: right;\">\n",
       "      <th></th>\n",
       "      <th>MID_POP_W</th>\n",
       "      <th>MID_POP_NW</th>\n",
       "    </tr>\n",
       "    <tr>\n",
       "      <th>NEW_MID_CODE</th>\n",
       "      <th></th>\n",
       "      <th></th>\n",
       "    </tr>\n",
       "  </thead>\n",
       "  <tbody>\n",
       "    <tr>\n",
       "      <td>BAM</td>\n",
       "      <td>0.482902</td>\n",
       "      <td>0.517098</td>\n",
       "    </tr>\n",
       "    <tr>\n",
       "      <td>BEM</td>\n",
       "      <td>0.595458</td>\n",
       "      <td>0.404542</td>\n",
       "    </tr>\n",
       "    <tr>\n",
       "      <td>BRM</td>\n",
       "      <td>0.806132</td>\n",
       "      <td>0.193868</td>\n",
       "    </tr>\n",
       "    <tr>\n",
       "      <td>ERM</td>\n",
       "      <td>0.525802</td>\n",
       "      <td>0.474198</td>\n",
       "    </tr>\n",
       "    <tr>\n",
       "      <td>FWS</td>\n",
       "      <td>0.507246</td>\n",
       "      <td>0.492754</td>\n",
       "    </tr>\n",
       "  </tbody>\n",
       "</table>\n",
       "</div>"
      ],
      "text/plain": [
       "              MID_POP_W  MID_POP_NW\n",
       "NEW_MID_CODE                       \n",
       "BAM            0.482902    0.517098\n",
       "BEM            0.595458    0.404542\n",
       "BRM            0.806132    0.193868\n",
       "ERM            0.525802    0.474198\n",
       "FWS            0.507246    0.492754"
      ]
     },
     "execution_count": 46,
     "metadata": {},
     "output_type": "execute_result"
    }
   ],
   "source": [
    "plan = 14\n",
    "sa_output_df = retrieve_output_data(algo, level, plan)\n",
    "new_spas_sa = pd.merge(spas, sa_output_df, on='SPA')\n",
    "new_spas_sa_grouped = group_data(new_spas_sa)\n",
    "# vals= np.concatenate([new_spas_sa_grouped.loc[i,:].values for i in interested_districts])\n",
    "# data_array[plan-1,:] = vals\n",
    "\n",
    "new_spas_sa_grouped.head()\n",
    "#To change everything down to SA or TS"
   ]
  },
  {
   "cell_type": "code",
   "execution_count": 47,
   "metadata": {
    "scrolled": true
   },
   "outputs": [
    {
     "name": "stdout",
     "output_type": "stream",
     "text": [
      "0.251018419712678\n"
     ]
    },
    {
     "data": {
      "text/html": [
       "<div>\n",
       "<style scoped>\n",
       "    .dataframe tbody tr th:only-of-type {\n",
       "        vertical-align: middle;\n",
       "    }\n",
       "\n",
       "    .dataframe tbody tr th {\n",
       "        vertical-align: top;\n",
       "    }\n",
       "\n",
       "    .dataframe thead th {\n",
       "        text-align: right;\n",
       "    }\n",
       "</style>\n",
       "<table border=\"1\" class=\"dataframe\">\n",
       "  <thead>\n",
       "    <tr style=\"text-align: right;\">\n",
       "      <th></th>\n",
       "      <th>MID_POP_W</th>\n",
       "      <th>MID_POP_NW</th>\n",
       "      <th>ABS_DIFF</th>\n",
       "      <th>ENTROPY_IND</th>\n",
       "    </tr>\n",
       "    <tr>\n",
       "      <th>NEW_MID_CODE</th>\n",
       "      <th></th>\n",
       "      <th></th>\n",
       "      <th></th>\n",
       "      <th></th>\n",
       "    </tr>\n",
       "  </thead>\n",
       "  <tbody>\n",
       "  </tbody>\n",
       "</table>\n",
       "</div>"
      ],
      "text/plain": [
       "Empty DataFrame\n",
       "Columns: [MID_POP_W, MID_POP_NW, ABS_DIFF, ENTROPY_IND]\n",
       "Index: []"
      ]
     },
     "execution_count": 47,
     "metadata": {},
     "output_type": "execute_result"
    }
   ],
   "source": [
    "measurements_df, ind_diss_sa1 = get_measurements(new_spas_sa_grouped)\n",
    "segregated_abs_diff_sa14 = measurements_df[measurements_df['ABS_DIFF'] > 0.7]\n",
    "segregated_entropy_sa14 = measurements_df[measurements_df['ENTROPY_IND'] < 0.4]\n",
    "ind_diss.append(ind_diss_sa1)\n",
    "print(ind_diss_sa1)\n",
    "segregated_entropy_sa14"
   ]
  },
  {
   "cell_type": "markdown",
   "metadata": {},
   "source": [
    "## Output Plan 15"
   ]
  },
  {
   "cell_type": "markdown",
   "metadata": {},
   "source": [
    "### Simulated Annealing (SA)"
   ]
  },
  {
   "cell_type": "code",
   "execution_count": 48,
   "metadata": {},
   "outputs": [
    {
     "data": {
      "text/html": [
       "<div>\n",
       "<style scoped>\n",
       "    .dataframe tbody tr th:only-of-type {\n",
       "        vertical-align: middle;\n",
       "    }\n",
       "\n",
       "    .dataframe tbody tr th {\n",
       "        vertical-align: top;\n",
       "    }\n",
       "\n",
       "    .dataframe thead th {\n",
       "        text-align: right;\n",
       "    }\n",
       "</style>\n",
       "<table border=\"1\" class=\"dataframe\">\n",
       "  <thead>\n",
       "    <tr style=\"text-align: right;\">\n",
       "      <th></th>\n",
       "      <th>MID_POP_W</th>\n",
       "      <th>MID_POP_NW</th>\n",
       "    </tr>\n",
       "    <tr>\n",
       "      <th>NEW_MID_CODE</th>\n",
       "      <th></th>\n",
       "      <th></th>\n",
       "    </tr>\n",
       "  </thead>\n",
       "  <tbody>\n",
       "    <tr>\n",
       "      <td>BAM</td>\n",
       "      <td>0.422951</td>\n",
       "      <td>0.577049</td>\n",
       "    </tr>\n",
       "    <tr>\n",
       "      <td>BEM</td>\n",
       "      <td>0.560096</td>\n",
       "      <td>0.439904</td>\n",
       "    </tr>\n",
       "    <tr>\n",
       "      <td>BRM</td>\n",
       "      <td>0.807474</td>\n",
       "      <td>0.192526</td>\n",
       "    </tr>\n",
       "    <tr>\n",
       "      <td>ERM</td>\n",
       "      <td>0.395677</td>\n",
       "      <td>0.604323</td>\n",
       "    </tr>\n",
       "    <tr>\n",
       "      <td>FWS</td>\n",
       "      <td>0.533333</td>\n",
       "      <td>0.466667</td>\n",
       "    </tr>\n",
       "  </tbody>\n",
       "</table>\n",
       "</div>"
      ],
      "text/plain": [
       "              MID_POP_W  MID_POP_NW\n",
       "NEW_MID_CODE                       \n",
       "BAM            0.422951    0.577049\n",
       "BEM            0.560096    0.439904\n",
       "BRM            0.807474    0.192526\n",
       "ERM            0.395677    0.604323\n",
       "FWS            0.533333    0.466667"
      ]
     },
     "execution_count": 48,
     "metadata": {},
     "output_type": "execute_result"
    }
   ],
   "source": [
    "plan = 15\n",
    "sa_output_df = retrieve_output_data(algo, level, plan)\n",
    "new_spas_sa = pd.merge(spas, sa_output_df, on='SPA')\n",
    "new_spas_sa_grouped = group_data(new_spas_sa)\n",
    "# vals= np.concatenate([new_spas_sa_grouped.loc[i,:].values for i in interested_districts])\n",
    "# data_array[plan-1,:] = vals\n",
    "\n",
    "new_spas_sa_grouped.head()\n",
    "#To change everything down to SA or TS"
   ]
  },
  {
   "cell_type": "code",
   "execution_count": 49,
   "metadata": {
    "scrolled": true
   },
   "outputs": [
    {
     "name": "stdout",
     "output_type": "stream",
     "text": [
      "0.228959862836619\n"
     ]
    },
    {
     "data": {
      "text/html": [
       "<div>\n",
       "<style scoped>\n",
       "    .dataframe tbody tr th:only-of-type {\n",
       "        vertical-align: middle;\n",
       "    }\n",
       "\n",
       "    .dataframe tbody tr th {\n",
       "        vertical-align: top;\n",
       "    }\n",
       "\n",
       "    .dataframe thead th {\n",
       "        text-align: right;\n",
       "    }\n",
       "</style>\n",
       "<table border=\"1\" class=\"dataframe\">\n",
       "  <thead>\n",
       "    <tr style=\"text-align: right;\">\n",
       "      <th></th>\n",
       "      <th>MID_POP_W</th>\n",
       "      <th>MID_POP_NW</th>\n",
       "      <th>ABS_DIFF</th>\n",
       "      <th>ENTROPY_IND</th>\n",
       "    </tr>\n",
       "    <tr>\n",
       "      <th>NEW_MID_CODE</th>\n",
       "      <th></th>\n",
       "      <th></th>\n",
       "      <th></th>\n",
       "      <th></th>\n",
       "    </tr>\n",
       "  </thead>\n",
       "  <tbody>\n",
       "  </tbody>\n",
       "</table>\n",
       "</div>"
      ],
      "text/plain": [
       "Empty DataFrame\n",
       "Columns: [MID_POP_W, MID_POP_NW, ABS_DIFF, ENTROPY_IND]\n",
       "Index: []"
      ]
     },
     "execution_count": 49,
     "metadata": {},
     "output_type": "execute_result"
    }
   ],
   "source": [
    "measurements_df, ind_diss_sa1 = get_measurements(new_spas_sa_grouped)\n",
    "segregated_abs_diff_sa15 = measurements_df[measurements_df['ABS_DIFF'] > 0.7]\n",
    "segregated_entropy_sa15 = measurements_df[measurements_df['ENTROPY_IND'] < 0.4]\n",
    "ind_diss.append(ind_diss_sa1)\n",
    "print(ind_diss_sa1)\n",
    "segregated_entropy_sa15"
   ]
  },
  {
   "cell_type": "markdown",
   "metadata": {},
   "source": [
    "## Output Plan 16"
   ]
  },
  {
   "cell_type": "markdown",
   "metadata": {},
   "source": [
    "### Simulated Annealing (SA)"
   ]
  },
  {
   "cell_type": "code",
   "execution_count": 50,
   "metadata": {},
   "outputs": [
    {
     "data": {
      "text/html": [
       "<div>\n",
       "<style scoped>\n",
       "    .dataframe tbody tr th:only-of-type {\n",
       "        vertical-align: middle;\n",
       "    }\n",
       "\n",
       "    .dataframe tbody tr th {\n",
       "        vertical-align: top;\n",
       "    }\n",
       "\n",
       "    .dataframe thead th {\n",
       "        text-align: right;\n",
       "    }\n",
       "</style>\n",
       "<table border=\"1\" class=\"dataframe\">\n",
       "  <thead>\n",
       "    <tr style=\"text-align: right;\">\n",
       "      <th></th>\n",
       "      <th>MID_POP_W</th>\n",
       "      <th>MID_POP_NW</th>\n",
       "    </tr>\n",
       "    <tr>\n",
       "      <th>NEW_MID_CODE</th>\n",
       "      <th></th>\n",
       "      <th></th>\n",
       "    </tr>\n",
       "  </thead>\n",
       "  <tbody>\n",
       "    <tr>\n",
       "      <td>BAM</td>\n",
       "      <td>0.503244</td>\n",
       "      <td>0.496756</td>\n",
       "    </tr>\n",
       "    <tr>\n",
       "      <td>BEM</td>\n",
       "      <td>0.610473</td>\n",
       "      <td>0.389527</td>\n",
       "    </tr>\n",
       "    <tr>\n",
       "      <td>BRM</td>\n",
       "      <td>0.798482</td>\n",
       "      <td>0.201518</td>\n",
       "    </tr>\n",
       "    <tr>\n",
       "      <td>ERM</td>\n",
       "      <td>0.482522</td>\n",
       "      <td>0.517478</td>\n",
       "    </tr>\n",
       "    <tr>\n",
       "      <td>FWS</td>\n",
       "      <td>0.459665</td>\n",
       "      <td>0.540335</td>\n",
       "    </tr>\n",
       "  </tbody>\n",
       "</table>\n",
       "</div>"
      ],
      "text/plain": [
       "              MID_POP_W  MID_POP_NW\n",
       "NEW_MID_CODE                       \n",
       "BAM            0.503244    0.496756\n",
       "BEM            0.610473    0.389527\n",
       "BRM            0.798482    0.201518\n",
       "ERM            0.482522    0.517478\n",
       "FWS            0.459665    0.540335"
      ]
     },
     "execution_count": 50,
     "metadata": {},
     "output_type": "execute_result"
    }
   ],
   "source": [
    "plan = 16\n",
    "sa_output_df = retrieve_output_data(algo, level, plan)\n",
    "new_spas_sa = pd.merge(spas, sa_output_df, on='SPA')\n",
    "new_spas_sa_grouped = group_data(new_spas_sa)\n",
    "# vals= np.concatenate([new_spas_sa_grouped.loc[i,:].values for i in interested_districts])\n",
    "# data_array[plan-1,:] = vals\n",
    "\n",
    "new_spas_sa_grouped.head()\n",
    "#To change everything down to SA or TS"
   ]
  },
  {
   "cell_type": "code",
   "execution_count": 51,
   "metadata": {
    "scrolled": true
   },
   "outputs": [
    {
     "name": "stdout",
     "output_type": "stream",
     "text": [
      "0.2562538899870017\n"
     ]
    },
    {
     "data": {
      "text/html": [
       "<div>\n",
       "<style scoped>\n",
       "    .dataframe tbody tr th:only-of-type {\n",
       "        vertical-align: middle;\n",
       "    }\n",
       "\n",
       "    .dataframe tbody tr th {\n",
       "        vertical-align: top;\n",
       "    }\n",
       "\n",
       "    .dataframe thead th {\n",
       "        text-align: right;\n",
       "    }\n",
       "</style>\n",
       "<table border=\"1\" class=\"dataframe\">\n",
       "  <thead>\n",
       "    <tr style=\"text-align: right;\">\n",
       "      <th></th>\n",
       "      <th>MID_POP_W</th>\n",
       "      <th>MID_POP_NW</th>\n",
       "      <th>ABS_DIFF</th>\n",
       "      <th>ENTROPY_IND</th>\n",
       "    </tr>\n",
       "    <tr>\n",
       "      <th>NEW_MID_CODE</th>\n",
       "      <th></th>\n",
       "      <th></th>\n",
       "      <th></th>\n",
       "      <th></th>\n",
       "    </tr>\n",
       "  </thead>\n",
       "  <tbody>\n",
       "  </tbody>\n",
       "</table>\n",
       "</div>"
      ],
      "text/plain": [
       "Empty DataFrame\n",
       "Columns: [MID_POP_W, MID_POP_NW, ABS_DIFF, ENTROPY_IND]\n",
       "Index: []"
      ]
     },
     "execution_count": 51,
     "metadata": {},
     "output_type": "execute_result"
    }
   ],
   "source": [
    "measurements_df, ind_diss_sa1 = get_measurements(new_spas_sa_grouped)\n",
    "segregated_abs_diff_sa16 = measurements_df[measurements_df['ABS_DIFF'] > 0.7]\n",
    "segregated_entropy_sa16 = measurements_df[measurements_df['ENTROPY_IND'] < 0.4]\n",
    "ind_diss.append(ind_diss_sa1)\n",
    "print(ind_diss_sa1)\n",
    "segregated_entropy_sa16"
   ]
  },
  {
   "cell_type": "markdown",
   "metadata": {},
   "source": [
    "## Output Plan 17"
   ]
  },
  {
   "cell_type": "markdown",
   "metadata": {},
   "source": [
    "### Simulated Annealing (SA)"
   ]
  },
  {
   "cell_type": "code",
   "execution_count": 52,
   "metadata": {},
   "outputs": [
    {
     "data": {
      "text/html": [
       "<div>\n",
       "<style scoped>\n",
       "    .dataframe tbody tr th:only-of-type {\n",
       "        vertical-align: middle;\n",
       "    }\n",
       "\n",
       "    .dataframe tbody tr th {\n",
       "        vertical-align: top;\n",
       "    }\n",
       "\n",
       "    .dataframe thead th {\n",
       "        text-align: right;\n",
       "    }\n",
       "</style>\n",
       "<table border=\"1\" class=\"dataframe\">\n",
       "  <thead>\n",
       "    <tr style=\"text-align: right;\">\n",
       "      <th></th>\n",
       "      <th>MID_POP_W</th>\n",
       "      <th>MID_POP_NW</th>\n",
       "    </tr>\n",
       "    <tr>\n",
       "      <th>NEW_MID_CODE</th>\n",
       "      <th></th>\n",
       "      <th></th>\n",
       "    </tr>\n",
       "  </thead>\n",
       "  <tbody>\n",
       "    <tr>\n",
       "      <td>BAM</td>\n",
       "      <td>0.429395</td>\n",
       "      <td>0.570605</td>\n",
       "    </tr>\n",
       "    <tr>\n",
       "      <td>BEM</td>\n",
       "      <td>0.627563</td>\n",
       "      <td>0.372437</td>\n",
       "    </tr>\n",
       "    <tr>\n",
       "      <td>BRM</td>\n",
       "      <td>0.810280</td>\n",
       "      <td>0.189720</td>\n",
       "    </tr>\n",
       "    <tr>\n",
       "      <td>ERM</td>\n",
       "      <td>0.546069</td>\n",
       "      <td>0.453931</td>\n",
       "    </tr>\n",
       "    <tr>\n",
       "      <td>FWS</td>\n",
       "      <td>0.519465</td>\n",
       "      <td>0.480535</td>\n",
       "    </tr>\n",
       "  </tbody>\n",
       "</table>\n",
       "</div>"
      ],
      "text/plain": [
       "              MID_POP_W  MID_POP_NW\n",
       "NEW_MID_CODE                       \n",
       "BAM            0.429395    0.570605\n",
       "BEM            0.627563    0.372437\n",
       "BRM            0.810280    0.189720\n",
       "ERM            0.546069    0.453931\n",
       "FWS            0.519465    0.480535"
      ]
     },
     "execution_count": 52,
     "metadata": {},
     "output_type": "execute_result"
    }
   ],
   "source": [
    "plan = 17\n",
    "sa_output_df = retrieve_output_data(algo, level, plan)\n",
    "new_spas_sa = pd.merge(spas, sa_output_df, on='SPA')\n",
    "new_spas_sa_grouped = group_data(new_spas_sa)\n",
    "# vals= np.concatenate([new_spas_sa_grouped.loc[i,:].values for i in interested_districts])\n",
    "# data_array[plan-1,:] = vals\n",
    "\n",
    "new_spas_sa_grouped.head()\n",
    "#To change everything down to SA or TS"
   ]
  },
  {
   "cell_type": "code",
   "execution_count": 53,
   "metadata": {
    "scrolled": true
   },
   "outputs": [
    {
     "name": "stdout",
     "output_type": "stream",
     "text": [
      "0.23870634592895584\n"
     ]
    },
    {
     "data": {
      "text/html": [
       "<div>\n",
       "<style scoped>\n",
       "    .dataframe tbody tr th:only-of-type {\n",
       "        vertical-align: middle;\n",
       "    }\n",
       "\n",
       "    .dataframe tbody tr th {\n",
       "        vertical-align: top;\n",
       "    }\n",
       "\n",
       "    .dataframe thead th {\n",
       "        text-align: right;\n",
       "    }\n",
       "</style>\n",
       "<table border=\"1\" class=\"dataframe\">\n",
       "  <thead>\n",
       "    <tr style=\"text-align: right;\">\n",
       "      <th></th>\n",
       "      <th>MID_POP_W</th>\n",
       "      <th>MID_POP_NW</th>\n",
       "      <th>ABS_DIFF</th>\n",
       "      <th>ENTROPY_IND</th>\n",
       "    </tr>\n",
       "    <tr>\n",
       "      <th>NEW_MID_CODE</th>\n",
       "      <th></th>\n",
       "      <th></th>\n",
       "      <th></th>\n",
       "      <th></th>\n",
       "    </tr>\n",
       "  </thead>\n",
       "  <tbody>\n",
       "  </tbody>\n",
       "</table>\n",
       "</div>"
      ],
      "text/plain": [
       "Empty DataFrame\n",
       "Columns: [MID_POP_W, MID_POP_NW, ABS_DIFF, ENTROPY_IND]\n",
       "Index: []"
      ]
     },
     "execution_count": 53,
     "metadata": {},
     "output_type": "execute_result"
    }
   ],
   "source": [
    "measurements_df, ind_diss_sa1 = get_measurements(new_spas_sa_grouped)\n",
    "segregated_abs_diff_sa17 = measurements_df[measurements_df['ABS_DIFF'] > 0.7]\n",
    "segregated_entropy_sa17 = measurements_df[measurements_df['ENTROPY_IND'] < 0.4]\n",
    "ind_diss.append(ind_diss_sa1)\n",
    "print(ind_diss_sa1)\n",
    "segregated_entropy_sa17"
   ]
  },
  {
   "cell_type": "markdown",
   "metadata": {},
   "source": [
    "## Output Plan 18"
   ]
  },
  {
   "cell_type": "markdown",
   "metadata": {},
   "source": [
    "### Simulated Annealing (SA)"
   ]
  },
  {
   "cell_type": "code",
   "execution_count": 54,
   "metadata": {},
   "outputs": [
    {
     "data": {
      "text/html": [
       "<div>\n",
       "<style scoped>\n",
       "    .dataframe tbody tr th:only-of-type {\n",
       "        vertical-align: middle;\n",
       "    }\n",
       "\n",
       "    .dataframe tbody tr th {\n",
       "        vertical-align: top;\n",
       "    }\n",
       "\n",
       "    .dataframe thead th {\n",
       "        text-align: right;\n",
       "    }\n",
       "</style>\n",
       "<table border=\"1\" class=\"dataframe\">\n",
       "  <thead>\n",
       "    <tr style=\"text-align: right;\">\n",
       "      <th></th>\n",
       "      <th>MID_POP_W</th>\n",
       "      <th>MID_POP_NW</th>\n",
       "    </tr>\n",
       "    <tr>\n",
       "      <th>NEW_MID_CODE</th>\n",
       "      <th></th>\n",
       "      <th></th>\n",
       "    </tr>\n",
       "  </thead>\n",
       "  <tbody>\n",
       "    <tr>\n",
       "      <td>BAM</td>\n",
       "      <td>0.469407</td>\n",
       "      <td>0.530593</td>\n",
       "    </tr>\n",
       "    <tr>\n",
       "      <td>BEM</td>\n",
       "      <td>0.599483</td>\n",
       "      <td>0.400517</td>\n",
       "    </tr>\n",
       "    <tr>\n",
       "      <td>BRM</td>\n",
       "      <td>0.819594</td>\n",
       "      <td>0.180406</td>\n",
       "    </tr>\n",
       "    <tr>\n",
       "      <td>ERM</td>\n",
       "      <td>0.536386</td>\n",
       "      <td>0.463614</td>\n",
       "    </tr>\n",
       "    <tr>\n",
       "      <td>FWS</td>\n",
       "      <td>0.391453</td>\n",
       "      <td>0.608547</td>\n",
       "    </tr>\n",
       "  </tbody>\n",
       "</table>\n",
       "</div>"
      ],
      "text/plain": [
       "              MID_POP_W  MID_POP_NW\n",
       "NEW_MID_CODE                       \n",
       "BAM            0.469407    0.530593\n",
       "BEM            0.599483    0.400517\n",
       "BRM            0.819594    0.180406\n",
       "ERM            0.536386    0.463614\n",
       "FWS            0.391453    0.608547"
      ]
     },
     "execution_count": 54,
     "metadata": {},
     "output_type": "execute_result"
    }
   ],
   "source": [
    "plan = 18\n",
    "sa_output_df = retrieve_output_data(algo, level, plan)\n",
    "new_spas_sa = pd.merge(spas, sa_output_df, on='SPA')\n",
    "new_spas_sa_grouped = group_data(new_spas_sa)\n",
    "# vals= np.concatenate([new_spas_sa_grouped.loc[i,:].values for i in interested_districts])\n",
    "# data_array[plan-1,:] = vals\n",
    "\n",
    "new_spas_sa_grouped.head()\n",
    "#To change everything down to SA or TS"
   ]
  },
  {
   "cell_type": "code",
   "execution_count": 55,
   "metadata": {
    "scrolled": true
   },
   "outputs": [
    {
     "name": "stdout",
     "output_type": "stream",
     "text": [
      "0.27356817564103403\n"
     ]
    },
    {
     "data": {
      "text/html": [
       "<div>\n",
       "<style scoped>\n",
       "    .dataframe tbody tr th:only-of-type {\n",
       "        vertical-align: middle;\n",
       "    }\n",
       "\n",
       "    .dataframe tbody tr th {\n",
       "        vertical-align: top;\n",
       "    }\n",
       "\n",
       "    .dataframe thead th {\n",
       "        text-align: right;\n",
       "    }\n",
       "</style>\n",
       "<table border=\"1\" class=\"dataframe\">\n",
       "  <thead>\n",
       "    <tr style=\"text-align: right;\">\n",
       "      <th></th>\n",
       "      <th>MID_POP_W</th>\n",
       "      <th>MID_POP_NW</th>\n",
       "      <th>ABS_DIFF</th>\n",
       "      <th>ENTROPY_IND</th>\n",
       "    </tr>\n",
       "    <tr>\n",
       "      <th>NEW_MID_CODE</th>\n",
       "      <th></th>\n",
       "      <th></th>\n",
       "      <th></th>\n",
       "      <th></th>\n",
       "    </tr>\n",
       "  </thead>\n",
       "  <tbody>\n",
       "  </tbody>\n",
       "</table>\n",
       "</div>"
      ],
      "text/plain": [
       "Empty DataFrame\n",
       "Columns: [MID_POP_W, MID_POP_NW, ABS_DIFF, ENTROPY_IND]\n",
       "Index: []"
      ]
     },
     "execution_count": 55,
     "metadata": {},
     "output_type": "execute_result"
    }
   ],
   "source": [
    "measurements_df, ind_diss_sa1 = get_measurements(new_spas_sa_grouped)\n",
    "segregated_abs_diff_sa18 = measurements_df[measurements_df['ABS_DIFF'] > 0.7]\n",
    "segregated_entropy_sa18 = measurements_df[measurements_df['ENTROPY_IND'] < 0.4]\n",
    "ind_diss.append(ind_diss_sa1)\n",
    "print(ind_diss_sa1)\n",
    "segregated_entropy_sa18"
   ]
  },
  {
   "cell_type": "markdown",
   "metadata": {},
   "source": [
    "## Output Plan 19"
   ]
  },
  {
   "cell_type": "markdown",
   "metadata": {},
   "source": [
    "### Simulated Annealing (SA)"
   ]
  },
  {
   "cell_type": "code",
   "execution_count": 56,
   "metadata": {},
   "outputs": [
    {
     "data": {
      "text/html": [
       "<div>\n",
       "<style scoped>\n",
       "    .dataframe tbody tr th:only-of-type {\n",
       "        vertical-align: middle;\n",
       "    }\n",
       "\n",
       "    .dataframe tbody tr th {\n",
       "        vertical-align: top;\n",
       "    }\n",
       "\n",
       "    .dataframe thead th {\n",
       "        text-align: right;\n",
       "    }\n",
       "</style>\n",
       "<table border=\"1\" class=\"dataframe\">\n",
       "  <thead>\n",
       "    <tr style=\"text-align: right;\">\n",
       "      <th></th>\n",
       "      <th>MID_POP_W</th>\n",
       "      <th>MID_POP_NW</th>\n",
       "    </tr>\n",
       "    <tr>\n",
       "      <th>NEW_MID_CODE</th>\n",
       "      <th></th>\n",
       "      <th></th>\n",
       "    </tr>\n",
       "  </thead>\n",
       "  <tbody>\n",
       "    <tr>\n",
       "      <td>BAM</td>\n",
       "      <td>0.460400</td>\n",
       "      <td>0.539600</td>\n",
       "    </tr>\n",
       "    <tr>\n",
       "      <td>BEM</td>\n",
       "      <td>0.599005</td>\n",
       "      <td>0.400995</td>\n",
       "    </tr>\n",
       "    <tr>\n",
       "      <td>BRM</td>\n",
       "      <td>0.806481</td>\n",
       "      <td>0.193519</td>\n",
       "    </tr>\n",
       "    <tr>\n",
       "      <td>ERM</td>\n",
       "      <td>0.490442</td>\n",
       "      <td>0.509558</td>\n",
       "    </tr>\n",
       "    <tr>\n",
       "      <td>FWS</td>\n",
       "      <td>0.407487</td>\n",
       "      <td>0.592513</td>\n",
       "    </tr>\n",
       "  </tbody>\n",
       "</table>\n",
       "</div>"
      ],
      "text/plain": [
       "              MID_POP_W  MID_POP_NW\n",
       "NEW_MID_CODE                       \n",
       "BAM            0.460400    0.539600\n",
       "BEM            0.599005    0.400995\n",
       "BRM            0.806481    0.193519\n",
       "ERM            0.490442    0.509558\n",
       "FWS            0.407487    0.592513"
      ]
     },
     "execution_count": 56,
     "metadata": {},
     "output_type": "execute_result"
    }
   ],
   "source": [
    "plan = 19\n",
    "sa_output_df = retrieve_output_data(algo, level, plan)\n",
    "new_spas_sa = pd.merge(spas, sa_output_df, on='SPA')\n",
    "new_spas_sa_grouped = group_data(new_spas_sa)\n",
    "# vals= np.concatenate([new_spas_sa_grouped.loc[i,:].values for i in interested_districts])\n",
    "# data_array[plan-1,:] = vals\n",
    "\n",
    "new_spas_sa_grouped.head()\n",
    "#To change everything down to SA or TS"
   ]
  },
  {
   "cell_type": "code",
   "execution_count": 57,
   "metadata": {
    "scrolled": true
   },
   "outputs": [
    {
     "name": "stdout",
     "output_type": "stream",
     "text": [
      "0.25251354007183213\n"
     ]
    },
    {
     "data": {
      "text/html": [
       "<div>\n",
       "<style scoped>\n",
       "    .dataframe tbody tr th:only-of-type {\n",
       "        vertical-align: middle;\n",
       "    }\n",
       "\n",
       "    .dataframe tbody tr th {\n",
       "        vertical-align: top;\n",
       "    }\n",
       "\n",
       "    .dataframe thead th {\n",
       "        text-align: right;\n",
       "    }\n",
       "</style>\n",
       "<table border=\"1\" class=\"dataframe\">\n",
       "  <thead>\n",
       "    <tr style=\"text-align: right;\">\n",
       "      <th></th>\n",
       "      <th>MID_POP_W</th>\n",
       "      <th>MID_POP_NW</th>\n",
       "      <th>ABS_DIFF</th>\n",
       "      <th>ENTROPY_IND</th>\n",
       "    </tr>\n",
       "    <tr>\n",
       "      <th>NEW_MID_CODE</th>\n",
       "      <th></th>\n",
       "      <th></th>\n",
       "      <th></th>\n",
       "      <th></th>\n",
       "    </tr>\n",
       "  </thead>\n",
       "  <tbody>\n",
       "  </tbody>\n",
       "</table>\n",
       "</div>"
      ],
      "text/plain": [
       "Empty DataFrame\n",
       "Columns: [MID_POP_W, MID_POP_NW, ABS_DIFF, ENTROPY_IND]\n",
       "Index: []"
      ]
     },
     "execution_count": 57,
     "metadata": {},
     "output_type": "execute_result"
    }
   ],
   "source": [
    "measurements_df, ind_diss_sa1 = get_measurements(new_spas_sa_grouped)\n",
    "segregated_abs_diff_sa19 = measurements_df[measurements_df['ABS_DIFF'] > 0.7]\n",
    "segregated_entropy_sa19 = measurements_df[measurements_df['ENTROPY_IND'] < 0.4]\n",
    "ind_diss.append(ind_diss_sa1)\n",
    "print(ind_diss_sa1)\n",
    "segregated_entropy_sa19"
   ]
  },
  {
   "cell_type": "markdown",
   "metadata": {},
   "source": [
    "## Output Plan 20"
   ]
  },
  {
   "cell_type": "markdown",
   "metadata": {},
   "source": [
    "### Simulated Annealing (SA)"
   ]
  },
  {
   "cell_type": "code",
   "execution_count": 58,
   "metadata": {},
   "outputs": [
    {
     "data": {
      "text/html": [
       "<div>\n",
       "<style scoped>\n",
       "    .dataframe tbody tr th:only-of-type {\n",
       "        vertical-align: middle;\n",
       "    }\n",
       "\n",
       "    .dataframe tbody tr th {\n",
       "        vertical-align: top;\n",
       "    }\n",
       "\n",
       "    .dataframe thead th {\n",
       "        text-align: right;\n",
       "    }\n",
       "</style>\n",
       "<table border=\"1\" class=\"dataframe\">\n",
       "  <thead>\n",
       "    <tr style=\"text-align: right;\">\n",
       "      <th></th>\n",
       "      <th>MID_POP_W</th>\n",
       "      <th>MID_POP_NW</th>\n",
       "    </tr>\n",
       "    <tr>\n",
       "      <th>NEW_MID_CODE</th>\n",
       "      <th></th>\n",
       "      <th></th>\n",
       "    </tr>\n",
       "  </thead>\n",
       "  <tbody>\n",
       "    <tr>\n",
       "      <td>BAM</td>\n",
       "      <td>0.568338</td>\n",
       "      <td>0.431662</td>\n",
       "    </tr>\n",
       "    <tr>\n",
       "      <td>BEM</td>\n",
       "      <td>0.597206</td>\n",
       "      <td>0.402794</td>\n",
       "    </tr>\n",
       "    <tr>\n",
       "      <td>BRM</td>\n",
       "      <td>0.825794</td>\n",
       "      <td>0.174206</td>\n",
       "    </tr>\n",
       "    <tr>\n",
       "      <td>ERM</td>\n",
       "      <td>0.489566</td>\n",
       "      <td>0.510434</td>\n",
       "    </tr>\n",
       "    <tr>\n",
       "      <td>FWS</td>\n",
       "      <td>0.507740</td>\n",
       "      <td>0.492260</td>\n",
       "    </tr>\n",
       "  </tbody>\n",
       "</table>\n",
       "</div>"
      ],
      "text/plain": [
       "              MID_POP_W  MID_POP_NW\n",
       "NEW_MID_CODE                       \n",
       "BAM            0.568338    0.431662\n",
       "BEM            0.597206    0.402794\n",
       "BRM            0.825794    0.174206\n",
       "ERM            0.489566    0.510434\n",
       "FWS            0.507740    0.492260"
      ]
     },
     "execution_count": 58,
     "metadata": {},
     "output_type": "execute_result"
    }
   ],
   "source": [
    "plan = 20\n",
    "sa_output_df = retrieve_output_data(algo, level, plan)\n",
    "new_spas_sa = pd.merge(spas, sa_output_df, on='SPA')\n",
    "new_spas_sa_grouped = group_data(new_spas_sa)\n",
    "# vals= np.concatenate([new_spas_sa_grouped.loc[i,:].values for i in interested_districts])\n",
    "# data_array[plan-1,:] = vals\n",
    "\n",
    "new_spas_sa_grouped.head()\n",
    "#To change everything down to SA or TS"
   ]
  },
  {
   "cell_type": "code",
   "execution_count": 59,
   "metadata": {
    "scrolled": true
   },
   "outputs": [
    {
     "name": "stdout",
     "output_type": "stream",
     "text": [
      "0.22866395016836777\n"
     ]
    },
    {
     "data": {
      "text/html": [
       "<div>\n",
       "<style scoped>\n",
       "    .dataframe tbody tr th:only-of-type {\n",
       "        vertical-align: middle;\n",
       "    }\n",
       "\n",
       "    .dataframe tbody tr th {\n",
       "        vertical-align: top;\n",
       "    }\n",
       "\n",
       "    .dataframe thead th {\n",
       "        text-align: right;\n",
       "    }\n",
       "</style>\n",
       "<table border=\"1\" class=\"dataframe\">\n",
       "  <thead>\n",
       "    <tr style=\"text-align: right;\">\n",
       "      <th></th>\n",
       "      <th>MID_POP_W</th>\n",
       "      <th>MID_POP_NW</th>\n",
       "      <th>ABS_DIFF</th>\n",
       "      <th>ENTROPY_IND</th>\n",
       "    </tr>\n",
       "    <tr>\n",
       "      <th>NEW_MID_CODE</th>\n",
       "      <th></th>\n",
       "      <th></th>\n",
       "      <th></th>\n",
       "      <th></th>\n",
       "    </tr>\n",
       "  </thead>\n",
       "  <tbody>\n",
       "  </tbody>\n",
       "</table>\n",
       "</div>"
      ],
      "text/plain": [
       "Empty DataFrame\n",
       "Columns: [MID_POP_W, MID_POP_NW, ABS_DIFF, ENTROPY_IND]\n",
       "Index: []"
      ]
     },
     "execution_count": 59,
     "metadata": {},
     "output_type": "execute_result"
    }
   ],
   "source": [
    "measurements_df, ind_diss_sa1 = get_measurements(new_spas_sa_grouped)\n",
    "segregated_abs_diff_sa20 = measurements_df[measurements_df['ABS_DIFF'] > 0.7]\n",
    "segregated_entropy_sa20 = measurements_df[measurements_df['ENTROPY_IND'] < 0.4]\n",
    "ind_diss.append(ind_diss_sa1)\n",
    "print(ind_diss_sa1)\n",
    "segregated_entropy_sa20"
   ]
  },
  {
   "cell_type": "markdown",
   "metadata": {},
   "source": [
    "## Output Plan 21"
   ]
  },
  {
   "cell_type": "markdown",
   "metadata": {},
   "source": [
    "### Simulated Annealing (SA)"
   ]
  },
  {
   "cell_type": "code",
   "execution_count": 60,
   "metadata": {},
   "outputs": [
    {
     "data": {
      "text/html": [
       "<div>\n",
       "<style scoped>\n",
       "    .dataframe tbody tr th:only-of-type {\n",
       "        vertical-align: middle;\n",
       "    }\n",
       "\n",
       "    .dataframe tbody tr th {\n",
       "        vertical-align: top;\n",
       "    }\n",
       "\n",
       "    .dataframe thead th {\n",
       "        text-align: right;\n",
       "    }\n",
       "</style>\n",
       "<table border=\"1\" class=\"dataframe\">\n",
       "  <thead>\n",
       "    <tr style=\"text-align: right;\">\n",
       "      <th></th>\n",
       "      <th>MID_POP_W</th>\n",
       "      <th>MID_POP_NW</th>\n",
       "    </tr>\n",
       "    <tr>\n",
       "      <th>NEW_MID_CODE</th>\n",
       "      <th></th>\n",
       "      <th></th>\n",
       "    </tr>\n",
       "  </thead>\n",
       "  <tbody>\n",
       "    <tr>\n",
       "      <td>BAM</td>\n",
       "      <td>0.393939</td>\n",
       "      <td>0.606061</td>\n",
       "    </tr>\n",
       "    <tr>\n",
       "      <td>BEM</td>\n",
       "      <td>0.522161</td>\n",
       "      <td>0.477839</td>\n",
       "    </tr>\n",
       "    <tr>\n",
       "      <td>BRM</td>\n",
       "      <td>0.796444</td>\n",
       "      <td>0.203556</td>\n",
       "    </tr>\n",
       "    <tr>\n",
       "      <td>ERM</td>\n",
       "      <td>0.516981</td>\n",
       "      <td>0.483019</td>\n",
       "    </tr>\n",
       "    <tr>\n",
       "      <td>FWS</td>\n",
       "      <td>0.524712</td>\n",
       "      <td>0.475288</td>\n",
       "    </tr>\n",
       "  </tbody>\n",
       "</table>\n",
       "</div>"
      ],
      "text/plain": [
       "              MID_POP_W  MID_POP_NW\n",
       "NEW_MID_CODE                       \n",
       "BAM            0.393939    0.606061\n",
       "BEM            0.522161    0.477839\n",
       "BRM            0.796444    0.203556\n",
       "ERM            0.516981    0.483019\n",
       "FWS            0.524712    0.475288"
      ]
     },
     "execution_count": 60,
     "metadata": {},
     "output_type": "execute_result"
    }
   ],
   "source": [
    "plan = 21\n",
    "sa_output_df = retrieve_output_data(algo, level, plan)\n",
    "new_spas_sa = pd.merge(spas, sa_output_df, on='SPA')\n",
    "new_spas_sa_grouped = group_data(new_spas_sa)\n",
    "# vals= np.concatenate([new_spas_sa_grouped.loc[i,:].values for i in interested_districts])\n",
    "# data_array[plan-1,:] = vals\n",
    "\n",
    "new_spas_sa_grouped.head()\n",
    "#To change everything down to SA or TS"
   ]
  },
  {
   "cell_type": "code",
   "execution_count": 61,
   "metadata": {
    "scrolled": true
   },
   "outputs": [
    {
     "name": "stdout",
     "output_type": "stream",
     "text": [
      "0.22533402371504496\n"
     ]
    },
    {
     "data": {
      "text/html": [
       "<div>\n",
       "<style scoped>\n",
       "    .dataframe tbody tr th:only-of-type {\n",
       "        vertical-align: middle;\n",
       "    }\n",
       "\n",
       "    .dataframe tbody tr th {\n",
       "        vertical-align: top;\n",
       "    }\n",
       "\n",
       "    .dataframe thead th {\n",
       "        text-align: right;\n",
       "    }\n",
       "</style>\n",
       "<table border=\"1\" class=\"dataframe\">\n",
       "  <thead>\n",
       "    <tr style=\"text-align: right;\">\n",
       "      <th></th>\n",
       "      <th>MID_POP_W</th>\n",
       "      <th>MID_POP_NW</th>\n",
       "      <th>ABS_DIFF</th>\n",
       "      <th>ENTROPY_IND</th>\n",
       "    </tr>\n",
       "    <tr>\n",
       "      <th>NEW_MID_CODE</th>\n",
       "      <th></th>\n",
       "      <th></th>\n",
       "      <th></th>\n",
       "      <th></th>\n",
       "    </tr>\n",
       "  </thead>\n",
       "  <tbody>\n",
       "  </tbody>\n",
       "</table>\n",
       "</div>"
      ],
      "text/plain": [
       "Empty DataFrame\n",
       "Columns: [MID_POP_W, MID_POP_NW, ABS_DIFF, ENTROPY_IND]\n",
       "Index: []"
      ]
     },
     "execution_count": 61,
     "metadata": {},
     "output_type": "execute_result"
    }
   ],
   "source": [
    "measurements_df, ind_diss_sa1 = get_measurements(new_spas_sa_grouped)\n",
    "segregated_abs_diff_sa21 = measurements_df[measurements_df['ABS_DIFF'] > 0.7]\n",
    "segregated_entropy_sa21 = measurements_df[measurements_df['ENTROPY_IND'] < 0.4]\n",
    "ind_diss.append(ind_diss_sa1)\n",
    "print(ind_diss_sa1)\n",
    "segregated_entropy_sa21"
   ]
  },
  {
   "cell_type": "markdown",
   "metadata": {},
   "source": [
    "## Output Plan 22"
   ]
  },
  {
   "cell_type": "markdown",
   "metadata": {},
   "source": [
    "### Simulated Annealing (SA)"
   ]
  },
  {
   "cell_type": "code",
   "execution_count": 62,
   "metadata": {},
   "outputs": [
    {
     "data": {
      "text/html": [
       "<div>\n",
       "<style scoped>\n",
       "    .dataframe tbody tr th:only-of-type {\n",
       "        vertical-align: middle;\n",
       "    }\n",
       "\n",
       "    .dataframe tbody tr th {\n",
       "        vertical-align: top;\n",
       "    }\n",
       "\n",
       "    .dataframe thead th {\n",
       "        text-align: right;\n",
       "    }\n",
       "</style>\n",
       "<table border=\"1\" class=\"dataframe\">\n",
       "  <thead>\n",
       "    <tr style=\"text-align: right;\">\n",
       "      <th></th>\n",
       "      <th>MID_POP_W</th>\n",
       "      <th>MID_POP_NW</th>\n",
       "    </tr>\n",
       "    <tr>\n",
       "      <th>NEW_MID_CODE</th>\n",
       "      <th></th>\n",
       "      <th></th>\n",
       "    </tr>\n",
       "  </thead>\n",
       "  <tbody>\n",
       "    <tr>\n",
       "      <td>BAM</td>\n",
       "      <td>0.542918</td>\n",
       "      <td>0.457082</td>\n",
       "    </tr>\n",
       "    <tr>\n",
       "      <td>BEM</td>\n",
       "      <td>0.606089</td>\n",
       "      <td>0.393911</td>\n",
       "    </tr>\n",
       "    <tr>\n",
       "      <td>BRM</td>\n",
       "      <td>0.802579</td>\n",
       "      <td>0.197421</td>\n",
       "    </tr>\n",
       "    <tr>\n",
       "      <td>ERM</td>\n",
       "      <td>0.503261</td>\n",
       "      <td>0.496739</td>\n",
       "    </tr>\n",
       "    <tr>\n",
       "      <td>FWS</td>\n",
       "      <td>0.388268</td>\n",
       "      <td>0.611732</td>\n",
       "    </tr>\n",
       "  </tbody>\n",
       "</table>\n",
       "</div>"
      ],
      "text/plain": [
       "              MID_POP_W  MID_POP_NW\n",
       "NEW_MID_CODE                       \n",
       "BAM            0.542918    0.457082\n",
       "BEM            0.606089    0.393911\n",
       "BRM            0.802579    0.197421\n",
       "ERM            0.503261    0.496739\n",
       "FWS            0.388268    0.611732"
      ]
     },
     "execution_count": 62,
     "metadata": {},
     "output_type": "execute_result"
    }
   ],
   "source": [
    "plan = 22\n",
    "sa_output_df = retrieve_output_data(algo, level, plan)\n",
    "new_spas_sa = pd.merge(spas, sa_output_df, on='SPA')\n",
    "new_spas_sa_grouped = group_data(new_spas_sa)\n",
    "# vals= np.concatenate([new_spas_sa_grouped.loc[i,:].values for i in interested_districts])\n",
    "# data_array[plan-1,:] = vals\n",
    "\n",
    "new_spas_sa_grouped.head()\n",
    "#To change everything down to SA or TS"
   ]
  },
  {
   "cell_type": "code",
   "execution_count": 63,
   "metadata": {
    "scrolled": true
   },
   "outputs": [
    {
     "name": "stdout",
     "output_type": "stream",
     "text": [
      "0.2610493506067412\n"
     ]
    },
    {
     "data": {
      "text/html": [
       "<div>\n",
       "<style scoped>\n",
       "    .dataframe tbody tr th:only-of-type {\n",
       "        vertical-align: middle;\n",
       "    }\n",
       "\n",
       "    .dataframe tbody tr th {\n",
       "        vertical-align: top;\n",
       "    }\n",
       "\n",
       "    .dataframe thead th {\n",
       "        text-align: right;\n",
       "    }\n",
       "</style>\n",
       "<table border=\"1\" class=\"dataframe\">\n",
       "  <thead>\n",
       "    <tr style=\"text-align: right;\">\n",
       "      <th></th>\n",
       "      <th>MID_POP_W</th>\n",
       "      <th>MID_POP_NW</th>\n",
       "      <th>ABS_DIFF</th>\n",
       "      <th>ENTROPY_IND</th>\n",
       "    </tr>\n",
       "    <tr>\n",
       "      <th>NEW_MID_CODE</th>\n",
       "      <th></th>\n",
       "      <th></th>\n",
       "      <th></th>\n",
       "      <th></th>\n",
       "    </tr>\n",
       "  </thead>\n",
       "  <tbody>\n",
       "  </tbody>\n",
       "</table>\n",
       "</div>"
      ],
      "text/plain": [
       "Empty DataFrame\n",
       "Columns: [MID_POP_W, MID_POP_NW, ABS_DIFF, ENTROPY_IND]\n",
       "Index: []"
      ]
     },
     "execution_count": 63,
     "metadata": {},
     "output_type": "execute_result"
    }
   ],
   "source": [
    "measurements_df, ind_diss_sa1 = get_measurements(new_spas_sa_grouped)\n",
    "segregated_abs_diff_sa22 = measurements_df[measurements_df['ABS_DIFF'] > 0.7]\n",
    "segregated_entropy_sa22 = measurements_df[measurements_df['ENTROPY_IND'] < 0.4]\n",
    "ind_diss.append(ind_diss_sa1)\n",
    "print(ind_diss_sa1)\n",
    "segregated_entropy_sa22"
   ]
  },
  {
   "cell_type": "markdown",
   "metadata": {},
   "source": [
    "## Output Plan 23"
   ]
  },
  {
   "cell_type": "markdown",
   "metadata": {},
   "source": [
    "### Simulated Annealing (SA)"
   ]
  },
  {
   "cell_type": "code",
   "execution_count": 64,
   "metadata": {},
   "outputs": [
    {
     "data": {
      "text/html": [
       "<div>\n",
       "<style scoped>\n",
       "    .dataframe tbody tr th:only-of-type {\n",
       "        vertical-align: middle;\n",
       "    }\n",
       "\n",
       "    .dataframe tbody tr th {\n",
       "        vertical-align: top;\n",
       "    }\n",
       "\n",
       "    .dataframe thead th {\n",
       "        text-align: right;\n",
       "    }\n",
       "</style>\n",
       "<table border=\"1\" class=\"dataframe\">\n",
       "  <thead>\n",
       "    <tr style=\"text-align: right;\">\n",
       "      <th></th>\n",
       "      <th>MID_POP_W</th>\n",
       "      <th>MID_POP_NW</th>\n",
       "    </tr>\n",
       "    <tr>\n",
       "      <th>NEW_MID_CODE</th>\n",
       "      <th></th>\n",
       "      <th></th>\n",
       "    </tr>\n",
       "  </thead>\n",
       "  <tbody>\n",
       "    <tr>\n",
       "      <td>BAM</td>\n",
       "      <td>0.374199</td>\n",
       "      <td>0.625801</td>\n",
       "    </tr>\n",
       "    <tr>\n",
       "      <td>BEM</td>\n",
       "      <td>0.618314</td>\n",
       "      <td>0.381686</td>\n",
       "    </tr>\n",
       "    <tr>\n",
       "      <td>BRM</td>\n",
       "      <td>0.801164</td>\n",
       "      <td>0.198836</td>\n",
       "    </tr>\n",
       "    <tr>\n",
       "      <td>ERM</td>\n",
       "      <td>0.543850</td>\n",
       "      <td>0.456150</td>\n",
       "    </tr>\n",
       "    <tr>\n",
       "      <td>FWS</td>\n",
       "      <td>0.482963</td>\n",
       "      <td>0.517037</td>\n",
       "    </tr>\n",
       "  </tbody>\n",
       "</table>\n",
       "</div>"
      ],
      "text/plain": [
       "              MID_POP_W  MID_POP_NW\n",
       "NEW_MID_CODE                       \n",
       "BAM            0.374199    0.625801\n",
       "BEM            0.618314    0.381686\n",
       "BRM            0.801164    0.198836\n",
       "ERM            0.543850    0.456150\n",
       "FWS            0.482963    0.517037"
      ]
     },
     "execution_count": 64,
     "metadata": {},
     "output_type": "execute_result"
    }
   ],
   "source": [
    "plan = 23\n",
    "sa_output_df = retrieve_output_data(algo, level, plan)\n",
    "new_spas_sa = pd.merge(spas, sa_output_df, on='SPA')\n",
    "new_spas_sa_grouped = group_data(new_spas_sa)\n",
    "# vals= np.concatenate([new_spas_sa_grouped.loc[i,:].values for i in interested_districts])\n",
    "# data_array[plan-1,:] = vals\n",
    "\n",
    "new_spas_sa_grouped.head()\n",
    "#To change everything down to SA or TS"
   ]
  },
  {
   "cell_type": "code",
   "execution_count": 65,
   "metadata": {
    "scrolled": true
   },
   "outputs": [
    {
     "name": "stdout",
     "output_type": "stream",
     "text": [
      "0.2557985315663538\n"
     ]
    },
    {
     "data": {
      "text/html": [
       "<div>\n",
       "<style scoped>\n",
       "    .dataframe tbody tr th:only-of-type {\n",
       "        vertical-align: middle;\n",
       "    }\n",
       "\n",
       "    .dataframe tbody tr th {\n",
       "        vertical-align: top;\n",
       "    }\n",
       "\n",
       "    .dataframe thead th {\n",
       "        text-align: right;\n",
       "    }\n",
       "</style>\n",
       "<table border=\"1\" class=\"dataframe\">\n",
       "  <thead>\n",
       "    <tr style=\"text-align: right;\">\n",
       "      <th></th>\n",
       "      <th>MID_POP_W</th>\n",
       "      <th>MID_POP_NW</th>\n",
       "      <th>ABS_DIFF</th>\n",
       "      <th>ENTROPY_IND</th>\n",
       "    </tr>\n",
       "    <tr>\n",
       "      <th>NEW_MID_CODE</th>\n",
       "      <th></th>\n",
       "      <th></th>\n",
       "      <th></th>\n",
       "      <th></th>\n",
       "    </tr>\n",
       "  </thead>\n",
       "  <tbody>\n",
       "  </tbody>\n",
       "</table>\n",
       "</div>"
      ],
      "text/plain": [
       "Empty DataFrame\n",
       "Columns: [MID_POP_W, MID_POP_NW, ABS_DIFF, ENTROPY_IND]\n",
       "Index: []"
      ]
     },
     "execution_count": 65,
     "metadata": {},
     "output_type": "execute_result"
    }
   ],
   "source": [
    "measurements_df, ind_diss_sa1 = get_measurements(new_spas_sa_grouped)\n",
    "segregated_abs_diff_sa23 = measurements_df[measurements_df['ABS_DIFF'] > 0.7]\n",
    "segregated_entropy_sa23 = measurements_df[measurements_df['ENTROPY_IND'] < 0.4]\n",
    "ind_diss.append(ind_diss_sa1)\n",
    "print(ind_diss_sa1)\n",
    "segregated_entropy_sa23"
   ]
  },
  {
   "cell_type": "markdown",
   "metadata": {},
   "source": [
    "## Output Plan 24"
   ]
  },
  {
   "cell_type": "markdown",
   "metadata": {},
   "source": [
    "### Simulated Annealing (SA)"
   ]
  },
  {
   "cell_type": "code",
   "execution_count": 66,
   "metadata": {},
   "outputs": [
    {
     "data": {
      "text/html": [
       "<div>\n",
       "<style scoped>\n",
       "    .dataframe tbody tr th:only-of-type {\n",
       "        vertical-align: middle;\n",
       "    }\n",
       "\n",
       "    .dataframe tbody tr th {\n",
       "        vertical-align: top;\n",
       "    }\n",
       "\n",
       "    .dataframe thead th {\n",
       "        text-align: right;\n",
       "    }\n",
       "</style>\n",
       "<table border=\"1\" class=\"dataframe\">\n",
       "  <thead>\n",
       "    <tr style=\"text-align: right;\">\n",
       "      <th></th>\n",
       "      <th>MID_POP_W</th>\n",
       "      <th>MID_POP_NW</th>\n",
       "    </tr>\n",
       "    <tr>\n",
       "      <th>NEW_MID_CODE</th>\n",
       "      <th></th>\n",
       "      <th></th>\n",
       "    </tr>\n",
       "  </thead>\n",
       "  <tbody>\n",
       "    <tr>\n",
       "      <td>BAM</td>\n",
       "      <td>0.527378</td>\n",
       "      <td>0.472622</td>\n",
       "    </tr>\n",
       "    <tr>\n",
       "      <td>BEM</td>\n",
       "      <td>0.634213</td>\n",
       "      <td>0.365787</td>\n",
       "    </tr>\n",
       "    <tr>\n",
       "      <td>BRM</td>\n",
       "      <td>0.806599</td>\n",
       "      <td>0.193401</td>\n",
       "    </tr>\n",
       "    <tr>\n",
       "      <td>ERM</td>\n",
       "      <td>0.454259</td>\n",
       "      <td>0.545741</td>\n",
       "    </tr>\n",
       "    <tr>\n",
       "      <td>FWS</td>\n",
       "      <td>0.507493</td>\n",
       "      <td>0.492507</td>\n",
       "    </tr>\n",
       "  </tbody>\n",
       "</table>\n",
       "</div>"
      ],
      "text/plain": [
       "              MID_POP_W  MID_POP_NW\n",
       "NEW_MID_CODE                       \n",
       "BAM            0.527378    0.472622\n",
       "BEM            0.634213    0.365787\n",
       "BRM            0.806599    0.193401\n",
       "ERM            0.454259    0.545741\n",
       "FWS            0.507493    0.492507"
      ]
     },
     "execution_count": 66,
     "metadata": {},
     "output_type": "execute_result"
    }
   ],
   "source": [
    "plan = 24\n",
    "sa_output_df = retrieve_output_data(algo, level, plan)\n",
    "new_spas_sa = pd.merge(spas, sa_output_df, on='SPA')\n",
    "new_spas_sa_grouped = group_data(new_spas_sa)\n",
    "# vals= np.concatenate([new_spas_sa_grouped.loc[i,:].values for i in interested_districts])\n",
    "# data_array[plan-1,:] = vals\n",
    "\n",
    "new_spas_sa_grouped.head()\n",
    "#To change everything down to SA or TS"
   ]
  },
  {
   "cell_type": "code",
   "execution_count": 67,
   "metadata": {
    "scrolled": true
   },
   "outputs": [
    {
     "name": "stdout",
     "output_type": "stream",
     "text": [
      "0.2422511225792635\n"
     ]
    },
    {
     "data": {
      "text/html": [
       "<div>\n",
       "<style scoped>\n",
       "    .dataframe tbody tr th:only-of-type {\n",
       "        vertical-align: middle;\n",
       "    }\n",
       "\n",
       "    .dataframe tbody tr th {\n",
       "        vertical-align: top;\n",
       "    }\n",
       "\n",
       "    .dataframe thead th {\n",
       "        text-align: right;\n",
       "    }\n",
       "</style>\n",
       "<table border=\"1\" class=\"dataframe\">\n",
       "  <thead>\n",
       "    <tr style=\"text-align: right;\">\n",
       "      <th></th>\n",
       "      <th>MID_POP_W</th>\n",
       "      <th>MID_POP_NW</th>\n",
       "      <th>ABS_DIFF</th>\n",
       "      <th>ENTROPY_IND</th>\n",
       "    </tr>\n",
       "    <tr>\n",
       "      <th>NEW_MID_CODE</th>\n",
       "      <th></th>\n",
       "      <th></th>\n",
       "      <th></th>\n",
       "      <th></th>\n",
       "    </tr>\n",
       "  </thead>\n",
       "  <tbody>\n",
       "  </tbody>\n",
       "</table>\n",
       "</div>"
      ],
      "text/plain": [
       "Empty DataFrame\n",
       "Columns: [MID_POP_W, MID_POP_NW, ABS_DIFF, ENTROPY_IND]\n",
       "Index: []"
      ]
     },
     "execution_count": 67,
     "metadata": {},
     "output_type": "execute_result"
    }
   ],
   "source": [
    "measurements_df, ind_diss_sa1 = get_measurements(new_spas_sa_grouped)\n",
    "segregated_abs_diff_sa24 = measurements_df[measurements_df['ABS_DIFF'] > 0.7]\n",
    "segregated_entropy_sa24 = measurements_df[measurements_df['ENTROPY_IND'] < 0.4]\n",
    "ind_diss.append(ind_diss_sa1)\n",
    "print(ind_diss_sa1)\n",
    "segregated_entropy_sa24"
   ]
  },
  {
   "cell_type": "markdown",
   "metadata": {},
   "source": [
    "## Output Plan 25"
   ]
  },
  {
   "cell_type": "markdown",
   "metadata": {},
   "source": [
    "### Simulated Annealing (SA)"
   ]
  },
  {
   "cell_type": "code",
   "execution_count": 68,
   "metadata": {},
   "outputs": [
    {
     "data": {
      "text/html": [
       "<div>\n",
       "<style scoped>\n",
       "    .dataframe tbody tr th:only-of-type {\n",
       "        vertical-align: middle;\n",
       "    }\n",
       "\n",
       "    .dataframe tbody tr th {\n",
       "        vertical-align: top;\n",
       "    }\n",
       "\n",
       "    .dataframe thead th {\n",
       "        text-align: right;\n",
       "    }\n",
       "</style>\n",
       "<table border=\"1\" class=\"dataframe\">\n",
       "  <thead>\n",
       "    <tr style=\"text-align: right;\">\n",
       "      <th></th>\n",
       "      <th>MID_POP_W</th>\n",
       "      <th>MID_POP_NW</th>\n",
       "    </tr>\n",
       "    <tr>\n",
       "      <th>NEW_MID_CODE</th>\n",
       "      <th></th>\n",
       "      <th></th>\n",
       "    </tr>\n",
       "  </thead>\n",
       "  <tbody>\n",
       "    <tr>\n",
       "      <td>BAM</td>\n",
       "      <td>0.664439</td>\n",
       "      <td>0.335561</td>\n",
       "    </tr>\n",
       "    <tr>\n",
       "      <td>BEM</td>\n",
       "      <td>0.571042</td>\n",
       "      <td>0.428958</td>\n",
       "    </tr>\n",
       "    <tr>\n",
       "      <td>BRM</td>\n",
       "      <td>0.796964</td>\n",
       "      <td>0.203036</td>\n",
       "    </tr>\n",
       "    <tr>\n",
       "      <td>ERM</td>\n",
       "      <td>0.509988</td>\n",
       "      <td>0.490012</td>\n",
       "    </tr>\n",
       "    <tr>\n",
       "      <td>FWS</td>\n",
       "      <td>0.520599</td>\n",
       "      <td>0.479401</td>\n",
       "    </tr>\n",
       "  </tbody>\n",
       "</table>\n",
       "</div>"
      ],
      "text/plain": [
       "              MID_POP_W  MID_POP_NW\n",
       "NEW_MID_CODE                       \n",
       "BAM            0.664439    0.335561\n",
       "BEM            0.571042    0.428958\n",
       "BRM            0.796964    0.203036\n",
       "ERM            0.509988    0.490012\n",
       "FWS            0.520599    0.479401"
      ]
     },
     "execution_count": 68,
     "metadata": {},
     "output_type": "execute_result"
    }
   ],
   "source": [
    "plan = 25\n",
    "sa_output_df = retrieve_output_data(algo, level, plan)\n",
    "new_spas_sa = pd.merge(spas, sa_output_df, on='SPA')\n",
    "new_spas_sa_grouped = group_data(new_spas_sa)\n",
    "# vals= np.concatenate([new_spas_sa_grouped.loc[i,:].values for i in interested_districts])\n",
    "# data_array[plan-1,:] = vals\n",
    "\n",
    "new_spas_sa_grouped.head()\n",
    "#To change everything down to SA or TS"
   ]
  },
  {
   "cell_type": "code",
   "execution_count": 69,
   "metadata": {
    "scrolled": true
   },
   "outputs": [
    {
     "name": "stdout",
     "output_type": "stream",
     "text": [
      "0.25953402517000707\n"
     ]
    },
    {
     "data": {
      "text/html": [
       "<div>\n",
       "<style scoped>\n",
       "    .dataframe tbody tr th:only-of-type {\n",
       "        vertical-align: middle;\n",
       "    }\n",
       "\n",
       "    .dataframe tbody tr th {\n",
       "        vertical-align: top;\n",
       "    }\n",
       "\n",
       "    .dataframe thead th {\n",
       "        text-align: right;\n",
       "    }\n",
       "</style>\n",
       "<table border=\"1\" class=\"dataframe\">\n",
       "  <thead>\n",
       "    <tr style=\"text-align: right;\">\n",
       "      <th></th>\n",
       "      <th>MID_POP_W</th>\n",
       "      <th>MID_POP_NW</th>\n",
       "      <th>ABS_DIFF</th>\n",
       "      <th>ENTROPY_IND</th>\n",
       "    </tr>\n",
       "    <tr>\n",
       "      <th>NEW_MID_CODE</th>\n",
       "      <th></th>\n",
       "      <th></th>\n",
       "      <th></th>\n",
       "      <th></th>\n",
       "    </tr>\n",
       "  </thead>\n",
       "  <tbody>\n",
       "  </tbody>\n",
       "</table>\n",
       "</div>"
      ],
      "text/plain": [
       "Empty DataFrame\n",
       "Columns: [MID_POP_W, MID_POP_NW, ABS_DIFF, ENTROPY_IND]\n",
       "Index: []"
      ]
     },
     "execution_count": 69,
     "metadata": {},
     "output_type": "execute_result"
    }
   ],
   "source": [
    "measurements_df, ind_diss_sa1 = get_measurements(new_spas_sa_grouped)\n",
    "segregated_abs_diff_sa25 = measurements_df[measurements_df['ABS_DIFF'] > 0.7]\n",
    "segregated_entropy_sa25 = measurements_df[measurements_df['ENTROPY_IND'] < 0.4]\n",
    "ind_diss.append(ind_diss_sa1)\n",
    "print(ind_diss_sa1)\n",
    "segregated_entropy_sa25"
   ]
  },
  {
   "cell_type": "markdown",
   "metadata": {},
   "source": [
    "## Conclusions for New Data after Algorithms"
   ]
  },
  {
   "cell_type": "markdown",
   "metadata": {},
   "source": [
    "\n",
    "Overall, using the dissimilarity index (~ 0.2), there does not appear to be any segregation within the districts.\n",
    "\n",
    "Individually, using the absolute differences (0.7 cut-off) and entropy index (0.4 cut-off), there seems to be no evidence of segregation in any districts. \n"
   ]
  },
  {
   "cell_type": "code",
   "execution_count": 70,
   "metadata": {},
   "outputs": [
    {
     "name": "stdout",
     "output_type": "stream",
     "text": [
      "Empty DataFrame\n",
      "Columns: [MID_POP_W, MID_POP_NW, ABS_DIFF, ENTROPY_IND]\n",
      "Index: []\n",
      "              MID_POP_W  MID_POP_NW  ABS_DIFF  ENTROPY_IND\n",
      "NEW_MID_CODE                                              \n",
      "STM            0.136523    0.863477  0.726954     0.398601\n",
      "Empty DataFrame\n",
      "Columns: [MID_POP_W, MID_POP_NW, ABS_DIFF, ENTROPY_IND]\n",
      "Index: []\n",
      "Empty DataFrame\n",
      "Columns: [MID_POP_W, MID_POP_NW, ABS_DIFF, ENTROPY_IND]\n",
      "Index: []\n",
      "Empty DataFrame\n",
      "Columns: [MID_POP_W, MID_POP_NW, ABS_DIFF, ENTROPY_IND]\n",
      "Index: []\n",
      "Empty DataFrame\n",
      "Columns: [MID_POP_W, MID_POP_NW, ABS_DIFF, ENTROPY_IND]\n",
      "Index: []\n",
      "Empty DataFrame\n",
      "Columns: [MID_POP_W, MID_POP_NW, ABS_DIFF, ENTROPY_IND]\n",
      "Index: []\n",
      "Empty DataFrame\n",
      "Columns: [MID_POP_W, MID_POP_NW, ABS_DIFF, ENTROPY_IND]\n",
      "Index: []\n",
      "Empty DataFrame\n",
      "Columns: [MID_POP_W, MID_POP_NW, ABS_DIFF, ENTROPY_IND]\n",
      "Index: []\n",
      "Empty DataFrame\n",
      "Columns: [MID_POP_W, MID_POP_NW, ABS_DIFF, ENTROPY_IND]\n",
      "Index: []\n",
      "Empty DataFrame\n",
      "Columns: [MID_POP_W, MID_POP_NW, ABS_DIFF, ENTROPY_IND]\n",
      "Index: []\n",
      "Empty DataFrame\n",
      "Columns: [MID_POP_W, MID_POP_NW, ABS_DIFF, ENTROPY_IND]\n",
      "Index: []\n",
      "Empty DataFrame\n",
      "Columns: [MID_POP_W, MID_POP_NW, ABS_DIFF, ENTROPY_IND]\n",
      "Index: []\n",
      "Empty DataFrame\n",
      "Columns: [MID_POP_W, MID_POP_NW, ABS_DIFF, ENTROPY_IND]\n",
      "Index: []\n",
      "Empty DataFrame\n",
      "Columns: [MID_POP_W, MID_POP_NW, ABS_DIFF, ENTROPY_IND]\n",
      "Index: []\n",
      "Empty DataFrame\n",
      "Columns: [MID_POP_W, MID_POP_NW, ABS_DIFF, ENTROPY_IND]\n",
      "Index: []\n",
      "Empty DataFrame\n",
      "Columns: [MID_POP_W, MID_POP_NW, ABS_DIFF, ENTROPY_IND]\n",
      "Index: []\n",
      "Empty DataFrame\n",
      "Columns: [MID_POP_W, MID_POP_NW, ABS_DIFF, ENTROPY_IND]\n",
      "Index: []\n",
      "Empty DataFrame\n",
      "Columns: [MID_POP_W, MID_POP_NW, ABS_DIFF, ENTROPY_IND]\n",
      "Index: []\n",
      "Empty DataFrame\n",
      "Columns: [MID_POP_W, MID_POP_NW, ABS_DIFF, ENTROPY_IND]\n",
      "Index: []\n",
      "Empty DataFrame\n",
      "Columns: [MID_POP_W, MID_POP_NW, ABS_DIFF, ENTROPY_IND]\n",
      "Index: []\n",
      "Empty DataFrame\n",
      "Columns: [MID_POP_W, MID_POP_NW, ABS_DIFF, ENTROPY_IND]\n",
      "Index: []\n",
      "Empty DataFrame\n",
      "Columns: [MID_POP_W, MID_POP_NW, ABS_DIFF, ENTROPY_IND]\n",
      "Index: []\n",
      "Empty DataFrame\n",
      "Columns: [MID_POP_W, MID_POP_NW, ABS_DIFF, ENTROPY_IND]\n",
      "Index: []\n",
      "Empty DataFrame\n",
      "Columns: [MID_POP_W, MID_POP_NW, ABS_DIFF, ENTROPY_IND]\n",
      "Index: []\n"
     ]
    }
   ],
   "source": [
    "print(segregated_abs_diff_sa1)\n",
    "print(segregated_abs_diff_sa2)\n",
    "print(segregated_abs_diff_sa3)\n",
    "print(segregated_abs_diff_sa4)\n",
    "print(segregated_abs_diff_sa5)\n",
    "print(segregated_abs_diff_sa6)\n",
    "print(segregated_abs_diff_sa7)\n",
    "print(segregated_abs_diff_sa8)\n",
    "print(segregated_abs_diff_sa9)\n",
    "print(segregated_abs_diff_sa10)\n",
    "print(segregated_abs_diff_sa11)\n",
    "print(segregated_abs_diff_sa12)\n",
    "print(segregated_abs_diff_sa13)\n",
    "print(segregated_abs_diff_sa14)\n",
    "print(segregated_abs_diff_sa15)\n",
    "print(segregated_abs_diff_sa16)\n",
    "print(segregated_abs_diff_sa17)\n",
    "print(segregated_abs_diff_sa18)\n",
    "print(segregated_abs_diff_sa19)\n",
    "print(segregated_abs_diff_sa20)\n",
    "print(segregated_abs_diff_sa21)\n",
    "print(segregated_abs_diff_sa22)\n",
    "print(segregated_abs_diff_sa23)\n",
    "print(segregated_abs_diff_sa24)\n",
    "print(segregated_abs_diff_sa25)"
   ]
  },
  {
   "cell_type": "code",
   "execution_count": 71,
   "metadata": {
    "scrolled": false
   },
   "outputs": [
    {
     "name": "stdout",
     "output_type": "stream",
     "text": [
      "Empty DataFrame\n",
      "Columns: [MID_POP_W, MID_POP_NW, ABS_DIFF, ENTROPY_IND]\n",
      "Index: []\n",
      "              MID_POP_W  MID_POP_NW  ABS_DIFF  ENTROPY_IND\n",
      "NEW_MID_CODE                                              \n",
      "STM            0.136523    0.863477  0.726954     0.398601\n",
      "Empty DataFrame\n",
      "Columns: [MID_POP_W, MID_POP_NW, ABS_DIFF, ENTROPY_IND]\n",
      "Index: []\n",
      "Empty DataFrame\n",
      "Columns: [MID_POP_W, MID_POP_NW, ABS_DIFF, ENTROPY_IND]\n",
      "Index: []\n",
      "Empty DataFrame\n",
      "Columns: [MID_POP_W, MID_POP_NW, ABS_DIFF, ENTROPY_IND]\n",
      "Index: []\n",
      "Empty DataFrame\n",
      "Columns: [MID_POP_W, MID_POP_NW, ABS_DIFF, ENTROPY_IND]\n",
      "Index: []\n",
      "Empty DataFrame\n",
      "Columns: [MID_POP_W, MID_POP_NW, ABS_DIFF, ENTROPY_IND]\n",
      "Index: []\n",
      "Empty DataFrame\n",
      "Columns: [MID_POP_W, MID_POP_NW, ABS_DIFF, ENTROPY_IND]\n",
      "Index: []\n",
      "Empty DataFrame\n",
      "Columns: [MID_POP_W, MID_POP_NW, ABS_DIFF, ENTROPY_IND]\n",
      "Index: []\n",
      "Empty DataFrame\n",
      "Columns: [MID_POP_W, MID_POP_NW, ABS_DIFF, ENTROPY_IND]\n",
      "Index: []\n",
      "Empty DataFrame\n",
      "Columns: [MID_POP_W, MID_POP_NW, ABS_DIFF, ENTROPY_IND]\n",
      "Index: []\n",
      "Empty DataFrame\n",
      "Columns: [MID_POP_W, MID_POP_NW, ABS_DIFF, ENTROPY_IND]\n",
      "Index: []\n",
      "Empty DataFrame\n",
      "Columns: [MID_POP_W, MID_POP_NW, ABS_DIFF, ENTROPY_IND]\n",
      "Index: []\n",
      "Empty DataFrame\n",
      "Columns: [MID_POP_W, MID_POP_NW, ABS_DIFF, ENTROPY_IND]\n",
      "Index: []\n",
      "Empty DataFrame\n",
      "Columns: [MID_POP_W, MID_POP_NW, ABS_DIFF, ENTROPY_IND]\n",
      "Index: []\n",
      "Empty DataFrame\n",
      "Columns: [MID_POP_W, MID_POP_NW, ABS_DIFF, ENTROPY_IND]\n",
      "Index: []\n",
      "Empty DataFrame\n",
      "Columns: [MID_POP_W, MID_POP_NW, ABS_DIFF, ENTROPY_IND]\n",
      "Index: []\n",
      "Empty DataFrame\n",
      "Columns: [MID_POP_W, MID_POP_NW, ABS_DIFF, ENTROPY_IND]\n",
      "Index: []\n",
      "Empty DataFrame\n",
      "Columns: [MID_POP_W, MID_POP_NW, ABS_DIFF, ENTROPY_IND]\n",
      "Index: []\n",
      "Empty DataFrame\n",
      "Columns: [MID_POP_W, MID_POP_NW, ABS_DIFF, ENTROPY_IND]\n",
      "Index: []\n",
      "Empty DataFrame\n",
      "Columns: [MID_POP_W, MID_POP_NW, ABS_DIFF, ENTROPY_IND]\n",
      "Index: []\n",
      "Empty DataFrame\n",
      "Columns: [MID_POP_W, MID_POP_NW, ABS_DIFF, ENTROPY_IND]\n",
      "Index: []\n",
      "Empty DataFrame\n",
      "Columns: [MID_POP_W, MID_POP_NW, ABS_DIFF, ENTROPY_IND]\n",
      "Index: []\n",
      "Empty DataFrame\n",
      "Columns: [MID_POP_W, MID_POP_NW, ABS_DIFF, ENTROPY_IND]\n",
      "Index: []\n",
      "Empty DataFrame\n",
      "Columns: [MID_POP_W, MID_POP_NW, ABS_DIFF, ENTROPY_IND]\n",
      "Index: []\n"
     ]
    }
   ],
   "source": [
    "print(segregated_entropy_sa1)\n",
    "print(segregated_entropy_sa2)\n",
    "print(segregated_entropy_sa3)\n",
    "print(segregated_entropy_sa4)\n",
    "print(segregated_entropy_sa5)\n",
    "print(segregated_entropy_sa6)\n",
    "print(segregated_entropy_sa7)\n",
    "print(segregated_entropy_sa8)\n",
    "print(segregated_entropy_sa9)\n",
    "print(segregated_entropy_sa10)\n",
    "print(segregated_entropy_sa11)\n",
    "print(segregated_entropy_sa12)\n",
    "print(segregated_entropy_sa13)\n",
    "print(segregated_entropy_sa14)\n",
    "print(segregated_entropy_sa15)\n",
    "print(segregated_entropy_sa16)\n",
    "print(segregated_entropy_sa17)\n",
    "print(segregated_entropy_sa18)\n",
    "print(segregated_entropy_sa19)\n",
    "print(segregated_entropy_sa20)\n",
    "print(segregated_entropy_sa21)\n",
    "print(segregated_entropy_sa22)\n",
    "print(segregated_entropy_sa23)\n",
    "print(segregated_entropy_sa24)\n",
    "print(segregated_entropy_sa25)"
   ]
  },
  {
   "cell_type": "code",
   "execution_count": 72,
   "metadata": {
    "scrolled": false
   },
   "outputs": [],
   "source": [
    "# legend_handles = [Patch(facecolor='black', label='HAM'),\n",
    "#                   Patch(facecolor='green', label='LIN'),\n",
    "#                   Patch(facecolor='orange', label='SUL'),\n",
    "#                    Patch(facecolor='red', label='GUI'),\n",
    "#                    Patch(facecolor='blue', label='WAT'),\n",
    "#                    Patch(facecolor='magenta', label='FDE'),\n",
    "#                    Patch(facecolor='cyan', label='FHR'),\n",
    "#                    Patch(facecolor='yellow', label='EVE'),\n",
    "#                    Patch(facecolor='tab:olive', label='KWC')\n",
    "#                 ]\n",
    "\n",
    "# ax = spas.boundary.plot(figsize=(15,14))\n",
    "# spas[spas['ELEM_CODE'] == 'HAM'].plot(ax=ax, color='black')\n",
    "# spas[spas['ELEM_CODE'] == 'LIN'].plot(ax=ax, color='green')\n",
    "# spas[spas['ELEM_CODE'] == 'SUL'].plot(ax=ax, color='orange')\n",
    "\n",
    "# spas[spas['ELEM_CODE'] == 'GUI'].plot(ax=ax, color='red')\n",
    "# spas[spas['ELEM_CODE'] == 'WAT'].plot(ax=ax, color='blue')\n",
    "# spas[spas['ELEM_CODE'] == 'FDE'].plot(ax=ax, color='magenta')\n",
    "\n",
    "# spas[spas['ELEM_CODE'] == 'FHR'].plot(ax=ax, color='cyan')\n",
    "# spas[spas['ELEM_CODE'] == 'EVE'].plot(ax=ax, color='yellow')\n",
    "# spas[spas['ELEM_CODE'] == 'KWC'].plot(ax=ax, color='tab:olive')\n",
    "\n",
    "# # ax.legend\n",
    "# ax.legend(handles=legend_handles)"
   ]
  },
  {
   "cell_type": "code",
   "execution_count": 73,
   "metadata": {
    "scrolled": false
   },
   "outputs": [],
   "source": [
    "# from numpy import concatenate\n",
    "# import pandas as pd\n",
    "\n",
    "# col_level_1 = np.concatenate([[i]*2 for i in interested_districts])\n",
    "# col_level_2 = ['W', 'NW'] * len(interested_districts)\n",
    "# cols_combined = zip(col_level_1, col_level_2)\n",
    "# col_index = pd.MultiIndex.from_tuples(cols_combined, names=[\"District\", \"Group\"])\n",
    "# row_index = pd.Index(range(1,26))\n",
    "# combined_df = pd.DataFrame(data=data_array, index = row_index, columns = col_index)\n",
    "# combined_df "
   ]
  },
  {
   "cell_type": "code",
   "execution_count": 74,
   "metadata": {},
   "outputs": [],
   "source": [
    "# data_raw = spas_grouped.loc[interested_districts, ['ELEM_POP_W','ELEM_POP_NW']]\n",
    "# data_original = data_raw.values.reshape((1,len(interested_districts)*2))\n",
    "# original_df =  pd.DataFrame(data=data_original, columns = col_index)\n",
    "# # print(data_raw.values)\n",
    "# original_df"
   ]
  },
  {
   "cell_type": "code",
   "execution_count": 75,
   "metadata": {},
   "outputs": [],
   "source": [
    "# white_column=[('GUI','W'), ('SUL','W'), ('LIN','W'),  ('FHR','W'),  ('HAM','W'),  ('KWC','W'), ('WAT','W'), ('EVE','W'), ('FDE', 'W')]\n",
    "# ax, props = combined_df.boxplot(column=white_column, figsize=(15,14), return_type='both', patch_artist=True)\n",
    "# ax.set_title('White Percentages')\n",
    "# ax.set_xlabel('Districts')\n",
    "# ax.set_ylabel('Percentages')"
   ]
  },
  {
   "cell_type": "code",
   "execution_count": 76,
   "metadata": {
    "scrolled": false
   },
   "outputs": [],
   "source": [
    "# nonwhite_column=[('GUI','NW'), ('SUL','NW'), ('LIN','NW'),  ('FHR','NW'),  ('HAM','NW'),  ('KWC','NW'), ('WAT','NW'), ('EVE','NW'), ('FDE','NW')]\n",
    "# ax, props = combined_df.boxplot(column=nonwhite_column, figsize=(15,14), return_type='both', patch_artist=True)\n",
    "# ax.set_title('Non-White Percentages')\n",
    "# ax.set_xlabel('Districts')\n",
    "# ax.set_ylabel('Percentages')\n",
    "# for box in props['boxes']:\n",
    "#     box.set_facecolor('orange')"
   ]
  },
  {
   "cell_type": "code",
   "execution_count": 77,
   "metadata": {},
   "outputs": [],
   "source": [
    "# import matplotlib.pyplot as plt\n",
    "\n",
    "# ax, props = combined_df.boxplot(figsize=(15,14), return_type='both', patch_artist=True, manage_ticks=False)\n",
    "# ax.set_title('Whites vs Non-whites Percentages')\n",
    "# ax.set_xlabel('Districts')\n",
    "# ax.set_ylabel('Percentages')\n",
    "# num_boxes = len(props['boxes'])\n",
    "# for i in range(1, num_boxes, 2):\n",
    "#     props['boxes'][i].set_facecolor('orange')\n",
    "    \n",
    "# legend_handles = [Patch(facecolor='blue', label='White Pop'),\n",
    "#                 Patch(facecolor='orange', label='Non-White Pop')]\n",
    "# ax.legend(handles=legend_handles)\n",
    "\n",
    "# plt.tick_params(labelbottom=False)"
   ]
  },
  {
   "cell_type": "code",
   "execution_count": 78,
   "metadata": {
    "scrolled": false
   },
   "outputs": [],
   "source": [
    "# ax = combined_df['GUI'].plot(marker='o', subplots=True)\n",
    "# pic_folder = 'Combined_linegraphs_andboxplots'\n",
    "\n",
    "# ax = combined_df['GUI'].plot(marker='o')\n",
    "# ax.set_title(\"GUI\")\n",
    "# x = np.arange(1,26)\n",
    "# yw = [spas_grouped.loc['GUI', 'ELEM_POP_W']] * 25\n",
    "# ynw = [spas_grouped.loc['GUI', 'ELEM_POP_NW']] * 25\n",
    "# ax.plot(x,yw,color='k', linewidth='3')\n",
    "# ax.plot(x,ynw,color='c', linewidth='3')\n",
    "# # ax.legend()\n",
    "# ax.get_figure().savefig('GUI_compare_{}'.format(algo))"
   ]
  },
  {
   "cell_type": "code",
   "execution_count": 79,
   "metadata": {},
   "outputs": [],
   "source": [
    "# ax =  combined_df['GUI'].boxplot(figsize=(8,6), patch_artist=True)\n",
    "# ax.set_title('GUI')\n",
    "# ax.set_xlabel('Groups')\n",
    "# ax.set_ylabel('Percentages')\n",
    "\n",
    "\n",
    "# ax,bp_key = original_df['GUI'].boxplot(ax=ax, return_type='both', patch_artist=True)\n",
    "# for box in bp_key['boxes']:\n",
    "#     box.set_color('red')\n",
    "#     box.set_linewidth(3)\n",
    "    \n",
    "# ax.get_figure().savefig('GUI_combined_{}'.format(algo))"
   ]
  },
  {
   "cell_type": "code",
   "execution_count": 80,
   "metadata": {},
   "outputs": [],
   "source": [
    "# ax = combined_df['SUL'].plot(marker='o')\n",
    "# ax.set_title(\"SUL\")\n",
    "# yw = [spas_grouped.loc['SUL', 'ELEM_POP_W']] * 25\n",
    "# ynw = [spas_grouped.loc['SUL', 'ELEM_POP_NW']] * 25\n",
    "# ax.plot(x,yw,color='k', linewidth='3')\n",
    "# ax.plot(x,ynw,color='c', linewidth='3')\n",
    "# ax.get_figure().savefig('SUL_compare_{}'.format(algo))"
   ]
  },
  {
   "cell_type": "code",
   "execution_count": 81,
   "metadata": {},
   "outputs": [],
   "source": [
    "# ax =  combined_df['SUL'].boxplot(figsize=(8,6), patch_artist=True)\n",
    "# ax.set_title('SUL')\n",
    "# ax.set_xlabel('Groups')\n",
    "# ax.set_ylabel('Percentages')\n",
    "\n",
    "# ax,bp_key = original_df['SUL'].boxplot(ax=ax, return_type='both', patch_artist=True)\n",
    "# for box in bp_key['boxes']:\n",
    "#     box.set_color('red')\n",
    "#     box.set_linewidth(3)\n",
    "    \n",
    "# ax.get_figure().savefig('SUL_combined_{}'.format(algo))"
   ]
  },
  {
   "cell_type": "code",
   "execution_count": 82,
   "metadata": {},
   "outputs": [],
   "source": [
    "# ax = combined_df['LIN'].plot(marker='o')\n",
    "# ax.set_title(\"LIN\")\n",
    "# yw = [spas_grouped.loc['LIN', 'ELEM_POP_W']] * 25\n",
    "# ynw = [spas_grouped.loc['LIN', 'ELEM_POP_NW']] * 25\n",
    "# ax.plot(x,yw,color='k', linewidth='3')\n",
    "# ax.plot(x,ynw,color='c', linewidth='3')\n",
    "# ax.get_figure().savefig('LIN_compare_{}'.format(algo))"
   ]
  },
  {
   "cell_type": "code",
   "execution_count": 83,
   "metadata": {},
   "outputs": [],
   "source": [
    "# ax =  combined_df['LIN'].boxplot(figsize=(8,6), patch_artist=True)\n",
    "# ax.set_title('LIN')\n",
    "# ax.set_xlabel('Groups')\n",
    "# ax.set_ylabel('Percentages')\n",
    "\n",
    "# ax,bp_key = original_df['LIN'].boxplot(ax=ax, return_type='both', patch_artist=True)\n",
    "# for box in bp_key['boxes']:\n",
    "#     box.set_color('red')\n",
    "#     box.set_linewidth(3)\n",
    "    \n",
    "    \n",
    "# ax.get_figure().savefig('LIN_combined_{}'.format(algo))"
   ]
  },
  {
   "cell_type": "code",
   "execution_count": 84,
   "metadata": {},
   "outputs": [],
   "source": [
    "# ax = combined_df['FHR'].plot(marker='o')\n",
    "# ax.set_title(\"FHR\")\n",
    "# yw = [spas_grouped.loc['FHR', 'ELEM_POP_W']] * 25\n",
    "# ynw = [spas_grouped.loc['FHR', 'ELEM_POP_NW']] * 25\n",
    "# ax.plot(x,yw,color='k', linewidth='3')\n",
    "# ax.plot(x,ynw,color='c', linewidth='3')\n",
    "# ax.get_figure().savefig('FHR_compare_{}'.format(algo))"
   ]
  },
  {
   "cell_type": "code",
   "execution_count": 85,
   "metadata": {},
   "outputs": [],
   "source": [
    "# ax =  combined_df['FHR'].boxplot(figsize=(8,6), patch_artist=True)\n",
    "# ax.set_title('FHR')\n",
    "# ax.set_xlabel('Groups')\n",
    "# ax.set_ylabel('Percentages')\n",
    "\n",
    "# ax,bp_key = original_df['FHR'].boxplot(ax=ax, return_type='both', patch_artist=True)\n",
    "# for box in bp_key['boxes']:\n",
    "#     box.set_color('red')\n",
    "#     box.set_linewidth(3)\n",
    "    \n",
    "    \n",
    "# ax.get_figure().savefig('FHR_combined_{}'.format(algo))"
   ]
  },
  {
   "cell_type": "code",
   "execution_count": 86,
   "metadata": {},
   "outputs": [],
   "source": [
    "# ax = combined_df['HAM'].plot(marker='o')\n",
    "# ax.set_title(\"HAM\")\n",
    "# yw = [spas_grouped.loc['HAM', 'ELEM_POP_W']] * 25\n",
    "# ynw = [spas_grouped.loc['HAM', 'ELEM_POP_NW']] * 25\n",
    "# ax.plot(x,yw,color='k', linewidth='3')\n",
    "# ax.plot(x,ynw,color='c', linewidth='3')\n",
    "\n",
    "# ax.get_figure().savefig('HAM_compare_{}'.format(algo))"
   ]
  },
  {
   "cell_type": "code",
   "execution_count": 87,
   "metadata": {},
   "outputs": [],
   "source": [
    "# ax =  combined_df['HAM'].boxplot(figsize=(8,6), patch_artist=True)\n",
    "# ax.set_title('HAM')\n",
    "# ax.set_xlabel('Groups')\n",
    "# ax.set_ylabel('Percentages')\n",
    "\n",
    "# ax,bp_key = original_df['HAM'].boxplot(ax=ax, return_type='both', patch_artist=True)\n",
    "# for box in bp_key['boxes']:\n",
    "#     box.set_color('red')\n",
    "#     box.set_linewidth(3)\n",
    "    \n",
    "# ax.get_figure().savefig('HAM_combined_{}'.format(algo))"
   ]
  },
  {
   "cell_type": "code",
   "execution_count": 88,
   "metadata": {},
   "outputs": [],
   "source": [
    "# ax = combined_df['KWC'].plot(marker='o')\n",
    "# ax.set_title(\"KWC\")\n",
    "# yw = [spas_grouped.loc['KWC', 'ELEM_POP_W']] * 25\n",
    "# ynw = [spas_grouped.loc['KWC', 'ELEM_POP_NW']] * 25\n",
    "# ax.plot(x,yw,color='k', linewidth='3')\n",
    "# ax.plot(x,ynw,color='c', linewidth='3')\n",
    "# ax.get_figure().savefig('KWC_compare_{}'.format(algo))"
   ]
  },
  {
   "cell_type": "code",
   "execution_count": 89,
   "metadata": {},
   "outputs": [],
   "source": [
    "# ax =  combined_df['KWC'].boxplot(figsize=(8,6), patch_artist=True)\n",
    "# ax.set_title('KWC')\n",
    "# ax.set_xlabel('Groups')\n",
    "# ax.set_ylabel('Percentages')\n",
    "\n",
    "# ax,bp_key = original_df['KWC'].boxplot(ax=ax, return_type='both', patch_artist=True)\n",
    "# for box in bp_key['boxes']:\n",
    "#     box.set_color('red')\n",
    "#     box.set_linewidth(3)\n",
    "    \n",
    "# ax.get_figure().savefig('KWC_combined_{}'.format(algo))"
   ]
  },
  {
   "cell_type": "code",
   "execution_count": 90,
   "metadata": {
    "scrolled": true
   },
   "outputs": [],
   "source": [
    "# ax = combined_df['WAT'].plot(marker='o')\n",
    "# ax.set_title(\"WAT\")\n",
    "# yw = [spas_grouped.loc['WAT', 'ELEM_POP_W']] * 25\n",
    "# ynw = [spas_grouped.loc['WAT', 'ELEM_POP_NW']] * 25\n",
    "# ax.plot(x,yw,color='k', linewidth='3')\n",
    "# ax.plot(x,ynw,color='c', linewidth='3')\n",
    "# ax.get_figure().savefig('WAT_compare_{}'.format(algo))"
   ]
  },
  {
   "cell_type": "code",
   "execution_count": 91,
   "metadata": {},
   "outputs": [],
   "source": [
    "# ax =  combined_df['WAT'].boxplot(figsize=(8,6), patch_artist=True)\n",
    "# ax.set_title('WAT')\n",
    "# ax.set_xlabel('Groups')\n",
    "# ax.set_ylabel('Percentages')\n",
    "\n",
    "# ax,bp_key = original_df['WAT'].boxplot(ax=ax, return_type='both', patch_artist=True)\n",
    "# for box in bp_key['boxes']:\n",
    "#     box.set_color('red')\n",
    "#     box.set_linewidth(3)\n",
    "    \n",
    "# ax.get_figure().savefig('WAT_combined_{}'.format(algo))"
   ]
  },
  {
   "cell_type": "code",
   "execution_count": 92,
   "metadata": {},
   "outputs": [],
   "source": [
    "# ax = combined_df['EVE'].plot(marker='o')\n",
    "# ax.set_title(\"EVE\")\n",
    "# yw = [spas_grouped.loc['EVE', 'ELEM_POP_W']] * 25\n",
    "# ynw = [spas_grouped.loc['EVE', 'ELEM_POP_NW']] * 25\n",
    "# ax.plot(x,yw,color='k', linewidth='3')\n",
    "# ax.plot(x,ynw,color='c', linewidth='3')\n",
    "\n",
    "# ax.get_figure().savefig('EVE_compare_{}'.format(algo))"
   ]
  },
  {
   "cell_type": "code",
   "execution_count": 93,
   "metadata": {},
   "outputs": [],
   "source": [
    "# ax =  combined_df['EVE'].boxplot(figsize=(8,6), patch_artist=True)\n",
    "# ax.set_title('EVE')\n",
    "# ax.set_xlabel('Groups')\n",
    "# ax.set_ylabel('Percentages')\n",
    "\n",
    "# ax,bp_key = original_df['EVE'].boxplot(ax=ax, return_type='both', patch_artist=True)\n",
    "# for box in bp_key['boxes']:\n",
    "#     box.set_color('red')\n",
    "#     box.set_linewidth(3)\n",
    "    \n",
    "# ax.get_figure().savefig('EVE_combined_{}'.format(algo))"
   ]
  },
  {
   "cell_type": "code",
   "execution_count": 94,
   "metadata": {
    "scrolled": true
   },
   "outputs": [],
   "source": [
    "# ax = combined_df['FDE'].plot(marker='o')\n",
    "# ax.set_title(\"FDE\")\n",
    "# yw = [spas_grouped.loc['FDE', 'ELEM_POP_W']] * 25\n",
    "# ynw = [spas_grouped.loc['FDE', 'ELEM_POP_NW']] * 25\n",
    "# ax.plot(x,yw,color='k', linewidth='3')\n",
    "# ax.plot(x,ynw,color='c', linewidth='3')\n",
    "\n",
    "# ax.get_figure().savefig('FDE_compare_{}'.format(algo))\n",
    "\n",
    "# this is for the original data, i think\n",
    "# I can see that the original data seems to be optimized here, since the gap is closer than the output plans\n",
    "# The original is generally good though, in most cases - just for this district and SA"
   ]
  },
  {
   "cell_type": "code",
   "execution_count": 96,
   "metadata": {},
   "outputs": [],
   "source": [
    "# ax =  combined_df['FDE'].boxplot(figsize=(8,6), patch_artist=True)\n",
    "# ax.set_title('FDE')\n",
    "# ax.set_xlabel('Groups')\n",
    "# ax.set_ylabel('Percentages')\n",
    "\n",
    "# ax,bp_key = original_df['FDE'].boxplot(ax=ax, return_type='both', patch_artist=True)\n",
    "# for box in bp_key['boxes']:\n",
    "#     box.set_color('red')\n",
    "#     box.set_linewidth(3)\n",
    "    \n",
    "# ax.get_figure().savefig('FDE_combined_{}'.format(algo))"
   ]
  },
  {
   "cell_type": "code",
   "execution_count": null,
   "metadata": {
    "scrolled": true
   },
   "outputs": [],
   "source": [
    "# ax = combined_df['SUG'].plot(marker='o')\n",
    "# ax.set_title(\"SUG\")\n",
    "# yw = [spas_grouped.loc['SUG', 'ELEM_POP_W']] * 25\n",
    "# ynw = [spas_grouped.loc['SUG', 'ELEM_POP_NW']] * 25\n",
    "# ax.plot(x,yw,color='k', linewidth='3')\n",
    "# ax.plot(x,ynw,color='c', linewidth='3')\n",
    "# ax.get_figure().savefig('SUG_compare_{}'.format(algo))"
   ]
  },
  {
   "cell_type": "code",
   "execution_count": 97,
   "metadata": {
    "scrolled": true
   },
   "outputs": [],
   "source": [
    "# ax =  combined_df['SUG'].boxplot(figsize=(8,6), patch_artist=True)\n",
    "# ax.set_title('SUG')\n",
    "# ax.set_xlabel('Groups')\n",
    "# ax.set_ylabel('Percentages')\n",
    "\n",
    "# ax,bp_key = original_df['SUG'].boxplot(ax=ax, return_type='both', patch_artist=True)\n",
    "# for box in bp_key['boxes']:\n",
    "#     box.set_color('red')\n",
    "#     box.set_linewidth(3)\n",
    "    \n",
    "# ax.get_figure().savefig('SUG_combined_{}'.format(algo))"
   ]
  },
  {
   "cell_type": "code",
   "execution_count": null,
   "metadata": {
    "scrolled": false
   },
   "outputs": [],
   "source": [
    "# combined_df['FDE'].hist()"
   ]
  },
  {
   "cell_type": "code",
   "execution_count": null,
   "metadata": {},
   "outputs": [],
   "source": [
    "segregated_entropy\n",
    "#this is for the original data"
   ]
  },
  {
   "cell_type": "code",
   "execution_count": null,
   "metadata": {},
   "outputs": [],
   "source": [
    "ind_diss\n"
   ]
  },
  {
   "cell_type": "code",
   "execution_count": null,
   "metadata": {},
   "outputs": [],
   "source": [
    "plt.hist(ind_diss, bins=[y/100 for y in range(28,40)])\n",
    "# plt.axis([0, 25, 0.25, 0.50])\n",
    "# plt.show()\n",
    "\n",
    "#challenge with plotting histogram. Any help will be much appreciated"
   ]
  }
 ],
 "metadata": {
  "kernelspec": {
   "display_name": "Python 3",
   "language": "python",
   "name": "python3"
  },
  "language_info": {
   "codemirror_mode": {
    "name": "ipython",
    "version": 3
   },
   "file_extension": ".py",
   "mimetype": "text/x-python",
   "name": "python",
   "nbconvert_exporter": "python",
   "pygments_lexer": "ipython3",
   "version": "3.7.4"
  }
 },
 "nbformat": 4,
 "nbformat_minor": 2
}

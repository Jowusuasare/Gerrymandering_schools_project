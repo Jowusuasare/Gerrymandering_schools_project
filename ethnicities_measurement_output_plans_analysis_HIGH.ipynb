{
 "cells": [
  {
   "cell_type": "code",
   "execution_count": 1,
   "metadata": {},
   "outputs": [],
   "source": [
    "import geopandas as gpd\n",
    "from tqdm import tqdm\n",
    "import libpysal as lp\n",
    "import json\n",
    "import pandas as pd\n",
    "from matplotlib.patches import Patch  # used for the plot legends later"
   ]
  },
  {
   "cell_type": "markdown",
   "metadata": {},
   "source": [
    "###  Get the data in the folder ./LCPS_data for pre-processing. Let's call this `retrieved data`."
   ]
  },
  {
   "cell_type": "code",
   "execution_count": 2,
   "metadata": {},
   "outputs": [],
   "source": [
    "def retrieve_data(sy):\n",
    "    \"\"\"\n",
    "    Retrieve data for a given school year (sy)\n",
    "    \"\"\"\n",
    "    data_dir = \"./LCPS_data\"\n",
    "    # Read the data files\n",
    "    schools = gpd.read_file('{}/LCPS_Sites_{}.shp'.format(data_dir, sy))\n",
    "    students = gpd.read_file('{}/Students_{}.shp'.format(data_dir, sy))\n",
    "    spas = gpd.read_file('{}/PlanningZones_{}.shp'.format(data_dir, sy))\n",
    "    \n",
    "    return schools, students, spas\n"
   ]
  },
  {
   "cell_type": "code",
   "execution_count": 3,
   "metadata": {},
   "outputs": [],
   "source": [
    "sy = '2017_2018'"
   ]
  },
  {
   "cell_type": "code",
   "execution_count": 4,
   "metadata": {},
   "outputs": [],
   "source": [
    "# raw_schools, raw_students, raw_spas = retrieve_data(sy)"
   ]
  },
  {
   "cell_type": "markdown",
   "metadata": {},
   "source": [
    "###  Get the processed data from the folder ./data"
   ]
  },
  {
   "cell_type": "code",
   "execution_count": 5,
   "metadata": {},
   "outputs": [],
   "source": [
    "#spas_processed = gpd.read_file('new_SPAs_2017_2018.json', driver='GeoJSON')\n",
    "spas = gpd.read_file('./data/new_SPAs_2017_2018.json', driver='GeoJSON')\n",
    "students = gpd.read_file('./data/new_Students_2017_2018.json', driver='GeoJSON')\n",
    "schools = gpd.read_file('./data/new_Schools_2017_2018.json', driver='GeoJSON')\n",
    "\n",
    "\n",
    "\n",
    "\n",
    "#new line to run the newly downloaded json files, should move around anywhere.\n",
    "#new line to run the newly downloaded json files, should move around anywhere."
   ]
  },
  {
   "cell_type": "code",
   "execution_count": 6,
   "metadata": {},
   "outputs": [
    {
     "data": {
      "text/html": [
       "<div>\n",
       "<style scoped>\n",
       "    .dataframe tbody tr th:only-of-type {\n",
       "        vertical-align: middle;\n",
       "    }\n",
       "\n",
       "    .dataframe tbody tr th {\n",
       "        vertical-align: top;\n",
       "    }\n",
       "\n",
       "    .dataframe thead th {\n",
       "        text-align: right;\n",
       "    }\n",
       "</style>\n",
       "<table border=\"1\" class=\"dataframe\">\n",
       "  <thead>\n",
       "    <tr style=\"text-align: right;\">\n",
       "      <th></th>\n",
       "      <th>OBJECTID</th>\n",
       "      <th>COUNT_</th>\n",
       "      <th>SPA</th>\n",
       "      <th>ELEM_</th>\n",
       "      <th>INT_</th>\n",
       "      <th>HIGH_</th>\n",
       "      <th>ELEM_CODE</th>\n",
       "      <th>MID_CODE</th>\n",
       "      <th>HIGH_CODE</th>\n",
       "      <th>DISTRICT</th>\n",
       "      <th>...</th>\n",
       "      <th>HIGH_POP_N</th>\n",
       "      <th>HIGH_POP_P</th>\n",
       "      <th>TOT_POP_A</th>\n",
       "      <th>TOT_POP_W</th>\n",
       "      <th>TOT_POP_M2</th>\n",
       "      <th>TOT_POP_B</th>\n",
       "      <th>TOT_POP_H</th>\n",
       "      <th>TOT_POP_N</th>\n",
       "      <th>TOT_POP_P</th>\n",
       "      <th>geometry</th>\n",
       "    </tr>\n",
       "  </thead>\n",
       "  <tbody>\n",
       "    <tr>\n",
       "      <td>0</td>\n",
       "      <td>1</td>\n",
       "      <td>5.0</td>\n",
       "      <td>WL03.4</td>\n",
       "      <td>126</td>\n",
       "      <td>205</td>\n",
       "      <td>311</td>\n",
       "      <td>LOV</td>\n",
       "      <td>HRM</td>\n",
       "      <td>WHS</td>\n",
       "      <td>WL</td>\n",
       "      <td>...</td>\n",
       "      <td>0</td>\n",
       "      <td>0</td>\n",
       "      <td>1</td>\n",
       "      <td>37</td>\n",
       "      <td>0</td>\n",
       "      <td>2</td>\n",
       "      <td>7</td>\n",
       "      <td>0</td>\n",
       "      <td>0</td>\n",
       "      <td>POLYGON ((11725868.086 7152149.054, 11725870.6...</td>\n",
       "    </tr>\n",
       "    <tr>\n",
       "      <td>1</td>\n",
       "      <td>2</td>\n",
       "      <td>5.0</td>\n",
       "      <td>WL03</td>\n",
       "      <td>126</td>\n",
       "      <td>205</td>\n",
       "      <td>311</td>\n",
       "      <td>LOV</td>\n",
       "      <td>HRM</td>\n",
       "      <td>WHS</td>\n",
       "      <td>WL</td>\n",
       "      <td>...</td>\n",
       "      <td>0</td>\n",
       "      <td>0</td>\n",
       "      <td>0</td>\n",
       "      <td>83</td>\n",
       "      <td>5</td>\n",
       "      <td>0</td>\n",
       "      <td>6</td>\n",
       "      <td>1</td>\n",
       "      <td>0</td>\n",
       "      <td>POLYGON ((11726805.147 7160565.439, 11726826.6...</td>\n",
       "    </tr>\n",
       "    <tr>\n",
       "      <td>2</td>\n",
       "      <td>3</td>\n",
       "      <td>5.0</td>\n",
       "      <td>WL27.2</td>\n",
       "      <td>118</td>\n",
       "      <td>202</td>\n",
       "      <td>305</td>\n",
       "      <td>HAM</td>\n",
       "      <td>BRM</td>\n",
       "      <td>LVH</td>\n",
       "      <td>WL</td>\n",
       "      <td>...</td>\n",
       "      <td>0</td>\n",
       "      <td>0</td>\n",
       "      <td>0</td>\n",
       "      <td>11</td>\n",
       "      <td>0</td>\n",
       "      <td>1</td>\n",
       "      <td>5</td>\n",
       "      <td>0</td>\n",
       "      <td>0</td>\n",
       "      <td>POLYGON ((11720159.464 7099502.139, 11720172.1...</td>\n",
       "    </tr>\n",
       "    <tr>\n",
       "      <td>3</td>\n",
       "      <td>4</td>\n",
       "      <td>5.0</td>\n",
       "      <td>WL32.1</td>\n",
       "      <td>132</td>\n",
       "      <td>205</td>\n",
       "      <td>311</td>\n",
       "      <td>MTV</td>\n",
       "      <td>HRM</td>\n",
       "      <td>WHS</td>\n",
       "      <td>WL</td>\n",
       "      <td>...</td>\n",
       "      <td>0</td>\n",
       "      <td>0</td>\n",
       "      <td>8</td>\n",
       "      <td>205</td>\n",
       "      <td>14</td>\n",
       "      <td>8</td>\n",
       "      <td>23</td>\n",
       "      <td>1</td>\n",
       "      <td>0</td>\n",
       "      <td>POLYGON ((11694466.485 7097608.657, 11694418.5...</td>\n",
       "    </tr>\n",
       "    <tr>\n",
       "      <td>4</td>\n",
       "      <td>5</td>\n",
       "      <td>5.0</td>\n",
       "      <td>WL02</td>\n",
       "      <td>126</td>\n",
       "      <td>205</td>\n",
       "      <td>311</td>\n",
       "      <td>LOV</td>\n",
       "      <td>HRM</td>\n",
       "      <td>WHS</td>\n",
       "      <td>WL</td>\n",
       "      <td>...</td>\n",
       "      <td>0</td>\n",
       "      <td>0</td>\n",
       "      <td>9</td>\n",
       "      <td>170</td>\n",
       "      <td>3</td>\n",
       "      <td>0</td>\n",
       "      <td>5</td>\n",
       "      <td>0</td>\n",
       "      <td>0</td>\n",
       "      <td>POLYGON ((11715899.154 7166497.655, 11715932.1...</td>\n",
       "    </tr>\n",
       "  </tbody>\n",
       "</table>\n",
       "<p>5 rows × 75 columns</p>\n",
       "</div>"
      ],
      "text/plain": [
       "   OBJECTID  COUNT_     SPA  ELEM_  INT_  HIGH_ ELEM_CODE MID_CODE HIGH_CODE  \\\n",
       "0         1     5.0  WL03.4    126   205    311       LOV      HRM       WHS   \n",
       "1         2     5.0    WL03    126   205    311       LOV      HRM       WHS   \n",
       "2         3     5.0  WL27.2    118   202    305       HAM      BRM       LVH   \n",
       "3         4     5.0  WL32.1    132   205    311       MTV      HRM       WHS   \n",
       "4         5     5.0    WL02    126   205    311       LOV      HRM       WHS   \n",
       "\n",
       "  DISTRICT  ... HIGH_POP_N  HIGH_POP_P  TOT_POP_A TOT_POP_W TOT_POP_M2  \\\n",
       "0       WL  ...          0           0          1        37          0   \n",
       "1       WL  ...          0           0          0        83          5   \n",
       "2       WL  ...          0           0          0        11          0   \n",
       "3       WL  ...          0           0          8       205         14   \n",
       "4       WL  ...          0           0          9       170          3   \n",
       "\n",
       "  TOT_POP_B TOT_POP_H TOT_POP_N TOT_POP_P  \\\n",
       "0         2         7         0         0   \n",
       "1         0         6         1         0   \n",
       "2         1         5         0         0   \n",
       "3         8        23         1         0   \n",
       "4         0         5         0         0   \n",
       "\n",
       "                                            geometry  \n",
       "0  POLYGON ((11725868.086 7152149.054, 11725870.6...  \n",
       "1  POLYGON ((11726805.147 7160565.439, 11726826.6...  \n",
       "2  POLYGON ((11720159.464 7099502.139, 11720172.1...  \n",
       "3  POLYGON ((11694466.485 7097608.657, 11694418.5...  \n",
       "4  POLYGON ((11715899.154 7166497.655, 11715932.1...  \n",
       "\n",
       "[5 rows x 75 columns]"
      ]
     },
     "execution_count": 6,
     "metadata": {},
     "output_type": "execute_result"
    }
   ],
   "source": [
    "#students.head()\n",
    "#schools.head()\n",
    "spas.head()\n",
    "\n",
    "#uncomment the one you want to see"
   ]
  },
  {
   "cell_type": "markdown",
   "metadata": {},
   "source": [
    "## Analysis Using New SPAs Data"
   ]
  },
  {
   "cell_type": "code",
   "execution_count": 7,
   "metadata": {},
   "outputs": [
    {
     "data": {
      "text/plain": [
       "Index(['OBJECTID', 'COUNT_', 'SPA', 'ELEM_', 'INT_', 'HIGH_', 'ELEM_CODE',\n",
       "       'MID_CODE', 'HIGH_CODE', 'DISTRICT', 'UTILITIES', 'SHAPE_Leng',\n",
       "       'SHAPE_Area', 'STDYAREA_1', 'DISTRICT_1', 'PLANNING_Z', 'ELEM', 'MID',\n",
       "       'HIGH', 'UTILITIE_1', 'DISTRICT_2', 'MID_2018', 'HIGH_2018', 'PK', 'KG',\n",
       "       'GR1', 'GR2', 'GR3', 'GR4', 'GR5', 'GR6', 'GR7', 'GR8', 'GR9', 'GR10',\n",
       "       'GR11', 'GR12', 'TOTAL_KG_5', 'TOTAL_6_8', 'TOTAL_9_12', 'TOTAL_KG_1',\n",
       "       'TOTAL_PK_1', 'ELEM_POP', 'MID_POP', 'HIGH_POP', 'TOT_POP',\n",
       "       'ELEM_POP_A', 'ELEM_POP_W', 'ELEM_POP_M2', 'ELEM_POP_B', 'ELEM_POP_H',\n",
       "       'ELEM_POP_N', 'ELEM_POP_P', 'MID_POP_A', 'MID_POP_W', 'MID_POP_M2',\n",
       "       'MID_POP_B', 'MID_POP_H', 'MID_POP_N', 'MID_POP_P', 'HIGH_POP_A',\n",
       "       'HIGH_POP_W', 'HIGH_POP_M2', 'HIGH_POP_B', 'HIGH_POP_H', 'HIGH_POP_N',\n",
       "       'HIGH_POP_P', 'TOT_POP_A', 'TOT_POP_W', 'TOT_POP_M2', 'TOT_POP_B',\n",
       "       'TOT_POP_H', 'TOT_POP_N', 'TOT_POP_P', 'geometry'],\n",
       "      dtype='object')"
      ]
     },
     "execution_count": 7,
     "metadata": {},
     "output_type": "execute_result"
    }
   ],
   "source": [
    "spas.keys()"
   ]
  },
  {
   "cell_type": "code",
   "execution_count": 8,
   "metadata": {},
   "outputs": [
    {
     "name": "stderr",
     "output_type": "stream",
     "text": [
      "C:\\Users\\james\\Anaconda3\\lib\\site-packages\\pandas\\core\\indexing.py:376: SettingWithCopyWarning: \n",
      "A value is trying to be set on a copy of a slice from a DataFrame.\n",
      "Try using .loc[row_indexer,col_indexer] = value instead\n",
      "\n",
      "See the caveats in the documentation: http://pandas.pydata.org/pandas-docs/stable/user_guide/indexing.html#returning-a-view-versus-a-copy\n",
      "  self.obj[key] = _infer_fill_value(value)\n",
      "C:\\Users\\james\\Anaconda3\\lib\\site-packages\\pandas\\core\\indexing.py:494: SettingWithCopyWarning: \n",
      "A value is trying to be set on a copy of a slice from a DataFrame.\n",
      "Try using .loc[row_indexer,col_indexer] = value instead\n",
      "\n",
      "See the caveats in the documentation: http://pandas.pydata.org/pandas-docs/stable/user_guide/indexing.html#returning-a-view-versus-a-copy\n",
      "  self.obj[item] = s\n"
     ]
    },
    {
     "data": {
      "text/html": [
       "<div>\n",
       "<style scoped>\n",
       "    .dataframe tbody tr th:only-of-type {\n",
       "        vertical-align: middle;\n",
       "    }\n",
       "\n",
       "    .dataframe tbody tr th {\n",
       "        vertical-align: top;\n",
       "    }\n",
       "\n",
       "    .dataframe thead th {\n",
       "        text-align: right;\n",
       "    }\n",
       "</style>\n",
       "<table border=\"1\" class=\"dataframe\">\n",
       "  <thead>\n",
       "    <tr style=\"text-align: right;\">\n",
       "      <th></th>\n",
       "      <th>HIGH_POP_W</th>\n",
       "      <th>HIGH_POP_NW</th>\n",
       "    </tr>\n",
       "    <tr>\n",
       "      <th>HIGH_CODE</th>\n",
       "      <th></th>\n",
       "      <th></th>\n",
       "    </tr>\n",
       "  </thead>\n",
       "  <tbody>\n",
       "    <tr>\n",
       "      <td>BRH</td>\n",
       "      <td>0.499678</td>\n",
       "      <td>0.500322</td>\n",
       "    </tr>\n",
       "    <tr>\n",
       "      <td>BWH</td>\n",
       "      <td>0.559783</td>\n",
       "      <td>0.440217</td>\n",
       "    </tr>\n",
       "    <tr>\n",
       "      <td>DMH</td>\n",
       "      <td>0.445006</td>\n",
       "      <td>0.554994</td>\n",
       "    </tr>\n",
       "    <tr>\n",
       "      <td>FHS</td>\n",
       "      <td>0.494332</td>\n",
       "      <td>0.505668</td>\n",
       "    </tr>\n",
       "    <tr>\n",
       "      <td>HTH</td>\n",
       "      <td>0.536534</td>\n",
       "      <td>0.463466</td>\n",
       "    </tr>\n",
       "  </tbody>\n",
       "</table>\n",
       "</div>"
      ],
      "text/plain": [
       "           HIGH_POP_W  HIGH_POP_NW\n",
       "HIGH_CODE                         \n",
       "BRH          0.499678     0.500322\n",
       "BWH          0.559783     0.440217\n",
       "DMH          0.445006     0.554994\n",
       "FHS          0.494332     0.505668\n",
       "HTH          0.536534     0.463466"
      ]
     },
     "execution_count": 8,
     "metadata": {},
     "output_type": "execute_result"
    }
   ],
   "source": [
    "# Choose possible grade level; ELEM, MID, HIGH for SPAs\n",
    "\n",
    "grade = 'HIGH'\n",
    "asians = '{}_POP_A'.format(grade)\n",
    "whites = '{}_POP_W'.format(grade)\n",
    "mixed = '{}_POP_M2'.format(grade)\n",
    "blacks = '{}_POP_B'.format(grade)\n",
    "hispanics = '{}_POP_H'.format(grade)\n",
    "natives = '{}_POP_N'.format(grade)\n",
    "pacifics = '{}_POP_P'.format(grade)\n",
    "non_whites = '{}_POP_NW'.format(grade)\n",
    "\n",
    "\n",
    "spas_ethnic = spas[['{}_CODE'.format(grade) , asians, whites, mixed, blacks, hispanics, natives, pacifics, '{}_POP'.format(grade)]]\n",
    "spas_ethnic.loc[:, non_whites] = spas_ethnic.loc[:, asians] +  spas_ethnic.loc[:,blacks] +  spas_ethnic.loc[:,mixed] \\\n",
    "                            + spas_ethnic.loc[:,hispanics] + spas_ethnic.loc[:,natives] + spas_ethnic.loc[:,pacifics]\n",
    "spas_grouped_raw = spas_ethnic.groupby(['{}_CODE'.format(grade) ]).sum()\n",
    "spas_grouped = spas_grouped_raw.div(spas_grouped_raw['{}_POP'.format(grade)], axis=0)\n",
    "spas_grouped.drop([asians, mixed, blacks, hispanics, natives, pacifics, '{}_POP'.format(grade)], axis='columns', inplace=True)\n",
    "spas_grouped.head()\n",
    "\n",
    "#when generalizing one place to change and use the FORMAT style"
   ]
  },
  {
   "cell_type": "code",
   "execution_count": 9,
   "metadata": {},
   "outputs": [],
   "source": [
    "#NOTE: Run this only once or start from the previous cell on subsequent runs - since we use iterrows and create a new column, the calculated value will change on the next runs\n",
    "\n",
    "def get_measurements(df):\n",
    "    from numpy import log\n",
    "    import itertools\n",
    "    \n",
    "    # calculate absolute differences\n",
    "    abs_diffs = []\n",
    "    for row in df.iterrows():\n",
    "    #     print([val for val in itertools.permutations(row[1], 2)])\n",
    "    #     break\n",
    "        diffs = [abs(val[1] - val[0]) for val in itertools.permutations(row[1], 2)]\n",
    "        total = sum(diffs)/2\n",
    "        abs_diffs.append(total)\n",
    "    df.loc[:,'ABS_DIFF'] = abs_diffs\n",
    "\n",
    "    # calculate dissimilarity index\n",
    "    ind_diss = 0.5 * sum(abs(df[whites]/df[whites].sum() - df[non_whites]/df[non_whites].sum()))\n",
    "\n",
    "    # calculate entropy index\n",
    "    entropy = -(df[non_whites]*log(df[non_whites]) + df[whites]*log(df[whites]))\n",
    "    entropy.replace(float('NaN'),0, inplace=True)\n",
    "\n",
    "    df.loc[:,'ENTROPY_IND'] = entropy\n",
    "\n",
    "    return df, ind_diss\n",
    "\n"
   ]
  },
  {
   "cell_type": "code",
   "execution_count": 10,
   "metadata": {},
   "outputs": [
    {
     "name": "stdout",
     "output_type": "stream",
     "text": [
      "0.22418847183281645\n"
     ]
    },
    {
     "data": {
      "text/html": [
       "<div>\n",
       "<style scoped>\n",
       "    .dataframe tbody tr th:only-of-type {\n",
       "        vertical-align: middle;\n",
       "    }\n",
       "\n",
       "    .dataframe tbody tr th {\n",
       "        vertical-align: top;\n",
       "    }\n",
       "\n",
       "    .dataframe thead th {\n",
       "        text-align: right;\n",
       "    }\n",
       "</style>\n",
       "<table border=\"1\" class=\"dataframe\">\n",
       "  <thead>\n",
       "    <tr style=\"text-align: right;\">\n",
       "      <th></th>\n",
       "      <th>HIGH_POP_W</th>\n",
       "      <th>HIGH_POP_NW</th>\n",
       "      <th>ABS_DIFF</th>\n",
       "      <th>ENTROPY_IND</th>\n",
       "    </tr>\n",
       "    <tr>\n",
       "      <th>HIGH_CODE</th>\n",
       "      <th></th>\n",
       "      <th></th>\n",
       "      <th></th>\n",
       "      <th></th>\n",
       "    </tr>\n",
       "  </thead>\n",
       "  <tbody>\n",
       "  </tbody>\n",
       "</table>\n",
       "</div>"
      ],
      "text/plain": [
       "Empty DataFrame\n",
       "Columns: [HIGH_POP_W, HIGH_POP_NW, ABS_DIFF, ENTROPY_IND]\n",
       "Index: []"
      ]
     },
     "execution_count": 10,
     "metadata": {},
     "output_type": "execute_result"
    }
   ],
   "source": [
    "measurements_df, ind_diss_sa1 = get_measurements(spas_grouped)\n",
    "segregated_abs_diff = measurements_df[measurements_df['ABS_DIFF'] > 0.7]\n",
    "segregated_entropy = measurements_df[measurements_df['ENTROPY_IND'] < 0.4]\n",
    "print(ind_diss_sa1)\n",
    "segregated_entropy"
   ]
  },
  {
   "cell_type": "code",
   "execution_count": null,
   "metadata": {},
   "outputs": [],
   "source": []
  },
  {
   "cell_type": "code",
   "execution_count": 11,
   "metadata": {},
   "outputs": [
    {
     "data": {
      "text/html": [
       "<div>\n",
       "<style scoped>\n",
       "    .dataframe tbody tr th:only-of-type {\n",
       "        vertical-align: middle;\n",
       "    }\n",
       "\n",
       "    .dataframe tbody tr th {\n",
       "        vertical-align: top;\n",
       "    }\n",
       "\n",
       "    .dataframe thead th {\n",
       "        text-align: right;\n",
       "    }\n",
       "</style>\n",
       "<table border=\"1\" class=\"dataframe\">\n",
       "  <thead>\n",
       "    <tr style=\"text-align: right;\">\n",
       "      <th></th>\n",
       "      <th>HIGH_POP_W</th>\n",
       "      <th>HIGH_POP_NW</th>\n",
       "      <th>ABS_DIFF</th>\n",
       "      <th>ENTROPY_IND</th>\n",
       "    </tr>\n",
       "    <tr>\n",
       "      <th>HIGH_CODE</th>\n",
       "      <th></th>\n",
       "      <th></th>\n",
       "      <th></th>\n",
       "      <th></th>\n",
       "    </tr>\n",
       "  </thead>\n",
       "  <tbody>\n",
       "    <tr>\n",
       "      <td>BRH</td>\n",
       "      <td>0.499678</td>\n",
       "      <td>0.500322</td>\n",
       "      <td>0.000643</td>\n",
       "      <td>0.693147</td>\n",
       "    </tr>\n",
       "    <tr>\n",
       "      <td>BWH</td>\n",
       "      <td>0.559783</td>\n",
       "      <td>0.440217</td>\n",
       "      <td>0.119565</td>\n",
       "      <td>0.685982</td>\n",
       "    </tr>\n",
       "    <tr>\n",
       "      <td>DMH</td>\n",
       "      <td>0.445006</td>\n",
       "      <td>0.554994</td>\n",
       "      <td>0.109987</td>\n",
       "      <td>0.687086</td>\n",
       "    </tr>\n",
       "    <tr>\n",
       "      <td>FHS</td>\n",
       "      <td>0.494332</td>\n",
       "      <td>0.505668</td>\n",
       "      <td>0.011336</td>\n",
       "      <td>0.693083</td>\n",
       "    </tr>\n",
       "    <tr>\n",
       "      <td>HTH</td>\n",
       "      <td>0.536534</td>\n",
       "      <td>0.463466</td>\n",
       "      <td>0.073069</td>\n",
       "      <td>0.690475</td>\n",
       "    </tr>\n",
       "    <tr>\n",
       "      <td>JCH</td>\n",
       "      <td>0.397834</td>\n",
       "      <td>0.602166</td>\n",
       "      <td>0.204333</td>\n",
       "      <td>0.672123</td>\n",
       "    </tr>\n",
       "    <tr>\n",
       "      <td>LCH</td>\n",
       "      <td>0.617251</td>\n",
       "      <td>0.382749</td>\n",
       "      <td>0.234501</td>\n",
       "      <td>0.665394</td>\n",
       "    </tr>\n",
       "    <tr>\n",
       "      <td>LVH</td>\n",
       "      <td>0.783880</td>\n",
       "      <td>0.216120</td>\n",
       "      <td>0.567760</td>\n",
       "      <td>0.521953</td>\n",
       "    </tr>\n",
       "    <tr>\n",
       "      <td>PFH</td>\n",
       "      <td>0.504132</td>\n",
       "      <td>0.495868</td>\n",
       "      <td>0.008264</td>\n",
       "      <td>0.693113</td>\n",
       "    </tr>\n",
       "    <tr>\n",
       "      <td>PVH</td>\n",
       "      <td>0.144881</td>\n",
       "      <td>0.855119</td>\n",
       "      <td>0.710238</td>\n",
       "      <td>0.413726</td>\n",
       "    </tr>\n",
       "    <tr>\n",
       "      <td>RRH</td>\n",
       "      <td>0.377215</td>\n",
       "      <td>0.622785</td>\n",
       "      <td>0.245570</td>\n",
       "      <td>0.662684</td>\n",
       "    </tr>\n",
       "    <tr>\n",
       "      <td>RVH</td>\n",
       "      <td>0.562375</td>\n",
       "      <td>0.437625</td>\n",
       "      <td>0.124750</td>\n",
       "      <td>0.685346</td>\n",
       "    </tr>\n",
       "    <tr>\n",
       "      <td>SBH</td>\n",
       "      <td>0.627811</td>\n",
       "      <td>0.372189</td>\n",
       "      <td>0.255621</td>\n",
       "      <td>0.660111</td>\n",
       "    </tr>\n",
       "    <tr>\n",
       "      <td>THS</td>\n",
       "      <td>0.551074</td>\n",
       "      <td>0.448926</td>\n",
       "      <td>0.102147</td>\n",
       "      <td>0.687921</td>\n",
       "    </tr>\n",
       "    <tr>\n",
       "      <td>WHS</td>\n",
       "      <td>0.828955</td>\n",
       "      <td>0.171045</td>\n",
       "      <td>0.657911</td>\n",
       "      <td>0.457539</td>\n",
       "    </tr>\n",
       "  </tbody>\n",
       "</table>\n",
       "</div>"
      ],
      "text/plain": [
       "           HIGH_POP_W  HIGH_POP_NW  ABS_DIFF  ENTROPY_IND\n",
       "HIGH_CODE                                                \n",
       "BRH          0.499678     0.500322  0.000643     0.693147\n",
       "BWH          0.559783     0.440217  0.119565     0.685982\n",
       "DMH          0.445006     0.554994  0.109987     0.687086\n",
       "FHS          0.494332     0.505668  0.011336     0.693083\n",
       "HTH          0.536534     0.463466  0.073069     0.690475\n",
       "JCH          0.397834     0.602166  0.204333     0.672123\n",
       "LCH          0.617251     0.382749  0.234501     0.665394\n",
       "LVH          0.783880     0.216120  0.567760     0.521953\n",
       "PFH          0.504132     0.495868  0.008264     0.693113\n",
       "PVH          0.144881     0.855119  0.710238     0.413726\n",
       "RRH          0.377215     0.622785  0.245570     0.662684\n",
       "RVH          0.562375     0.437625  0.124750     0.685346\n",
       "SBH          0.627811     0.372189  0.255621     0.660111\n",
       "THS          0.551074     0.448926  0.102147     0.687921\n",
       "WHS          0.828955     0.171045  0.657911     0.457539"
      ]
     },
     "execution_count": 11,
     "metadata": {},
     "output_type": "execute_result"
    }
   ],
   "source": [
    "# measurements_df.loc[interested_districts,:]\n",
    "measurements_df"
   ]
  },
  {
   "cell_type": "code",
   "execution_count": 12,
   "metadata": {},
   "outputs": [],
   "source": [
    "ax, props = spas_grouped.boxplot(column=[whites, non_whites], figsize=(12,8), return_type='both')"
   ]
  },
  {
   "cell_type": "markdown",
   "metadata": {},
   "source": [
    "## Conclusions for Original Data"
   ]
  },
  {
   "cell_type": "markdown",
   "metadata": {},
   "source": [
    "\n",
    "Overall, using the dissimilarity index (0.2), there does not appear to be much segregation within the districts.\n",
    "\n",
    "However, individually, using the absolute differences (0.7 cut-off) and entropy index (0.4 cut-off), there seems to be evidence of segregation in 1 district; PVH. \n"
   ]
  },
  {
   "cell_type": "code",
   "execution_count": 13,
   "metadata": {},
   "outputs": [
    {
     "data": {
      "text/html": [
       "<div>\n",
       "<style scoped>\n",
       "    .dataframe tbody tr th:only-of-type {\n",
       "        vertical-align: middle;\n",
       "    }\n",
       "\n",
       "    .dataframe tbody tr th {\n",
       "        vertical-align: top;\n",
       "    }\n",
       "\n",
       "    .dataframe thead th {\n",
       "        text-align: right;\n",
       "    }\n",
       "</style>\n",
       "<table border=\"1\" class=\"dataframe\">\n",
       "  <thead>\n",
       "    <tr style=\"text-align: right;\">\n",
       "      <th></th>\n",
       "      <th>HIGH_POP_W</th>\n",
       "      <th>HIGH_POP_NW</th>\n",
       "      <th>ABS_DIFF</th>\n",
       "      <th>ENTROPY_IND</th>\n",
       "    </tr>\n",
       "    <tr>\n",
       "      <th>HIGH_CODE</th>\n",
       "      <th></th>\n",
       "      <th></th>\n",
       "      <th></th>\n",
       "      <th></th>\n",
       "    </tr>\n",
       "  </thead>\n",
       "  <tbody>\n",
       "    <tr>\n",
       "      <td>PVH</td>\n",
       "      <td>0.144881</td>\n",
       "      <td>0.855119</td>\n",
       "      <td>0.710238</td>\n",
       "      <td>0.413726</td>\n",
       "    </tr>\n",
       "  </tbody>\n",
       "</table>\n",
       "</div>"
      ],
      "text/plain": [
       "           HIGH_POP_W  HIGH_POP_NW  ABS_DIFF  ENTROPY_IND\n",
       "HIGH_CODE                                                \n",
       "PVH          0.144881     0.855119  0.710238     0.413726"
      ]
     },
     "execution_count": 13,
     "metadata": {},
     "output_type": "execute_result"
    }
   ],
   "source": [
    "segregated_abs_diff"
   ]
  },
  {
   "cell_type": "code",
   "execution_count": 14,
   "metadata": {
    "scrolled": true
   },
   "outputs": [
    {
     "data": {
      "text/html": [
       "<div>\n",
       "<style scoped>\n",
       "    .dataframe tbody tr th:only-of-type {\n",
       "        vertical-align: middle;\n",
       "    }\n",
       "\n",
       "    .dataframe tbody tr th {\n",
       "        vertical-align: top;\n",
       "    }\n",
       "\n",
       "    .dataframe thead th {\n",
       "        text-align: right;\n",
       "    }\n",
       "</style>\n",
       "<table border=\"1\" class=\"dataframe\">\n",
       "  <thead>\n",
       "    <tr style=\"text-align: right;\">\n",
       "      <th></th>\n",
       "      <th>HIGH_POP_W</th>\n",
       "      <th>HIGH_POP_NW</th>\n",
       "      <th>ABS_DIFF</th>\n",
       "      <th>ENTROPY_IND</th>\n",
       "    </tr>\n",
       "    <tr>\n",
       "      <th>HIGH_CODE</th>\n",
       "      <th></th>\n",
       "      <th></th>\n",
       "      <th></th>\n",
       "      <th></th>\n",
       "    </tr>\n",
       "  </thead>\n",
       "  <tbody>\n",
       "  </tbody>\n",
       "</table>\n",
       "</div>"
      ],
      "text/plain": [
       "Empty DataFrame\n",
       "Columns: [HIGH_POP_W, HIGH_POP_NW, ABS_DIFF, ENTROPY_IND]\n",
       "Index: []"
      ]
     },
     "execution_count": 14,
     "metadata": {},
     "output_type": "execute_result"
    }
   ],
   "source": [
    "segregated_entropy"
   ]
  },
  {
   "cell_type": "code",
   "execution_count": 15,
   "metadata": {},
   "outputs": [],
   "source": [
    "# legend_handles = [Patch(facecolor='red', label='GUI'),\n",
    "#                 Patch(facecolor='green', label='LIN'),\n",
    "#                 Patch(facecolor='yellow', label='SUG'),\n",
    "#                 Patch(facecolor='orange', label='SUL')]\n",
    "\n",
    "# ax = spas.boundary.plot(figsize=(15,14))\n",
    "# spas[spas['ELEM_CODE'] == 'GUI'].plot(ax=ax, color='red')\n",
    "# spas[spas['ELEM_CODE'] == 'LIN'].plot(ax=ax, color='green')\n",
    "# spas[spas['ELEM_CODE'] == 'SUG'].plot(ax=ax, color='yellow')\n",
    "# spas[spas['ELEM_CODE'] == 'SUL'].plot(ax=ax, color='orange')\n",
    "# # ax.legend\n",
    "# ax.legend(handles=legend_handles)"
   ]
  },
  {
   "cell_type": "markdown",
   "metadata": {},
   "source": [
    "# Comparison to data generated by Algorithms"
   ]
  },
  {
   "cell_type": "code",
   "execution_count": 16,
   "metadata": {},
   "outputs": [],
   "source": [
    "#spas_processed = gpd.read_file('new_SPAs_2017_2018.json', driver='GeoJSON')\n",
    "# sa = json.loads('./results/SA/run7_ES_SA.json')\n",
    "# shc = gpd.read_file('./results/SHC/run7_ES_SHC.json', driver='GeoJSON')\n",
    "# ts = gpd.read_file('./results/TS/run7_ES_TS.json', driver='GeoJSON')\n",
    "\n",
    "import json\n",
    "\n",
    "def retrieve_output_data(algo, level, plan):\n",
    "    output_df = pd.DataFrame({\"SPA\": [], \"NEW_{}_CODE\".format(grade): []})  #grade is a global variable\n",
    "    result_dir = 'results'\n",
    "    #Load the file as json. \n",
    "    with open('{}/{}/run7_{}_{}.json'.format(result_dir, algo, level, algo)) as file:\n",
    "        #readlines() reads the file as string and loads() loads it into a dict\n",
    "        obj = json.loads(''.join(file.readlines()))\n",
    "\n",
    "        #Then iterate its items() as key value pairs\n",
    "        for spa_code, elem_code in obj[str(plan)]['info']['Final']['zoneIds'].items():\n",
    "            output_df.loc[len(output_df.index)] = [spa_code, elem_code]\n",
    "\n",
    "    return output_df\n",
    "#new line to run the newly downloaded json files, should move around anywhere."
   ]
  },
  {
   "cell_type": "code",
   "execution_count": 17,
   "metadata": {},
   "outputs": [],
   "source": [
    "import numpy as np\n"
   ]
  },
  {
   "cell_type": "code",
   "execution_count": 18,
   "metadata": {},
   "outputs": [],
   "source": [
    "def group_data(merged_spas):\n",
    "    merged_spas_ethnic = merged_spas[['NEW_{}_CODE'.format(grade) , asians, whites, mixed, blacks, hispanics, natives, pacifics, '{}_POP'.format(grade), 'geometry']]\n",
    "    merged_spas_ethnic.loc[:, non_whites] = merged_spas_ethnic.loc[:, asians] +  merged_spas_ethnic.loc[:,blacks] +  merged_spas_ethnic.loc[:,mixed] \\\n",
    "                                + merged_spas_ethnic.loc[:,hispanics] + merged_spas_ethnic.loc[:,natives] + merged_spas_ethnic.loc[:,pacifics]\n",
    "    merged_spa_grouped_raw = merged_spas_ethnic.groupby(['NEW_{}_CODE'.format(grade) ]).sum()\n",
    "    merged_spa_grouped = merged_spa_grouped_raw.div(merged_spa_grouped_raw['{}_POP'.format(grade)], axis=0)\n",
    "    merged_spa_grouped.drop([asians, mixed, blacks, hispanics, natives, pacifics, '{}_POP'.format(grade)], axis='columns', inplace=True)\n",
    "    return merged_spa_grouped\n"
   ]
  },
  {
   "cell_type": "code",
   "execution_count": 19,
   "metadata": {},
   "outputs": [],
   "source": [
    "ind_diss = []"
   ]
  },
  {
   "cell_type": "markdown",
   "metadata": {},
   "source": [
    "## Output Plan 1"
   ]
  },
  {
   "cell_type": "markdown",
   "metadata": {},
   "source": [
    "### Simulated Annealing (SA)"
   ]
  },
  {
   "cell_type": "code",
   "execution_count": 20,
   "metadata": {},
   "outputs": [
    {
     "name": "stderr",
     "output_type": "stream",
     "text": [
      "C:\\Users\\james\\Anaconda3\\lib\\site-packages\\pandas\\core\\indexing.py:376: SettingWithCopyWarning: \n",
      "A value is trying to be set on a copy of a slice from a DataFrame.\n",
      "Try using .loc[row_indexer,col_indexer] = value instead\n",
      "\n",
      "See the caveats in the documentation: http://pandas.pydata.org/pandas-docs/stable/user_guide/indexing.html#returning-a-view-versus-a-copy\n",
      "  self.obj[key] = _infer_fill_value(value)\n",
      "C:\\Users\\james\\Anaconda3\\lib\\site-packages\\pandas\\core\\indexing.py:494: SettingWithCopyWarning: \n",
      "A value is trying to be set on a copy of a slice from a DataFrame.\n",
      "Try using .loc[row_indexer,col_indexer] = value instead\n",
      "\n",
      "See the caveats in the documentation: http://pandas.pydata.org/pandas-docs/stable/user_guide/indexing.html#returning-a-view-versus-a-copy\n",
      "  self.obj[item] = s\n"
     ]
    },
    {
     "data": {
      "text/html": [
       "<div>\n",
       "<style scoped>\n",
       "    .dataframe tbody tr th:only-of-type {\n",
       "        vertical-align: middle;\n",
       "    }\n",
       "\n",
       "    .dataframe tbody tr th {\n",
       "        vertical-align: top;\n",
       "    }\n",
       "\n",
       "    .dataframe thead th {\n",
       "        text-align: right;\n",
       "    }\n",
       "</style>\n",
       "<table border=\"1\" class=\"dataframe\">\n",
       "  <thead>\n",
       "    <tr style=\"text-align: right;\">\n",
       "      <th></th>\n",
       "      <th>HIGH_POP_W</th>\n",
       "      <th>HIGH_POP_NW</th>\n",
       "    </tr>\n",
       "    <tr>\n",
       "      <th>NEW_HIGH_CODE</th>\n",
       "      <th></th>\n",
       "      <th></th>\n",
       "    </tr>\n",
       "  </thead>\n",
       "  <tbody>\n",
       "    <tr>\n",
       "      <td>BRH</td>\n",
       "      <td>0.564047</td>\n",
       "      <td>0.435953</td>\n",
       "    </tr>\n",
       "    <tr>\n",
       "      <td>BWH</td>\n",
       "      <td>0.463115</td>\n",
       "      <td>0.536885</td>\n",
       "    </tr>\n",
       "    <tr>\n",
       "      <td>DMH</td>\n",
       "      <td>0.434715</td>\n",
       "      <td>0.565285</td>\n",
       "    </tr>\n",
       "    <tr>\n",
       "      <td>FHS</td>\n",
       "      <td>0.464240</td>\n",
       "      <td>0.535760</td>\n",
       "    </tr>\n",
       "    <tr>\n",
       "      <td>HTH</td>\n",
       "      <td>0.727342</td>\n",
       "      <td>0.272658</td>\n",
       "    </tr>\n",
       "  </tbody>\n",
       "</table>\n",
       "</div>"
      ],
      "text/plain": [
       "               HIGH_POP_W  HIGH_POP_NW\n",
       "NEW_HIGH_CODE                         \n",
       "BRH              0.564047     0.435953\n",
       "BWH              0.463115     0.536885\n",
       "DMH              0.434715     0.565285\n",
       "FHS              0.464240     0.535760\n",
       "HTH              0.727342     0.272658"
      ]
     },
     "execution_count": 20,
     "metadata": {},
     "output_type": "execute_result"
    }
   ],
   "source": [
    "plan = 1\n",
    "algo = 'SA'\n",
    "level = 'HS'\n",
    "sa_output_df = retrieve_output_data(algo, level, plan)\n",
    "new_spas_sa = pd.merge(spas, sa_output_df, on='SPA')\n",
    "new_spas_sa_grouped = group_data(new_spas_sa)\n",
    "# vals= np.concatenate([new_spas_sa_grouped.loc[i,:].values for i in interested_districts])\n",
    "# data_array[plan-1,:] = vals\n",
    "\n",
    "new_spas_sa_grouped.head()\n",
    "#To change everything down to SA or TS"
   ]
  },
  {
   "cell_type": "code",
   "execution_count": 21,
   "metadata": {
    "scrolled": true
   },
   "outputs": [
    {
     "name": "stdout",
     "output_type": "stream",
     "text": [
      "0.2405342946496926\n"
     ]
    },
    {
     "data": {
      "text/html": [
       "<div>\n",
       "<style scoped>\n",
       "    .dataframe tbody tr th:only-of-type {\n",
       "        vertical-align: middle;\n",
       "    }\n",
       "\n",
       "    .dataframe tbody tr th {\n",
       "        vertical-align: top;\n",
       "    }\n",
       "\n",
       "    .dataframe thead th {\n",
       "        text-align: right;\n",
       "    }\n",
       "</style>\n",
       "<table border=\"1\" class=\"dataframe\">\n",
       "  <thead>\n",
       "    <tr style=\"text-align: right;\">\n",
       "      <th></th>\n",
       "      <th>HIGH_POP_W</th>\n",
       "      <th>HIGH_POP_NW</th>\n",
       "      <th>ABS_DIFF</th>\n",
       "      <th>ENTROPY_IND</th>\n",
       "    </tr>\n",
       "    <tr>\n",
       "      <th>NEW_HIGH_CODE</th>\n",
       "      <th></th>\n",
       "      <th></th>\n",
       "      <th></th>\n",
       "      <th></th>\n",
       "    </tr>\n",
       "  </thead>\n",
       "  <tbody>\n",
       "  </tbody>\n",
       "</table>\n",
       "</div>"
      ],
      "text/plain": [
       "Empty DataFrame\n",
       "Columns: [HIGH_POP_W, HIGH_POP_NW, ABS_DIFF, ENTROPY_IND]\n",
       "Index: []"
      ]
     },
     "execution_count": 21,
     "metadata": {},
     "output_type": "execute_result"
    }
   ],
   "source": [
    "measurements_df, ind_diss_sa1 = get_measurements(new_spas_sa_grouped)\n",
    "segregated_abs_diff_sa1 = measurements_df[measurements_df['ABS_DIFF'] > 0.7]\n",
    "segregated_entropy_sa1 = measurements_df[measurements_df['ENTROPY_IND'] < 0.4]\n",
    "ind_diss.append(ind_diss_sa1)\n",
    "print(ind_diss_sa1)\n",
    "segregated_entropy_sa1"
   ]
  },
  {
   "cell_type": "markdown",
   "metadata": {},
   "source": [
    "## Output Plan 2"
   ]
  },
  {
   "cell_type": "markdown",
   "metadata": {},
   "source": [
    "### Simulated Annealing (SA)"
   ]
  },
  {
   "cell_type": "code",
   "execution_count": 22,
   "metadata": {},
   "outputs": [
    {
     "data": {
      "text/html": [
       "<div>\n",
       "<style scoped>\n",
       "    .dataframe tbody tr th:only-of-type {\n",
       "        vertical-align: middle;\n",
       "    }\n",
       "\n",
       "    .dataframe tbody tr th {\n",
       "        vertical-align: top;\n",
       "    }\n",
       "\n",
       "    .dataframe thead th {\n",
       "        text-align: right;\n",
       "    }\n",
       "</style>\n",
       "<table border=\"1\" class=\"dataframe\">\n",
       "  <thead>\n",
       "    <tr style=\"text-align: right;\">\n",
       "      <th></th>\n",
       "      <th>HIGH_POP_W</th>\n",
       "      <th>HIGH_POP_NW</th>\n",
       "    </tr>\n",
       "    <tr>\n",
       "      <th>NEW_HIGH_CODE</th>\n",
       "      <th></th>\n",
       "      <th></th>\n",
       "    </tr>\n",
       "  </thead>\n",
       "  <tbody>\n",
       "    <tr>\n",
       "      <td>BRH</td>\n",
       "      <td>0.431045</td>\n",
       "      <td>0.568955</td>\n",
       "    </tr>\n",
       "    <tr>\n",
       "      <td>BWH</td>\n",
       "      <td>0.570787</td>\n",
       "      <td>0.429213</td>\n",
       "    </tr>\n",
       "    <tr>\n",
       "      <td>DMH</td>\n",
       "      <td>0.446220</td>\n",
       "      <td>0.553780</td>\n",
       "    </tr>\n",
       "    <tr>\n",
       "      <td>FHS</td>\n",
       "      <td>0.456304</td>\n",
       "      <td>0.543696</td>\n",
       "    </tr>\n",
       "    <tr>\n",
       "      <td>HTH</td>\n",
       "      <td>0.602296</td>\n",
       "      <td>0.397704</td>\n",
       "    </tr>\n",
       "  </tbody>\n",
       "</table>\n",
       "</div>"
      ],
      "text/plain": [
       "               HIGH_POP_W  HIGH_POP_NW\n",
       "NEW_HIGH_CODE                         \n",
       "BRH              0.431045     0.568955\n",
       "BWH              0.570787     0.429213\n",
       "DMH              0.446220     0.553780\n",
       "FHS              0.456304     0.543696\n",
       "HTH              0.602296     0.397704"
      ]
     },
     "execution_count": 22,
     "metadata": {},
     "output_type": "execute_result"
    }
   ],
   "source": [
    "plan = 2\n",
    "sa_output_df = retrieve_output_data(algo, level, plan)\n",
    "new_spas_sa = pd.merge(spas, sa_output_df, on='SPA')\n",
    "new_spas_sa_grouped = group_data(new_spas_sa)\n",
    "# vals= np.concatenate([new_spas_sa_grouped.loc[i,:].values for i in interested_districts])\n",
    "# data_array[plan-1,:] = vals\n",
    "\n",
    "new_spas_sa_grouped.head()\n",
    "#To change everything down to SA or TS"
   ]
  },
  {
   "cell_type": "code",
   "execution_count": 23,
   "metadata": {
    "scrolled": true
   },
   "outputs": [
    {
     "name": "stdout",
     "output_type": "stream",
     "text": [
      "0.2563467385054629\n"
     ]
    },
    {
     "data": {
      "text/html": [
       "<div>\n",
       "<style scoped>\n",
       "    .dataframe tbody tr th:only-of-type {\n",
       "        vertical-align: middle;\n",
       "    }\n",
       "\n",
       "    .dataframe tbody tr th {\n",
       "        vertical-align: top;\n",
       "    }\n",
       "\n",
       "    .dataframe thead th {\n",
       "        text-align: right;\n",
       "    }\n",
       "</style>\n",
       "<table border=\"1\" class=\"dataframe\">\n",
       "  <thead>\n",
       "    <tr style=\"text-align: right;\">\n",
       "      <th></th>\n",
       "      <th>HIGH_POP_W</th>\n",
       "      <th>HIGH_POP_NW</th>\n",
       "      <th>ABS_DIFF</th>\n",
       "      <th>ENTROPY_IND</th>\n",
       "    </tr>\n",
       "    <tr>\n",
       "      <th>NEW_HIGH_CODE</th>\n",
       "      <th></th>\n",
       "      <th></th>\n",
       "      <th></th>\n",
       "      <th></th>\n",
       "    </tr>\n",
       "  </thead>\n",
       "  <tbody>\n",
       "  </tbody>\n",
       "</table>\n",
       "</div>"
      ],
      "text/plain": [
       "Empty DataFrame\n",
       "Columns: [HIGH_POP_W, HIGH_POP_NW, ABS_DIFF, ENTROPY_IND]\n",
       "Index: []"
      ]
     },
     "execution_count": 23,
     "metadata": {},
     "output_type": "execute_result"
    }
   ],
   "source": [
    "measurements_df, ind_diss_sa1 = get_measurements(new_spas_sa_grouped)\n",
    "segregated_abs_diff_sa2 = measurements_df[measurements_df['ABS_DIFF'] > 0.7]\n",
    "segregated_entropy_sa2 = measurements_df[measurements_df['ENTROPY_IND'] < 0.4]\n",
    "ind_diss.append(ind_diss_sa1)\n",
    "print(ind_diss_sa1)\n",
    "segregated_entropy_sa2"
   ]
  },
  {
   "cell_type": "markdown",
   "metadata": {},
   "source": [
    "## Output Plan 3"
   ]
  },
  {
   "cell_type": "markdown",
   "metadata": {},
   "source": [
    "### Simulated Annealing (SA)"
   ]
  },
  {
   "cell_type": "code",
   "execution_count": 24,
   "metadata": {},
   "outputs": [
    {
     "data": {
      "text/html": [
       "<div>\n",
       "<style scoped>\n",
       "    .dataframe tbody tr th:only-of-type {\n",
       "        vertical-align: middle;\n",
       "    }\n",
       "\n",
       "    .dataframe tbody tr th {\n",
       "        vertical-align: top;\n",
       "    }\n",
       "\n",
       "    .dataframe thead th {\n",
       "        text-align: right;\n",
       "    }\n",
       "</style>\n",
       "<table border=\"1\" class=\"dataframe\">\n",
       "  <thead>\n",
       "    <tr style=\"text-align: right;\">\n",
       "      <th></th>\n",
       "      <th>HIGH_POP_W</th>\n",
       "      <th>HIGH_POP_NW</th>\n",
       "    </tr>\n",
       "    <tr>\n",
       "      <th>NEW_HIGH_CODE</th>\n",
       "      <th></th>\n",
       "      <th></th>\n",
       "    </tr>\n",
       "  </thead>\n",
       "  <tbody>\n",
       "    <tr>\n",
       "      <td>BRH</td>\n",
       "      <td>0.475617</td>\n",
       "      <td>0.524383</td>\n",
       "    </tr>\n",
       "    <tr>\n",
       "      <td>BWH</td>\n",
       "      <td>0.610465</td>\n",
       "      <td>0.389535</td>\n",
       "    </tr>\n",
       "    <tr>\n",
       "      <td>DMH</td>\n",
       "      <td>0.206057</td>\n",
       "      <td>0.793943</td>\n",
       "    </tr>\n",
       "    <tr>\n",
       "      <td>FHS</td>\n",
       "      <td>0.458950</td>\n",
       "      <td>0.541050</td>\n",
       "    </tr>\n",
       "    <tr>\n",
       "      <td>HTH</td>\n",
       "      <td>0.775907</td>\n",
       "      <td>0.224093</td>\n",
       "    </tr>\n",
       "  </tbody>\n",
       "</table>\n",
       "</div>"
      ],
      "text/plain": [
       "               HIGH_POP_W  HIGH_POP_NW\n",
       "NEW_HIGH_CODE                         \n",
       "BRH              0.475617     0.524383\n",
       "BWH              0.610465     0.389535\n",
       "DMH              0.206057     0.793943\n",
       "FHS              0.458950     0.541050\n",
       "HTH              0.775907     0.224093"
      ]
     },
     "execution_count": 24,
     "metadata": {},
     "output_type": "execute_result"
    }
   ],
   "source": [
    "plan = 3\n",
    "sa_output_df = retrieve_output_data(algo, level, plan)\n",
    "new_spas_sa = pd.merge(spas, sa_output_df, on='SPA')\n",
    "new_spas_sa_grouped = group_data(new_spas_sa)\n",
    "# vals= np.concatenate([new_spas_sa_grouped.loc[i,:].values for i in interested_districts])\n",
    "# data_array[plan-1,:] = vals\n",
    "\n",
    "new_spas_sa_grouped.head()\n",
    "#To change everything down to SA or TS"
   ]
  },
  {
   "cell_type": "code",
   "execution_count": 25,
   "metadata": {
    "scrolled": true
   },
   "outputs": [
    {
     "name": "stdout",
     "output_type": "stream",
     "text": [
      "0.2614020318596999\n"
     ]
    },
    {
     "data": {
      "text/html": [
       "<div>\n",
       "<style scoped>\n",
       "    .dataframe tbody tr th:only-of-type {\n",
       "        vertical-align: middle;\n",
       "    }\n",
       "\n",
       "    .dataframe tbody tr th {\n",
       "        vertical-align: top;\n",
       "    }\n",
       "\n",
       "    .dataframe thead th {\n",
       "        text-align: right;\n",
       "    }\n",
       "</style>\n",
       "<table border=\"1\" class=\"dataframe\">\n",
       "  <thead>\n",
       "    <tr style=\"text-align: right;\">\n",
       "      <th></th>\n",
       "      <th>HIGH_POP_W</th>\n",
       "      <th>HIGH_POP_NW</th>\n",
       "      <th>ABS_DIFF</th>\n",
       "      <th>ENTROPY_IND</th>\n",
       "    </tr>\n",
       "    <tr>\n",
       "      <th>NEW_HIGH_CODE</th>\n",
       "      <th></th>\n",
       "      <th></th>\n",
       "      <th></th>\n",
       "      <th></th>\n",
       "    </tr>\n",
       "  </thead>\n",
       "  <tbody>\n",
       "  </tbody>\n",
       "</table>\n",
       "</div>"
      ],
      "text/plain": [
       "Empty DataFrame\n",
       "Columns: [HIGH_POP_W, HIGH_POP_NW, ABS_DIFF, ENTROPY_IND]\n",
       "Index: []"
      ]
     },
     "execution_count": 25,
     "metadata": {},
     "output_type": "execute_result"
    }
   ],
   "source": [
    "measurements_df, ind_diss_sa1 = get_measurements(new_spas_sa_grouped)\n",
    "segregated_abs_diff_sa3 = measurements_df[measurements_df['ABS_DIFF'] > 0.7]\n",
    "segregated_entropy_sa3 = measurements_df[measurements_df['ENTROPY_IND'] < 0.4]\n",
    "ind_diss.append(ind_diss_sa1)\n",
    "print(ind_diss_sa1)\n",
    "segregated_entropy_sa3"
   ]
  },
  {
   "cell_type": "markdown",
   "metadata": {},
   "source": [
    "## Output Plan 4"
   ]
  },
  {
   "cell_type": "markdown",
   "metadata": {},
   "source": [
    "### Simulated Annealing (SA)"
   ]
  },
  {
   "cell_type": "code",
   "execution_count": 26,
   "metadata": {},
   "outputs": [
    {
     "data": {
      "text/html": [
       "<div>\n",
       "<style scoped>\n",
       "    .dataframe tbody tr th:only-of-type {\n",
       "        vertical-align: middle;\n",
       "    }\n",
       "\n",
       "    .dataframe tbody tr th {\n",
       "        vertical-align: top;\n",
       "    }\n",
       "\n",
       "    .dataframe thead th {\n",
       "        text-align: right;\n",
       "    }\n",
       "</style>\n",
       "<table border=\"1\" class=\"dataframe\">\n",
       "  <thead>\n",
       "    <tr style=\"text-align: right;\">\n",
       "      <th></th>\n",
       "      <th>HIGH_POP_W</th>\n",
       "      <th>HIGH_POP_NW</th>\n",
       "    </tr>\n",
       "    <tr>\n",
       "      <th>NEW_HIGH_CODE</th>\n",
       "      <th></th>\n",
       "      <th></th>\n",
       "    </tr>\n",
       "  </thead>\n",
       "  <tbody>\n",
       "    <tr>\n",
       "      <td>BRH</td>\n",
       "      <td>0.498903</td>\n",
       "      <td>0.501097</td>\n",
       "    </tr>\n",
       "    <tr>\n",
       "      <td>BWH</td>\n",
       "      <td>0.544841</td>\n",
       "      <td>0.455159</td>\n",
       "    </tr>\n",
       "    <tr>\n",
       "      <td>DMH</td>\n",
       "      <td>0.370320</td>\n",
       "      <td>0.629680</td>\n",
       "    </tr>\n",
       "    <tr>\n",
       "      <td>FHS</td>\n",
       "      <td>0.460993</td>\n",
       "      <td>0.539007</td>\n",
       "    </tr>\n",
       "    <tr>\n",
       "      <td>HTH</td>\n",
       "      <td>0.554386</td>\n",
       "      <td>0.445614</td>\n",
       "    </tr>\n",
       "  </tbody>\n",
       "</table>\n",
       "</div>"
      ],
      "text/plain": [
       "               HIGH_POP_W  HIGH_POP_NW\n",
       "NEW_HIGH_CODE                         \n",
       "BRH              0.498903     0.501097\n",
       "BWH              0.544841     0.455159\n",
       "DMH              0.370320     0.629680\n",
       "FHS              0.460993     0.539007\n",
       "HTH              0.554386     0.445614"
      ]
     },
     "execution_count": 26,
     "metadata": {},
     "output_type": "execute_result"
    }
   ],
   "source": [
    "plan = 4\n",
    "sa_output_df = retrieve_output_data(algo, level, plan)\n",
    "new_spas_sa = pd.merge(spas, sa_output_df, on='SPA')\n",
    "new_spas_sa_grouped = group_data(new_spas_sa)\n",
    "# vals= np.concatenate([new_spas_sa_grouped.loc[i,:].values for i in interested_districts])\n",
    "# data_array[plan-1,:] = vals\n",
    "\n",
    "new_spas_sa_grouped.head()\n",
    "#To change everything down to SA or TS"
   ]
  },
  {
   "cell_type": "code",
   "execution_count": 27,
   "metadata": {
    "scrolled": true
   },
   "outputs": [
    {
     "name": "stdout",
     "output_type": "stream",
     "text": [
      "0.25188592537133236\n"
     ]
    },
    {
     "data": {
      "text/html": [
       "<div>\n",
       "<style scoped>\n",
       "    .dataframe tbody tr th:only-of-type {\n",
       "        vertical-align: middle;\n",
       "    }\n",
       "\n",
       "    .dataframe tbody tr th {\n",
       "        vertical-align: top;\n",
       "    }\n",
       "\n",
       "    .dataframe thead th {\n",
       "        text-align: right;\n",
       "    }\n",
       "</style>\n",
       "<table border=\"1\" class=\"dataframe\">\n",
       "  <thead>\n",
       "    <tr style=\"text-align: right;\">\n",
       "      <th></th>\n",
       "      <th>HIGH_POP_W</th>\n",
       "      <th>HIGH_POP_NW</th>\n",
       "      <th>ABS_DIFF</th>\n",
       "      <th>ENTROPY_IND</th>\n",
       "    </tr>\n",
       "    <tr>\n",
       "      <th>NEW_HIGH_CODE</th>\n",
       "      <th></th>\n",
       "      <th></th>\n",
       "      <th></th>\n",
       "      <th></th>\n",
       "    </tr>\n",
       "  </thead>\n",
       "  <tbody>\n",
       "  </tbody>\n",
       "</table>\n",
       "</div>"
      ],
      "text/plain": [
       "Empty DataFrame\n",
       "Columns: [HIGH_POP_W, HIGH_POP_NW, ABS_DIFF, ENTROPY_IND]\n",
       "Index: []"
      ]
     },
     "execution_count": 27,
     "metadata": {},
     "output_type": "execute_result"
    }
   ],
   "source": [
    "measurements_df, ind_diss_sa1 = get_measurements(new_spas_sa_grouped)\n",
    "segregated_abs_diff_sa4 = measurements_df[measurements_df['ABS_DIFF'] > 0.7]\n",
    "segregated_entropy_sa4 = measurements_df[measurements_df['ENTROPY_IND'] < 0.4]\n",
    "ind_diss.append(ind_diss_sa1)\n",
    "print(ind_diss_sa1)\n",
    "segregated_entropy_sa4"
   ]
  },
  {
   "cell_type": "markdown",
   "metadata": {},
   "source": [
    "## Output Plan 5"
   ]
  },
  {
   "cell_type": "markdown",
   "metadata": {},
   "source": [
    "### Simulated Annealing (SA)"
   ]
  },
  {
   "cell_type": "code",
   "execution_count": 28,
   "metadata": {},
   "outputs": [
    {
     "data": {
      "text/html": [
       "<div>\n",
       "<style scoped>\n",
       "    .dataframe tbody tr th:only-of-type {\n",
       "        vertical-align: middle;\n",
       "    }\n",
       "\n",
       "    .dataframe tbody tr th {\n",
       "        vertical-align: top;\n",
       "    }\n",
       "\n",
       "    .dataframe thead th {\n",
       "        text-align: right;\n",
       "    }\n",
       "</style>\n",
       "<table border=\"1\" class=\"dataframe\">\n",
       "  <thead>\n",
       "    <tr style=\"text-align: right;\">\n",
       "      <th></th>\n",
       "      <th>HIGH_POP_W</th>\n",
       "      <th>HIGH_POP_NW</th>\n",
       "    </tr>\n",
       "    <tr>\n",
       "      <th>NEW_HIGH_CODE</th>\n",
       "      <th></th>\n",
       "      <th></th>\n",
       "    </tr>\n",
       "  </thead>\n",
       "  <tbody>\n",
       "    <tr>\n",
       "      <td>BRH</td>\n",
       "      <td>0.478304</td>\n",
       "      <td>0.521696</td>\n",
       "    </tr>\n",
       "    <tr>\n",
       "      <td>BWH</td>\n",
       "      <td>0.562724</td>\n",
       "      <td>0.437276</td>\n",
       "    </tr>\n",
       "    <tr>\n",
       "      <td>DMH</td>\n",
       "      <td>0.336321</td>\n",
       "      <td>0.663679</td>\n",
       "    </tr>\n",
       "    <tr>\n",
       "      <td>FHS</td>\n",
       "      <td>0.429386</td>\n",
       "      <td>0.570614</td>\n",
       "    </tr>\n",
       "    <tr>\n",
       "      <td>HTH</td>\n",
       "      <td>0.771776</td>\n",
       "      <td>0.228224</td>\n",
       "    </tr>\n",
       "  </tbody>\n",
       "</table>\n",
       "</div>"
      ],
      "text/plain": [
       "               HIGH_POP_W  HIGH_POP_NW\n",
       "NEW_HIGH_CODE                         \n",
       "BRH              0.478304     0.521696\n",
       "BWH              0.562724     0.437276\n",
       "DMH              0.336321     0.663679\n",
       "FHS              0.429386     0.570614\n",
       "HTH              0.771776     0.228224"
      ]
     },
     "execution_count": 28,
     "metadata": {},
     "output_type": "execute_result"
    }
   ],
   "source": [
    "plan = 5\n",
    "sa_output_df = retrieve_output_data(algo, level, plan)\n",
    "new_spas_sa = pd.merge(spas, sa_output_df, on='SPA')\n",
    "new_spas_sa_grouped = group_data(new_spas_sa)\n",
    "# vals= np.concatenate([new_spas_sa_grouped.loc[i,:].values for i in interested_districts])\n",
    "# data_array[plan-1,:] = vals\n",
    "\n",
    "new_spas_sa_grouped.head()\n",
    "#To change everything down to SA or TS"
   ]
  },
  {
   "cell_type": "code",
   "execution_count": 29,
   "metadata": {
    "scrolled": true
   },
   "outputs": [
    {
     "name": "stdout",
     "output_type": "stream",
     "text": [
      "0.2750785065756006\n"
     ]
    },
    {
     "data": {
      "text/html": [
       "<div>\n",
       "<style scoped>\n",
       "    .dataframe tbody tr th:only-of-type {\n",
       "        vertical-align: middle;\n",
       "    }\n",
       "\n",
       "    .dataframe tbody tr th {\n",
       "        vertical-align: top;\n",
       "    }\n",
       "\n",
       "    .dataframe thead th {\n",
       "        text-align: right;\n",
       "    }\n",
       "</style>\n",
       "<table border=\"1\" class=\"dataframe\">\n",
       "  <thead>\n",
       "    <tr style=\"text-align: right;\">\n",
       "      <th></th>\n",
       "      <th>HIGH_POP_W</th>\n",
       "      <th>HIGH_POP_NW</th>\n",
       "      <th>ABS_DIFF</th>\n",
       "      <th>ENTROPY_IND</th>\n",
       "    </tr>\n",
       "    <tr>\n",
       "      <th>NEW_HIGH_CODE</th>\n",
       "      <th></th>\n",
       "      <th></th>\n",
       "      <th></th>\n",
       "      <th></th>\n",
       "    </tr>\n",
       "  </thead>\n",
       "  <tbody>\n",
       "  </tbody>\n",
       "</table>\n",
       "</div>"
      ],
      "text/plain": [
       "Empty DataFrame\n",
       "Columns: [HIGH_POP_W, HIGH_POP_NW, ABS_DIFF, ENTROPY_IND]\n",
       "Index: []"
      ]
     },
     "execution_count": 29,
     "metadata": {},
     "output_type": "execute_result"
    }
   ],
   "source": [
    "measurements_df, ind_diss_sa1 = get_measurements(new_spas_sa_grouped)\n",
    "segregated_abs_diff_sa5 = measurements_df[measurements_df['ABS_DIFF'] > 0.7]\n",
    "segregated_entropy_sa5 = measurements_df[measurements_df['ENTROPY_IND'] < 0.4]\n",
    "ind_diss.append(ind_diss_sa1)\n",
    "print(ind_diss_sa1)\n",
    "segregated_entropy_sa5"
   ]
  },
  {
   "cell_type": "markdown",
   "metadata": {},
   "source": [
    "## Output Plan 6"
   ]
  },
  {
   "cell_type": "markdown",
   "metadata": {},
   "source": [
    "### Simulated Annealing (SA)"
   ]
  },
  {
   "cell_type": "code",
   "execution_count": 30,
   "metadata": {},
   "outputs": [
    {
     "data": {
      "text/html": [
       "<div>\n",
       "<style scoped>\n",
       "    .dataframe tbody tr th:only-of-type {\n",
       "        vertical-align: middle;\n",
       "    }\n",
       "\n",
       "    .dataframe tbody tr th {\n",
       "        vertical-align: top;\n",
       "    }\n",
       "\n",
       "    .dataframe thead th {\n",
       "        text-align: right;\n",
       "    }\n",
       "</style>\n",
       "<table border=\"1\" class=\"dataframe\">\n",
       "  <thead>\n",
       "    <tr style=\"text-align: right;\">\n",
       "      <th></th>\n",
       "      <th>HIGH_POP_W</th>\n",
       "      <th>HIGH_POP_NW</th>\n",
       "    </tr>\n",
       "    <tr>\n",
       "      <th>NEW_HIGH_CODE</th>\n",
       "      <th></th>\n",
       "      <th></th>\n",
       "    </tr>\n",
       "  </thead>\n",
       "  <tbody>\n",
       "    <tr>\n",
       "      <td>BRH</td>\n",
       "      <td>0.514678</td>\n",
       "      <td>0.485322</td>\n",
       "    </tr>\n",
       "    <tr>\n",
       "      <td>BWH</td>\n",
       "      <td>0.518129</td>\n",
       "      <td>0.481871</td>\n",
       "    </tr>\n",
       "    <tr>\n",
       "      <td>DMH</td>\n",
       "      <td>0.550072</td>\n",
       "      <td>0.449928</td>\n",
       "    </tr>\n",
       "    <tr>\n",
       "      <td>FHS</td>\n",
       "      <td>0.463554</td>\n",
       "      <td>0.536446</td>\n",
       "    </tr>\n",
       "    <tr>\n",
       "      <td>HTH</td>\n",
       "      <td>0.745739</td>\n",
       "      <td>0.254261</td>\n",
       "    </tr>\n",
       "  </tbody>\n",
       "</table>\n",
       "</div>"
      ],
      "text/plain": [
       "               HIGH_POP_W  HIGH_POP_NW\n",
       "NEW_HIGH_CODE                         \n",
       "BRH              0.514678     0.485322\n",
       "BWH              0.518129     0.481871\n",
       "DMH              0.550072     0.449928\n",
       "FHS              0.463554     0.536446\n",
       "HTH              0.745739     0.254261"
      ]
     },
     "execution_count": 30,
     "metadata": {},
     "output_type": "execute_result"
    }
   ],
   "source": [
    "plan = 6\n",
    "sa_output_df = retrieve_output_data(algo, level, plan)\n",
    "new_spas_sa = pd.merge(spas, sa_output_df, on='SPA')\n",
    "new_spas_sa_grouped = group_data(new_spas_sa)\n",
    "# vals= np.concatenate([new_spas_sa_grouped.loc[i,:].values for i in interested_districts])\n",
    "# data_array[plan-1,:] = vals\n",
    "\n",
    "new_spas_sa_grouped.head()\n",
    "#To change everything down to SA or TS"
   ]
  },
  {
   "cell_type": "code",
   "execution_count": 31,
   "metadata": {
    "scrolled": true
   },
   "outputs": [
    {
     "name": "stdout",
     "output_type": "stream",
     "text": [
      "0.23706017593595383\n"
     ]
    },
    {
     "data": {
      "text/html": [
       "<div>\n",
       "<style scoped>\n",
       "    .dataframe tbody tr th:only-of-type {\n",
       "        vertical-align: middle;\n",
       "    }\n",
       "\n",
       "    .dataframe tbody tr th {\n",
       "        vertical-align: top;\n",
       "    }\n",
       "\n",
       "    .dataframe thead th {\n",
       "        text-align: right;\n",
       "    }\n",
       "</style>\n",
       "<table border=\"1\" class=\"dataframe\">\n",
       "  <thead>\n",
       "    <tr style=\"text-align: right;\">\n",
       "      <th></th>\n",
       "      <th>HIGH_POP_W</th>\n",
       "      <th>HIGH_POP_NW</th>\n",
       "      <th>ABS_DIFF</th>\n",
       "      <th>ENTROPY_IND</th>\n",
       "    </tr>\n",
       "    <tr>\n",
       "      <th>NEW_HIGH_CODE</th>\n",
       "      <th></th>\n",
       "      <th></th>\n",
       "      <th></th>\n",
       "      <th></th>\n",
       "    </tr>\n",
       "  </thead>\n",
       "  <tbody>\n",
       "  </tbody>\n",
       "</table>\n",
       "</div>"
      ],
      "text/plain": [
       "Empty DataFrame\n",
       "Columns: [HIGH_POP_W, HIGH_POP_NW, ABS_DIFF, ENTROPY_IND]\n",
       "Index: []"
      ]
     },
     "execution_count": 31,
     "metadata": {},
     "output_type": "execute_result"
    }
   ],
   "source": [
    "measurements_df, ind_diss_sa1 = get_measurements(new_spas_sa_grouped)\n",
    "segregated_abs_diff_sa6 = measurements_df[measurements_df['ABS_DIFF'] > 0.7]\n",
    "segregated_entropy_sa6 = measurements_df[measurements_df['ENTROPY_IND'] < 0.4]\n",
    "ind_diss.append(ind_diss_sa1)\n",
    "print(ind_diss_sa1)\n",
    "segregated_entropy_sa6"
   ]
  },
  {
   "cell_type": "markdown",
   "metadata": {},
   "source": [
    "## Output Plan 7"
   ]
  },
  {
   "cell_type": "markdown",
   "metadata": {},
   "source": [
    "### Simulated Annealing (SA)"
   ]
  },
  {
   "cell_type": "code",
   "execution_count": 32,
   "metadata": {},
   "outputs": [
    {
     "data": {
      "text/html": [
       "<div>\n",
       "<style scoped>\n",
       "    .dataframe tbody tr th:only-of-type {\n",
       "        vertical-align: middle;\n",
       "    }\n",
       "\n",
       "    .dataframe tbody tr th {\n",
       "        vertical-align: top;\n",
       "    }\n",
       "\n",
       "    .dataframe thead th {\n",
       "        text-align: right;\n",
       "    }\n",
       "</style>\n",
       "<table border=\"1\" class=\"dataframe\">\n",
       "  <thead>\n",
       "    <tr style=\"text-align: right;\">\n",
       "      <th></th>\n",
       "      <th>HIGH_POP_W</th>\n",
       "      <th>HIGH_POP_NW</th>\n",
       "    </tr>\n",
       "    <tr>\n",
       "      <th>NEW_HIGH_CODE</th>\n",
       "      <th></th>\n",
       "      <th></th>\n",
       "    </tr>\n",
       "  </thead>\n",
       "  <tbody>\n",
       "    <tr>\n",
       "      <td>BRH</td>\n",
       "      <td>0.521456</td>\n",
       "      <td>0.478544</td>\n",
       "    </tr>\n",
       "    <tr>\n",
       "      <td>BWH</td>\n",
       "      <td>0.510006</td>\n",
       "      <td>0.489994</td>\n",
       "    </tr>\n",
       "    <tr>\n",
       "      <td>DMH</td>\n",
       "      <td>0.470525</td>\n",
       "      <td>0.529475</td>\n",
       "    </tr>\n",
       "    <tr>\n",
       "      <td>FHS</td>\n",
       "      <td>0.468489</td>\n",
       "      <td>0.531511</td>\n",
       "    </tr>\n",
       "    <tr>\n",
       "      <td>HTH</td>\n",
       "      <td>0.701361</td>\n",
       "      <td>0.298639</td>\n",
       "    </tr>\n",
       "  </tbody>\n",
       "</table>\n",
       "</div>"
      ],
      "text/plain": [
       "               HIGH_POP_W  HIGH_POP_NW\n",
       "NEW_HIGH_CODE                         \n",
       "BRH              0.521456     0.478544\n",
       "BWH              0.510006     0.489994\n",
       "DMH              0.470525     0.529475\n",
       "FHS              0.468489     0.531511\n",
       "HTH              0.701361     0.298639"
      ]
     },
     "execution_count": 32,
     "metadata": {},
     "output_type": "execute_result"
    }
   ],
   "source": [
    "plan = 7\n",
    "sa_output_df = retrieve_output_data(algo, level, plan)\n",
    "new_spas_sa = pd.merge(spas, sa_output_df, on='SPA')\n",
    "new_spas_sa_grouped = group_data(new_spas_sa)\n",
    "# vals= np.concatenate([new_spas_sa_grouped.loc[i,:].values for i in interested_districts])\n",
    "# data_array[plan-1,:] = vals\n",
    "\n",
    "new_spas_sa_grouped.head()\n",
    "#To change everything down to SA or TS"
   ]
  },
  {
   "cell_type": "code",
   "execution_count": 33,
   "metadata": {
    "scrolled": true
   },
   "outputs": [
    {
     "name": "stdout",
     "output_type": "stream",
     "text": [
      "0.24326744736810463\n"
     ]
    },
    {
     "data": {
      "text/html": [
       "<div>\n",
       "<style scoped>\n",
       "    .dataframe tbody tr th:only-of-type {\n",
       "        vertical-align: middle;\n",
       "    }\n",
       "\n",
       "    .dataframe tbody tr th {\n",
       "        vertical-align: top;\n",
       "    }\n",
       "\n",
       "    .dataframe thead th {\n",
       "        text-align: right;\n",
       "    }\n",
       "</style>\n",
       "<table border=\"1\" class=\"dataframe\">\n",
       "  <thead>\n",
       "    <tr style=\"text-align: right;\">\n",
       "      <th></th>\n",
       "      <th>HIGH_POP_W</th>\n",
       "      <th>HIGH_POP_NW</th>\n",
       "      <th>ABS_DIFF</th>\n",
       "      <th>ENTROPY_IND</th>\n",
       "    </tr>\n",
       "    <tr>\n",
       "      <th>NEW_HIGH_CODE</th>\n",
       "      <th></th>\n",
       "      <th></th>\n",
       "      <th></th>\n",
       "      <th></th>\n",
       "    </tr>\n",
       "  </thead>\n",
       "  <tbody>\n",
       "  </tbody>\n",
       "</table>\n",
       "</div>"
      ],
      "text/plain": [
       "Empty DataFrame\n",
       "Columns: [HIGH_POP_W, HIGH_POP_NW, ABS_DIFF, ENTROPY_IND]\n",
       "Index: []"
      ]
     },
     "execution_count": 33,
     "metadata": {},
     "output_type": "execute_result"
    }
   ],
   "source": [
    "measurements_df, ind_diss_sa1 = get_measurements(new_spas_sa_grouped)\n",
    "segregated_abs_diff_sa7 = measurements_df[measurements_df['ABS_DIFF'] > 0.7]\n",
    "segregated_entropy_sa7 = measurements_df[measurements_df['ENTROPY_IND'] < 0.4]\n",
    "ind_diss.append(ind_diss_sa1)\n",
    "print(ind_diss_sa1)\n",
    "segregated_entropy_sa7"
   ]
  },
  {
   "cell_type": "markdown",
   "metadata": {},
   "source": [
    "## Output Plan 8"
   ]
  },
  {
   "cell_type": "markdown",
   "metadata": {},
   "source": [
    "### Simulated Annealing (SA)"
   ]
  },
  {
   "cell_type": "code",
   "execution_count": 34,
   "metadata": {},
   "outputs": [
    {
     "data": {
      "text/html": [
       "<div>\n",
       "<style scoped>\n",
       "    .dataframe tbody tr th:only-of-type {\n",
       "        vertical-align: middle;\n",
       "    }\n",
       "\n",
       "    .dataframe tbody tr th {\n",
       "        vertical-align: top;\n",
       "    }\n",
       "\n",
       "    .dataframe thead th {\n",
       "        text-align: right;\n",
       "    }\n",
       "</style>\n",
       "<table border=\"1\" class=\"dataframe\">\n",
       "  <thead>\n",
       "    <tr style=\"text-align: right;\">\n",
       "      <th></th>\n",
       "      <th>HIGH_POP_W</th>\n",
       "      <th>HIGH_POP_NW</th>\n",
       "    </tr>\n",
       "    <tr>\n",
       "      <th>NEW_HIGH_CODE</th>\n",
       "      <th></th>\n",
       "      <th></th>\n",
       "    </tr>\n",
       "  </thead>\n",
       "  <tbody>\n",
       "    <tr>\n",
       "      <td>BRH</td>\n",
       "      <td>0.409574</td>\n",
       "      <td>0.590426</td>\n",
       "    </tr>\n",
       "    <tr>\n",
       "      <td>BWH</td>\n",
       "      <td>0.588005</td>\n",
       "      <td>0.411995</td>\n",
       "    </tr>\n",
       "    <tr>\n",
       "      <td>DMH</td>\n",
       "      <td>0.456173</td>\n",
       "      <td>0.543827</td>\n",
       "    </tr>\n",
       "    <tr>\n",
       "      <td>FHS</td>\n",
       "      <td>0.457831</td>\n",
       "      <td>0.542169</td>\n",
       "    </tr>\n",
       "    <tr>\n",
       "      <td>HTH</td>\n",
       "      <td>0.746390</td>\n",
       "      <td>0.253610</td>\n",
       "    </tr>\n",
       "  </tbody>\n",
       "</table>\n",
       "</div>"
      ],
      "text/plain": [
       "               HIGH_POP_W  HIGH_POP_NW\n",
       "NEW_HIGH_CODE                         \n",
       "BRH              0.409574     0.590426\n",
       "BWH              0.588005     0.411995\n",
       "DMH              0.456173     0.543827\n",
       "FHS              0.457831     0.542169\n",
       "HTH              0.746390     0.253610"
      ]
     },
     "execution_count": 34,
     "metadata": {},
     "output_type": "execute_result"
    }
   ],
   "source": [
    "plan = 8\n",
    "sa_output_df = retrieve_output_data(algo, level, plan)\n",
    "new_spas_sa = pd.merge(spas, sa_output_df, on='SPA')\n",
    "new_spas_sa_grouped = group_data(new_spas_sa)\n",
    "# vals= np.concatenate([new_spas_sa_grouped.loc[i,:].values for i in interested_districts])\n",
    "# data_array[plan-1,:] = vals\n",
    "\n",
    "new_spas_sa_grouped.head()\n",
    "#To change everything down to SA or TS"
   ]
  },
  {
   "cell_type": "code",
   "execution_count": 35,
   "metadata": {
    "scrolled": true
   },
   "outputs": [
    {
     "name": "stdout",
     "output_type": "stream",
     "text": [
      "0.24196629660424882\n"
     ]
    },
    {
     "data": {
      "text/html": [
       "<div>\n",
       "<style scoped>\n",
       "    .dataframe tbody tr th:only-of-type {\n",
       "        vertical-align: middle;\n",
       "    }\n",
       "\n",
       "    .dataframe tbody tr th {\n",
       "        vertical-align: top;\n",
       "    }\n",
       "\n",
       "    .dataframe thead th {\n",
       "        text-align: right;\n",
       "    }\n",
       "</style>\n",
       "<table border=\"1\" class=\"dataframe\">\n",
       "  <thead>\n",
       "    <tr style=\"text-align: right;\">\n",
       "      <th></th>\n",
       "      <th>HIGH_POP_W</th>\n",
       "      <th>HIGH_POP_NW</th>\n",
       "      <th>ABS_DIFF</th>\n",
       "      <th>ENTROPY_IND</th>\n",
       "    </tr>\n",
       "    <tr>\n",
       "      <th>NEW_HIGH_CODE</th>\n",
       "      <th></th>\n",
       "      <th></th>\n",
       "      <th></th>\n",
       "      <th></th>\n",
       "    </tr>\n",
       "  </thead>\n",
       "  <tbody>\n",
       "  </tbody>\n",
       "</table>\n",
       "</div>"
      ],
      "text/plain": [
       "Empty DataFrame\n",
       "Columns: [HIGH_POP_W, HIGH_POP_NW, ABS_DIFF, ENTROPY_IND]\n",
       "Index: []"
      ]
     },
     "execution_count": 35,
     "metadata": {},
     "output_type": "execute_result"
    }
   ],
   "source": [
    "measurements_df, ind_diss_sa1 = get_measurements(new_spas_sa_grouped)\n",
    "segregated_abs_diff_sa8 = measurements_df[measurements_df['ABS_DIFF'] > 0.7]\n",
    "segregated_entropy_sa8 = measurements_df[measurements_df['ENTROPY_IND'] < 0.4]\n",
    "ind_diss.append(ind_diss_sa1)\n",
    "print(ind_diss_sa1)\n",
    "segregated_entropy_sa8"
   ]
  },
  {
   "cell_type": "markdown",
   "metadata": {},
   "source": [
    "## Output Plan 9"
   ]
  },
  {
   "cell_type": "markdown",
   "metadata": {},
   "source": [
    "### Simulated Annealing (SA)"
   ]
  },
  {
   "cell_type": "code",
   "execution_count": 36,
   "metadata": {},
   "outputs": [
    {
     "data": {
      "text/html": [
       "<div>\n",
       "<style scoped>\n",
       "    .dataframe tbody tr th:only-of-type {\n",
       "        vertical-align: middle;\n",
       "    }\n",
       "\n",
       "    .dataframe tbody tr th {\n",
       "        vertical-align: top;\n",
       "    }\n",
       "\n",
       "    .dataframe thead th {\n",
       "        text-align: right;\n",
       "    }\n",
       "</style>\n",
       "<table border=\"1\" class=\"dataframe\">\n",
       "  <thead>\n",
       "    <tr style=\"text-align: right;\">\n",
       "      <th></th>\n",
       "      <th>HIGH_POP_W</th>\n",
       "      <th>HIGH_POP_NW</th>\n",
       "    </tr>\n",
       "    <tr>\n",
       "      <th>NEW_HIGH_CODE</th>\n",
       "      <th></th>\n",
       "      <th></th>\n",
       "    </tr>\n",
       "  </thead>\n",
       "  <tbody>\n",
       "    <tr>\n",
       "      <td>BRH</td>\n",
       "      <td>0.567148</td>\n",
       "      <td>0.432852</td>\n",
       "    </tr>\n",
       "    <tr>\n",
       "      <td>BWH</td>\n",
       "      <td>0.453179</td>\n",
       "      <td>0.546821</td>\n",
       "    </tr>\n",
       "    <tr>\n",
       "      <td>DMH</td>\n",
       "      <td>0.381628</td>\n",
       "      <td>0.618372</td>\n",
       "    </tr>\n",
       "    <tr>\n",
       "      <td>FHS</td>\n",
       "      <td>0.464060</td>\n",
       "      <td>0.535940</td>\n",
       "    </tr>\n",
       "    <tr>\n",
       "      <td>HTH</td>\n",
       "      <td>0.753258</td>\n",
       "      <td>0.246742</td>\n",
       "    </tr>\n",
       "  </tbody>\n",
       "</table>\n",
       "</div>"
      ],
      "text/plain": [
       "               HIGH_POP_W  HIGH_POP_NW\n",
       "NEW_HIGH_CODE                         \n",
       "BRH              0.567148     0.432852\n",
       "BWH              0.453179     0.546821\n",
       "DMH              0.381628     0.618372\n",
       "FHS              0.464060     0.535940\n",
       "HTH              0.753258     0.246742"
      ]
     },
     "execution_count": 36,
     "metadata": {},
     "output_type": "execute_result"
    }
   ],
   "source": [
    "plan = 9\n",
    "sa_output_df = retrieve_output_data(algo, level, plan)\n",
    "new_spas_sa = pd.merge(spas, sa_output_df, on='SPA')\n",
    "new_spas_sa_grouped = group_data(new_spas_sa)\n",
    "# vals= np.concatenate([new_spas_sa_grouped.loc[i,:].values for i in interested_districts])\n",
    "# data_array[plan-1,:] = vals\n",
    "\n",
    "new_spas_sa_grouped.head()\n",
    "#To change everything down to SA or TS"
   ]
  },
  {
   "cell_type": "code",
   "execution_count": 37,
   "metadata": {
    "scrolled": true
   },
   "outputs": [
    {
     "name": "stdout",
     "output_type": "stream",
     "text": [
      "0.2510293205290445\n"
     ]
    },
    {
     "data": {
      "text/html": [
       "<div>\n",
       "<style scoped>\n",
       "    .dataframe tbody tr th:only-of-type {\n",
       "        vertical-align: middle;\n",
       "    }\n",
       "\n",
       "    .dataframe tbody tr th {\n",
       "        vertical-align: top;\n",
       "    }\n",
       "\n",
       "    .dataframe thead th {\n",
       "        text-align: right;\n",
       "    }\n",
       "</style>\n",
       "<table border=\"1\" class=\"dataframe\">\n",
       "  <thead>\n",
       "    <tr style=\"text-align: right;\">\n",
       "      <th></th>\n",
       "      <th>HIGH_POP_W</th>\n",
       "      <th>HIGH_POP_NW</th>\n",
       "      <th>ABS_DIFF</th>\n",
       "      <th>ENTROPY_IND</th>\n",
       "    </tr>\n",
       "    <tr>\n",
       "      <th>NEW_HIGH_CODE</th>\n",
       "      <th></th>\n",
       "      <th></th>\n",
       "      <th></th>\n",
       "      <th></th>\n",
       "    </tr>\n",
       "  </thead>\n",
       "  <tbody>\n",
       "  </tbody>\n",
       "</table>\n",
       "</div>"
      ],
      "text/plain": [
       "Empty DataFrame\n",
       "Columns: [HIGH_POP_W, HIGH_POP_NW, ABS_DIFF, ENTROPY_IND]\n",
       "Index: []"
      ]
     },
     "execution_count": 37,
     "metadata": {},
     "output_type": "execute_result"
    }
   ],
   "source": [
    "measurements_df, ind_diss_sa1 = get_measurements(new_spas_sa_grouped)\n",
    "segregated_abs_diff_sa9 = measurements_df[measurements_df['ABS_DIFF'] > 0.7]\n",
    "segregated_entropy_sa9 = measurements_df[measurements_df['ENTROPY_IND'] < 0.4]\n",
    "ind_diss.append(ind_diss_sa1)\n",
    "print(ind_diss_sa1)\n",
    "segregated_entropy_sa9"
   ]
  },
  {
   "cell_type": "markdown",
   "metadata": {},
   "source": [
    "## Output Plan 10"
   ]
  },
  {
   "cell_type": "markdown",
   "metadata": {},
   "source": [
    "### Simulated Annealing (SA)"
   ]
  },
  {
   "cell_type": "code",
   "execution_count": 38,
   "metadata": {},
   "outputs": [
    {
     "data": {
      "text/html": [
       "<div>\n",
       "<style scoped>\n",
       "    .dataframe tbody tr th:only-of-type {\n",
       "        vertical-align: middle;\n",
       "    }\n",
       "\n",
       "    .dataframe tbody tr th {\n",
       "        vertical-align: top;\n",
       "    }\n",
       "\n",
       "    .dataframe thead th {\n",
       "        text-align: right;\n",
       "    }\n",
       "</style>\n",
       "<table border=\"1\" class=\"dataframe\">\n",
       "  <thead>\n",
       "    <tr style=\"text-align: right;\">\n",
       "      <th></th>\n",
       "      <th>HIGH_POP_W</th>\n",
       "      <th>HIGH_POP_NW</th>\n",
       "    </tr>\n",
       "    <tr>\n",
       "      <th>NEW_HIGH_CODE</th>\n",
       "      <th></th>\n",
       "      <th></th>\n",
       "    </tr>\n",
       "  </thead>\n",
       "  <tbody>\n",
       "    <tr>\n",
       "      <td>BRH</td>\n",
       "      <td>0.540938</td>\n",
       "      <td>0.459062</td>\n",
       "    </tr>\n",
       "    <tr>\n",
       "      <td>BWH</td>\n",
       "      <td>0.560944</td>\n",
       "      <td>0.439056</td>\n",
       "    </tr>\n",
       "    <tr>\n",
       "      <td>DMH</td>\n",
       "      <td>0.420033</td>\n",
       "      <td>0.579967</td>\n",
       "    </tr>\n",
       "    <tr>\n",
       "      <td>FHS</td>\n",
       "      <td>0.483781</td>\n",
       "      <td>0.516219</td>\n",
       "    </tr>\n",
       "    <tr>\n",
       "      <td>HTH</td>\n",
       "      <td>0.595118</td>\n",
       "      <td>0.404882</td>\n",
       "    </tr>\n",
       "  </tbody>\n",
       "</table>\n",
       "</div>"
      ],
      "text/plain": [
       "               HIGH_POP_W  HIGH_POP_NW\n",
       "NEW_HIGH_CODE                         \n",
       "BRH              0.540938     0.459062\n",
       "BWH              0.560944     0.439056\n",
       "DMH              0.420033     0.579967\n",
       "FHS              0.483781     0.516219\n",
       "HTH              0.595118     0.404882"
      ]
     },
     "execution_count": 38,
     "metadata": {},
     "output_type": "execute_result"
    }
   ],
   "source": [
    "plan = 10\n",
    "sa_output_df = retrieve_output_data(algo, level, plan)\n",
    "new_spas_sa = pd.merge(spas, sa_output_df, on='SPA')\n",
    "new_spas_sa_grouped = group_data(new_spas_sa)\n",
    "# vals= np.concatenate([new_spas_sa_grouped.loc[i,:].values for i in interested_districts])\n",
    "# data_array[plan-1,:] = vals\n",
    "\n",
    "new_spas_sa_grouped.head()\n",
    "#To change everything down to SA or TS"
   ]
  },
  {
   "cell_type": "code",
   "execution_count": 39,
   "metadata": {
    "scrolled": true
   },
   "outputs": [
    {
     "name": "stdout",
     "output_type": "stream",
     "text": [
      "0.24506562121598427\n"
     ]
    },
    {
     "data": {
      "text/html": [
       "<div>\n",
       "<style scoped>\n",
       "    .dataframe tbody tr th:only-of-type {\n",
       "        vertical-align: middle;\n",
       "    }\n",
       "\n",
       "    .dataframe tbody tr th {\n",
       "        vertical-align: top;\n",
       "    }\n",
       "\n",
       "    .dataframe thead th {\n",
       "        text-align: right;\n",
       "    }\n",
       "</style>\n",
       "<table border=\"1\" class=\"dataframe\">\n",
       "  <thead>\n",
       "    <tr style=\"text-align: right;\">\n",
       "      <th></th>\n",
       "      <th>HIGH_POP_W</th>\n",
       "      <th>HIGH_POP_NW</th>\n",
       "      <th>ABS_DIFF</th>\n",
       "      <th>ENTROPY_IND</th>\n",
       "    </tr>\n",
       "    <tr>\n",
       "      <th>NEW_HIGH_CODE</th>\n",
       "      <th></th>\n",
       "      <th></th>\n",
       "      <th></th>\n",
       "      <th></th>\n",
       "    </tr>\n",
       "  </thead>\n",
       "  <tbody>\n",
       "  </tbody>\n",
       "</table>\n",
       "</div>"
      ],
      "text/plain": [
       "Empty DataFrame\n",
       "Columns: [HIGH_POP_W, HIGH_POP_NW, ABS_DIFF, ENTROPY_IND]\n",
       "Index: []"
      ]
     },
     "execution_count": 39,
     "metadata": {},
     "output_type": "execute_result"
    }
   ],
   "source": [
    "measurements_df, ind_diss_sa1 = get_measurements(new_spas_sa_grouped)\n",
    "segregated_abs_diff_sa10 = measurements_df[measurements_df['ABS_DIFF'] > 0.7]\n",
    "segregated_entropy_sa10 = measurements_df[measurements_df['ENTROPY_IND'] < 0.4]\n",
    "ind_diss.append(ind_diss_sa1)\n",
    "print(ind_diss_sa1)\n",
    "segregated_entropy_sa10"
   ]
  },
  {
   "cell_type": "markdown",
   "metadata": {},
   "source": [
    "## Output Plan 11"
   ]
  },
  {
   "cell_type": "markdown",
   "metadata": {},
   "source": [
    "### Simulated Annealing (SA)"
   ]
  },
  {
   "cell_type": "code",
   "execution_count": 40,
   "metadata": {},
   "outputs": [
    {
     "data": {
      "text/html": [
       "<div>\n",
       "<style scoped>\n",
       "    .dataframe tbody tr th:only-of-type {\n",
       "        vertical-align: middle;\n",
       "    }\n",
       "\n",
       "    .dataframe tbody tr th {\n",
       "        vertical-align: top;\n",
       "    }\n",
       "\n",
       "    .dataframe thead th {\n",
       "        text-align: right;\n",
       "    }\n",
       "</style>\n",
       "<table border=\"1\" class=\"dataframe\">\n",
       "  <thead>\n",
       "    <tr style=\"text-align: right;\">\n",
       "      <th></th>\n",
       "      <th>HIGH_POP_W</th>\n",
       "      <th>HIGH_POP_NW</th>\n",
       "    </tr>\n",
       "    <tr>\n",
       "      <th>NEW_HIGH_CODE</th>\n",
       "      <th></th>\n",
       "      <th></th>\n",
       "    </tr>\n",
       "  </thead>\n",
       "  <tbody>\n",
       "    <tr>\n",
       "      <td>BRH</td>\n",
       "      <td>0.455856</td>\n",
       "      <td>0.544144</td>\n",
       "    </tr>\n",
       "    <tr>\n",
       "      <td>BWH</td>\n",
       "      <td>0.550536</td>\n",
       "      <td>0.449464</td>\n",
       "    </tr>\n",
       "    <tr>\n",
       "      <td>DMH</td>\n",
       "      <td>0.406962</td>\n",
       "      <td>0.593038</td>\n",
       "    </tr>\n",
       "    <tr>\n",
       "      <td>FHS</td>\n",
       "      <td>0.483136</td>\n",
       "      <td>0.516864</td>\n",
       "    </tr>\n",
       "    <tr>\n",
       "      <td>HTH</td>\n",
       "      <td>0.445006</td>\n",
       "      <td>0.554994</td>\n",
       "    </tr>\n",
       "  </tbody>\n",
       "</table>\n",
       "</div>"
      ],
      "text/plain": [
       "               HIGH_POP_W  HIGH_POP_NW\n",
       "NEW_HIGH_CODE                         \n",
       "BRH              0.455856     0.544144\n",
       "BWH              0.550536     0.449464\n",
       "DMH              0.406962     0.593038\n",
       "FHS              0.483136     0.516864\n",
       "HTH              0.445006     0.554994"
      ]
     },
     "execution_count": 40,
     "metadata": {},
     "output_type": "execute_result"
    }
   ],
   "source": [
    "plan = 11\n",
    "sa_output_df = retrieve_output_data(algo, level, plan)\n",
    "new_spas_sa = pd.merge(spas, sa_output_df, on='SPA')\n",
    "new_spas_sa_grouped = group_data(new_spas_sa)\n",
    "# vals= np.concatenate([new_spas_sa_grouped.loc[i,:].values for i in interested_districts])\n",
    "# data_array[plan-1,:] = vals\n",
    "\n",
    "new_spas_sa_grouped.head()\n",
    "#To change everything down to SA or TS"
   ]
  },
  {
   "cell_type": "code",
   "execution_count": 41,
   "metadata": {
    "scrolled": true
   },
   "outputs": [
    {
     "name": "stdout",
     "output_type": "stream",
     "text": [
      "0.24994790105289832\n"
     ]
    },
    {
     "data": {
      "text/html": [
       "<div>\n",
       "<style scoped>\n",
       "    .dataframe tbody tr th:only-of-type {\n",
       "        vertical-align: middle;\n",
       "    }\n",
       "\n",
       "    .dataframe tbody tr th {\n",
       "        vertical-align: top;\n",
       "    }\n",
       "\n",
       "    .dataframe thead th {\n",
       "        text-align: right;\n",
       "    }\n",
       "</style>\n",
       "<table border=\"1\" class=\"dataframe\">\n",
       "  <thead>\n",
       "    <tr style=\"text-align: right;\">\n",
       "      <th></th>\n",
       "      <th>HIGH_POP_W</th>\n",
       "      <th>HIGH_POP_NW</th>\n",
       "      <th>ABS_DIFF</th>\n",
       "      <th>ENTROPY_IND</th>\n",
       "    </tr>\n",
       "    <tr>\n",
       "      <th>NEW_HIGH_CODE</th>\n",
       "      <th></th>\n",
       "      <th></th>\n",
       "      <th></th>\n",
       "      <th></th>\n",
       "    </tr>\n",
       "  </thead>\n",
       "  <tbody>\n",
       "  </tbody>\n",
       "</table>\n",
       "</div>"
      ],
      "text/plain": [
       "Empty DataFrame\n",
       "Columns: [HIGH_POP_W, HIGH_POP_NW, ABS_DIFF, ENTROPY_IND]\n",
       "Index: []"
      ]
     },
     "execution_count": 41,
     "metadata": {},
     "output_type": "execute_result"
    }
   ],
   "source": [
    "measurements_df, ind_diss_sa1 = get_measurements(new_spas_sa_grouped)\n",
    "segregated_abs_diff_sa11 = measurements_df[measurements_df['ABS_DIFF'] > 0.7]\n",
    "segregated_entropy_sa11 = measurements_df[measurements_df['ENTROPY_IND'] < 0.4]\n",
    "ind_diss.append(ind_diss_sa1)\n",
    "print(ind_diss_sa1)\n",
    "segregated_entropy_sa11"
   ]
  },
  {
   "cell_type": "markdown",
   "metadata": {},
   "source": [
    "## Output Plan 12"
   ]
  },
  {
   "cell_type": "markdown",
   "metadata": {},
   "source": [
    "### Simulated Annealing (SA)"
   ]
  },
  {
   "cell_type": "code",
   "execution_count": 42,
   "metadata": {},
   "outputs": [
    {
     "data": {
      "text/html": [
       "<div>\n",
       "<style scoped>\n",
       "    .dataframe tbody tr th:only-of-type {\n",
       "        vertical-align: middle;\n",
       "    }\n",
       "\n",
       "    .dataframe tbody tr th {\n",
       "        vertical-align: top;\n",
       "    }\n",
       "\n",
       "    .dataframe thead th {\n",
       "        text-align: right;\n",
       "    }\n",
       "</style>\n",
       "<table border=\"1\" class=\"dataframe\">\n",
       "  <thead>\n",
       "    <tr style=\"text-align: right;\">\n",
       "      <th></th>\n",
       "      <th>HIGH_POP_W</th>\n",
       "      <th>HIGH_POP_NW</th>\n",
       "    </tr>\n",
       "    <tr>\n",
       "      <th>NEW_HIGH_CODE</th>\n",
       "      <th></th>\n",
       "      <th></th>\n",
       "    </tr>\n",
       "  </thead>\n",
       "  <tbody>\n",
       "    <tr>\n",
       "      <td>BRH</td>\n",
       "      <td>0.484108</td>\n",
       "      <td>0.515892</td>\n",
       "    </tr>\n",
       "    <tr>\n",
       "      <td>BWH</td>\n",
       "      <td>0.574245</td>\n",
       "      <td>0.425755</td>\n",
       "    </tr>\n",
       "    <tr>\n",
       "      <td>DMH</td>\n",
       "      <td>0.225476</td>\n",
       "      <td>0.774524</td>\n",
       "    </tr>\n",
       "    <tr>\n",
       "      <td>FHS</td>\n",
       "      <td>0.400791</td>\n",
       "      <td>0.599209</td>\n",
       "    </tr>\n",
       "    <tr>\n",
       "      <td>HTH</td>\n",
       "      <td>0.716072</td>\n",
       "      <td>0.283928</td>\n",
       "    </tr>\n",
       "  </tbody>\n",
       "</table>\n",
       "</div>"
      ],
      "text/plain": [
       "               HIGH_POP_W  HIGH_POP_NW\n",
       "NEW_HIGH_CODE                         \n",
       "BRH              0.484108     0.515892\n",
       "BWH              0.574245     0.425755\n",
       "DMH              0.225476     0.774524\n",
       "FHS              0.400791     0.599209\n",
       "HTH              0.716072     0.283928"
      ]
     },
     "execution_count": 42,
     "metadata": {},
     "output_type": "execute_result"
    }
   ],
   "source": [
    "plan = 12\n",
    "sa_output_df = retrieve_output_data(algo, level, plan)\n",
    "new_spas_sa = pd.merge(spas, sa_output_df, on='SPA')\n",
    "new_spas_sa_grouped = group_data(new_spas_sa)\n",
    "# vals= np.concatenate([new_spas_sa_grouped.loc[i,:].values for i in interested_districts])\n",
    "# data_array[plan-1,:] = vals\n",
    "\n",
    "new_spas_sa_grouped.head()\n",
    "#To change everything down to SA or TS"
   ]
  },
  {
   "cell_type": "code",
   "execution_count": 43,
   "metadata": {
    "scrolled": true
   },
   "outputs": [
    {
     "name": "stdout",
     "output_type": "stream",
     "text": [
      "0.30329047505458456\n"
     ]
    },
    {
     "data": {
      "text/html": [
       "<div>\n",
       "<style scoped>\n",
       "    .dataframe tbody tr th:only-of-type {\n",
       "        vertical-align: middle;\n",
       "    }\n",
       "\n",
       "    .dataframe tbody tr th {\n",
       "        vertical-align: top;\n",
       "    }\n",
       "\n",
       "    .dataframe thead th {\n",
       "        text-align: right;\n",
       "    }\n",
       "</style>\n",
       "<table border=\"1\" class=\"dataframe\">\n",
       "  <thead>\n",
       "    <tr style=\"text-align: right;\">\n",
       "      <th></th>\n",
       "      <th>HIGH_POP_W</th>\n",
       "      <th>HIGH_POP_NW</th>\n",
       "      <th>ABS_DIFF</th>\n",
       "      <th>ENTROPY_IND</th>\n",
       "    </tr>\n",
       "    <tr>\n",
       "      <th>NEW_HIGH_CODE</th>\n",
       "      <th></th>\n",
       "      <th></th>\n",
       "      <th></th>\n",
       "      <th></th>\n",
       "    </tr>\n",
       "  </thead>\n",
       "  <tbody>\n",
       "  </tbody>\n",
       "</table>\n",
       "</div>"
      ],
      "text/plain": [
       "Empty DataFrame\n",
       "Columns: [HIGH_POP_W, HIGH_POP_NW, ABS_DIFF, ENTROPY_IND]\n",
       "Index: []"
      ]
     },
     "execution_count": 43,
     "metadata": {},
     "output_type": "execute_result"
    }
   ],
   "source": [
    "measurements_df, ind_diss_sa1 = get_measurements(new_spas_sa_grouped)\n",
    "segregated_abs_diff_sa12 = measurements_df[measurements_df['ABS_DIFF'] > 0.7]\n",
    "segregated_entropy_sa12 = measurements_df[measurements_df['ENTROPY_IND'] < 0.4]\n",
    "ind_diss.append(ind_diss_sa1)\n",
    "print(ind_diss_sa1)\n",
    "segregated_entropy_sa12"
   ]
  },
  {
   "cell_type": "markdown",
   "metadata": {},
   "source": [
    "## Output Plan 13"
   ]
  },
  {
   "cell_type": "markdown",
   "metadata": {},
   "source": [
    "### Simulated Annealing (SA)"
   ]
  },
  {
   "cell_type": "code",
   "execution_count": 44,
   "metadata": {},
   "outputs": [
    {
     "data": {
      "text/html": [
       "<div>\n",
       "<style scoped>\n",
       "    .dataframe tbody tr th:only-of-type {\n",
       "        vertical-align: middle;\n",
       "    }\n",
       "\n",
       "    .dataframe tbody tr th {\n",
       "        vertical-align: top;\n",
       "    }\n",
       "\n",
       "    .dataframe thead th {\n",
       "        text-align: right;\n",
       "    }\n",
       "</style>\n",
       "<table border=\"1\" class=\"dataframe\">\n",
       "  <thead>\n",
       "    <tr style=\"text-align: right;\">\n",
       "      <th></th>\n",
       "      <th>HIGH_POP_W</th>\n",
       "      <th>HIGH_POP_NW</th>\n",
       "    </tr>\n",
       "    <tr>\n",
       "      <th>NEW_HIGH_CODE</th>\n",
       "      <th></th>\n",
       "      <th></th>\n",
       "    </tr>\n",
       "  </thead>\n",
       "  <tbody>\n",
       "    <tr>\n",
       "      <td>BRH</td>\n",
       "      <td>0.480880</td>\n",
       "      <td>0.519120</td>\n",
       "    </tr>\n",
       "    <tr>\n",
       "      <td>BWH</td>\n",
       "      <td>0.564295</td>\n",
       "      <td>0.435705</td>\n",
       "    </tr>\n",
       "    <tr>\n",
       "      <td>DMH</td>\n",
       "      <td>0.475831</td>\n",
       "      <td>0.524169</td>\n",
       "    </tr>\n",
       "    <tr>\n",
       "      <td>FHS</td>\n",
       "      <td>0.446465</td>\n",
       "      <td>0.553535</td>\n",
       "    </tr>\n",
       "    <tr>\n",
       "      <td>HTH</td>\n",
       "      <td>0.690741</td>\n",
       "      <td>0.309259</td>\n",
       "    </tr>\n",
       "  </tbody>\n",
       "</table>\n",
       "</div>"
      ],
      "text/plain": [
       "               HIGH_POP_W  HIGH_POP_NW\n",
       "NEW_HIGH_CODE                         \n",
       "BRH              0.480880     0.519120\n",
       "BWH              0.564295     0.435705\n",
       "DMH              0.475831     0.524169\n",
       "FHS              0.446465     0.553535\n",
       "HTH              0.690741     0.309259"
      ]
     },
     "execution_count": 44,
     "metadata": {},
     "output_type": "execute_result"
    }
   ],
   "source": [
    "plan = 13\n",
    "sa_output_df = retrieve_output_data(algo, level, plan)\n",
    "new_spas_sa = pd.merge(spas, sa_output_df, on='SPA')\n",
    "new_spas_sa_grouped = group_data(new_spas_sa)\n",
    "# vals= np.concatenate([new_spas_sa_grouped.loc[i,:].values for i in interested_districts])\n",
    "# data_array[plan-1,:] = vals\n",
    "\n",
    "new_spas_sa_grouped.head()\n",
    "#To change everything down to SA or TS"
   ]
  },
  {
   "cell_type": "code",
   "execution_count": 45,
   "metadata": {
    "scrolled": true
   },
   "outputs": [
    {
     "name": "stdout",
     "output_type": "stream",
     "text": [
      "0.2567345456095197\n"
     ]
    },
    {
     "data": {
      "text/html": [
       "<div>\n",
       "<style scoped>\n",
       "    .dataframe tbody tr th:only-of-type {\n",
       "        vertical-align: middle;\n",
       "    }\n",
       "\n",
       "    .dataframe tbody tr th {\n",
       "        vertical-align: top;\n",
       "    }\n",
       "\n",
       "    .dataframe thead th {\n",
       "        text-align: right;\n",
       "    }\n",
       "</style>\n",
       "<table border=\"1\" class=\"dataframe\">\n",
       "  <thead>\n",
       "    <tr style=\"text-align: right;\">\n",
       "      <th></th>\n",
       "      <th>HIGH_POP_W</th>\n",
       "      <th>HIGH_POP_NW</th>\n",
       "      <th>ABS_DIFF</th>\n",
       "      <th>ENTROPY_IND</th>\n",
       "    </tr>\n",
       "    <tr>\n",
       "      <th>NEW_HIGH_CODE</th>\n",
       "      <th></th>\n",
       "      <th></th>\n",
       "      <th></th>\n",
       "      <th></th>\n",
       "    </tr>\n",
       "  </thead>\n",
       "  <tbody>\n",
       "  </tbody>\n",
       "</table>\n",
       "</div>"
      ],
      "text/plain": [
       "Empty DataFrame\n",
       "Columns: [HIGH_POP_W, HIGH_POP_NW, ABS_DIFF, ENTROPY_IND]\n",
       "Index: []"
      ]
     },
     "execution_count": 45,
     "metadata": {},
     "output_type": "execute_result"
    }
   ],
   "source": [
    "measurements_df, ind_diss_sa1 = get_measurements(new_spas_sa_grouped)\n",
    "segregated_abs_diff_sa13 = measurements_df[measurements_df['ABS_DIFF'] > 0.7]\n",
    "segregated_entropy_sa13 = measurements_df[measurements_df['ENTROPY_IND'] < 0.4]\n",
    "ind_diss.append(ind_diss_sa1)\n",
    "print(ind_diss_sa1)\n",
    "segregated_entropy_sa13"
   ]
  },
  {
   "cell_type": "markdown",
   "metadata": {},
   "source": [
    "## Output Plan 14"
   ]
  },
  {
   "cell_type": "markdown",
   "metadata": {},
   "source": [
    "### Simulated Annealing (SA)"
   ]
  },
  {
   "cell_type": "code",
   "execution_count": 46,
   "metadata": {},
   "outputs": [
    {
     "data": {
      "text/html": [
       "<div>\n",
       "<style scoped>\n",
       "    .dataframe tbody tr th:only-of-type {\n",
       "        vertical-align: middle;\n",
       "    }\n",
       "\n",
       "    .dataframe tbody tr th {\n",
       "        vertical-align: top;\n",
       "    }\n",
       "\n",
       "    .dataframe thead th {\n",
       "        text-align: right;\n",
       "    }\n",
       "</style>\n",
       "<table border=\"1\" class=\"dataframe\">\n",
       "  <thead>\n",
       "    <tr style=\"text-align: right;\">\n",
       "      <th></th>\n",
       "      <th>HIGH_POP_W</th>\n",
       "      <th>HIGH_POP_NW</th>\n",
       "    </tr>\n",
       "    <tr>\n",
       "      <th>NEW_HIGH_CODE</th>\n",
       "      <th></th>\n",
       "      <th></th>\n",
       "    </tr>\n",
       "  </thead>\n",
       "  <tbody>\n",
       "    <tr>\n",
       "      <td>BRH</td>\n",
       "      <td>0.495238</td>\n",
       "      <td>0.504762</td>\n",
       "    </tr>\n",
       "    <tr>\n",
       "      <td>BWH</td>\n",
       "      <td>0.551929</td>\n",
       "      <td>0.448071</td>\n",
       "    </tr>\n",
       "    <tr>\n",
       "      <td>DMH</td>\n",
       "      <td>0.538927</td>\n",
       "      <td>0.461073</td>\n",
       "    </tr>\n",
       "    <tr>\n",
       "      <td>FHS</td>\n",
       "      <td>0.467446</td>\n",
       "      <td>0.532554</td>\n",
       "    </tr>\n",
       "    <tr>\n",
       "      <td>HTH</td>\n",
       "      <td>0.744133</td>\n",
       "      <td>0.255867</td>\n",
       "    </tr>\n",
       "  </tbody>\n",
       "</table>\n",
       "</div>"
      ],
      "text/plain": [
       "               HIGH_POP_W  HIGH_POP_NW\n",
       "NEW_HIGH_CODE                         \n",
       "BRH              0.495238     0.504762\n",
       "BWH              0.551929     0.448071\n",
       "DMH              0.538927     0.461073\n",
       "FHS              0.467446     0.532554\n",
       "HTH              0.744133     0.255867"
      ]
     },
     "execution_count": 46,
     "metadata": {},
     "output_type": "execute_result"
    }
   ],
   "source": [
    "plan = 14\n",
    "sa_output_df = retrieve_output_data(algo, level, plan)\n",
    "new_spas_sa = pd.merge(spas, sa_output_df, on='SPA')\n",
    "new_spas_sa_grouped = group_data(new_spas_sa)\n",
    "# vals= np.concatenate([new_spas_sa_grouped.loc[i,:].values for i in interested_districts])\n",
    "# data_array[plan-1,:] = vals\n",
    "\n",
    "new_spas_sa_grouped.head()\n",
    "#To change everything down to SA or TS"
   ]
  },
  {
   "cell_type": "code",
   "execution_count": 47,
   "metadata": {
    "scrolled": true
   },
   "outputs": [
    {
     "name": "stdout",
     "output_type": "stream",
     "text": [
      "0.25524492070582094\n"
     ]
    },
    {
     "data": {
      "text/html": [
       "<div>\n",
       "<style scoped>\n",
       "    .dataframe tbody tr th:only-of-type {\n",
       "        vertical-align: middle;\n",
       "    }\n",
       "\n",
       "    .dataframe tbody tr th {\n",
       "        vertical-align: top;\n",
       "    }\n",
       "\n",
       "    .dataframe thead th {\n",
       "        text-align: right;\n",
       "    }\n",
       "</style>\n",
       "<table border=\"1\" class=\"dataframe\">\n",
       "  <thead>\n",
       "    <tr style=\"text-align: right;\">\n",
       "      <th></th>\n",
       "      <th>HIGH_POP_W</th>\n",
       "      <th>HIGH_POP_NW</th>\n",
       "      <th>ABS_DIFF</th>\n",
       "      <th>ENTROPY_IND</th>\n",
       "    </tr>\n",
       "    <tr>\n",
       "      <th>NEW_HIGH_CODE</th>\n",
       "      <th></th>\n",
       "      <th></th>\n",
       "      <th></th>\n",
       "      <th></th>\n",
       "    </tr>\n",
       "  </thead>\n",
       "  <tbody>\n",
       "  </tbody>\n",
       "</table>\n",
       "</div>"
      ],
      "text/plain": [
       "Empty DataFrame\n",
       "Columns: [HIGH_POP_W, HIGH_POP_NW, ABS_DIFF, ENTROPY_IND]\n",
       "Index: []"
      ]
     },
     "execution_count": 47,
     "metadata": {},
     "output_type": "execute_result"
    }
   ],
   "source": [
    "measurements_df, ind_diss_sa1 = get_measurements(new_spas_sa_grouped)\n",
    "segregated_abs_diff_sa14 = measurements_df[measurements_df['ABS_DIFF'] > 0.7]\n",
    "segregated_entropy_sa14 = measurements_df[measurements_df['ENTROPY_IND'] < 0.4]\n",
    "ind_diss.append(ind_diss_sa1)\n",
    "print(ind_diss_sa1)\n",
    "segregated_entropy_sa14"
   ]
  },
  {
   "cell_type": "markdown",
   "metadata": {},
   "source": [
    "## Output Plan 15"
   ]
  },
  {
   "cell_type": "markdown",
   "metadata": {},
   "source": [
    "### Simulated Annealing (SA)"
   ]
  },
  {
   "cell_type": "code",
   "execution_count": 48,
   "metadata": {},
   "outputs": [
    {
     "data": {
      "text/html": [
       "<div>\n",
       "<style scoped>\n",
       "    .dataframe tbody tr th:only-of-type {\n",
       "        vertical-align: middle;\n",
       "    }\n",
       "\n",
       "    .dataframe tbody tr th {\n",
       "        vertical-align: top;\n",
       "    }\n",
       "\n",
       "    .dataframe thead th {\n",
       "        text-align: right;\n",
       "    }\n",
       "</style>\n",
       "<table border=\"1\" class=\"dataframe\">\n",
       "  <thead>\n",
       "    <tr style=\"text-align: right;\">\n",
       "      <th></th>\n",
       "      <th>HIGH_POP_W</th>\n",
       "      <th>HIGH_POP_NW</th>\n",
       "    </tr>\n",
       "    <tr>\n",
       "      <th>NEW_HIGH_CODE</th>\n",
       "      <th></th>\n",
       "      <th></th>\n",
       "    </tr>\n",
       "  </thead>\n",
       "  <tbody>\n",
       "    <tr>\n",
       "      <td>BRH</td>\n",
       "      <td>0.506162</td>\n",
       "      <td>0.493838</td>\n",
       "    </tr>\n",
       "    <tr>\n",
       "      <td>BWH</td>\n",
       "      <td>0.550676</td>\n",
       "      <td>0.449324</td>\n",
       "    </tr>\n",
       "    <tr>\n",
       "      <td>DMH</td>\n",
       "      <td>0.327331</td>\n",
       "      <td>0.672669</td>\n",
       "    </tr>\n",
       "    <tr>\n",
       "      <td>FHS</td>\n",
       "      <td>0.397494</td>\n",
       "      <td>0.602506</td>\n",
       "    </tr>\n",
       "    <tr>\n",
       "      <td>HTH</td>\n",
       "      <td>0.626179</td>\n",
       "      <td>0.373821</td>\n",
       "    </tr>\n",
       "  </tbody>\n",
       "</table>\n",
       "</div>"
      ],
      "text/plain": [
       "               HIGH_POP_W  HIGH_POP_NW\n",
       "NEW_HIGH_CODE                         \n",
       "BRH              0.506162     0.493838\n",
       "BWH              0.550676     0.449324\n",
       "DMH              0.327331     0.672669\n",
       "FHS              0.397494     0.602506\n",
       "HTH              0.626179     0.373821"
      ]
     },
     "execution_count": 48,
     "metadata": {},
     "output_type": "execute_result"
    }
   ],
   "source": [
    "plan = 15\n",
    "sa_output_df = retrieve_output_data(algo, level, plan)\n",
    "new_spas_sa = pd.merge(spas, sa_output_df, on='SPA')\n",
    "new_spas_sa_grouped = group_data(new_spas_sa)\n",
    "# vals= np.concatenate([new_spas_sa_grouped.loc[i,:].values for i in interested_districts])\n",
    "# data_array[plan-1,:] = vals\n",
    "\n",
    "new_spas_sa_grouped.head()\n",
    "#To change everything down to SA or TS"
   ]
  },
  {
   "cell_type": "code",
   "execution_count": 49,
   "metadata": {
    "scrolled": true
   },
   "outputs": [
    {
     "name": "stdout",
     "output_type": "stream",
     "text": [
      "0.2588190768319244\n"
     ]
    },
    {
     "data": {
      "text/html": [
       "<div>\n",
       "<style scoped>\n",
       "    .dataframe tbody tr th:only-of-type {\n",
       "        vertical-align: middle;\n",
       "    }\n",
       "\n",
       "    .dataframe tbody tr th {\n",
       "        vertical-align: top;\n",
       "    }\n",
       "\n",
       "    .dataframe thead th {\n",
       "        text-align: right;\n",
       "    }\n",
       "</style>\n",
       "<table border=\"1\" class=\"dataframe\">\n",
       "  <thead>\n",
       "    <tr style=\"text-align: right;\">\n",
       "      <th></th>\n",
       "      <th>HIGH_POP_W</th>\n",
       "      <th>HIGH_POP_NW</th>\n",
       "      <th>ABS_DIFF</th>\n",
       "      <th>ENTROPY_IND</th>\n",
       "    </tr>\n",
       "    <tr>\n",
       "      <th>NEW_HIGH_CODE</th>\n",
       "      <th></th>\n",
       "      <th></th>\n",
       "      <th></th>\n",
       "      <th></th>\n",
       "    </tr>\n",
       "  </thead>\n",
       "  <tbody>\n",
       "  </tbody>\n",
       "</table>\n",
       "</div>"
      ],
      "text/plain": [
       "Empty DataFrame\n",
       "Columns: [HIGH_POP_W, HIGH_POP_NW, ABS_DIFF, ENTROPY_IND]\n",
       "Index: []"
      ]
     },
     "execution_count": 49,
     "metadata": {},
     "output_type": "execute_result"
    }
   ],
   "source": [
    "measurements_df, ind_diss_sa1 = get_measurements(new_spas_sa_grouped)\n",
    "segregated_abs_diff_sa15 = measurements_df[measurements_df['ABS_DIFF'] > 0.7]\n",
    "segregated_entropy_sa15 = measurements_df[measurements_df['ENTROPY_IND'] < 0.4]\n",
    "ind_diss.append(ind_diss_sa1)\n",
    "print(ind_diss_sa1)\n",
    "segregated_entropy_sa15"
   ]
  },
  {
   "cell_type": "markdown",
   "metadata": {},
   "source": [
    "## Output Plan 16"
   ]
  },
  {
   "cell_type": "markdown",
   "metadata": {},
   "source": [
    "### Simulated Annealing (SA)"
   ]
  },
  {
   "cell_type": "code",
   "execution_count": 50,
   "metadata": {},
   "outputs": [
    {
     "data": {
      "text/html": [
       "<div>\n",
       "<style scoped>\n",
       "    .dataframe tbody tr th:only-of-type {\n",
       "        vertical-align: middle;\n",
       "    }\n",
       "\n",
       "    .dataframe tbody tr th {\n",
       "        vertical-align: top;\n",
       "    }\n",
       "\n",
       "    .dataframe thead th {\n",
       "        text-align: right;\n",
       "    }\n",
       "</style>\n",
       "<table border=\"1\" class=\"dataframe\">\n",
       "  <thead>\n",
       "    <tr style=\"text-align: right;\">\n",
       "      <th></th>\n",
       "      <th>HIGH_POP_W</th>\n",
       "      <th>HIGH_POP_NW</th>\n",
       "    </tr>\n",
       "    <tr>\n",
       "      <th>NEW_HIGH_CODE</th>\n",
       "      <th></th>\n",
       "      <th></th>\n",
       "    </tr>\n",
       "  </thead>\n",
       "  <tbody>\n",
       "    <tr>\n",
       "      <td>BRH</td>\n",
       "      <td>0.528719</td>\n",
       "      <td>0.471281</td>\n",
       "    </tr>\n",
       "    <tr>\n",
       "      <td>BWH</td>\n",
       "      <td>0.509721</td>\n",
       "      <td>0.490279</td>\n",
       "    </tr>\n",
       "    <tr>\n",
       "      <td>DMH</td>\n",
       "      <td>0.267108</td>\n",
       "      <td>0.732892</td>\n",
       "    </tr>\n",
       "    <tr>\n",
       "      <td>FHS</td>\n",
       "      <td>0.472940</td>\n",
       "      <td>0.527060</td>\n",
       "    </tr>\n",
       "    <tr>\n",
       "      <td>HTH</td>\n",
       "      <td>0.461202</td>\n",
       "      <td>0.538798</td>\n",
       "    </tr>\n",
       "  </tbody>\n",
       "</table>\n",
       "</div>"
      ],
      "text/plain": [
       "               HIGH_POP_W  HIGH_POP_NW\n",
       "NEW_HIGH_CODE                         \n",
       "BRH              0.528719     0.471281\n",
       "BWH              0.509721     0.490279\n",
       "DMH              0.267108     0.732892\n",
       "FHS              0.472940     0.527060\n",
       "HTH              0.461202     0.538798"
      ]
     },
     "execution_count": 50,
     "metadata": {},
     "output_type": "execute_result"
    }
   ],
   "source": [
    "plan = 16\n",
    "sa_output_df = retrieve_output_data(algo, level, plan)\n",
    "new_spas_sa = pd.merge(spas, sa_output_df, on='SPA')\n",
    "new_spas_sa_grouped = group_data(new_spas_sa)\n",
    "# vals= np.concatenate([new_spas_sa_grouped.loc[i,:].values for i in interested_districts])\n",
    "# data_array[plan-1,:] = vals\n",
    "\n",
    "new_spas_sa_grouped.head()\n",
    "#To change everything down to SA or TS"
   ]
  },
  {
   "cell_type": "code",
   "execution_count": 51,
   "metadata": {
    "scrolled": true
   },
   "outputs": [
    {
     "name": "stdout",
     "output_type": "stream",
     "text": [
      "0.25484400802560914\n"
     ]
    },
    {
     "data": {
      "text/html": [
       "<div>\n",
       "<style scoped>\n",
       "    .dataframe tbody tr th:only-of-type {\n",
       "        vertical-align: middle;\n",
       "    }\n",
       "\n",
       "    .dataframe tbody tr th {\n",
       "        vertical-align: top;\n",
       "    }\n",
       "\n",
       "    .dataframe thead th {\n",
       "        text-align: right;\n",
       "    }\n",
       "</style>\n",
       "<table border=\"1\" class=\"dataframe\">\n",
       "  <thead>\n",
       "    <tr style=\"text-align: right;\">\n",
       "      <th></th>\n",
       "      <th>HIGH_POP_W</th>\n",
       "      <th>HIGH_POP_NW</th>\n",
       "      <th>ABS_DIFF</th>\n",
       "      <th>ENTROPY_IND</th>\n",
       "    </tr>\n",
       "    <tr>\n",
       "      <th>NEW_HIGH_CODE</th>\n",
       "      <th></th>\n",
       "      <th></th>\n",
       "      <th></th>\n",
       "      <th></th>\n",
       "    </tr>\n",
       "  </thead>\n",
       "  <tbody>\n",
       "  </tbody>\n",
       "</table>\n",
       "</div>"
      ],
      "text/plain": [
       "Empty DataFrame\n",
       "Columns: [HIGH_POP_W, HIGH_POP_NW, ABS_DIFF, ENTROPY_IND]\n",
       "Index: []"
      ]
     },
     "execution_count": 51,
     "metadata": {},
     "output_type": "execute_result"
    }
   ],
   "source": [
    "measurements_df, ind_diss_sa1 = get_measurements(new_spas_sa_grouped)\n",
    "segregated_abs_diff_sa16 = measurements_df[measurements_df['ABS_DIFF'] > 0.7]\n",
    "segregated_entropy_sa16 = measurements_df[measurements_df['ENTROPY_IND'] < 0.4]\n",
    "ind_diss.append(ind_diss_sa1)\n",
    "print(ind_diss_sa1)\n",
    "segregated_entropy_sa16"
   ]
  },
  {
   "cell_type": "markdown",
   "metadata": {},
   "source": [
    "## Output Plan 17"
   ]
  },
  {
   "cell_type": "markdown",
   "metadata": {},
   "source": [
    "### Simulated Annealing (SA)"
   ]
  },
  {
   "cell_type": "code",
   "execution_count": 52,
   "metadata": {},
   "outputs": [
    {
     "data": {
      "text/html": [
       "<div>\n",
       "<style scoped>\n",
       "    .dataframe tbody tr th:only-of-type {\n",
       "        vertical-align: middle;\n",
       "    }\n",
       "\n",
       "    .dataframe tbody tr th {\n",
       "        vertical-align: top;\n",
       "    }\n",
       "\n",
       "    .dataframe thead th {\n",
       "        text-align: right;\n",
       "    }\n",
       "</style>\n",
       "<table border=\"1\" class=\"dataframe\">\n",
       "  <thead>\n",
       "    <tr style=\"text-align: right;\">\n",
       "      <th></th>\n",
       "      <th>HIGH_POP_W</th>\n",
       "      <th>HIGH_POP_NW</th>\n",
       "    </tr>\n",
       "    <tr>\n",
       "      <th>NEW_HIGH_CODE</th>\n",
       "      <th></th>\n",
       "      <th></th>\n",
       "    </tr>\n",
       "  </thead>\n",
       "  <tbody>\n",
       "    <tr>\n",
       "      <td>BRH</td>\n",
       "      <td>0.533419</td>\n",
       "      <td>0.466581</td>\n",
       "    </tr>\n",
       "    <tr>\n",
       "      <td>BWH</td>\n",
       "      <td>0.497875</td>\n",
       "      <td>0.502125</td>\n",
       "    </tr>\n",
       "    <tr>\n",
       "      <td>DMH</td>\n",
       "      <td>0.430086</td>\n",
       "      <td>0.569914</td>\n",
       "    </tr>\n",
       "    <tr>\n",
       "      <td>FHS</td>\n",
       "      <td>0.459897</td>\n",
       "      <td>0.540103</td>\n",
       "    </tr>\n",
       "    <tr>\n",
       "      <td>HTH</td>\n",
       "      <td>0.543758</td>\n",
       "      <td>0.456242</td>\n",
       "    </tr>\n",
       "  </tbody>\n",
       "</table>\n",
       "</div>"
      ],
      "text/plain": [
       "               HIGH_POP_W  HIGH_POP_NW\n",
       "NEW_HIGH_CODE                         \n",
       "BRH              0.533419     0.466581\n",
       "BWH              0.497875     0.502125\n",
       "DMH              0.430086     0.569914\n",
       "FHS              0.459897     0.540103\n",
       "HTH              0.543758     0.456242"
      ]
     },
     "execution_count": 52,
     "metadata": {},
     "output_type": "execute_result"
    }
   ],
   "source": [
    "plan = 17\n",
    "sa_output_df = retrieve_output_data(algo, level, plan)\n",
    "new_spas_sa = pd.merge(spas, sa_output_df, on='SPA')\n",
    "new_spas_sa_grouped = group_data(new_spas_sa)\n",
    "# vals= np.concatenate([new_spas_sa_grouped.loc[i,:].values for i in interested_districts])\n",
    "# data_array[plan-1,:] = vals\n",
    "\n",
    "new_spas_sa_grouped.head()\n",
    "#To change everything down to SA or TS"
   ]
  },
  {
   "cell_type": "code",
   "execution_count": 53,
   "metadata": {
    "scrolled": true
   },
   "outputs": [
    {
     "name": "stdout",
     "output_type": "stream",
     "text": [
      "0.22719579723185795\n"
     ]
    },
    {
     "data": {
      "text/html": [
       "<div>\n",
       "<style scoped>\n",
       "    .dataframe tbody tr th:only-of-type {\n",
       "        vertical-align: middle;\n",
       "    }\n",
       "\n",
       "    .dataframe tbody tr th {\n",
       "        vertical-align: top;\n",
       "    }\n",
       "\n",
       "    .dataframe thead th {\n",
       "        text-align: right;\n",
       "    }\n",
       "</style>\n",
       "<table border=\"1\" class=\"dataframe\">\n",
       "  <thead>\n",
       "    <tr style=\"text-align: right;\">\n",
       "      <th></th>\n",
       "      <th>HIGH_POP_W</th>\n",
       "      <th>HIGH_POP_NW</th>\n",
       "      <th>ABS_DIFF</th>\n",
       "      <th>ENTROPY_IND</th>\n",
       "    </tr>\n",
       "    <tr>\n",
       "      <th>NEW_HIGH_CODE</th>\n",
       "      <th></th>\n",
       "      <th></th>\n",
       "      <th></th>\n",
       "      <th></th>\n",
       "    </tr>\n",
       "  </thead>\n",
       "  <tbody>\n",
       "  </tbody>\n",
       "</table>\n",
       "</div>"
      ],
      "text/plain": [
       "Empty DataFrame\n",
       "Columns: [HIGH_POP_W, HIGH_POP_NW, ABS_DIFF, ENTROPY_IND]\n",
       "Index: []"
      ]
     },
     "execution_count": 53,
     "metadata": {},
     "output_type": "execute_result"
    }
   ],
   "source": [
    "measurements_df, ind_diss_sa1 = get_measurements(new_spas_sa_grouped)\n",
    "segregated_abs_diff_sa17 = measurements_df[measurements_df['ABS_DIFF'] > 0.7]\n",
    "segregated_entropy_sa17 = measurements_df[measurements_df['ENTROPY_IND'] < 0.4]\n",
    "ind_diss.append(ind_diss_sa1)\n",
    "print(ind_diss_sa1)\n",
    "segregated_entropy_sa17"
   ]
  },
  {
   "cell_type": "markdown",
   "metadata": {},
   "source": [
    "## Output Plan 18"
   ]
  },
  {
   "cell_type": "markdown",
   "metadata": {},
   "source": [
    "### Simulated Annealing (SA)"
   ]
  },
  {
   "cell_type": "code",
   "execution_count": 54,
   "metadata": {},
   "outputs": [
    {
     "data": {
      "text/html": [
       "<div>\n",
       "<style scoped>\n",
       "    .dataframe tbody tr th:only-of-type {\n",
       "        vertical-align: middle;\n",
       "    }\n",
       "\n",
       "    .dataframe tbody tr th {\n",
       "        vertical-align: top;\n",
       "    }\n",
       "\n",
       "    .dataframe thead th {\n",
       "        text-align: right;\n",
       "    }\n",
       "</style>\n",
       "<table border=\"1\" class=\"dataframe\">\n",
       "  <thead>\n",
       "    <tr style=\"text-align: right;\">\n",
       "      <th></th>\n",
       "      <th>HIGH_POP_W</th>\n",
       "      <th>HIGH_POP_NW</th>\n",
       "    </tr>\n",
       "    <tr>\n",
       "      <th>NEW_HIGH_CODE</th>\n",
       "      <th></th>\n",
       "      <th></th>\n",
       "    </tr>\n",
       "  </thead>\n",
       "  <tbody>\n",
       "    <tr>\n",
       "      <td>BRH</td>\n",
       "      <td>0.546032</td>\n",
       "      <td>0.453968</td>\n",
       "    </tr>\n",
       "    <tr>\n",
       "      <td>BWH</td>\n",
       "      <td>0.410080</td>\n",
       "      <td>0.589920</td>\n",
       "    </tr>\n",
       "    <tr>\n",
       "      <td>DMH</td>\n",
       "      <td>0.442053</td>\n",
       "      <td>0.557947</td>\n",
       "    </tr>\n",
       "    <tr>\n",
       "      <td>FHS</td>\n",
       "      <td>0.466807</td>\n",
       "      <td>0.533193</td>\n",
       "    </tr>\n",
       "    <tr>\n",
       "      <td>HTH</td>\n",
       "      <td>0.722752</td>\n",
       "      <td>0.277248</td>\n",
       "    </tr>\n",
       "  </tbody>\n",
       "</table>\n",
       "</div>"
      ],
      "text/plain": [
       "               HIGH_POP_W  HIGH_POP_NW\n",
       "NEW_HIGH_CODE                         \n",
       "BRH              0.546032     0.453968\n",
       "BWH              0.410080     0.589920\n",
       "DMH              0.442053     0.557947\n",
       "FHS              0.466807     0.533193\n",
       "HTH              0.722752     0.277248"
      ]
     },
     "execution_count": 54,
     "metadata": {},
     "output_type": "execute_result"
    }
   ],
   "source": [
    "plan = 18\n",
    "sa_output_df = retrieve_output_data(algo, level, plan)\n",
    "new_spas_sa = pd.merge(spas, sa_output_df, on='SPA')\n",
    "new_spas_sa_grouped = group_data(new_spas_sa)\n",
    "# vals= np.concatenate([new_spas_sa_grouped.loc[i,:].values for i in interested_districts])\n",
    "# data_array[plan-1,:] = vals\n",
    "\n",
    "new_spas_sa_grouped.head()\n",
    "#To change everything down to SA or TS"
   ]
  },
  {
   "cell_type": "code",
   "execution_count": 55,
   "metadata": {
    "scrolled": true
   },
   "outputs": [
    {
     "name": "stdout",
     "output_type": "stream",
     "text": [
      "0.27358013937109127\n"
     ]
    },
    {
     "data": {
      "text/html": [
       "<div>\n",
       "<style scoped>\n",
       "    .dataframe tbody tr th:only-of-type {\n",
       "        vertical-align: middle;\n",
       "    }\n",
       "\n",
       "    .dataframe tbody tr th {\n",
       "        vertical-align: top;\n",
       "    }\n",
       "\n",
       "    .dataframe thead th {\n",
       "        text-align: right;\n",
       "    }\n",
       "</style>\n",
       "<table border=\"1\" class=\"dataframe\">\n",
       "  <thead>\n",
       "    <tr style=\"text-align: right;\">\n",
       "      <th></th>\n",
       "      <th>HIGH_POP_W</th>\n",
       "      <th>HIGH_POP_NW</th>\n",
       "      <th>ABS_DIFF</th>\n",
       "      <th>ENTROPY_IND</th>\n",
       "    </tr>\n",
       "    <tr>\n",
       "      <th>NEW_HIGH_CODE</th>\n",
       "      <th></th>\n",
       "      <th></th>\n",
       "      <th></th>\n",
       "      <th></th>\n",
       "    </tr>\n",
       "  </thead>\n",
       "  <tbody>\n",
       "  </tbody>\n",
       "</table>\n",
       "</div>"
      ],
      "text/plain": [
       "Empty DataFrame\n",
       "Columns: [HIGH_POP_W, HIGH_POP_NW, ABS_DIFF, ENTROPY_IND]\n",
       "Index: []"
      ]
     },
     "execution_count": 55,
     "metadata": {},
     "output_type": "execute_result"
    }
   ],
   "source": [
    "measurements_df, ind_diss_sa1 = get_measurements(new_spas_sa_grouped)\n",
    "segregated_abs_diff_sa18 = measurements_df[measurements_df['ABS_DIFF'] > 0.7]\n",
    "segregated_entropy_sa18 = measurements_df[measurements_df['ENTROPY_IND'] < 0.4]\n",
    "ind_diss.append(ind_diss_sa1)\n",
    "print(ind_diss_sa1)\n",
    "segregated_entropy_sa18"
   ]
  },
  {
   "cell_type": "markdown",
   "metadata": {},
   "source": [
    "## Output Plan 19"
   ]
  },
  {
   "cell_type": "markdown",
   "metadata": {},
   "source": [
    "### Simulated Annealing (SA)"
   ]
  },
  {
   "cell_type": "code",
   "execution_count": 56,
   "metadata": {},
   "outputs": [
    {
     "data": {
      "text/html": [
       "<div>\n",
       "<style scoped>\n",
       "    .dataframe tbody tr th:only-of-type {\n",
       "        vertical-align: middle;\n",
       "    }\n",
       "\n",
       "    .dataframe tbody tr th {\n",
       "        vertical-align: top;\n",
       "    }\n",
       "\n",
       "    .dataframe thead th {\n",
       "        text-align: right;\n",
       "    }\n",
       "</style>\n",
       "<table border=\"1\" class=\"dataframe\">\n",
       "  <thead>\n",
       "    <tr style=\"text-align: right;\">\n",
       "      <th></th>\n",
       "      <th>HIGH_POP_W</th>\n",
       "      <th>HIGH_POP_NW</th>\n",
       "    </tr>\n",
       "    <tr>\n",
       "      <th>NEW_HIGH_CODE</th>\n",
       "      <th></th>\n",
       "      <th></th>\n",
       "    </tr>\n",
       "  </thead>\n",
       "  <tbody>\n",
       "    <tr>\n",
       "      <td>BRH</td>\n",
       "      <td>0.552097</td>\n",
       "      <td>0.447903</td>\n",
       "    </tr>\n",
       "    <tr>\n",
       "      <td>BWH</td>\n",
       "      <td>0.471631</td>\n",
       "      <td>0.528369</td>\n",
       "    </tr>\n",
       "    <tr>\n",
       "      <td>DMH</td>\n",
       "      <td>0.214898</td>\n",
       "      <td>0.785102</td>\n",
       "    </tr>\n",
       "    <tr>\n",
       "      <td>FHS</td>\n",
       "      <td>0.488421</td>\n",
       "      <td>0.511579</td>\n",
       "    </tr>\n",
       "    <tr>\n",
       "      <td>HTH</td>\n",
       "      <td>0.744166</td>\n",
       "      <td>0.255834</td>\n",
       "    </tr>\n",
       "  </tbody>\n",
       "</table>\n",
       "</div>"
      ],
      "text/plain": [
       "               HIGH_POP_W  HIGH_POP_NW\n",
       "NEW_HIGH_CODE                         \n",
       "BRH              0.552097     0.447903\n",
       "BWH              0.471631     0.528369\n",
       "DMH              0.214898     0.785102\n",
       "FHS              0.488421     0.511579\n",
       "HTH              0.744166     0.255834"
      ]
     },
     "execution_count": 56,
     "metadata": {},
     "output_type": "execute_result"
    }
   ],
   "source": [
    "plan = 19\n",
    "sa_output_df = retrieve_output_data(algo, level, plan)\n",
    "new_spas_sa = pd.merge(spas, sa_output_df, on='SPA')\n",
    "new_spas_sa_grouped = group_data(new_spas_sa)\n",
    "# vals= np.concatenate([new_spas_sa_grouped.loc[i,:].values for i in interested_districts])\n",
    "# data_array[plan-1,:] = vals\n",
    "\n",
    "new_spas_sa_grouped.head()\n",
    "#To change everything down to SA or TS"
   ]
  },
  {
   "cell_type": "code",
   "execution_count": 57,
   "metadata": {
    "scrolled": true
   },
   "outputs": [
    {
     "name": "stdout",
     "output_type": "stream",
     "text": [
      "0.27734193278154584\n"
     ]
    },
    {
     "data": {
      "text/html": [
       "<div>\n",
       "<style scoped>\n",
       "    .dataframe tbody tr th:only-of-type {\n",
       "        vertical-align: middle;\n",
       "    }\n",
       "\n",
       "    .dataframe tbody tr th {\n",
       "        vertical-align: top;\n",
       "    }\n",
       "\n",
       "    .dataframe thead th {\n",
       "        text-align: right;\n",
       "    }\n",
       "</style>\n",
       "<table border=\"1\" class=\"dataframe\">\n",
       "  <thead>\n",
       "    <tr style=\"text-align: right;\">\n",
       "      <th></th>\n",
       "      <th>HIGH_POP_W</th>\n",
       "      <th>HIGH_POP_NW</th>\n",
       "      <th>ABS_DIFF</th>\n",
       "      <th>ENTROPY_IND</th>\n",
       "    </tr>\n",
       "    <tr>\n",
       "      <th>NEW_HIGH_CODE</th>\n",
       "      <th></th>\n",
       "      <th></th>\n",
       "      <th></th>\n",
       "      <th></th>\n",
       "    </tr>\n",
       "  </thead>\n",
       "  <tbody>\n",
       "  </tbody>\n",
       "</table>\n",
       "</div>"
      ],
      "text/plain": [
       "Empty DataFrame\n",
       "Columns: [HIGH_POP_W, HIGH_POP_NW, ABS_DIFF, ENTROPY_IND]\n",
       "Index: []"
      ]
     },
     "execution_count": 57,
     "metadata": {},
     "output_type": "execute_result"
    }
   ],
   "source": [
    "measurements_df, ind_diss_sa1 = get_measurements(new_spas_sa_grouped)\n",
    "segregated_abs_diff_sa19 = measurements_df[measurements_df['ABS_DIFF'] > 0.7]\n",
    "segregated_entropy_sa19 = measurements_df[measurements_df['ENTROPY_IND'] < 0.4]\n",
    "ind_diss.append(ind_diss_sa1)\n",
    "print(ind_diss_sa1)\n",
    "segregated_entropy_sa19"
   ]
  },
  {
   "cell_type": "markdown",
   "metadata": {},
   "source": [
    "## Output Plan 20"
   ]
  },
  {
   "cell_type": "markdown",
   "metadata": {},
   "source": [
    "### Simulated Annealing (SA)"
   ]
  },
  {
   "cell_type": "code",
   "execution_count": 58,
   "metadata": {},
   "outputs": [
    {
     "data": {
      "text/html": [
       "<div>\n",
       "<style scoped>\n",
       "    .dataframe tbody tr th:only-of-type {\n",
       "        vertical-align: middle;\n",
       "    }\n",
       "\n",
       "    .dataframe tbody tr th {\n",
       "        vertical-align: top;\n",
       "    }\n",
       "\n",
       "    .dataframe thead th {\n",
       "        text-align: right;\n",
       "    }\n",
       "</style>\n",
       "<table border=\"1\" class=\"dataframe\">\n",
       "  <thead>\n",
       "    <tr style=\"text-align: right;\">\n",
       "      <th></th>\n",
       "      <th>HIGH_POP_W</th>\n",
       "      <th>HIGH_POP_NW</th>\n",
       "    </tr>\n",
       "    <tr>\n",
       "      <th>NEW_HIGH_CODE</th>\n",
       "      <th></th>\n",
       "      <th></th>\n",
       "    </tr>\n",
       "  </thead>\n",
       "  <tbody>\n",
       "    <tr>\n",
       "      <td>BRH</td>\n",
       "      <td>0.503687</td>\n",
       "      <td>0.496313</td>\n",
       "    </tr>\n",
       "    <tr>\n",
       "      <td>BWH</td>\n",
       "      <td>0.577698</td>\n",
       "      <td>0.422302</td>\n",
       "    </tr>\n",
       "    <tr>\n",
       "      <td>DMH</td>\n",
       "      <td>0.327273</td>\n",
       "      <td>0.672727</td>\n",
       "    </tr>\n",
       "    <tr>\n",
       "      <td>FHS</td>\n",
       "      <td>0.458395</td>\n",
       "      <td>0.541605</td>\n",
       "    </tr>\n",
       "    <tr>\n",
       "      <td>HTH</td>\n",
       "      <td>0.695528</td>\n",
       "      <td>0.304472</td>\n",
       "    </tr>\n",
       "  </tbody>\n",
       "</table>\n",
       "</div>"
      ],
      "text/plain": [
       "               HIGH_POP_W  HIGH_POP_NW\n",
       "NEW_HIGH_CODE                         \n",
       "BRH              0.503687     0.496313\n",
       "BWH              0.577698     0.422302\n",
       "DMH              0.327273     0.672727\n",
       "FHS              0.458395     0.541605\n",
       "HTH              0.695528     0.304472"
      ]
     },
     "execution_count": 58,
     "metadata": {},
     "output_type": "execute_result"
    }
   ],
   "source": [
    "plan = 20\n",
    "sa_output_df = retrieve_output_data(algo, level, plan)\n",
    "new_spas_sa = pd.merge(spas, sa_output_df, on='SPA')\n",
    "new_spas_sa_grouped = group_data(new_spas_sa)\n",
    "# vals= np.concatenate([new_spas_sa_grouped.loc[i,:].values for i in interested_districts])\n",
    "# data_array[plan-1,:] = vals\n",
    "\n",
    "new_spas_sa_grouped.head()\n",
    "#To change everything down to SA or TS"
   ]
  },
  {
   "cell_type": "code",
   "execution_count": 59,
   "metadata": {
    "scrolled": true
   },
   "outputs": [
    {
     "name": "stdout",
     "output_type": "stream",
     "text": [
      "0.2592578801966154\n"
     ]
    },
    {
     "data": {
      "text/html": [
       "<div>\n",
       "<style scoped>\n",
       "    .dataframe tbody tr th:only-of-type {\n",
       "        vertical-align: middle;\n",
       "    }\n",
       "\n",
       "    .dataframe tbody tr th {\n",
       "        vertical-align: top;\n",
       "    }\n",
       "\n",
       "    .dataframe thead th {\n",
       "        text-align: right;\n",
       "    }\n",
       "</style>\n",
       "<table border=\"1\" class=\"dataframe\">\n",
       "  <thead>\n",
       "    <tr style=\"text-align: right;\">\n",
       "      <th></th>\n",
       "      <th>HIGH_POP_W</th>\n",
       "      <th>HIGH_POP_NW</th>\n",
       "      <th>ABS_DIFF</th>\n",
       "      <th>ENTROPY_IND</th>\n",
       "    </tr>\n",
       "    <tr>\n",
       "      <th>NEW_HIGH_CODE</th>\n",
       "      <th></th>\n",
       "      <th></th>\n",
       "      <th></th>\n",
       "      <th></th>\n",
       "    </tr>\n",
       "  </thead>\n",
       "  <tbody>\n",
       "  </tbody>\n",
       "</table>\n",
       "</div>"
      ],
      "text/plain": [
       "Empty DataFrame\n",
       "Columns: [HIGH_POP_W, HIGH_POP_NW, ABS_DIFF, ENTROPY_IND]\n",
       "Index: []"
      ]
     },
     "execution_count": 59,
     "metadata": {},
     "output_type": "execute_result"
    }
   ],
   "source": [
    "measurements_df, ind_diss_sa1 = get_measurements(new_spas_sa_grouped)\n",
    "segregated_abs_diff_sa20 = measurements_df[measurements_df['ABS_DIFF'] > 0.7]\n",
    "segregated_entropy_sa20 = measurements_df[measurements_df['ENTROPY_IND'] < 0.4]\n",
    "ind_diss.append(ind_diss_sa1)\n",
    "print(ind_diss_sa1)\n",
    "segregated_entropy_sa20"
   ]
  },
  {
   "cell_type": "markdown",
   "metadata": {},
   "source": [
    "## Output Plan 21"
   ]
  },
  {
   "cell_type": "markdown",
   "metadata": {},
   "source": [
    "### Simulated Annealing (SA)"
   ]
  },
  {
   "cell_type": "code",
   "execution_count": 60,
   "metadata": {},
   "outputs": [
    {
     "data": {
      "text/html": [
       "<div>\n",
       "<style scoped>\n",
       "    .dataframe tbody tr th:only-of-type {\n",
       "        vertical-align: middle;\n",
       "    }\n",
       "\n",
       "    .dataframe tbody tr th {\n",
       "        vertical-align: top;\n",
       "    }\n",
       "\n",
       "    .dataframe thead th {\n",
       "        text-align: right;\n",
       "    }\n",
       "</style>\n",
       "<table border=\"1\" class=\"dataframe\">\n",
       "  <thead>\n",
       "    <tr style=\"text-align: right;\">\n",
       "      <th></th>\n",
       "      <th>HIGH_POP_W</th>\n",
       "      <th>HIGH_POP_NW</th>\n",
       "    </tr>\n",
       "    <tr>\n",
       "      <th>NEW_HIGH_CODE</th>\n",
       "      <th></th>\n",
       "      <th></th>\n",
       "    </tr>\n",
       "  </thead>\n",
       "  <tbody>\n",
       "    <tr>\n",
       "      <td>BRH</td>\n",
       "      <td>0.555556</td>\n",
       "      <td>0.444444</td>\n",
       "    </tr>\n",
       "    <tr>\n",
       "      <td>BWH</td>\n",
       "      <td>0.575389</td>\n",
       "      <td>0.424611</td>\n",
       "    </tr>\n",
       "    <tr>\n",
       "      <td>DMH</td>\n",
       "      <td>0.271380</td>\n",
       "      <td>0.728620</td>\n",
       "    </tr>\n",
       "    <tr>\n",
       "      <td>FHS</td>\n",
       "      <td>0.474020</td>\n",
       "      <td>0.525980</td>\n",
       "    </tr>\n",
       "    <tr>\n",
       "      <td>HTH</td>\n",
       "      <td>0.582418</td>\n",
       "      <td>0.417582</td>\n",
       "    </tr>\n",
       "  </tbody>\n",
       "</table>\n",
       "</div>"
      ],
      "text/plain": [
       "               HIGH_POP_W  HIGH_POP_NW\n",
       "NEW_HIGH_CODE                         \n",
       "BRH              0.555556     0.444444\n",
       "BWH              0.575389     0.424611\n",
       "DMH              0.271380     0.728620\n",
       "FHS              0.474020     0.525980\n",
       "HTH              0.582418     0.417582"
      ]
     },
     "execution_count": 60,
     "metadata": {},
     "output_type": "execute_result"
    }
   ],
   "source": [
    "plan = 21\n",
    "sa_output_df = retrieve_output_data(algo, level, plan)\n",
    "new_spas_sa = pd.merge(spas, sa_output_df, on='SPA')\n",
    "new_spas_sa_grouped = group_data(new_spas_sa)\n",
    "# vals= np.concatenate([new_spas_sa_grouped.loc[i,:].values for i in interested_districts])\n",
    "# data_array[plan-1,:] = vals\n",
    "\n",
    "new_spas_sa_grouped.head()\n",
    "#To change everything down to SA or TS"
   ]
  },
  {
   "cell_type": "code",
   "execution_count": 61,
   "metadata": {
    "scrolled": true
   },
   "outputs": [
    {
     "name": "stdout",
     "output_type": "stream",
     "text": [
      "0.25632468568615374\n"
     ]
    },
    {
     "data": {
      "text/html": [
       "<div>\n",
       "<style scoped>\n",
       "    .dataframe tbody tr th:only-of-type {\n",
       "        vertical-align: middle;\n",
       "    }\n",
       "\n",
       "    .dataframe tbody tr th {\n",
       "        vertical-align: top;\n",
       "    }\n",
       "\n",
       "    .dataframe thead th {\n",
       "        text-align: right;\n",
       "    }\n",
       "</style>\n",
       "<table border=\"1\" class=\"dataframe\">\n",
       "  <thead>\n",
       "    <tr style=\"text-align: right;\">\n",
       "      <th></th>\n",
       "      <th>HIGH_POP_W</th>\n",
       "      <th>HIGH_POP_NW</th>\n",
       "      <th>ABS_DIFF</th>\n",
       "      <th>ENTROPY_IND</th>\n",
       "    </tr>\n",
       "    <tr>\n",
       "      <th>NEW_HIGH_CODE</th>\n",
       "      <th></th>\n",
       "      <th></th>\n",
       "      <th></th>\n",
       "      <th></th>\n",
       "    </tr>\n",
       "  </thead>\n",
       "  <tbody>\n",
       "  </tbody>\n",
       "</table>\n",
       "</div>"
      ],
      "text/plain": [
       "Empty DataFrame\n",
       "Columns: [HIGH_POP_W, HIGH_POP_NW, ABS_DIFF, ENTROPY_IND]\n",
       "Index: []"
      ]
     },
     "execution_count": 61,
     "metadata": {},
     "output_type": "execute_result"
    }
   ],
   "source": [
    "measurements_df, ind_diss_sa1 = get_measurements(new_spas_sa_grouped)\n",
    "segregated_abs_diff_sa21 = measurements_df[measurements_df['ABS_DIFF'] > 0.7]\n",
    "segregated_entropy_sa21 = measurements_df[measurements_df['ENTROPY_IND'] < 0.4]\n",
    "ind_diss.append(ind_diss_sa1)\n",
    "print(ind_diss_sa1)\n",
    "segregated_entropy_sa21"
   ]
  },
  {
   "cell_type": "markdown",
   "metadata": {},
   "source": [
    "## Output Plan 22"
   ]
  },
  {
   "cell_type": "markdown",
   "metadata": {},
   "source": [
    "### Simulated Annealing (SA)"
   ]
  },
  {
   "cell_type": "code",
   "execution_count": 62,
   "metadata": {},
   "outputs": [
    {
     "data": {
      "text/html": [
       "<div>\n",
       "<style scoped>\n",
       "    .dataframe tbody tr th:only-of-type {\n",
       "        vertical-align: middle;\n",
       "    }\n",
       "\n",
       "    .dataframe tbody tr th {\n",
       "        vertical-align: top;\n",
       "    }\n",
       "\n",
       "    .dataframe thead th {\n",
       "        text-align: right;\n",
       "    }\n",
       "</style>\n",
       "<table border=\"1\" class=\"dataframe\">\n",
       "  <thead>\n",
       "    <tr style=\"text-align: right;\">\n",
       "      <th></th>\n",
       "      <th>HIGH_POP_W</th>\n",
       "      <th>HIGH_POP_NW</th>\n",
       "    </tr>\n",
       "    <tr>\n",
       "      <th>NEW_HIGH_CODE</th>\n",
       "      <th></th>\n",
       "      <th></th>\n",
       "    </tr>\n",
       "  </thead>\n",
       "  <tbody>\n",
       "    <tr>\n",
       "      <td>BRH</td>\n",
       "      <td>0.327429</td>\n",
       "      <td>0.672571</td>\n",
       "    </tr>\n",
       "    <tr>\n",
       "      <td>BWH</td>\n",
       "      <td>0.536535</td>\n",
       "      <td>0.463465</td>\n",
       "    </tr>\n",
       "    <tr>\n",
       "      <td>DMH</td>\n",
       "      <td>0.388854</td>\n",
       "      <td>0.611146</td>\n",
       "    </tr>\n",
       "    <tr>\n",
       "      <td>FHS</td>\n",
       "      <td>0.472461</td>\n",
       "      <td>0.527539</td>\n",
       "    </tr>\n",
       "    <tr>\n",
       "      <td>HTH</td>\n",
       "      <td>0.774566</td>\n",
       "      <td>0.225434</td>\n",
       "    </tr>\n",
       "  </tbody>\n",
       "</table>\n",
       "</div>"
      ],
      "text/plain": [
       "               HIGH_POP_W  HIGH_POP_NW\n",
       "NEW_HIGH_CODE                         \n",
       "BRH              0.327429     0.672571\n",
       "BWH              0.536535     0.463465\n",
       "DMH              0.388854     0.611146\n",
       "FHS              0.472461     0.527539\n",
       "HTH              0.774566     0.225434"
      ]
     },
     "execution_count": 62,
     "metadata": {},
     "output_type": "execute_result"
    }
   ],
   "source": [
    "plan = 22\n",
    "sa_output_df = retrieve_output_data(algo, level, plan)\n",
    "new_spas_sa = pd.merge(spas, sa_output_df, on='SPA')\n",
    "new_spas_sa_grouped = group_data(new_spas_sa)\n",
    "# vals= np.concatenate([new_spas_sa_grouped.loc[i,:].values for i in interested_districts])\n",
    "# data_array[plan-1,:] = vals\n",
    "\n",
    "new_spas_sa_grouped.head()\n",
    "#To change everything down to SA or TS"
   ]
  },
  {
   "cell_type": "code",
   "execution_count": 63,
   "metadata": {
    "scrolled": true
   },
   "outputs": [
    {
     "name": "stdout",
     "output_type": "stream",
     "text": [
      "0.27261742942400324\n"
     ]
    },
    {
     "data": {
      "text/html": [
       "<div>\n",
       "<style scoped>\n",
       "    .dataframe tbody tr th:only-of-type {\n",
       "        vertical-align: middle;\n",
       "    }\n",
       "\n",
       "    .dataframe tbody tr th {\n",
       "        vertical-align: top;\n",
       "    }\n",
       "\n",
       "    .dataframe thead th {\n",
       "        text-align: right;\n",
       "    }\n",
       "</style>\n",
       "<table border=\"1\" class=\"dataframe\">\n",
       "  <thead>\n",
       "    <tr style=\"text-align: right;\">\n",
       "      <th></th>\n",
       "      <th>HIGH_POP_W</th>\n",
       "      <th>HIGH_POP_NW</th>\n",
       "      <th>ABS_DIFF</th>\n",
       "      <th>ENTROPY_IND</th>\n",
       "    </tr>\n",
       "    <tr>\n",
       "      <th>NEW_HIGH_CODE</th>\n",
       "      <th></th>\n",
       "      <th></th>\n",
       "      <th></th>\n",
       "      <th></th>\n",
       "    </tr>\n",
       "  </thead>\n",
       "  <tbody>\n",
       "  </tbody>\n",
       "</table>\n",
       "</div>"
      ],
      "text/plain": [
       "Empty DataFrame\n",
       "Columns: [HIGH_POP_W, HIGH_POP_NW, ABS_DIFF, ENTROPY_IND]\n",
       "Index: []"
      ]
     },
     "execution_count": 63,
     "metadata": {},
     "output_type": "execute_result"
    }
   ],
   "source": [
    "measurements_df, ind_diss_sa1 = get_measurements(new_spas_sa_grouped)\n",
    "segregated_abs_diff_sa22 = measurements_df[measurements_df['ABS_DIFF'] > 0.7]\n",
    "segregated_entropy_sa22 = measurements_df[measurements_df['ENTROPY_IND'] < 0.4]\n",
    "ind_diss.append(ind_diss_sa1)\n",
    "print(ind_diss_sa1)\n",
    "segregated_entropy_sa22"
   ]
  },
  {
   "cell_type": "markdown",
   "metadata": {},
   "source": [
    "## Output Plan 23"
   ]
  },
  {
   "cell_type": "markdown",
   "metadata": {},
   "source": [
    "### Simulated Annealing (SA)"
   ]
  },
  {
   "cell_type": "code",
   "execution_count": 64,
   "metadata": {},
   "outputs": [
    {
     "data": {
      "text/html": [
       "<div>\n",
       "<style scoped>\n",
       "    .dataframe tbody tr th:only-of-type {\n",
       "        vertical-align: middle;\n",
       "    }\n",
       "\n",
       "    .dataframe tbody tr th {\n",
       "        vertical-align: top;\n",
       "    }\n",
       "\n",
       "    .dataframe thead th {\n",
       "        text-align: right;\n",
       "    }\n",
       "</style>\n",
       "<table border=\"1\" class=\"dataframe\">\n",
       "  <thead>\n",
       "    <tr style=\"text-align: right;\">\n",
       "      <th></th>\n",
       "      <th>HIGH_POP_W</th>\n",
       "      <th>HIGH_POP_NW</th>\n",
       "    </tr>\n",
       "    <tr>\n",
       "      <th>NEW_HIGH_CODE</th>\n",
       "      <th></th>\n",
       "      <th></th>\n",
       "    </tr>\n",
       "  </thead>\n",
       "  <tbody>\n",
       "    <tr>\n",
       "      <td>BRH</td>\n",
       "      <td>0.523989</td>\n",
       "      <td>0.476011</td>\n",
       "    </tr>\n",
       "    <tr>\n",
       "      <td>BWH</td>\n",
       "      <td>0.425253</td>\n",
       "      <td>0.574747</td>\n",
       "    </tr>\n",
       "    <tr>\n",
       "      <td>DMH</td>\n",
       "      <td>0.440878</td>\n",
       "      <td>0.559122</td>\n",
       "    </tr>\n",
       "    <tr>\n",
       "      <td>FHS</td>\n",
       "      <td>0.444264</td>\n",
       "      <td>0.555736</td>\n",
       "    </tr>\n",
       "    <tr>\n",
       "      <td>HTH</td>\n",
       "      <td>0.501481</td>\n",
       "      <td>0.498519</td>\n",
       "    </tr>\n",
       "  </tbody>\n",
       "</table>\n",
       "</div>"
      ],
      "text/plain": [
       "               HIGH_POP_W  HIGH_POP_NW\n",
       "NEW_HIGH_CODE                         \n",
       "BRH              0.523989     0.476011\n",
       "BWH              0.425253     0.574747\n",
       "DMH              0.440878     0.559122\n",
       "FHS              0.444264     0.555736\n",
       "HTH              0.501481     0.498519"
      ]
     },
     "execution_count": 64,
     "metadata": {},
     "output_type": "execute_result"
    }
   ],
   "source": [
    "plan = 23\n",
    "sa_output_df = retrieve_output_data(algo, level, plan)\n",
    "new_spas_sa = pd.merge(spas, sa_output_df, on='SPA')\n",
    "new_spas_sa_grouped = group_data(new_spas_sa)\n",
    "# vals= np.concatenate([new_spas_sa_grouped.loc[i,:].values for i in interested_districts])\n",
    "# data_array[plan-1,:] = vals\n",
    "\n",
    "new_spas_sa_grouped.head()\n",
    "#To change everything down to SA or TS"
   ]
  },
  {
   "cell_type": "code",
   "execution_count": 65,
   "metadata": {
    "scrolled": true
   },
   "outputs": [
    {
     "name": "stdout",
     "output_type": "stream",
     "text": [
      "0.22520770155357456\n"
     ]
    },
    {
     "data": {
      "text/html": [
       "<div>\n",
       "<style scoped>\n",
       "    .dataframe tbody tr th:only-of-type {\n",
       "        vertical-align: middle;\n",
       "    }\n",
       "\n",
       "    .dataframe tbody tr th {\n",
       "        vertical-align: top;\n",
       "    }\n",
       "\n",
       "    .dataframe thead th {\n",
       "        text-align: right;\n",
       "    }\n",
       "</style>\n",
       "<table border=\"1\" class=\"dataframe\">\n",
       "  <thead>\n",
       "    <tr style=\"text-align: right;\">\n",
       "      <th></th>\n",
       "      <th>HIGH_POP_W</th>\n",
       "      <th>HIGH_POP_NW</th>\n",
       "      <th>ABS_DIFF</th>\n",
       "      <th>ENTROPY_IND</th>\n",
       "    </tr>\n",
       "    <tr>\n",
       "      <th>NEW_HIGH_CODE</th>\n",
       "      <th></th>\n",
       "      <th></th>\n",
       "      <th></th>\n",
       "      <th></th>\n",
       "    </tr>\n",
       "  </thead>\n",
       "  <tbody>\n",
       "  </tbody>\n",
       "</table>\n",
       "</div>"
      ],
      "text/plain": [
       "Empty DataFrame\n",
       "Columns: [HIGH_POP_W, HIGH_POP_NW, ABS_DIFF, ENTROPY_IND]\n",
       "Index: []"
      ]
     },
     "execution_count": 65,
     "metadata": {},
     "output_type": "execute_result"
    }
   ],
   "source": [
    "measurements_df, ind_diss_sa1 = get_measurements(new_spas_sa_grouped)\n",
    "segregated_abs_diff_sa23 = measurements_df[measurements_df['ABS_DIFF'] > 0.7]\n",
    "segregated_entropy_sa23 = measurements_df[measurements_df['ENTROPY_IND'] < 0.4]\n",
    "ind_diss.append(ind_diss_sa1)\n",
    "print(ind_diss_sa1)\n",
    "segregated_entropy_sa23"
   ]
  },
  {
   "cell_type": "markdown",
   "metadata": {},
   "source": [
    "## Output Plan 24"
   ]
  },
  {
   "cell_type": "markdown",
   "metadata": {},
   "source": [
    "### Simulated Annealing (SA)"
   ]
  },
  {
   "cell_type": "code",
   "execution_count": 66,
   "metadata": {},
   "outputs": [
    {
     "data": {
      "text/html": [
       "<div>\n",
       "<style scoped>\n",
       "    .dataframe tbody tr th:only-of-type {\n",
       "        vertical-align: middle;\n",
       "    }\n",
       "\n",
       "    .dataframe tbody tr th {\n",
       "        vertical-align: top;\n",
       "    }\n",
       "\n",
       "    .dataframe thead th {\n",
       "        text-align: right;\n",
       "    }\n",
       "</style>\n",
       "<table border=\"1\" class=\"dataframe\">\n",
       "  <thead>\n",
       "    <tr style=\"text-align: right;\">\n",
       "      <th></th>\n",
       "      <th>HIGH_POP_W</th>\n",
       "      <th>HIGH_POP_NW</th>\n",
       "    </tr>\n",
       "    <tr>\n",
       "      <th>NEW_HIGH_CODE</th>\n",
       "      <th></th>\n",
       "      <th></th>\n",
       "    </tr>\n",
       "  </thead>\n",
       "  <tbody>\n",
       "    <tr>\n",
       "      <td>BRH</td>\n",
       "      <td>0.587849</td>\n",
       "      <td>0.412151</td>\n",
       "    </tr>\n",
       "    <tr>\n",
       "      <td>BWH</td>\n",
       "      <td>0.458893</td>\n",
       "      <td>0.541107</td>\n",
       "    </tr>\n",
       "    <tr>\n",
       "      <td>DMH</td>\n",
       "      <td>0.492174</td>\n",
       "      <td>0.507826</td>\n",
       "    </tr>\n",
       "    <tr>\n",
       "      <td>FHS</td>\n",
       "      <td>0.463881</td>\n",
       "      <td>0.536119</td>\n",
       "    </tr>\n",
       "    <tr>\n",
       "      <td>HTH</td>\n",
       "      <td>0.519639</td>\n",
       "      <td>0.480361</td>\n",
       "    </tr>\n",
       "  </tbody>\n",
       "</table>\n",
       "</div>"
      ],
      "text/plain": [
       "               HIGH_POP_W  HIGH_POP_NW\n",
       "NEW_HIGH_CODE                         \n",
       "BRH              0.587849     0.412151\n",
       "BWH              0.458893     0.541107\n",
       "DMH              0.492174     0.507826\n",
       "FHS              0.463881     0.536119\n",
       "HTH              0.519639     0.480361"
      ]
     },
     "execution_count": 66,
     "metadata": {},
     "output_type": "execute_result"
    }
   ],
   "source": [
    "plan = 24\n",
    "sa_output_df = retrieve_output_data(algo, level, plan)\n",
    "new_spas_sa = pd.merge(spas, sa_output_df, on='SPA')\n",
    "new_spas_sa_grouped = group_data(new_spas_sa)\n",
    "# vals= np.concatenate([new_spas_sa_grouped.loc[i,:].values for i in interested_districts])\n",
    "# data_array[plan-1,:] = vals\n",
    "\n",
    "new_spas_sa_grouped.head()\n",
    "#To change everything down to SA or TS"
   ]
  },
  {
   "cell_type": "code",
   "execution_count": 67,
   "metadata": {
    "scrolled": true
   },
   "outputs": [
    {
     "name": "stdout",
     "output_type": "stream",
     "text": [
      "0.25874396296843066\n"
     ]
    },
    {
     "data": {
      "text/html": [
       "<div>\n",
       "<style scoped>\n",
       "    .dataframe tbody tr th:only-of-type {\n",
       "        vertical-align: middle;\n",
       "    }\n",
       "\n",
       "    .dataframe tbody tr th {\n",
       "        vertical-align: top;\n",
       "    }\n",
       "\n",
       "    .dataframe thead th {\n",
       "        text-align: right;\n",
       "    }\n",
       "</style>\n",
       "<table border=\"1\" class=\"dataframe\">\n",
       "  <thead>\n",
       "    <tr style=\"text-align: right;\">\n",
       "      <th></th>\n",
       "      <th>HIGH_POP_W</th>\n",
       "      <th>HIGH_POP_NW</th>\n",
       "      <th>ABS_DIFF</th>\n",
       "      <th>ENTROPY_IND</th>\n",
       "    </tr>\n",
       "    <tr>\n",
       "      <th>NEW_HIGH_CODE</th>\n",
       "      <th></th>\n",
       "      <th></th>\n",
       "      <th></th>\n",
       "      <th></th>\n",
       "    </tr>\n",
       "  </thead>\n",
       "  <tbody>\n",
       "  </tbody>\n",
       "</table>\n",
       "</div>"
      ],
      "text/plain": [
       "Empty DataFrame\n",
       "Columns: [HIGH_POP_W, HIGH_POP_NW, ABS_DIFF, ENTROPY_IND]\n",
       "Index: []"
      ]
     },
     "execution_count": 67,
     "metadata": {},
     "output_type": "execute_result"
    }
   ],
   "source": [
    "measurements_df, ind_diss_sa1 = get_measurements(new_spas_sa_grouped)\n",
    "segregated_abs_diff_sa24 = measurements_df[measurements_df['ABS_DIFF'] > 0.7]\n",
    "segregated_entropy_sa24 = measurements_df[measurements_df['ENTROPY_IND'] < 0.4]\n",
    "ind_diss.append(ind_diss_sa1)\n",
    "print(ind_diss_sa1)\n",
    "segregated_entropy_sa24"
   ]
  },
  {
   "cell_type": "markdown",
   "metadata": {},
   "source": [
    "## Output Plan 25"
   ]
  },
  {
   "cell_type": "markdown",
   "metadata": {},
   "source": [
    "### Simulated Annealing (SA)"
   ]
  },
  {
   "cell_type": "code",
   "execution_count": 68,
   "metadata": {},
   "outputs": [
    {
     "data": {
      "text/html": [
       "<div>\n",
       "<style scoped>\n",
       "    .dataframe tbody tr th:only-of-type {\n",
       "        vertical-align: middle;\n",
       "    }\n",
       "\n",
       "    .dataframe tbody tr th {\n",
       "        vertical-align: top;\n",
       "    }\n",
       "\n",
       "    .dataframe thead th {\n",
       "        text-align: right;\n",
       "    }\n",
       "</style>\n",
       "<table border=\"1\" class=\"dataframe\">\n",
       "  <thead>\n",
       "    <tr style=\"text-align: right;\">\n",
       "      <th></th>\n",
       "      <th>HIGH_POP_W</th>\n",
       "      <th>HIGH_POP_NW</th>\n",
       "    </tr>\n",
       "    <tr>\n",
       "      <th>NEW_HIGH_CODE</th>\n",
       "      <th></th>\n",
       "      <th></th>\n",
       "    </tr>\n",
       "  </thead>\n",
       "  <tbody>\n",
       "    <tr>\n",
       "      <td>BRH</td>\n",
       "      <td>0.474878</td>\n",
       "      <td>0.525122</td>\n",
       "    </tr>\n",
       "    <tr>\n",
       "      <td>BWH</td>\n",
       "      <td>0.407029</td>\n",
       "      <td>0.592971</td>\n",
       "    </tr>\n",
       "    <tr>\n",
       "      <td>DMH</td>\n",
       "      <td>0.458732</td>\n",
       "      <td>0.541268</td>\n",
       "    </tr>\n",
       "    <tr>\n",
       "      <td>FHS</td>\n",
       "      <td>0.466269</td>\n",
       "      <td>0.533731</td>\n",
       "    </tr>\n",
       "    <tr>\n",
       "      <td>HTH</td>\n",
       "      <td>0.746599</td>\n",
       "      <td>0.253401</td>\n",
       "    </tr>\n",
       "  </tbody>\n",
       "</table>\n",
       "</div>"
      ],
      "text/plain": [
       "               HIGH_POP_W  HIGH_POP_NW\n",
       "NEW_HIGH_CODE                         \n",
       "BRH              0.474878     0.525122\n",
       "BWH              0.407029     0.592971\n",
       "DMH              0.458732     0.541268\n",
       "FHS              0.466269     0.533731\n",
       "HTH              0.746599     0.253401"
      ]
     },
     "execution_count": 68,
     "metadata": {},
     "output_type": "execute_result"
    }
   ],
   "source": [
    "plan = 25\n",
    "sa_output_df = retrieve_output_data(algo, level, plan)\n",
    "new_spas_sa = pd.merge(spas, sa_output_df, on='SPA')\n",
    "new_spas_sa_grouped = group_data(new_spas_sa)\n",
    "# vals= np.concatenate([new_spas_sa_grouped.loc[i,:].values for i in interested_districts])\n",
    "# data_array[plan-1,:] = vals\n",
    "\n",
    "new_spas_sa_grouped.head()\n",
    "#To change everything down to SA or TS"
   ]
  },
  {
   "cell_type": "code",
   "execution_count": 69,
   "metadata": {
    "scrolled": true
   },
   "outputs": [
    {
     "name": "stdout",
     "output_type": "stream",
     "text": [
      "0.2546929352173352\n"
     ]
    },
    {
     "data": {
      "text/html": [
       "<div>\n",
       "<style scoped>\n",
       "    .dataframe tbody tr th:only-of-type {\n",
       "        vertical-align: middle;\n",
       "    }\n",
       "\n",
       "    .dataframe tbody tr th {\n",
       "        vertical-align: top;\n",
       "    }\n",
       "\n",
       "    .dataframe thead th {\n",
       "        text-align: right;\n",
       "    }\n",
       "</style>\n",
       "<table border=\"1\" class=\"dataframe\">\n",
       "  <thead>\n",
       "    <tr style=\"text-align: right;\">\n",
       "      <th></th>\n",
       "      <th>HIGH_POP_W</th>\n",
       "      <th>HIGH_POP_NW</th>\n",
       "      <th>ABS_DIFF</th>\n",
       "      <th>ENTROPY_IND</th>\n",
       "    </tr>\n",
       "    <tr>\n",
       "      <th>NEW_HIGH_CODE</th>\n",
       "      <th></th>\n",
       "      <th></th>\n",
       "      <th></th>\n",
       "      <th></th>\n",
       "    </tr>\n",
       "  </thead>\n",
       "  <tbody>\n",
       "  </tbody>\n",
       "</table>\n",
       "</div>"
      ],
      "text/plain": [
       "Empty DataFrame\n",
       "Columns: [HIGH_POP_W, HIGH_POP_NW, ABS_DIFF, ENTROPY_IND]\n",
       "Index: []"
      ]
     },
     "execution_count": 69,
     "metadata": {},
     "output_type": "execute_result"
    }
   ],
   "source": [
    "measurements_df, ind_diss_sa1 = get_measurements(new_spas_sa_grouped)\n",
    "segregated_abs_diff_sa25 = measurements_df[measurements_df['ABS_DIFF'] > 0.7]\n",
    "segregated_entropy_sa25 = measurements_df[measurements_df['ENTROPY_IND'] < 0.4]\n",
    "ind_diss.append(ind_diss_sa1)\n",
    "print(ind_diss_sa1)\n",
    "segregated_entropy_sa25"
   ]
  },
  {
   "cell_type": "markdown",
   "metadata": {},
   "source": [
    "## Conclusions for New Data after Algorithms"
   ]
  },
  {
   "cell_type": "markdown",
   "metadata": {},
   "source": [
    "\n",
    "Overall, using the dissimilarity index (~ 0.2), there does not appear to be any segregation within the districts.\n",
    "\n",
    "Individually, using the absolute differences (0.7 cut-off) and entropy index (0.4 cut-off), there seems to be no evidence of segregation in some districts. It may be that the algorithm corrects the outlier PVH from the original data."
   ]
  },
  {
   "cell_type": "code",
   "execution_count": 70,
   "metadata": {},
   "outputs": [
    {
     "name": "stdout",
     "output_type": "stream",
     "text": [
      "Empty DataFrame\n",
      "Columns: [HIGH_POP_W, HIGH_POP_NW, ABS_DIFF, ENTROPY_IND]\n",
      "Index: []\n",
      "Empty DataFrame\n",
      "Columns: [HIGH_POP_W, HIGH_POP_NW, ABS_DIFF, ENTROPY_IND]\n",
      "Index: []\n",
      "Empty DataFrame\n",
      "Columns: [HIGH_POP_W, HIGH_POP_NW, ABS_DIFF, ENTROPY_IND]\n",
      "Index: []\n",
      "Empty DataFrame\n",
      "Columns: [HIGH_POP_W, HIGH_POP_NW, ABS_DIFF, ENTROPY_IND]\n",
      "Index: []\n",
      "Empty DataFrame\n",
      "Columns: [HIGH_POP_W, HIGH_POP_NW, ABS_DIFF, ENTROPY_IND]\n",
      "Index: []\n",
      "               HIGH_POP_W  HIGH_POP_NW  ABS_DIFF  ENTROPY_IND\n",
      "NEW_HIGH_CODE                                                \n",
      "PVH              0.143862     0.856138  0.712276     0.411912\n",
      "Empty DataFrame\n",
      "Columns: [HIGH_POP_W, HIGH_POP_NW, ABS_DIFF, ENTROPY_IND]\n",
      "Index: []\n",
      "Empty DataFrame\n",
      "Columns: [HIGH_POP_W, HIGH_POP_NW, ABS_DIFF, ENTROPY_IND]\n",
      "Index: []\n",
      "Empty DataFrame\n",
      "Columns: [HIGH_POP_W, HIGH_POP_NW, ABS_DIFF, ENTROPY_IND]\n",
      "Index: []\n",
      "Empty DataFrame\n",
      "Columns: [HIGH_POP_W, HIGH_POP_NW, ABS_DIFF, ENTROPY_IND]\n",
      "Index: []\n",
      "Empty DataFrame\n",
      "Columns: [HIGH_POP_W, HIGH_POP_NW, ABS_DIFF, ENTROPY_IND]\n",
      "Index: []\n",
      "Empty DataFrame\n",
      "Columns: [HIGH_POP_W, HIGH_POP_NW, ABS_DIFF, ENTROPY_IND]\n",
      "Index: []\n",
      "Empty DataFrame\n",
      "Columns: [HIGH_POP_W, HIGH_POP_NW, ABS_DIFF, ENTROPY_IND]\n",
      "Index: []\n",
      "Empty DataFrame\n",
      "Columns: [HIGH_POP_W, HIGH_POP_NW, ABS_DIFF, ENTROPY_IND]\n",
      "Index: []\n",
      "Empty DataFrame\n",
      "Columns: [HIGH_POP_W, HIGH_POP_NW, ABS_DIFF, ENTROPY_IND]\n",
      "Index: []\n",
      "Empty DataFrame\n",
      "Columns: [HIGH_POP_W, HIGH_POP_NW, ABS_DIFF, ENTROPY_IND]\n",
      "Index: []\n",
      "Empty DataFrame\n",
      "Columns: [HIGH_POP_W, HIGH_POP_NW, ABS_DIFF, ENTROPY_IND]\n",
      "Index: []\n",
      "Empty DataFrame\n",
      "Columns: [HIGH_POP_W, HIGH_POP_NW, ABS_DIFF, ENTROPY_IND]\n",
      "Index: []\n",
      "Empty DataFrame\n",
      "Columns: [HIGH_POP_W, HIGH_POP_NW, ABS_DIFF, ENTROPY_IND]\n",
      "Index: []\n",
      "Empty DataFrame\n",
      "Columns: [HIGH_POP_W, HIGH_POP_NW, ABS_DIFF, ENTROPY_IND]\n",
      "Index: []\n",
      "Empty DataFrame\n",
      "Columns: [HIGH_POP_W, HIGH_POP_NW, ABS_DIFF, ENTROPY_IND]\n",
      "Index: []\n",
      "Empty DataFrame\n",
      "Columns: [HIGH_POP_W, HIGH_POP_NW, ABS_DIFF, ENTROPY_IND]\n",
      "Index: []\n",
      "Empty DataFrame\n",
      "Columns: [HIGH_POP_W, HIGH_POP_NW, ABS_DIFF, ENTROPY_IND]\n",
      "Index: []\n",
      "Empty DataFrame\n",
      "Columns: [HIGH_POP_W, HIGH_POP_NW, ABS_DIFF, ENTROPY_IND]\n",
      "Index: []\n",
      "Empty DataFrame\n",
      "Columns: [HIGH_POP_W, HIGH_POP_NW, ABS_DIFF, ENTROPY_IND]\n",
      "Index: []\n"
     ]
    }
   ],
   "source": [
    "print(segregated_abs_diff_sa1)\n",
    "print(segregated_abs_diff_sa2)\n",
    "print(segregated_abs_diff_sa3)\n",
    "print(segregated_abs_diff_sa4)\n",
    "print(segregated_abs_diff_sa5)\n",
    "print(segregated_abs_diff_sa6)\n",
    "print(segregated_abs_diff_sa7)\n",
    "print(segregated_abs_diff_sa8)\n",
    "print(segregated_abs_diff_sa9)\n",
    "print(segregated_abs_diff_sa10)\n",
    "print(segregated_abs_diff_sa11)\n",
    "print(segregated_abs_diff_sa12)\n",
    "print(segregated_abs_diff_sa13)\n",
    "print(segregated_abs_diff_sa14)\n",
    "print(segregated_abs_diff_sa15)\n",
    "print(segregated_abs_diff_sa16)\n",
    "print(segregated_abs_diff_sa17)\n",
    "print(segregated_abs_diff_sa18)\n",
    "print(segregated_abs_diff_sa19)\n",
    "print(segregated_abs_diff_sa20)\n",
    "print(segregated_abs_diff_sa21)\n",
    "print(segregated_abs_diff_sa22)\n",
    "print(segregated_abs_diff_sa23)\n",
    "print(segregated_abs_diff_sa24)\n",
    "print(segregated_abs_diff_sa25)"
   ]
  },
  {
   "cell_type": "code",
   "execution_count": 71,
   "metadata": {
    "scrolled": false
   },
   "outputs": [
    {
     "name": "stdout",
     "output_type": "stream",
     "text": [
      "Empty DataFrame\n",
      "Columns: [HIGH_POP_W, HIGH_POP_NW, ABS_DIFF, ENTROPY_IND]\n",
      "Index: []\n",
      "Empty DataFrame\n",
      "Columns: [HIGH_POP_W, HIGH_POP_NW, ABS_DIFF, ENTROPY_IND]\n",
      "Index: []\n",
      "Empty DataFrame\n",
      "Columns: [HIGH_POP_W, HIGH_POP_NW, ABS_DIFF, ENTROPY_IND]\n",
      "Index: []\n",
      "Empty DataFrame\n",
      "Columns: [HIGH_POP_W, HIGH_POP_NW, ABS_DIFF, ENTROPY_IND]\n",
      "Index: []\n",
      "Empty DataFrame\n",
      "Columns: [HIGH_POP_W, HIGH_POP_NW, ABS_DIFF, ENTROPY_IND]\n",
      "Index: []\n",
      "Empty DataFrame\n",
      "Columns: [HIGH_POP_W, HIGH_POP_NW, ABS_DIFF, ENTROPY_IND]\n",
      "Index: []\n",
      "Empty DataFrame\n",
      "Columns: [HIGH_POP_W, HIGH_POP_NW, ABS_DIFF, ENTROPY_IND]\n",
      "Index: []\n",
      "Empty DataFrame\n",
      "Columns: [HIGH_POP_W, HIGH_POP_NW, ABS_DIFF, ENTROPY_IND]\n",
      "Index: []\n",
      "Empty DataFrame\n",
      "Columns: [HIGH_POP_W, HIGH_POP_NW, ABS_DIFF, ENTROPY_IND]\n",
      "Index: []\n",
      "Empty DataFrame\n",
      "Columns: [HIGH_POP_W, HIGH_POP_NW, ABS_DIFF, ENTROPY_IND]\n",
      "Index: []\n",
      "Empty DataFrame\n",
      "Columns: [HIGH_POP_W, HIGH_POP_NW, ABS_DIFF, ENTROPY_IND]\n",
      "Index: []\n",
      "Empty DataFrame\n",
      "Columns: [HIGH_POP_W, HIGH_POP_NW, ABS_DIFF, ENTROPY_IND]\n",
      "Index: []\n",
      "Empty DataFrame\n",
      "Columns: [HIGH_POP_W, HIGH_POP_NW, ABS_DIFF, ENTROPY_IND]\n",
      "Index: []\n",
      "Empty DataFrame\n",
      "Columns: [HIGH_POP_W, HIGH_POP_NW, ABS_DIFF, ENTROPY_IND]\n",
      "Index: []\n",
      "Empty DataFrame\n",
      "Columns: [HIGH_POP_W, HIGH_POP_NW, ABS_DIFF, ENTROPY_IND]\n",
      "Index: []\n",
      "Empty DataFrame\n",
      "Columns: [HIGH_POP_W, HIGH_POP_NW, ABS_DIFF, ENTROPY_IND]\n",
      "Index: []\n",
      "Empty DataFrame\n",
      "Columns: [HIGH_POP_W, HIGH_POP_NW, ABS_DIFF, ENTROPY_IND]\n",
      "Index: []\n",
      "Empty DataFrame\n",
      "Columns: [HIGH_POP_W, HIGH_POP_NW, ABS_DIFF, ENTROPY_IND]\n",
      "Index: []\n",
      "Empty DataFrame\n",
      "Columns: [HIGH_POP_W, HIGH_POP_NW, ABS_DIFF, ENTROPY_IND]\n",
      "Index: []\n",
      "Empty DataFrame\n",
      "Columns: [HIGH_POP_W, HIGH_POP_NW, ABS_DIFF, ENTROPY_IND]\n",
      "Index: []\n",
      "Empty DataFrame\n",
      "Columns: [HIGH_POP_W, HIGH_POP_NW, ABS_DIFF, ENTROPY_IND]\n",
      "Index: []\n",
      "Empty DataFrame\n",
      "Columns: [HIGH_POP_W, HIGH_POP_NW, ABS_DIFF, ENTROPY_IND]\n",
      "Index: []\n",
      "Empty DataFrame\n",
      "Columns: [HIGH_POP_W, HIGH_POP_NW, ABS_DIFF, ENTROPY_IND]\n",
      "Index: []\n",
      "Empty DataFrame\n",
      "Columns: [HIGH_POP_W, HIGH_POP_NW, ABS_DIFF, ENTROPY_IND]\n",
      "Index: []\n",
      "Empty DataFrame\n",
      "Columns: [HIGH_POP_W, HIGH_POP_NW, ABS_DIFF, ENTROPY_IND]\n",
      "Index: []\n"
     ]
    }
   ],
   "source": [
    "print(segregated_entropy_sa1)\n",
    "print(segregated_entropy_sa2)\n",
    "print(segregated_entropy_sa3)\n",
    "print(segregated_entropy_sa4)\n",
    "print(segregated_entropy_sa5)\n",
    "print(segregated_entropy_sa6)\n",
    "print(segregated_entropy_sa7)\n",
    "print(segregated_entropy_sa8)\n",
    "print(segregated_entropy_sa9)\n",
    "print(segregated_entropy_sa10)\n",
    "print(segregated_entropy_sa11)\n",
    "print(segregated_entropy_sa12)\n",
    "print(segregated_entropy_sa13)\n",
    "print(segregated_entropy_sa14)\n",
    "print(segregated_entropy_sa15)\n",
    "print(segregated_entropy_sa16)\n",
    "print(segregated_entropy_sa17)\n",
    "print(segregated_entropy_sa18)\n",
    "print(segregated_entropy_sa19)\n",
    "print(segregated_entropy_sa20)\n",
    "print(segregated_entropy_sa21)\n",
    "print(segregated_entropy_sa22)\n",
    "print(segregated_entropy_sa23)\n",
    "print(segregated_entropy_sa24)\n",
    "print(segregated_entropy_sa25)"
   ]
  },
  {
   "cell_type": "code",
   "execution_count": 72,
   "metadata": {
    "scrolled": false
   },
   "outputs": [],
   "source": [
    "# legend_handles = [Patch(facecolor='black', label='HAM'),\n",
    "#                   Patch(facecolor='green', label='LIN'),\n",
    "#                   Patch(facecolor='orange', label='SUL'),\n",
    "#                    Patch(facecolor='red', label='GUI'),\n",
    "#                    Patch(facecolor='blue', label='WAT'),\n",
    "#                    Patch(facecolor='magenta', label='FDE'),\n",
    "#                    Patch(facecolor='cyan', label='FHR'),\n",
    "#                    Patch(facecolor='yellow', label='EVE'),\n",
    "#                    Patch(facecolor='tab:olive', label='KWC')\n",
    "#                 ]\n",
    "\n",
    "# ax = spas.boundary.plot(figsize=(15,14))\n",
    "# spas[spas['ELEM_CODE'] == 'HAM'].plot(ax=ax, color='black')\n",
    "# spas[spas['ELEM_CODE'] == 'LIN'].plot(ax=ax, color='green')\n",
    "# spas[spas['ELEM_CODE'] == 'SUL'].plot(ax=ax, color='orange')\n",
    "\n",
    "# spas[spas['ELEM_CODE'] == 'GUI'].plot(ax=ax, color='red')\n",
    "# spas[spas['ELEM_CODE'] == 'WAT'].plot(ax=ax, color='blue')\n",
    "# spas[spas['ELEM_CODE'] == 'FDE'].plot(ax=ax, color='magenta')\n",
    "\n",
    "# spas[spas['ELEM_CODE'] == 'FHR'].plot(ax=ax, color='cyan')\n",
    "# spas[spas['ELEM_CODE'] == 'EVE'].plot(ax=ax, color='yellow')\n",
    "# spas[spas['ELEM_CODE'] == 'KWC'].plot(ax=ax, color='tab:olive')\n",
    "\n",
    "# # ax.legend\n",
    "# ax.legend(handles=legend_handles)"
   ]
  },
  {
   "cell_type": "code",
   "execution_count": 73,
   "metadata": {
    "scrolled": false
   },
   "outputs": [],
   "source": [
    "# from numpy import concatenate\n",
    "# import pandas as pd\n",
    "\n",
    "# col_level_1 = np.concatenate([[i]*2 for i in interested_districts])\n",
    "# col_level_2 = ['W', 'NW'] * len(interested_districts)\n",
    "# cols_combined = zip(col_level_1, col_level_2)\n",
    "# col_index = pd.MultiIndex.from_tuples(cols_combined, names=[\"District\", \"Group\"])\n",
    "# row_index = pd.Index(range(1,26))\n",
    "# combined_df = pd.DataFrame(data=data_array, index = row_index, columns = col_index)\n",
    "# combined_df "
   ]
  },
  {
   "cell_type": "code",
   "execution_count": 74,
   "metadata": {},
   "outputs": [],
   "source": [
    "# data_raw = spas_grouped.loc[interested_districts, ['ELEM_POP_W','ELEM_POP_NW']]\n",
    "# data_original = data_raw.values.reshape((1,len(interested_districts)*2))\n",
    "# original_df =  pd.DataFrame(data=data_original, columns = col_index)\n",
    "# # print(data_raw.values)\n",
    "# original_df"
   ]
  },
  {
   "cell_type": "code",
   "execution_count": 75,
   "metadata": {},
   "outputs": [],
   "source": [
    "# white_column=[('GUI','W'), ('SUL','W'), ('LIN','W'),  ('FHR','W'),  ('HAM','W'),  ('KWC','W'), ('WAT','W'), ('EVE','W'), ('FDE', 'W')]\n",
    "# ax, props = combined_df.boxplot(column=white_column, figsize=(15,14), return_type='both', patch_artist=True)\n",
    "# ax.set_title('White Percentages')\n",
    "# ax.set_xlabel('Districts')\n",
    "# ax.set_ylabel('Percentages')"
   ]
  },
  {
   "cell_type": "code",
   "execution_count": 76,
   "metadata": {
    "scrolled": false
   },
   "outputs": [],
   "source": [
    "# nonwhite_column=[('GUI','NW'), ('SUL','NW'), ('LIN','NW'),  ('FHR','NW'),  ('HAM','NW'),  ('KWC','NW'), ('WAT','NW'), ('EVE','NW'), ('FDE','NW')]\n",
    "# ax, props = combined_df.boxplot(column=nonwhite_column, figsize=(15,14), return_type='both', patch_artist=True)\n",
    "# ax.set_title('Non-White Percentages')\n",
    "# ax.set_xlabel('Districts')\n",
    "# ax.set_ylabel('Percentages')\n",
    "# for box in props['boxes']:\n",
    "#     box.set_facecolor('orange')"
   ]
  },
  {
   "cell_type": "code",
   "execution_count": 77,
   "metadata": {},
   "outputs": [],
   "source": [
    "# import matplotlib.pyplot as plt\n",
    "\n",
    "# ax, props = combined_df.boxplot(figsize=(15,14), return_type='both', patch_artist=True, manage_ticks=False)\n",
    "# ax.set_title('Whites vs Non-whites Percentages')\n",
    "# ax.set_xlabel('Districts')\n",
    "# ax.set_ylabel('Percentages')\n",
    "# num_boxes = len(props['boxes'])\n",
    "# for i in range(1, num_boxes, 2):\n",
    "#     props['boxes'][i].set_facecolor('orange')\n",
    "    \n",
    "# legend_handles = [Patch(facecolor='blue', label='White Pop'),\n",
    "#                 Patch(facecolor='orange', label='Non-White Pop')]\n",
    "# ax.legend(handles=legend_handles)\n",
    "\n",
    "# plt.tick_params(labelbottom=False)"
   ]
  },
  {
   "cell_type": "code",
   "execution_count": 78,
   "metadata": {
    "scrolled": false
   },
   "outputs": [],
   "source": [
    "# ax = combined_df['GUI'].plot(marker='o', subplots=True)\n",
    "# pic_folder = 'Combined_linegraphs_andboxplots'\n",
    "\n",
    "# ax = combined_df['GUI'].plot(marker='o')\n",
    "# ax.set_title(\"GUI\")\n",
    "# x = np.arange(1,26)\n",
    "# yw = [spas_grouped.loc['GUI', 'ELEM_POP_W']] * 25\n",
    "# ynw = [spas_grouped.loc['GUI', 'ELEM_POP_NW']] * 25\n",
    "# ax.plot(x,yw,color='k', linewidth='3')\n",
    "# ax.plot(x,ynw,color='c', linewidth='3')\n",
    "# # ax.legend()\n",
    "# ax.get_figure().savefig('GUI_compare_{}'.format(algo))"
   ]
  },
  {
   "cell_type": "code",
   "execution_count": 79,
   "metadata": {},
   "outputs": [],
   "source": [
    "# ax =  combined_df['GUI'].boxplot(figsize=(8,6), patch_artist=True)\n",
    "# ax.set_title('GUI')\n",
    "# ax.set_xlabel('Groups')\n",
    "# ax.set_ylabel('Percentages')\n",
    "\n",
    "\n",
    "# ax,bp_key = original_df['GUI'].boxplot(ax=ax, return_type='both', patch_artist=True)\n",
    "# for box in bp_key['boxes']:\n",
    "#     box.set_color('red')\n",
    "#     box.set_linewidth(3)\n",
    "    \n",
    "# ax.get_figure().savefig('GUI_combined_{}'.format(algo))"
   ]
  },
  {
   "cell_type": "code",
   "execution_count": 80,
   "metadata": {},
   "outputs": [],
   "source": [
    "# ax = combined_df['SUL'].plot(marker='o')\n",
    "# ax.set_title(\"SUL\")\n",
    "# yw = [spas_grouped.loc['SUL', 'ELEM_POP_W']] * 25\n",
    "# ynw = [spas_grouped.loc['SUL', 'ELEM_POP_NW']] * 25\n",
    "# ax.plot(x,yw,color='k', linewidth='3')\n",
    "# ax.plot(x,ynw,color='c', linewidth='3')\n",
    "# ax.get_figure().savefig('SUL_compare_{}'.format(algo))"
   ]
  },
  {
   "cell_type": "code",
   "execution_count": 81,
   "metadata": {},
   "outputs": [],
   "source": [
    "# ax =  combined_df['SUL'].boxplot(figsize=(8,6), patch_artist=True)\n",
    "# ax.set_title('SUL')\n",
    "# ax.set_xlabel('Groups')\n",
    "# ax.set_ylabel('Percentages')\n",
    "\n",
    "# ax,bp_key = original_df['SUL'].boxplot(ax=ax, return_type='both', patch_artist=True)\n",
    "# for box in bp_key['boxes']:\n",
    "#     box.set_color('red')\n",
    "#     box.set_linewidth(3)\n",
    "    \n",
    "# ax.get_figure().savefig('SUL_combined_{}'.format(algo))"
   ]
  },
  {
   "cell_type": "code",
   "execution_count": 82,
   "metadata": {},
   "outputs": [],
   "source": [
    "# ax = combined_df['LIN'].plot(marker='o')\n",
    "# ax.set_title(\"LIN\")\n",
    "# yw = [spas_grouped.loc['LIN', 'ELEM_POP_W']] * 25\n",
    "# ynw = [spas_grouped.loc['LIN', 'ELEM_POP_NW']] * 25\n",
    "# ax.plot(x,yw,color='k', linewidth='3')\n",
    "# ax.plot(x,ynw,color='c', linewidth='3')\n",
    "# ax.get_figure().savefig('LIN_compare_{}'.format(algo))"
   ]
  },
  {
   "cell_type": "code",
   "execution_count": 83,
   "metadata": {},
   "outputs": [],
   "source": [
    "# ax =  combined_df['LIN'].boxplot(figsize=(8,6), patch_artist=True)\n",
    "# ax.set_title('LIN')\n",
    "# ax.set_xlabel('Groups')\n",
    "# ax.set_ylabel('Percentages')\n",
    "\n",
    "# ax,bp_key = original_df['LIN'].boxplot(ax=ax, return_type='both', patch_artist=True)\n",
    "# for box in bp_key['boxes']:\n",
    "#     box.set_color('red')\n",
    "#     box.set_linewidth(3)\n",
    "    \n",
    "    \n",
    "# ax.get_figure().savefig('LIN_combined_{}'.format(algo))"
   ]
  },
  {
   "cell_type": "code",
   "execution_count": 84,
   "metadata": {},
   "outputs": [],
   "source": [
    "# ax = combined_df['FHR'].plot(marker='o')\n",
    "# ax.set_title(\"FHR\")\n",
    "# yw = [spas_grouped.loc['FHR', 'ELEM_POP_W']] * 25\n",
    "# ynw = [spas_grouped.loc['FHR', 'ELEM_POP_NW']] * 25\n",
    "# ax.plot(x,yw,color='k', linewidth='3')\n",
    "# ax.plot(x,ynw,color='c', linewidth='3')\n",
    "# ax.get_figure().savefig('FHR_compare_{}'.format(algo))"
   ]
  },
  {
   "cell_type": "code",
   "execution_count": 85,
   "metadata": {},
   "outputs": [],
   "source": [
    "# ax =  combined_df['FHR'].boxplot(figsize=(8,6), patch_artist=True)\n",
    "# ax.set_title('FHR')\n",
    "# ax.set_xlabel('Groups')\n",
    "# ax.set_ylabel('Percentages')\n",
    "\n",
    "# ax,bp_key = original_df['FHR'].boxplot(ax=ax, return_type='both', patch_artist=True)\n",
    "# for box in bp_key['boxes']:\n",
    "#     box.set_color('red')\n",
    "#     box.set_linewidth(3)\n",
    "    \n",
    "    \n",
    "# ax.get_figure().savefig('FHR_combined_{}'.format(algo))"
   ]
  },
  {
   "cell_type": "code",
   "execution_count": 86,
   "metadata": {},
   "outputs": [],
   "source": [
    "# ax = combined_df['HAM'].plot(marker='o')\n",
    "# ax.set_title(\"HAM\")\n",
    "# yw = [spas_grouped.loc['HAM', 'ELEM_POP_W']] * 25\n",
    "# ynw = [spas_grouped.loc['HAM', 'ELEM_POP_NW']] * 25\n",
    "# ax.plot(x,yw,color='k', linewidth='3')\n",
    "# ax.plot(x,ynw,color='c', linewidth='3')\n",
    "\n",
    "# ax.get_figure().savefig('HAM_compare_{}'.format(algo))"
   ]
  },
  {
   "cell_type": "code",
   "execution_count": 87,
   "metadata": {},
   "outputs": [],
   "source": [
    "# ax =  combined_df['HAM'].boxplot(figsize=(8,6), patch_artist=True)\n",
    "# ax.set_title('HAM')\n",
    "# ax.set_xlabel('Groups')\n",
    "# ax.set_ylabel('Percentages')\n",
    "\n",
    "# ax,bp_key = original_df['HAM'].boxplot(ax=ax, return_type='both', patch_artist=True)\n",
    "# for box in bp_key['boxes']:\n",
    "#     box.set_color('red')\n",
    "#     box.set_linewidth(3)\n",
    "    \n",
    "# ax.get_figure().savefig('HAM_combined_{}'.format(algo))"
   ]
  },
  {
   "cell_type": "code",
   "execution_count": 88,
   "metadata": {},
   "outputs": [],
   "source": [
    "# ax = combined_df['KWC'].plot(marker='o')\n",
    "# ax.set_title(\"KWC\")\n",
    "# yw = [spas_grouped.loc['KWC', 'ELEM_POP_W']] * 25\n",
    "# ynw = [spas_grouped.loc['KWC', 'ELEM_POP_NW']] * 25\n",
    "# ax.plot(x,yw,color='k', linewidth='3')\n",
    "# ax.plot(x,ynw,color='c', linewidth='3')\n",
    "# ax.get_figure().savefig('KWC_compare_{}'.format(algo))"
   ]
  },
  {
   "cell_type": "code",
   "execution_count": 89,
   "metadata": {},
   "outputs": [],
   "source": [
    "# ax =  combined_df['KWC'].boxplot(figsize=(8,6), patch_artist=True)\n",
    "# ax.set_title('KWC')\n",
    "# ax.set_xlabel('Groups')\n",
    "# ax.set_ylabel('Percentages')\n",
    "\n",
    "# ax,bp_key = original_df['KWC'].boxplot(ax=ax, return_type='both', patch_artist=True)\n",
    "# for box in bp_key['boxes']:\n",
    "#     box.set_color('red')\n",
    "#     box.set_linewidth(3)\n",
    "    \n",
    "# ax.get_figure().savefig('KWC_combined_{}'.format(algo))"
   ]
  },
  {
   "cell_type": "code",
   "execution_count": 90,
   "metadata": {
    "scrolled": true
   },
   "outputs": [],
   "source": [
    "# ax = combined_df['WAT'].plot(marker='o')\n",
    "# ax.set_title(\"WAT\")\n",
    "# yw = [spas_grouped.loc['WAT', 'ELEM_POP_W']] * 25\n",
    "# ynw = [spas_grouped.loc['WAT', 'ELEM_POP_NW']] * 25\n",
    "# ax.plot(x,yw,color='k', linewidth='3')\n",
    "# ax.plot(x,ynw,color='c', linewidth='3')\n",
    "# ax.get_figure().savefig('WAT_compare_{}'.format(algo))"
   ]
  },
  {
   "cell_type": "code",
   "execution_count": 91,
   "metadata": {},
   "outputs": [],
   "source": [
    "# ax =  combined_df['WAT'].boxplot(figsize=(8,6), patch_artist=True)\n",
    "# ax.set_title('WAT')\n",
    "# ax.set_xlabel('Groups')\n",
    "# ax.set_ylabel('Percentages')\n",
    "\n",
    "# ax,bp_key = original_df['WAT'].boxplot(ax=ax, return_type='both', patch_artist=True)\n",
    "# for box in bp_key['boxes']:\n",
    "#     box.set_color('red')\n",
    "#     box.set_linewidth(3)\n",
    "    \n",
    "# ax.get_figure().savefig('WAT_combined_{}'.format(algo))"
   ]
  },
  {
   "cell_type": "code",
   "execution_count": 92,
   "metadata": {},
   "outputs": [],
   "source": [
    "# ax = combined_df['EVE'].plot(marker='o')\n",
    "# ax.set_title(\"EVE\")\n",
    "# yw = [spas_grouped.loc['EVE', 'ELEM_POP_W']] * 25\n",
    "# ynw = [spas_grouped.loc['EVE', 'ELEM_POP_NW']] * 25\n",
    "# ax.plot(x,yw,color='k', linewidth='3')\n",
    "# ax.plot(x,ynw,color='c', linewidth='3')\n",
    "\n",
    "# ax.get_figure().savefig('EVE_compare_{}'.format(algo))"
   ]
  },
  {
   "cell_type": "code",
   "execution_count": 93,
   "metadata": {},
   "outputs": [],
   "source": [
    "# ax =  combined_df['EVE'].boxplot(figsize=(8,6), patch_artist=True)\n",
    "# ax.set_title('EVE')\n",
    "# ax.set_xlabel('Groups')\n",
    "# ax.set_ylabel('Percentages')\n",
    "\n",
    "# ax,bp_key = original_df['EVE'].boxplot(ax=ax, return_type='both', patch_artist=True)\n",
    "# for box in bp_key['boxes']:\n",
    "#     box.set_color('red')\n",
    "#     box.set_linewidth(3)\n",
    "    \n",
    "# ax.get_figure().savefig('EVE_combined_{}'.format(algo))"
   ]
  },
  {
   "cell_type": "code",
   "execution_count": 94,
   "metadata": {
    "scrolled": true
   },
   "outputs": [],
   "source": [
    "# ax = combined_df['FDE'].plot(marker='o')\n",
    "# ax.set_title(\"FDE\")\n",
    "# yw = [spas_grouped.loc['FDE', 'ELEM_POP_W']] * 25\n",
    "# ynw = [spas_grouped.loc['FDE', 'ELEM_POP_NW']] * 25\n",
    "# ax.plot(x,yw,color='k', linewidth='3')\n",
    "# ax.plot(x,ynw,color='c', linewidth='3')\n",
    "\n",
    "# ax.get_figure().savefig('FDE_compare_{}'.format(algo))\n",
    "\n",
    "# this is for the original data, i think\n",
    "# I can see that the original data seems to be optimized here, since the gap is closer than the output plans\n",
    "# The original is generally good though, in most cases - just for this district and SA"
   ]
  },
  {
   "cell_type": "code",
   "execution_count": 95,
   "metadata": {},
   "outputs": [],
   "source": [
    "# ax =  combined_df['FDE'].boxplot(figsize=(8,6), patch_artist=True)\n",
    "# ax.set_title('FDE')\n",
    "# ax.set_xlabel('Groups')\n",
    "# ax.set_ylabel('Percentages')\n",
    "\n",
    "# ax,bp_key = original_df['FDE'].boxplot(ax=ax, return_type='both', patch_artist=True)\n",
    "# for box in bp_key['boxes']:\n",
    "#     box.set_color('red')\n",
    "#     box.set_linewidth(3)\n",
    "    \n",
    "# ax.get_figure().savefig('FDE_combined_{}'.format(algo))"
   ]
  },
  {
   "cell_type": "code",
   "execution_count": 96,
   "metadata": {
    "scrolled": true
   },
   "outputs": [],
   "source": [
    "# ax = combined_df['SUG'].plot(marker='o')\n",
    "# ax.set_title(\"SUG\")\n",
    "# yw = [spas_grouped.loc['SUG', 'ELEM_POP_W']] * 25\n",
    "# ynw = [spas_grouped.loc['SUG', 'ELEM_POP_NW']] * 25\n",
    "# ax.plot(x,yw,color='k', linewidth='3')\n",
    "# ax.plot(x,ynw,color='c', linewidth='3')\n",
    "# ax.get_figure().savefig('SUG_compare_{}'.format(algo))"
   ]
  },
  {
   "cell_type": "code",
   "execution_count": 97,
   "metadata": {
    "scrolled": true
   },
   "outputs": [],
   "source": [
    "# ax =  combined_df['SUG'].boxplot(figsize=(8,6), patch_artist=True)\n",
    "# ax.set_title('SUG')\n",
    "# ax.set_xlabel('Groups')\n",
    "# ax.set_ylabel('Percentages')\n",
    "\n",
    "# ax,bp_key = original_df['SUG'].boxplot(ax=ax, return_type='both', patch_artist=True)\n",
    "# for box in bp_key['boxes']:\n",
    "#     box.set_color('red')\n",
    "#     box.set_linewidth(3)\n",
    "    \n",
    "# ax.get_figure().savefig('SUG_combined_{}'.format(algo))"
   ]
  },
  {
   "cell_type": "code",
   "execution_count": 98,
   "metadata": {
    "scrolled": false
   },
   "outputs": [],
   "source": [
    "# combined_df['FDE'].hist()"
   ]
  },
  {
   "cell_type": "code",
   "execution_count": 99,
   "metadata": {},
   "outputs": [
    {
     "data": {
      "text/html": [
       "<div>\n",
       "<style scoped>\n",
       "    .dataframe tbody tr th:only-of-type {\n",
       "        vertical-align: middle;\n",
       "    }\n",
       "\n",
       "    .dataframe tbody tr th {\n",
       "        vertical-align: top;\n",
       "    }\n",
       "\n",
       "    .dataframe thead th {\n",
       "        text-align: right;\n",
       "    }\n",
       "</style>\n",
       "<table border=\"1\" class=\"dataframe\">\n",
       "  <thead>\n",
       "    <tr style=\"text-align: right;\">\n",
       "      <th></th>\n",
       "      <th>HIGH_POP_W</th>\n",
       "      <th>HIGH_POP_NW</th>\n",
       "      <th>ABS_DIFF</th>\n",
       "      <th>ENTROPY_IND</th>\n",
       "    </tr>\n",
       "    <tr>\n",
       "      <th>HIGH_CODE</th>\n",
       "      <th></th>\n",
       "      <th></th>\n",
       "      <th></th>\n",
       "      <th></th>\n",
       "    </tr>\n",
       "  </thead>\n",
       "  <tbody>\n",
       "  </tbody>\n",
       "</table>\n",
       "</div>"
      ],
      "text/plain": [
       "Empty DataFrame\n",
       "Columns: [HIGH_POP_W, HIGH_POP_NW, ABS_DIFF, ENTROPY_IND]\n",
       "Index: []"
      ]
     },
     "execution_count": 99,
     "metadata": {},
     "output_type": "execute_result"
    }
   ],
   "source": [
    "segregated_entropy\n",
    "#this is for the original data"
   ]
  },
  {
   "cell_type": "code",
   "execution_count": 100,
   "metadata": {},
   "outputs": [],
   "source": [
    "# ind_diss\n"
   ]
  },
  {
   "cell_type": "code",
   "execution_count": 101,
   "metadata": {},
   "outputs": [],
   "source": [
    "# plt.hist(ind_diss, bins=[y/100 for y in range(28,40)])\n",
    "# plt.axis([0, 25, 0.25, 0.50])\n",
    "# plt.show()\n",
    "\n",
    "#challenge with plotting histogram. Any help will be much appreciated"
   ]
  }
 ],
 "metadata": {
  "kernelspec": {
   "display_name": "Python 3",
   "language": "python",
   "name": "python3"
  },
  "language_info": {
   "codemirror_mode": {
    "name": "ipython",
    "version": 3
   },
   "file_extension": ".py",
   "mimetype": "text/x-python",
   "name": "python",
   "nbconvert_exporter": "python",
   "pygments_lexer": "ipython3",
   "version": "3.7.4"
  }
 },
 "nbformat": 4,
 "nbformat_minor": 2
}

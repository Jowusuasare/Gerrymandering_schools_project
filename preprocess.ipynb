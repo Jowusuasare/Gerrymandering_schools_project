{
 "cells": [
  {
   "cell_type": "code",
   "execution_count": 1,
   "metadata": {},
   "outputs": [],
   "source": [
    "import geopandas as gpd\n",
    "from tqdm import tqdm\n",
    "import libpysal as lp\n",
    "import json\n",
    "import pandas as pd"
   ]
  },
  {
   "cell_type": "markdown",
   "metadata": {},
   "source": [
    "### Get the data in the folder ./LCPS_data for pre-processing. Let's call this `retrieved data`."
   ]
  },
  {
   "cell_type": "code",
   "execution_count": 2,
   "metadata": {
    "code_folding": []
   },
   "outputs": [],
   "source": [
    "def retrieve_data(sy):\n",
    "    \"\"\"\n",
    "    Retrieve data for a given school year (sy)\n",
    "    \"\"\"\n",
    "    data_dir = \"./LCPS_data\"\n",
    "    # Read the data files\n",
    "    schools = gpd.read_file('{}/LCPS_Sites_{}.shp'.format(data_dir, sy))\n",
    "    students = gpd.read_file('{}/Students_{}.shp'.format(data_dir, sy))\n",
    "    spas = gpd.read_file('{}/PlanningZones_{}.shp'.format(data_dir, sy))\n",
    "    \n",
    "    return schools, students, spas"
   ]
  },
  {
   "cell_type": "code",
   "execution_count": 3,
   "metadata": {},
   "outputs": [],
   "source": [
    "sy = '2017_2018'"
   ]
  },
  {
   "cell_type": "code",
   "execution_count": 4,
   "metadata": {},
   "outputs": [],
   "source": [
    "schools, students, spas = retrieve_data(sy)"
   ]
  },
  {
   "cell_type": "markdown",
   "metadata": {},
   "source": [
    "#### Print out a data instance of the SPAs, SCHOOLs and STUDENTs"
   ]
  },
  {
   "cell_type": "code",
   "execution_count": 5,
   "metadata": {},
   "outputs": [
    {
     "name": "stdout",
     "output_type": "stream",
     "text": [
      "OBJECTID                                                      1\n",
      "COUNT_                                                        5\n",
      "STDYAREA                                                 WL03.4\n",
      "ELEM_                                                       126\n",
      "INT_                                                        205\n",
      "HIGH_                                                       311\n",
      "ELEM_CODE                                                   LOV\n",
      "INT_CODE                                                    HRM\n",
      "HIGH_CODE                                                   WHS\n",
      "DISTRICT                                                     WL\n",
      "UTILITIES                                                   WOU\n",
      "SHAPE_Leng                                              47268.8\n",
      "SHAPE_Area                                          6.39938e+07\n",
      "STDYAREA_1                                               WL03.4\n",
      "DISTRICT_1                                                   WL\n",
      "PLANNING_Z                                               WL03.4\n",
      "ELEM                                                        LOV\n",
      "MID                                                         HRM\n",
      "HIGH                                                        WHS\n",
      "UTILITIE_1                                                  WOU\n",
      "DISTRICT_2                                                   WL\n",
      "MID_2018                                                    HRM\n",
      "HIGH_2018                                                   WHS\n",
      "PK                                                            2\n",
      "KG                                                            2\n",
      "GR1                                                           4\n",
      "GR2                                                           5\n",
      "GR3                                                           3\n",
      "GR4                                                           5\n",
      "GR5                                                           4\n",
      "GR6                                                           2\n",
      "GR7                                                           4\n",
      "GR8                                                           4\n",
      "GR9                                                           5\n",
      "GR10                                                          3\n",
      "GR11                                                          3\n",
      "GR12                                                          3\n",
      "TOTAL_KG_5                                                   23\n",
      "TOTAL_6_8                                                    10\n",
      "TOTAL_9_12                                                   14\n",
      "TOTAL_KG_1                                                   47\n",
      "TOTAL_PK_1                                                   49\n",
      "ELEM_1                                                      LOV\n",
      "MID_1                                                       HRM\n",
      "HIGH_1                                                      WHS\n",
      "DISTRICT_3                                                   WL\n",
      "MID_2_2019                                                  HRM\n",
      "HIGH__2019                                                  WHS\n",
      "PLANNING_1                                               WL03.4\n",
      "UTILITIE_2                                                  WOU\n",
      "STUDENTS_P                                                   49\n",
      "Field39                                                    None\n",
      "Field40                                                    None\n",
      "geometry      POLYGON ((11725868.08609505 7152149.053464815,...\n",
      "Name: 0, dtype: object\n"
     ]
    }
   ],
   "source": [
    "for i, spa in spas.iterrows():\n",
    "    print(spa)\n",
    "    break"
   ]
  },
  {
   "cell_type": "code",
   "execution_count": 6,
   "metadata": {},
   "outputs": [
    {
     "data": {
      "text/html": [
       "<div>\n",
       "<style scoped>\n",
       "    .dataframe tbody tr th:only-of-type {\n",
       "        vertical-align: middle;\n",
       "    }\n",
       "\n",
       "    .dataframe tbody tr th {\n",
       "        vertical-align: top;\n",
       "    }\n",
       "\n",
       "    .dataframe thead th {\n",
       "        text-align: right;\n",
       "    }\n",
       "</style>\n",
       "<table border=\"1\" class=\"dataframe\">\n",
       "  <thead>\n",
       "    <tr style=\"text-align: right;\">\n",
       "      <th></th>\n",
       "      <th>OBJECTID</th>\n",
       "      <th>COUNT_</th>\n",
       "      <th>STDYAREA</th>\n",
       "      <th>ELEM_</th>\n",
       "      <th>INT_</th>\n",
       "      <th>HIGH_</th>\n",
       "      <th>ELEM_CODE</th>\n",
       "      <th>INT_CODE</th>\n",
       "      <th>HIGH_CODE</th>\n",
       "      <th>DISTRICT</th>\n",
       "      <th>...</th>\n",
       "      <th>HIGH_1</th>\n",
       "      <th>DISTRICT_3</th>\n",
       "      <th>MID_2_2019</th>\n",
       "      <th>HIGH__2019</th>\n",
       "      <th>PLANNING_1</th>\n",
       "      <th>UTILITIE_2</th>\n",
       "      <th>STUDENTS_P</th>\n",
       "      <th>Field39</th>\n",
       "      <th>Field40</th>\n",
       "      <th>geometry</th>\n",
       "    </tr>\n",
       "  </thead>\n",
       "  <tbody>\n",
       "    <tr>\n",
       "      <td>0</td>\n",
       "      <td>1</td>\n",
       "      <td>5.0</td>\n",
       "      <td>WL03.4</td>\n",
       "      <td>126</td>\n",
       "      <td>205</td>\n",
       "      <td>311</td>\n",
       "      <td>LOV</td>\n",
       "      <td>HRM</td>\n",
       "      <td>WHS</td>\n",
       "      <td>WL</td>\n",
       "      <td>...</td>\n",
       "      <td>WHS</td>\n",
       "      <td>WL</td>\n",
       "      <td>HRM</td>\n",
       "      <td>WHS</td>\n",
       "      <td>WL03.4</td>\n",
       "      <td>WOU</td>\n",
       "      <td>49</td>\n",
       "      <td>None</td>\n",
       "      <td>None</td>\n",
       "      <td>POLYGON ((11725868.086 7152149.053, 11725870.6...</td>\n",
       "    </tr>\n",
       "    <tr>\n",
       "      <td>1</td>\n",
       "      <td>2</td>\n",
       "      <td>5.0</td>\n",
       "      <td>WL03</td>\n",
       "      <td>126</td>\n",
       "      <td>205</td>\n",
       "      <td>311</td>\n",
       "      <td>LOV</td>\n",
       "      <td>HRM</td>\n",
       "      <td>WHS</td>\n",
       "      <td>WL</td>\n",
       "      <td>...</td>\n",
       "      <td>WHS</td>\n",
       "      <td>WL</td>\n",
       "      <td>HRM</td>\n",
       "      <td>WHS</td>\n",
       "      <td>WL03</td>\n",
       "      <td>WOU</td>\n",
       "      <td>95</td>\n",
       "      <td>None</td>\n",
       "      <td>None</td>\n",
       "      <td>POLYGON ((11726805.147 7160565.438, 11726826.6...</td>\n",
       "    </tr>\n",
       "    <tr>\n",
       "      <td>2</td>\n",
       "      <td>3</td>\n",
       "      <td>5.0</td>\n",
       "      <td>WL27.2</td>\n",
       "      <td>118</td>\n",
       "      <td>202</td>\n",
       "      <td>305</td>\n",
       "      <td>HAM</td>\n",
       "      <td>BRM</td>\n",
       "      <td>LVH</td>\n",
       "      <td>WL</td>\n",
       "      <td>...</td>\n",
       "      <td>LVH</td>\n",
       "      <td>WL</td>\n",
       "      <td>BRM</td>\n",
       "      <td>LVH</td>\n",
       "      <td>WL27.2</td>\n",
       "      <td>WOU</td>\n",
       "      <td>17</td>\n",
       "      <td>None</td>\n",
       "      <td>None</td>\n",
       "      <td>POLYGON ((11720159.464 7099502.139, 11720172.1...</td>\n",
       "    </tr>\n",
       "    <tr>\n",
       "      <td>3</td>\n",
       "      <td>4</td>\n",
       "      <td>5.0</td>\n",
       "      <td>WL32.1</td>\n",
       "      <td>132</td>\n",
       "      <td>205</td>\n",
       "      <td>311</td>\n",
       "      <td>MTV</td>\n",
       "      <td>HRM</td>\n",
       "      <td>WHS</td>\n",
       "      <td>WL</td>\n",
       "      <td>...</td>\n",
       "      <td>WHS</td>\n",
       "      <td>WL</td>\n",
       "      <td>HRM</td>\n",
       "      <td>WHS</td>\n",
       "      <td>WL32.1</td>\n",
       "      <td>WU</td>\n",
       "      <td>263</td>\n",
       "      <td>None</td>\n",
       "      <td>None</td>\n",
       "      <td>POLYGON ((11694466.485 7097608.657, 11694418.5...</td>\n",
       "    </tr>\n",
       "    <tr>\n",
       "      <td>4</td>\n",
       "      <td>5</td>\n",
       "      <td>5.0</td>\n",
       "      <td>WL02</td>\n",
       "      <td>126</td>\n",
       "      <td>205</td>\n",
       "      <td>311</td>\n",
       "      <td>LOV</td>\n",
       "      <td>HRM</td>\n",
       "      <td>WHS</td>\n",
       "      <td>WL</td>\n",
       "      <td>...</td>\n",
       "      <td>WHS</td>\n",
       "      <td>WL</td>\n",
       "      <td>HRM</td>\n",
       "      <td>WHS</td>\n",
       "      <td>WL02</td>\n",
       "      <td>WOU</td>\n",
       "      <td>191</td>\n",
       "      <td>None</td>\n",
       "      <td>None</td>\n",
       "      <td>POLYGON ((11715899.153 7166497.655, 11715932.1...</td>\n",
       "    </tr>\n",
       "  </tbody>\n",
       "</table>\n",
       "<p>5 rows × 54 columns</p>\n",
       "</div>"
      ],
      "text/plain": [
       "   OBJECTID  COUNT_ STDYAREA  ELEM_  INT_  HIGH_ ELEM_CODE INT_CODE HIGH_CODE  \\\n",
       "0         1     5.0   WL03.4    126   205    311       LOV      HRM       WHS   \n",
       "1         2     5.0     WL03    126   205    311       LOV      HRM       WHS   \n",
       "2         3     5.0   WL27.2    118   202    305       HAM      BRM       LVH   \n",
       "3         4     5.0   WL32.1    132   205    311       MTV      HRM       WHS   \n",
       "4         5     5.0     WL02    126   205    311       LOV      HRM       WHS   \n",
       "\n",
       "  DISTRICT  ... HIGH_1  DISTRICT_3  MID_2_2019 HIGH__2019 PLANNING_1  \\\n",
       "0       WL  ...    WHS          WL         HRM        WHS     WL03.4   \n",
       "1       WL  ...    WHS          WL         HRM        WHS       WL03   \n",
       "2       WL  ...    LVH          WL         BRM        LVH     WL27.2   \n",
       "3       WL  ...    WHS          WL         HRM        WHS     WL32.1   \n",
       "4       WL  ...    WHS          WL         HRM        WHS       WL02   \n",
       "\n",
       "  UTILITIE_2 STUDENTS_P Field39 Field40  \\\n",
       "0        WOU         49    None    None   \n",
       "1        WOU         95    None    None   \n",
       "2        WOU         17    None    None   \n",
       "3         WU        263    None    None   \n",
       "4        WOU        191    None    None   \n",
       "\n",
       "                                            geometry  \n",
       "0  POLYGON ((11725868.086 7152149.053, 11725870.6...  \n",
       "1  POLYGON ((11726805.147 7160565.438, 11726826.6...  \n",
       "2  POLYGON ((11720159.464 7099502.139, 11720172.1...  \n",
       "3  POLYGON ((11694466.485 7097608.657, 11694418.5...  \n",
       "4  POLYGON ((11715899.153 7166497.655, 11715932.1...  \n",
       "\n",
       "[5 rows x 54 columns]"
      ]
     },
     "execution_count": 6,
     "metadata": {},
     "output_type": "execute_result"
    }
   ],
   "source": [
    "spas.head()"
   ]
  },
  {
   "cell_type": "code",
   "execution_count": 7,
   "metadata": {},
   "outputs": [
    {
     "data": {
      "text/plain": [
       "<matplotlib.axes._subplots.AxesSubplot at 0x17d55fd66c8>"
      ]
     },
     "execution_count": 7,
     "metadata": {},
     "output_type": "execute_result"
    }
   ],
   "source": [
    "spas.plot(column = \"HIGH_\",cmap='tab20')"
   ]
  },
  {
   "cell_type": "code",
   "execution_count": 8,
   "metadata": {},
   "outputs": [
    {
     "data": {
      "text/plain": [
       "0    311\n",
       "1    311\n",
       "2    305\n",
       "3    311\n",
       "4    311\n",
       "Name: HIGH_, dtype: int64"
      ]
     },
     "execution_count": 8,
     "metadata": {},
     "output_type": "execute_result"
    }
   ],
   "source": [
    "spas[\"HIGH_\"].head()"
   ]
  },
  {
   "cell_type": "code",
   "execution_count": 9,
   "metadata": {},
   "outputs": [
    {
     "data": {
      "text/html": [
       "<div>\n",
       "<style scoped>\n",
       "    .dataframe tbody tr th:only-of-type {\n",
       "        vertical-align: middle;\n",
       "    }\n",
       "\n",
       "    .dataframe tbody tr th {\n",
       "        vertical-align: top;\n",
       "    }\n",
       "\n",
       "    .dataframe thead th {\n",
       "        text-align: right;\n",
       "    }\n",
       "</style>\n",
       "<table border=\"1\" class=\"dataframe\">\n",
       "  <thead>\n",
       "    <tr style=\"text-align: right;\">\n",
       "      <th></th>\n",
       "      <th>OBJECTID</th>\n",
       "      <th>COUNT_</th>\n",
       "      <th>STDYAREA</th>\n",
       "      <th>ELEM_</th>\n",
       "      <th>INT_</th>\n",
       "      <th>HIGH_</th>\n",
       "      <th>ELEM_CODE</th>\n",
       "      <th>INT_CODE</th>\n",
       "      <th>HIGH_CODE</th>\n",
       "      <th>DISTRICT</th>\n",
       "      <th>...</th>\n",
       "      <th>HIGH_1</th>\n",
       "      <th>DISTRICT_3</th>\n",
       "      <th>MID_2_2019</th>\n",
       "      <th>HIGH__2019</th>\n",
       "      <th>PLANNING_1</th>\n",
       "      <th>UTILITIE_2</th>\n",
       "      <th>STUDENTS_P</th>\n",
       "      <th>Field39</th>\n",
       "      <th>Field40</th>\n",
       "      <th>geometry</th>\n",
       "    </tr>\n",
       "  </thead>\n",
       "  <tbody>\n",
       "    <tr>\n",
       "      <td>0</td>\n",
       "      <td>1</td>\n",
       "      <td>5.0</td>\n",
       "      <td>WL03.4</td>\n",
       "      <td>126</td>\n",
       "      <td>205</td>\n",
       "      <td>311</td>\n",
       "      <td>LOV</td>\n",
       "      <td>HRM</td>\n",
       "      <td>WHS</td>\n",
       "      <td>WL</td>\n",
       "      <td>...</td>\n",
       "      <td>WHS</td>\n",
       "      <td>WL</td>\n",
       "      <td>HRM</td>\n",
       "      <td>WHS</td>\n",
       "      <td>WL03.4</td>\n",
       "      <td>WOU</td>\n",
       "      <td>49</td>\n",
       "      <td>None</td>\n",
       "      <td>None</td>\n",
       "      <td>POLYGON ((11725868.086 7152149.053, 11725870.6...</td>\n",
       "    </tr>\n",
       "    <tr>\n",
       "      <td>1</td>\n",
       "      <td>2</td>\n",
       "      <td>5.0</td>\n",
       "      <td>WL03</td>\n",
       "      <td>126</td>\n",
       "      <td>205</td>\n",
       "      <td>311</td>\n",
       "      <td>LOV</td>\n",
       "      <td>HRM</td>\n",
       "      <td>WHS</td>\n",
       "      <td>WL</td>\n",
       "      <td>...</td>\n",
       "      <td>WHS</td>\n",
       "      <td>WL</td>\n",
       "      <td>HRM</td>\n",
       "      <td>WHS</td>\n",
       "      <td>WL03</td>\n",
       "      <td>WOU</td>\n",
       "      <td>95</td>\n",
       "      <td>None</td>\n",
       "      <td>None</td>\n",
       "      <td>POLYGON ((11726805.147 7160565.438, 11726826.6...</td>\n",
       "    </tr>\n",
       "    <tr>\n",
       "      <td>2</td>\n",
       "      <td>3</td>\n",
       "      <td>5.0</td>\n",
       "      <td>WL27.2</td>\n",
       "      <td>118</td>\n",
       "      <td>202</td>\n",
       "      <td>305</td>\n",
       "      <td>HAM</td>\n",
       "      <td>BRM</td>\n",
       "      <td>LVH</td>\n",
       "      <td>WL</td>\n",
       "      <td>...</td>\n",
       "      <td>LVH</td>\n",
       "      <td>WL</td>\n",
       "      <td>BRM</td>\n",
       "      <td>LVH</td>\n",
       "      <td>WL27.2</td>\n",
       "      <td>WOU</td>\n",
       "      <td>17</td>\n",
       "      <td>None</td>\n",
       "      <td>None</td>\n",
       "      <td>POLYGON ((11720159.464 7099502.139, 11720172.1...</td>\n",
       "    </tr>\n",
       "    <tr>\n",
       "      <td>3</td>\n",
       "      <td>4</td>\n",
       "      <td>5.0</td>\n",
       "      <td>WL32.1</td>\n",
       "      <td>132</td>\n",
       "      <td>205</td>\n",
       "      <td>311</td>\n",
       "      <td>MTV</td>\n",
       "      <td>HRM</td>\n",
       "      <td>WHS</td>\n",
       "      <td>WL</td>\n",
       "      <td>...</td>\n",
       "      <td>WHS</td>\n",
       "      <td>WL</td>\n",
       "      <td>HRM</td>\n",
       "      <td>WHS</td>\n",
       "      <td>WL32.1</td>\n",
       "      <td>WU</td>\n",
       "      <td>263</td>\n",
       "      <td>None</td>\n",
       "      <td>None</td>\n",
       "      <td>POLYGON ((11694466.485 7097608.657, 11694418.5...</td>\n",
       "    </tr>\n",
       "    <tr>\n",
       "      <td>4</td>\n",
       "      <td>5</td>\n",
       "      <td>5.0</td>\n",
       "      <td>WL02</td>\n",
       "      <td>126</td>\n",
       "      <td>205</td>\n",
       "      <td>311</td>\n",
       "      <td>LOV</td>\n",
       "      <td>HRM</td>\n",
       "      <td>WHS</td>\n",
       "      <td>WL</td>\n",
       "      <td>...</td>\n",
       "      <td>WHS</td>\n",
       "      <td>WL</td>\n",
       "      <td>HRM</td>\n",
       "      <td>WHS</td>\n",
       "      <td>WL02</td>\n",
       "      <td>WOU</td>\n",
       "      <td>191</td>\n",
       "      <td>None</td>\n",
       "      <td>None</td>\n",
       "      <td>POLYGON ((11715899.153 7166497.655, 11715932.1...</td>\n",
       "    </tr>\n",
       "  </tbody>\n",
       "</table>\n",
       "<p>5 rows × 54 columns</p>\n",
       "</div>"
      ],
      "text/plain": [
       "   OBJECTID  COUNT_ STDYAREA  ELEM_  INT_  HIGH_ ELEM_CODE INT_CODE HIGH_CODE  \\\n",
       "0         1     5.0   WL03.4    126   205    311       LOV      HRM       WHS   \n",
       "1         2     5.0     WL03    126   205    311       LOV      HRM       WHS   \n",
       "2         3     5.0   WL27.2    118   202    305       HAM      BRM       LVH   \n",
       "3         4     5.0   WL32.1    132   205    311       MTV      HRM       WHS   \n",
       "4         5     5.0     WL02    126   205    311       LOV      HRM       WHS   \n",
       "\n",
       "  DISTRICT  ... HIGH_1  DISTRICT_3  MID_2_2019 HIGH__2019 PLANNING_1  \\\n",
       "0       WL  ...    WHS          WL         HRM        WHS     WL03.4   \n",
       "1       WL  ...    WHS          WL         HRM        WHS       WL03   \n",
       "2       WL  ...    LVH          WL         BRM        LVH     WL27.2   \n",
       "3       WL  ...    WHS          WL         HRM        WHS     WL32.1   \n",
       "4       WL  ...    WHS          WL         HRM        WHS       WL02   \n",
       "\n",
       "  UTILITIE_2 STUDENTS_P Field39 Field40  \\\n",
       "0        WOU         49    None    None   \n",
       "1        WOU         95    None    None   \n",
       "2        WOU         17    None    None   \n",
       "3         WU        263    None    None   \n",
       "4        WOU        191    None    None   \n",
       "\n",
       "                                            geometry  \n",
       "0  POLYGON ((11725868.086 7152149.053, 11725870.6...  \n",
       "1  POLYGON ((11726805.147 7160565.438, 11726826.6...  \n",
       "2  POLYGON ((11720159.464 7099502.139, 11720172.1...  \n",
       "3  POLYGON ((11694466.485 7097608.657, 11694418.5...  \n",
       "4  POLYGON ((11715899.153 7166497.655, 11715932.1...  \n",
       "\n",
       "[5 rows x 54 columns]"
      ]
     },
     "execution_count": 9,
     "metadata": {},
     "output_type": "execute_result"
    }
   ],
   "source": [
    "spas[0:5]"
   ]
  },
  {
   "cell_type": "code",
   "execution_count": 10,
   "metadata": {
    "scrolled": true
   },
   "outputs": [
    {
     "data": {
      "text/plain": [
       "Index(['OBJECTID', 'COUNT_', 'STDYAREA', 'ELEM_', 'INT_', 'HIGH_', 'ELEM_CODE',\n",
       "       'INT_CODE', 'HIGH_CODE', 'DISTRICT', 'UTILITIES', 'SHAPE_Leng',\n",
       "       'SHAPE_Area', 'STDYAREA_1', 'DISTRICT_1', 'PLANNING_Z', 'ELEM', 'MID',\n",
       "       'HIGH', 'UTILITIE_1', 'DISTRICT_2', 'MID_2018', 'HIGH_2018', 'PK', 'KG',\n",
       "       'GR1', 'GR2', 'GR3', 'GR4', 'GR5', 'GR6', 'GR7', 'GR8', 'GR9', 'GR10',\n",
       "       'GR11', 'GR12', 'TOTAL_KG_5', 'TOTAL_6_8', 'TOTAL_9_12', 'TOTAL_KG_1',\n",
       "       'TOTAL_PK_1', 'ELEM_1', 'MID_1', 'HIGH_1', 'DISTRICT_3', 'MID_2_2019',\n",
       "       'HIGH__2019', 'PLANNING_1', 'UTILITIE_2', 'STUDENTS_P', 'Field39',\n",
       "       'Field40', 'geometry'],\n",
       "      dtype='object')"
      ]
     },
     "execution_count": 10,
     "metadata": {},
     "output_type": "execute_result"
    }
   ],
   "source": [
    "spas.head()\n",
    "spas.columns\n"
   ]
  },
  {
   "cell_type": "code",
   "execution_count": 11,
   "metadata": {
    "scrolled": true
   },
   "outputs": [
    {
     "name": "stdout",
     "output_type": "stream",
     "text": [
      "The total number of students is  80345 for all the 446 rows\n"
     ]
    }
   ],
   "source": [
    "print(\"The total number of students is \", sum(spas['TOTAL_KG_1']), \"for all the 446 rows\")\n",
    "#used TOT_POP as string but it gave errors as not a column so have to do with TOTAL_KG_1 now"
   ]
  },
  {
   "cell_type": "code",
   "execution_count": 12,
   "metadata": {},
   "outputs": [],
   "source": [
    "#needed_columns=spas[[\"ELEM_CODE\", \"ELEM_\", \"ELEM_POP\"]]\n",
    "#help(needed_columns)\n",
    "\n",
    "#aggregate_data=needed_columns.dissolve(by='ELEM_CODE', aggfunc='sum')\n",
    "#aggregate_data.head()\n",
    "\n",
    "#dissolve(by='ELEM_CODE', aggfunc='sum')\n",
    "\n",
    "#needed_columns.groupby(['ELEM_CODE']).mean()\n",
    "#needed_columns.head()\n",
    "#needed_columns.groupby(['ELEM_CODE']).sum()"
   ]
  },
  {
   "cell_type": "code",
   "execution_count": 13,
   "metadata": {},
   "outputs": [],
   "source": [
    "# spas.info()"
   ]
  },
  {
   "cell_type": "markdown",
   "metadata": {},
   "source": [
    "# Students percentages"
   ]
  },
  {
   "cell_type": "code",
   "execution_count": 14,
   "metadata": {},
   "outputs": [],
   "source": [
    "\n",
    "#students.info()\n",
    "needed_ethnicities=students[[\"ObjectID\", \"ETHNIC\",\"ELEM_CODE\"]]\n",
    "grouped_data=needed_ethnicities.groupby(['ELEM_CODE', 'ETHNIC']).count()\n",
    "#count is not percentage\n",
    "\n",
    "#students.head()\n",
    "#help (students.groupby)\n",
    "#students.groupby(['ELEM_CODE']).sum()"
   ]
  },
  {
   "cell_type": "code",
   "execution_count": 15,
   "metadata": {},
   "outputs": [
    {
     "data": {
      "text/plain": [
       "Index(['ObjectID'], dtype='object')"
      ]
     },
     "execution_count": 15,
     "metadata": {},
     "output_type": "execute_result"
    }
   ],
   "source": [
    "grouped_data\n",
    "#this displays all headers I want to see\n",
    "grouped_data.columns\n",
    "#only OBJECT ID shows up, the other two headers are not regarded as columns. Why is that? How do I access them?"
   ]
  },
  {
   "cell_type": "code",
   "execution_count": 16,
   "metadata": {},
   "outputs": [
    {
     "name": "stdout",
     "output_type": "stream",
     "text": [
      "\n",
      " DIS\n",
      "        ObjectID\n",
      "ETHNIC          \n",
      "A       0.322089\n",
      "B       0.091948\n",
      "H       0.120239\n",
      "M2      0.054951\n",
      "N       0.004897\n",
      "P       0.002720\n",
      "W       0.403156\n",
      "\n",
      " CAT\n",
      "        ObjectID\n",
      "ETHNIC          \n",
      "A       0.031447\n",
      "B       0.057747\n",
      "H       0.181818\n",
      "M2      0.048027\n",
      "N       0.003431\n",
      "P       0.001715\n",
      "W       0.675815\n",
      "\n",
      " LOW\n",
      "        ObjectID\n",
      "ETHNIC          \n",
      "A       0.126600\n",
      "B       0.050498\n",
      "H       0.079659\n",
      "M2      0.050498\n",
      "N       0.003556\n",
      "P       0.000711\n",
      "W       0.688478\n",
      "\n",
      " DOM\n",
      "        ObjectID\n",
      "ETHNIC          \n",
      "A       0.212868\n",
      "B       0.117258\n",
      "H       0.164762\n",
      "M2      0.044498\n",
      "N       0.003608\n",
      "P       0.000601\n",
      "W       0.456404\n",
      "\n",
      " LEG\n",
      "        ObjectID\n",
      "ETHNIC          \n",
      "A       0.338268\n",
      "B       0.044863\n",
      "H       0.057873\n",
      "M2      0.067743\n",
      "N       0.001346\n",
      "P       0.000897\n",
      "W       0.489009\n",
      "\n",
      " HUT\n",
      "        ObjectID\n",
      "ETHNIC          \n",
      "A       0.266556\n",
      "B       0.054636\n",
      "H       0.115894\n",
      "M2      0.064570\n",
      "N       0.008830\n",
      "P       0.001104\n",
      "W       0.488411\n",
      "\n",
      " CED\n",
      "        ObjectID\n",
      "ETHNIC          \n",
      "A       0.230643\n",
      "B       0.074155\n",
      "H       0.136859\n",
      "M2      0.052890\n",
      "N       0.004907\n",
      "P       0.000545\n",
      "W       0.500000\n",
      "\n",
      " LEE\n",
      "        ObjectID\n",
      "ETHNIC          \n",
      "A       0.059172\n",
      "B       0.085376\n",
      "H       0.342350\n",
      "M2      0.055790\n",
      "N       0.004227\n",
      "P       0.000845\n",
      "W       0.452240\n",
      "\n",
      " TOL\n",
      "        ObjectID\n",
      "ETHNIC          \n",
      "A       0.185400\n",
      "B       0.089224\n",
      "H       0.115875\n",
      "M2      0.063731\n",
      "N       0.004635\n",
      "P       0.001159\n",
      "W       0.539977\n",
      "\n",
      " MIL\n",
      "        ObjectID\n",
      "ETHNIC          \n",
      "A       0.305651\n",
      "B       0.028010\n",
      "H       0.052088\n",
      "M2      0.058477\n",
      "N       0.002457\n",
      "P       0.000983\n",
      "W       0.552334\n",
      "\n",
      " BAL\n",
      "        ObjectID\n",
      "ETHNIC          \n",
      "A       0.106452\n",
      "B       0.083226\n",
      "H       0.207742\n",
      "M2      0.062581\n",
      "N       0.006452\n",
      "P       0.003226\n",
      "W       0.530323\n",
      "\n",
      " MTV\n",
      "        ObjectID\n",
      "ETHNIC          \n",
      "A       0.025229\n",
      "B       0.039564\n",
      "H       0.115252\n",
      "M2      0.038417\n",
      "N       0.000573\n",
      "P       0.000573\n",
      "W       0.780390\n",
      "\n",
      " FHR\n",
      "        ObjectID\n",
      "ETHNIC          \n",
      "A       0.048741\n",
      "B       0.057311\n",
      "H       0.232458\n",
      "M2      0.049813\n",
      "N       0.001607\n",
      "P       0.000536\n",
      "W       0.609534\n",
      "\n",
      " FOR\n",
      "        ObjectID\n",
      "ETHNIC          \n",
      "A       0.188394\n",
      "B       0.062798\n",
      "H       0.492051\n",
      "M2      0.029412\n",
      "N       0.009539\n",
      "P       0.003180\n",
      "W       0.214626\n",
      "\n",
      " CRE\n",
      "        ObjectID\n",
      "ETHNIC          \n",
      "A       0.493894\n",
      "B       0.058622\n",
      "H       0.062042\n",
      "M2      0.039082\n",
      "N       0.009282\n",
      "P       0.001466\n",
      "W       0.335613\n",
      "\n",
      " LOV\n",
      "        ObjectID\n",
      "ETHNIC          \n",
      "A       0.021122\n",
      "B       0.028405\n",
      "H       0.075018\n",
      "M2      0.053168\n",
      "N       0.005098\n",
      "P       0.001457\n",
      "W       0.815732\n",
      "\n",
      " BST\n",
      "        ObjectID\n",
      "ETHNIC          \n",
      "A       0.169823\n",
      "B       0.061869\n",
      "H       0.091540\n",
      "M2      0.066288\n",
      "N       0.003788\n",
      "P       0.000631\n",
      "W       0.606061\n",
      "\n",
      " WAT\n",
      "        ObjectID\n",
      "ETHNIC          \n",
      "A       0.044211\n",
      "B       0.027368\n",
      "H       0.040000\n",
      "M2      0.044211\n",
      "N       0.004211\n",
      "W       0.840000\n",
      "\n",
      " RHL\n",
      "        ObjectID\n",
      "ETHNIC          \n",
      "A       0.028302\n",
      "B       0.034591\n",
      "H       0.071541\n",
      "M2      0.044025\n",
      "N       0.002358\n",
      "W       0.819182\n",
      "\n",
      " SUG\n",
      "        ObjectID\n",
      "ETHNIC          \n",
      "A       0.106687\n",
      "B       0.075131\n",
      "H       0.652141\n",
      "M2      0.032307\n",
      "N       0.004508\n",
      "W       0.129226\n",
      "\n",
      " MSE\n",
      "        ObjectID\n",
      "ETHNIC          \n",
      "A       0.403509\n",
      "B       0.073787\n",
      "H       0.089783\n",
      "M2      0.062436\n",
      "N       0.002580\n",
      "P       0.004644\n",
      "W       0.363261\n",
      "\n",
      " LUC\n",
      "        ObjectID\n",
      "ETHNIC          \n",
      "A       0.044160\n",
      "B       0.085470\n",
      "H       0.212251\n",
      "M2      0.066952\n",
      "N       0.004274\n",
      "P       0.001425\n",
      "W       0.585470\n",
      "\n",
      " RRD\n",
      "        ObjectID\n",
      "ETHNIC          \n",
      "A       0.163025\n",
      "B       0.080672\n",
      "H       0.563866\n",
      "M2      0.036975\n",
      "N       0.005882\n",
      "W       0.149580\n",
      "\n",
      " HRZ\n",
      "        ObjectID\n",
      "ETHNIC          \n",
      "A       0.187853\n",
      "B       0.044492\n",
      "H       0.110169\n",
      "M2      0.060028\n",
      "N       0.007768\n",
      "W       0.589689\n",
      "\n",
      " ASH\n",
      "        ObjectID\n",
      "ETHNIC          \n",
      "A       0.191717\n",
      "B       0.079492\n",
      "H       0.146961\n",
      "M2      0.055444\n",
      "N       0.003340\n",
      "P       0.000668\n",
      "W       0.522378\n",
      "\n",
      " STE\n",
      "        ObjectID\n",
      "ETHNIC          \n",
      "A       0.188776\n",
      "B       0.072279\n",
      "H       0.456633\n",
      "M2      0.051871\n",
      "N       0.005952\n",
      "P       0.001701\n",
      "W       0.222789\n",
      "\n",
      " BAN\n",
      "        ObjectID\n",
      "ETHNIC          \n",
      "A       0.012007\n",
      "B       0.075472\n",
      "H       0.188679\n",
      "M2      0.034305\n",
      "N       0.003431\n",
      "W       0.686106\n",
      "\n",
      " PMK\n",
      "        ObjectID\n",
      "ETHNIC          \n",
      "A       0.160879\n",
      "B       0.080794\n",
      "H       0.277817\n",
      "M2      0.060241\n",
      "N       0.010631\n",
      "P       0.000709\n",
      "W       0.408930\n",
      "\n",
      " EME\n",
      "        ObjectID\n",
      "ETHNIC          \n",
      "A       0.048552\n",
      "B       0.028961\n",
      "H       0.077513\n",
      "M2      0.049404\n",
      "N       0.001704\n",
      "W       0.793867\n",
      "\n",
      " MEA\n",
      "        ObjectID\n",
      "ETHNIC          \n",
      "A       0.144724\n",
      "B       0.043216\n",
      "H       0.426131\n",
      "M2      0.045226\n",
      "N       0.004020\n",
      "P       0.001005\n",
      "W       0.335678\n",
      "\n",
      " LIB\n",
      "        ObjectID\n",
      "ETHNIC          \n",
      "A       0.446570\n",
      "B       0.078861\n",
      "H       0.081661\n",
      "M2      0.043864\n",
      "N       0.003733\n",
      "P       0.001867\n",
      "W       0.343444\n",
      "\n",
      " KWC\n",
      "        ObjectID\n",
      "ETHNIC          \n",
      "A       0.051402\n",
      "B       0.023364\n",
      "H       0.056075\n",
      "M2      0.038718\n",
      "N       0.001335\n",
      "P       0.000668\n",
      "W       0.828438\n",
      "\n",
      " STU\n",
      "        ObjectID\n",
      "ETHNIC          \n",
      "A       0.168367\n",
      "B       0.120536\n",
      "H       0.171556\n",
      "M2      0.052296\n",
      "N       0.003827\n",
      "W       0.483418\n",
      "\n",
      " CSP\n",
      "        ObjectID\n",
      "ETHNIC          \n",
      "A       0.061826\n",
      "B       0.074047\n",
      "H       0.286844\n",
      "M2      0.058231\n",
      "N       0.007189\n",
      "P       0.000719\n",
      "W       0.511143\n",
      "\n",
      " SYC\n",
      "        ObjectID\n",
      "ETHNIC          \n",
      "A       0.155556\n",
      "B       0.034343\n",
      "H       0.076094\n",
      "M2      0.061279\n",
      "N       0.004714\n",
      "W       0.668013\n",
      "\n",
      " EVE\n",
      "        ObjectID\n",
      "ETHNIC          \n",
      "A       0.061443\n",
      "B       0.032057\n",
      "H       0.331256\n",
      "M2      0.041852\n",
      "N       0.008905\n",
      "W       0.524488\n",
      "\n",
      " ALD\n",
      "        ObjectID\n",
      "ETHNIC          \n",
      "A       0.083130\n",
      "B       0.073350\n",
      "H       0.156479\n",
      "M2      0.068460\n",
      "N       0.002445\n",
      "P       0.004890\n",
      "W       0.611247\n",
      "\n",
      " PNB\n",
      "        ObjectID\n",
      "ETHNIC          \n",
      "A       0.349570\n",
      "B       0.119771\n",
      "H       0.091691\n",
      "M2      0.053868\n",
      "N       0.006877\n",
      "P       0.000573\n",
      "W       0.377650\n",
      "\n",
      " HLS\n",
      "        ObjectID\n",
      "ETHNIC          \n",
      "A       0.233693\n",
      "B       0.050334\n",
      "H       0.076014\n",
      "M2      0.063688\n",
      "N       0.002568\n",
      "P       0.000514\n",
      "W       0.573190\n",
      "\n",
      " CTY\n",
      "        ObjectID\n",
      "ETHNIC          \n",
      "A       0.116523\n",
      "B       0.107275\n",
      "H       0.305795\n",
      "M2      0.051788\n",
      "N       0.006165\n",
      "W       0.412454\n",
      "\n",
      " HAM\n",
      "        ObjectID\n",
      "ETHNIC          \n",
      "A       0.019704\n",
      "B       0.014778\n",
      "H       0.086207\n",
      "M2      0.078818\n",
      "W       0.800493\n",
      "\n",
      " ALG\n",
      "        ObjectID\n",
      "ETHNIC          \n",
      "A       0.083257\n",
      "B       0.055810\n",
      "H       0.145471\n",
      "M2      0.060384\n",
      "N       0.003660\n",
      "P       0.001830\n",
      "W       0.649588\n",
      "\n",
      " SUL\n",
      "        ObjectID\n",
      "ETHNIC          \n",
      "A       0.098242\n",
      "B       0.031024\n",
      "H       0.736298\n",
      "M2      0.024819\n",
      "N       0.010341\n",
      "P       0.002068\n",
      "W       0.097208\n",
      "\n",
      " RLC\n",
      "        ObjectID\n",
      "ETHNIC          \n",
      "A       0.585463\n",
      "B       0.073822\n",
      "H       0.070415\n",
      "M2      0.047700\n",
      "N       0.008518\n",
      "P       0.001704\n",
      "W       0.212379\n",
      "\n",
      " SEL\n",
      "        ObjectID\n",
      "ETHNIC          \n",
      "A       0.181626\n",
      "B       0.097149\n",
      "H       0.091869\n",
      "M2      0.076030\n",
      "N       0.002112\n",
      "W       0.551214\n",
      "\n",
      " FDE\n",
      "        ObjectID\n",
      "ETHNIC          \n",
      "A       0.141656\n",
      "B       0.124838\n",
      "H       0.315006\n",
      "M2      0.065977\n",
      "N       0.009056\n",
      "P       0.001940\n",
      "W       0.341527\n",
      "\n",
      " ARC\n",
      "        ObjectID\n",
      "ETHNIC          \n",
      "A       0.359041\n",
      "B       0.088588\n",
      "H       0.096925\n",
      "M2      0.069307\n",
      "N       0.004169\n",
      "P       0.001563\n",
      "W       0.380406\n",
      "\n",
      " SAN\n",
      "        ObjectID\n",
      "ETHNIC          \n",
      "A       0.105749\n",
      "B       0.059617\n",
      "H       0.116395\n",
      "M2      0.066004\n",
      "N       0.001419\n",
      "W       0.650816\n",
      "\n",
      " GUI\n",
      "        ObjectID\n",
      "ETHNIC          \n",
      "A       0.080252\n",
      "B       0.044060\n",
      "H       0.752950\n",
      "M2      0.022030\n",
      "N       0.007868\n",
      "P       0.000787\n",
      "W       0.092054\n",
      "\n",
      " NLE\n",
      "        ObjectID\n",
      "ETHNIC          \n",
      "A       0.281001\n",
      "B       0.056413\n",
      "H       0.071315\n",
      "M2      0.058010\n",
      "N       0.003193\n",
      "P       0.001064\n",
      "W       0.529005\n",
      "\n",
      " LIT\n",
      "        ObjectID\n",
      "ETHNIC          \n",
      "A       0.230357\n",
      "B       0.042262\n",
      "H       0.054167\n",
      "M2      0.044048\n",
      "N       0.003571\n",
      "W       0.625595\n",
      "\n",
      " CCE\n",
      "        ObjectID\n",
      "ETHNIC          \n",
      "A       0.547231\n",
      "B       0.080347\n",
      "H       0.067861\n",
      "M2      0.051031\n",
      "N       0.013029\n",
      "P       0.001629\n",
      "W       0.238871\n",
      "\n",
      " BUF\n",
      "        ObjectID\n",
      "ETHNIC          \n",
      "A       0.326706\n",
      "B       0.085019\n",
      "H       0.072677\n",
      "M2      0.068221\n",
      "N       0.007542\n",
      "P       0.002400\n",
      "W       0.437436\n",
      "\n",
      " LIN\n",
      "        ObjectID\n",
      "ETHNIC          \n",
      "A       0.039526\n",
      "B       0.007905\n",
      "H       0.035573\n",
      "M2      0.063241\n",
      "N       0.011858\n"
     ]
    },
    {
     "name": "stdout",
     "output_type": "stream",
     "text": [
      "W       0.841897\n",
      "\n",
      " MTE\n",
      "        ObjectID\n",
      "ETHNIC          \n",
      "A       0.427302\n",
      "B       0.059683\n",
      "H       0.072381\n",
      "M2      0.048254\n",
      "N       0.010794\n",
      "P       0.000635\n",
      "W       0.380952\n"
     ]
    }
   ],
   "source": [
    "school_codes = needed_ethnicities.ELEM_CODE.unique()\n",
    "#len(needed_ethnicities.ELEM_CODE.unique())\n",
    "\n",
    "denominators=needed_ethnicities.groupby(['ELEM_CODE']).count()\n",
    "for code in school_codes:\n",
    "     if code is not None:\n",
    "        \n",
    "        print(\"\\n\", code)\n",
    "        \n",
    "        school_percentage = grouped_data.loc[code]/denominators.loc[code][\"ETHNIC\"]\n",
    "        print(school_percentage)"
   ]
  },
  {
   "cell_type": "code",
   "execution_count": 17,
   "metadata": {},
   "outputs": [
    {
     "data": {
      "text/html": [
       "<div>\n",
       "<style scoped>\n",
       "    .dataframe tbody tr th:only-of-type {\n",
       "        vertical-align: middle;\n",
       "    }\n",
       "\n",
       "    .dataframe tbody tr th {\n",
       "        vertical-align: top;\n",
       "    }\n",
       "\n",
       "    .dataframe thead th {\n",
       "        text-align: right;\n",
       "    }\n",
       "</style>\n",
       "<table border=\"1\" class=\"dataframe\">\n",
       "  <thead>\n",
       "    <tr style=\"text-align: right;\">\n",
       "      <th></th>\n",
       "      <th></th>\n",
       "      <th>ETHNIC</th>\n",
       "      <th>ObjectID</th>\n",
       "    </tr>\n",
       "    <tr>\n",
       "      <th>ELEM_CODE</th>\n",
       "      <th>ETHNIC</th>\n",
       "      <th></th>\n",
       "      <th></th>\n",
       "    </tr>\n",
       "  </thead>\n",
       "  <tbody>\n",
       "    <tr>\n",
       "      <td rowspan=\"5\" valign=\"top\">ALD</td>\n",
       "      <td>A</td>\n",
       "      <td>NaN</td>\n",
       "      <td>0.083130</td>\n",
       "    </tr>\n",
       "    <tr>\n",
       "      <td>B</td>\n",
       "      <td>NaN</td>\n",
       "      <td>0.073350</td>\n",
       "    </tr>\n",
       "    <tr>\n",
       "      <td>H</td>\n",
       "      <td>NaN</td>\n",
       "      <td>0.156479</td>\n",
       "    </tr>\n",
       "    <tr>\n",
       "      <td>M2</td>\n",
       "      <td>NaN</td>\n",
       "      <td>0.068460</td>\n",
       "    </tr>\n",
       "    <tr>\n",
       "      <td>N</td>\n",
       "      <td>NaN</td>\n",
       "      <td>0.002445</td>\n",
       "    </tr>\n",
       "    <tr>\n",
       "      <td>...</td>\n",
       "      <td>...</td>\n",
       "      <td>...</td>\n",
       "      <td>...</td>\n",
       "    </tr>\n",
       "    <tr>\n",
       "      <td rowspan=\"5\" valign=\"top\">WAT</td>\n",
       "      <td>B</td>\n",
       "      <td>NaN</td>\n",
       "      <td>0.027368</td>\n",
       "    </tr>\n",
       "    <tr>\n",
       "      <td>H</td>\n",
       "      <td>NaN</td>\n",
       "      <td>0.040000</td>\n",
       "    </tr>\n",
       "    <tr>\n",
       "      <td>M2</td>\n",
       "      <td>NaN</td>\n",
       "      <td>0.044211</td>\n",
       "    </tr>\n",
       "    <tr>\n",
       "      <td>N</td>\n",
       "      <td>NaN</td>\n",
       "      <td>0.004211</td>\n",
       "    </tr>\n",
       "    <tr>\n",
       "      <td>W</td>\n",
       "      <td>NaN</td>\n",
       "      <td>0.840000</td>\n",
       "    </tr>\n",
       "  </tbody>\n",
       "</table>\n",
       "<p>368 rows × 2 columns</p>\n",
       "</div>"
      ],
      "text/plain": [
       "                  ETHNIC  ObjectID\n",
       "ELEM_CODE ETHNIC                  \n",
       "ALD       A          NaN  0.083130\n",
       "          B          NaN  0.073350\n",
       "          H          NaN  0.156479\n",
       "          M2         NaN  0.068460\n",
       "          N          NaN  0.002445\n",
       "...                  ...       ...\n",
       "WAT       B          NaN  0.027368\n",
       "          H          NaN  0.040000\n",
       "          M2         NaN  0.044211\n",
       "          N          NaN  0.004211\n",
       "          W          NaN  0.840000\n",
       "\n",
       "[368 rows x 2 columns]"
      ]
     },
     "execution_count": 17,
     "metadata": {},
     "output_type": "execute_result"
    }
   ],
   "source": [
    "# denominators = needed_ethnicities.groupby(['ELEM_CODE']).count()\n",
    "#grouped_data[\"LOV\"]/denominators[\"LOV\"]\n",
    "#grouped_data.get_group(\"ALO\")/\n",
    "#denominators.loc[\"ELEM_CODE\",\"ALD\"]\n",
    "#denominators.loc[denominators[\"ELEM_CODE\"]==\"ALD\"]\n",
    "\n",
    "#denominators.columns\n",
    "#finding percentages\n",
    "grouped_data.loc[\"ALD\"]/denominators.loc[\"ALD\"][\"ETHNIC\"]\n",
    "grouped_data[[\"ObjectID\"]]/denominators\n",
    "\n",
    "#print(denominators) 368x2 columns\n",
    "#print(grouped_data) 368x1 columns\n",
    "\n",
    "#sum_denominators = needed_ethnicities.groupby(['ELEM_CODE']).sum()\n",
    "#print(sum_denominators)"
   ]
  },
  {
   "cell_type": "markdown",
   "metadata": {},
   "source": [
    "# how to change the assignments of areas to schools\n",
    "\n",
    "\n",
    "\n",
    "\n",
    "\n",
    "\n",
    "\n",
    "\n",
    "\n",
    "\n",
    "\n",
    "\n",
    "\n",
    "\n",
    "\n",
    "\n",
    "\n",
    "\n",
    "\n",
    "\n",
    "\n",
    "\n",
    "\n",
    "\n",
    "\n",
    "\n",
    "\n",
    "\n"
   ]
  },
  {
   "cell_type": "code",
   "execution_count": 18,
   "metadata": {},
   "outputs": [
    {
     "data": {
      "text/html": [
       "<div>\n",
       "<style scoped>\n",
       "    .dataframe tbody tr th:only-of-type {\n",
       "        vertical-align: middle;\n",
       "    }\n",
       "\n",
       "    .dataframe tbody tr th {\n",
       "        vertical-align: top;\n",
       "    }\n",
       "\n",
       "    .dataframe thead th {\n",
       "        text-align: right;\n",
       "    }\n",
       "</style>\n",
       "<table border=\"1\" class=\"dataframe\">\n",
       "  <thead>\n",
       "    <tr style=\"text-align: right;\">\n",
       "      <th></th>\n",
       "      <th>OBJECTID</th>\n",
       "      <th>COUNT_</th>\n",
       "      <th>STDYAREA</th>\n",
       "      <th>ELEM_</th>\n",
       "      <th>INT_</th>\n",
       "      <th>HIGH_</th>\n",
       "      <th>ELEM_CODE</th>\n",
       "      <th>INT_CODE</th>\n",
       "      <th>HIGH_CODE</th>\n",
       "      <th>DISTRICT</th>\n",
       "      <th>...</th>\n",
       "      <th>HIGH_1</th>\n",
       "      <th>DISTRICT_3</th>\n",
       "      <th>MID_2_2019</th>\n",
       "      <th>HIGH__2019</th>\n",
       "      <th>PLANNING_1</th>\n",
       "      <th>UTILITIE_2</th>\n",
       "      <th>STUDENTS_P</th>\n",
       "      <th>Field39</th>\n",
       "      <th>Field40</th>\n",
       "      <th>geometry</th>\n",
       "    </tr>\n",
       "  </thead>\n",
       "  <tbody>\n",
       "    <tr>\n",
       "      <td>0</td>\n",
       "      <td>1</td>\n",
       "      <td>5.0</td>\n",
       "      <td>WL03.4</td>\n",
       "      <td>126</td>\n",
       "      <td>205</td>\n",
       "      <td>311</td>\n",
       "      <td>LUC</td>\n",
       "      <td>HRM</td>\n",
       "      <td>WHS</td>\n",
       "      <td>WL</td>\n",
       "      <td>...</td>\n",
       "      <td>WHS</td>\n",
       "      <td>WL</td>\n",
       "      <td>HRM</td>\n",
       "      <td>WHS</td>\n",
       "      <td>WL03.4</td>\n",
       "      <td>WOU</td>\n",
       "      <td>49</td>\n",
       "      <td>None</td>\n",
       "      <td>None</td>\n",
       "      <td>POLYGON ((11725868.086 7152149.053, 11725870.6...</td>\n",
       "    </tr>\n",
       "    <tr>\n",
       "      <td>1</td>\n",
       "      <td>2</td>\n",
       "      <td>5.0</td>\n",
       "      <td>WL03</td>\n",
       "      <td>126</td>\n",
       "      <td>205</td>\n",
       "      <td>311</td>\n",
       "      <td>LUC</td>\n",
       "      <td>HRM</td>\n",
       "      <td>WHS</td>\n",
       "      <td>WL</td>\n",
       "      <td>...</td>\n",
       "      <td>WHS</td>\n",
       "      <td>WL</td>\n",
       "      <td>HRM</td>\n",
       "      <td>WHS</td>\n",
       "      <td>WL03</td>\n",
       "      <td>WOU</td>\n",
       "      <td>95</td>\n",
       "      <td>None</td>\n",
       "      <td>None</td>\n",
       "      <td>POLYGON ((11726805.147 7160565.438, 11726826.6...</td>\n",
       "    </tr>\n",
       "    <tr>\n",
       "      <td>2</td>\n",
       "      <td>3</td>\n",
       "      <td>5.0</td>\n",
       "      <td>WL27.2</td>\n",
       "      <td>118</td>\n",
       "      <td>202</td>\n",
       "      <td>305</td>\n",
       "      <td>HAM</td>\n",
       "      <td>BRM</td>\n",
       "      <td>LVH</td>\n",
       "      <td>WL</td>\n",
       "      <td>...</td>\n",
       "      <td>LVH</td>\n",
       "      <td>WL</td>\n",
       "      <td>BRM</td>\n",
       "      <td>LVH</td>\n",
       "      <td>WL27.2</td>\n",
       "      <td>WOU</td>\n",
       "      <td>17</td>\n",
       "      <td>None</td>\n",
       "      <td>None</td>\n",
       "      <td>POLYGON ((11720159.464 7099502.139, 11720172.1...</td>\n",
       "    </tr>\n",
       "    <tr>\n",
       "      <td>3</td>\n",
       "      <td>4</td>\n",
       "      <td>5.0</td>\n",
       "      <td>WL32.1</td>\n",
       "      <td>132</td>\n",
       "      <td>205</td>\n",
       "      <td>311</td>\n",
       "      <td>MTV</td>\n",
       "      <td>HRM</td>\n",
       "      <td>WHS</td>\n",
       "      <td>WL</td>\n",
       "      <td>...</td>\n",
       "      <td>WHS</td>\n",
       "      <td>WL</td>\n",
       "      <td>HRM</td>\n",
       "      <td>WHS</td>\n",
       "      <td>WL32.1</td>\n",
       "      <td>WU</td>\n",
       "      <td>263</td>\n",
       "      <td>None</td>\n",
       "      <td>None</td>\n",
       "      <td>POLYGON ((11694466.485 7097608.657, 11694418.5...</td>\n",
       "    </tr>\n",
       "    <tr>\n",
       "      <td>4</td>\n",
       "      <td>5</td>\n",
       "      <td>5.0</td>\n",
       "      <td>WL02</td>\n",
       "      <td>126</td>\n",
       "      <td>205</td>\n",
       "      <td>311</td>\n",
       "      <td>LUC</td>\n",
       "      <td>HRM</td>\n",
       "      <td>WHS</td>\n",
       "      <td>WL</td>\n",
       "      <td>...</td>\n",
       "      <td>WHS</td>\n",
       "      <td>WL</td>\n",
       "      <td>HRM</td>\n",
       "      <td>WHS</td>\n",
       "      <td>WL02</td>\n",
       "      <td>WOU</td>\n",
       "      <td>191</td>\n",
       "      <td>None</td>\n",
       "      <td>None</td>\n",
       "      <td>POLYGON ((11715899.153 7166497.655, 11715932.1...</td>\n",
       "    </tr>\n",
       "    <tr>\n",
       "      <td>5</td>\n",
       "      <td>6</td>\n",
       "      <td>5.0</td>\n",
       "      <td>WL01</td>\n",
       "      <td>132</td>\n",
       "      <td>205</td>\n",
       "      <td>311</td>\n",
       "      <td>MTV</td>\n",
       "      <td>HRM</td>\n",
       "      <td>WHS</td>\n",
       "      <td>WL</td>\n",
       "      <td>...</td>\n",
       "      <td>WHS</td>\n",
       "      <td>WL</td>\n",
       "      <td>HRM</td>\n",
       "      <td>WHS</td>\n",
       "      <td>WL01</td>\n",
       "      <td>WOU</td>\n",
       "      <td>53</td>\n",
       "      <td>None</td>\n",
       "      <td>None</td>\n",
       "      <td>POLYGON ((11709341.498 7147774.958, 11709316.1...</td>\n",
       "    </tr>\n",
       "    <tr>\n",
       "      <td>6</td>\n",
       "      <td>7</td>\n",
       "      <td>1.0</td>\n",
       "      <td>CL01</td>\n",
       "      <td>128</td>\n",
       "      <td>211</td>\n",
       "      <td>314</td>\n",
       "      <td>LOV</td>\n",
       "      <td>SMM</td>\n",
       "      <td>THS</td>\n",
       "      <td>CL</td>\n",
       "      <td>...</td>\n",
       "      <td>THS</td>\n",
       "      <td>CL</td>\n",
       "      <td>SMM</td>\n",
       "      <td>THS</td>\n",
       "      <td>CL01</td>\n",
       "      <td>WOU</td>\n",
       "      <td>48</td>\n",
       "      <td>None</td>\n",
       "      <td>None</td>\n",
       "      <td>POLYGON ((11762515.349 7141310.177, 11762191.6...</td>\n",
       "    </tr>\n",
       "    <tr>\n",
       "      <td>7</td>\n",
       "      <td>8</td>\n",
       "      <td>1.0</td>\n",
       "      <td>CL02</td>\n",
       "      <td>128</td>\n",
       "      <td>211</td>\n",
       "      <td>314</td>\n",
       "      <td>LOV</td>\n",
       "      <td>SMM</td>\n",
       "      <td>THS</td>\n",
       "      <td>CL</td>\n",
       "      <td>...</td>\n",
       "      <td>THS</td>\n",
       "      <td>CL</td>\n",
       "      <td>SMM</td>\n",
       "      <td>THS</td>\n",
       "      <td>CL02</td>\n",
       "      <td>WOU</td>\n",
       "      <td>492</td>\n",
       "      <td>None</td>\n",
       "      <td>None</td>\n",
       "      <td>POLYGON ((11763559.098 7140746.475, 11763578.5...</td>\n",
       "    </tr>\n",
       "    <tr>\n",
       "      <td>8</td>\n",
       "      <td>9</td>\n",
       "      <td>5.0</td>\n",
       "      <td>WL55</td>\n",
       "      <td>142</td>\n",
       "      <td>205</td>\n",
       "      <td>311</td>\n",
       "      <td>WAT</td>\n",
       "      <td>HRM</td>\n",
       "      <td>WHS</td>\n",
       "      <td>WL</td>\n",
       "      <td>...</td>\n",
       "      <td>WHS</td>\n",
       "      <td>WL</td>\n",
       "      <td>HRM</td>\n",
       "      <td>WHS</td>\n",
       "      <td>WL55</td>\n",
       "      <td>WOU</td>\n",
       "      <td>12</td>\n",
       "      <td>None</td>\n",
       "      <td>None</td>\n",
       "      <td>POLYGON ((11743508.857 7139679.777, 11743061.7...</td>\n",
       "    </tr>\n",
       "    <tr>\n",
       "      <td>9</td>\n",
       "      <td>10</td>\n",
       "      <td>5.0</td>\n",
       "      <td>WL56</td>\n",
       "      <td>142</td>\n",
       "      <td>205</td>\n",
       "      <td>311</td>\n",
       "      <td>WAT</td>\n",
       "      <td>HRM</td>\n",
       "      <td>WHS</td>\n",
       "      <td>WL</td>\n",
       "      <td>...</td>\n",
       "      <td>WHS</td>\n",
       "      <td>WL</td>\n",
       "      <td>HRM</td>\n",
       "      <td>WHS</td>\n",
       "      <td>WL56</td>\n",
       "      <td>WOU</td>\n",
       "      <td>109</td>\n",
       "      <td>None</td>\n",
       "      <td>None</td>\n",
       "      <td>POLYGON ((11744311.447 7128275.012, 11744378.8...</td>\n",
       "    </tr>\n",
       "    <tr>\n",
       "      <td>10</td>\n",
       "      <td>11</td>\n",
       "      <td>1.0</td>\n",
       "      <td>CL03</td>\n",
       "      <td>128</td>\n",
       "      <td>211</td>\n",
       "      <td>314</td>\n",
       "      <td>LOV</td>\n",
       "      <td>SMM</td>\n",
       "      <td>THS</td>\n",
       "      <td>CL</td>\n",
       "      <td>...</td>\n",
       "      <td>THS</td>\n",
       "      <td>CL</td>\n",
       "      <td>SMM</td>\n",
       "      <td>THS</td>\n",
       "      <td>CL03</td>\n",
       "      <td>WOU</td>\n",
       "      <td>62</td>\n",
       "      <td>None</td>\n",
       "      <td>None</td>\n",
       "      <td>POLYGON ((11773415.403 7123991.860, 11773415.4...</td>\n",
       "    </tr>\n",
       "    <tr>\n",
       "      <td>11</td>\n",
       "      <td>12</td>\n",
       "      <td>5.0</td>\n",
       "      <td>WL11</td>\n",
       "      <td>142</td>\n",
       "      <td>205</td>\n",
       "      <td>311</td>\n",
       "      <td>WAT</td>\n",
       "      <td>HRM</td>\n",
       "      <td>WHS</td>\n",
       "      <td>WL</td>\n",
       "      <td>...</td>\n",
       "      <td>WHS</td>\n",
       "      <td>WL</td>\n",
       "      <td>HRM</td>\n",
       "      <td>WHS</td>\n",
       "      <td>WL11</td>\n",
       "      <td>WOU</td>\n",
       "      <td>91</td>\n",
       "      <td>None</td>\n",
       "      <td>None</td>\n",
       "      <td>POLYGON ((11739899.612 7122738.953, 11739914.5...</td>\n",
       "    </tr>\n",
       "    <tr>\n",
       "      <td>12</td>\n",
       "      <td>13</td>\n",
       "      <td>5.0</td>\n",
       "      <td>WL13</td>\n",
       "      <td>142</td>\n",
       "      <td>205</td>\n",
       "      <td>311</td>\n",
       "      <td>WAT</td>\n",
       "      <td>HRM</td>\n",
       "      <td>WHS</td>\n",
       "      <td>WL</td>\n",
       "      <td>...</td>\n",
       "      <td>WHS</td>\n",
       "      <td>WL</td>\n",
       "      <td>HRM</td>\n",
       "      <td>WHS</td>\n",
       "      <td>WL13</td>\n",
       "      <td>WOU</td>\n",
       "      <td>90</td>\n",
       "      <td>None</td>\n",
       "      <td>None</td>\n",
       "      <td>POLYGON ((11725040.657 7119396.938, 11726474.3...</td>\n",
       "    </tr>\n",
       "    <tr>\n",
       "      <td>13</td>\n",
       "      <td>14</td>\n",
       "      <td>5.0</td>\n",
       "      <td>WL03.3</td>\n",
       "      <td>126</td>\n",
       "      <td>205</td>\n",
       "      <td>311</td>\n",
       "      <td>LUC</td>\n",
       "      <td>HRM</td>\n",
       "      <td>WHS</td>\n",
       "      <td>WL</td>\n",
       "      <td>...</td>\n",
       "      <td>WHS</td>\n",
       "      <td>WL</td>\n",
       "      <td>HRM</td>\n",
       "      <td>WHS</td>\n",
       "      <td>WL03.3</td>\n",
       "      <td>WOU</td>\n",
       "      <td>12</td>\n",
       "      <td>None</td>\n",
       "      <td>None</td>\n",
       "      <td>POLYGON ((11728280.681 7146422.990, 11728380.4...</td>\n",
       "    </tr>\n",
       "    <tr>\n",
       "      <td>14</td>\n",
       "      <td>15</td>\n",
       "      <td>5.0</td>\n",
       "      <td>WL14.1</td>\n",
       "      <td>148</td>\n",
       "      <td>205</td>\n",
       "      <td>311</td>\n",
       "      <td>KWC</td>\n",
       "      <td>HRM</td>\n",
       "      <td>WHS</td>\n",
       "      <td>WL</td>\n",
       "      <td>...</td>\n",
       "      <td>WHS</td>\n",
       "      <td>WL</td>\n",
       "      <td>HRM</td>\n",
       "      <td>WHS</td>\n",
       "      <td>WL14.1</td>\n",
       "      <td>WOU</td>\n",
       "      <td>38</td>\n",
       "      <td>None</td>\n",
       "      <td>None</td>\n",
       "      <td>POLYGON ((11716319.365 7115637.892, 11716341.7...</td>\n",
       "    </tr>\n",
       "    <tr>\n",
       "      <td>15</td>\n",
       "      <td>16</td>\n",
       "      <td>5.0</td>\n",
       "      <td>WL12</td>\n",
       "      <td>142</td>\n",
       "      <td>205</td>\n",
       "      <td>311</td>\n",
       "      <td>WAT</td>\n",
       "      <td>HRM</td>\n",
       "      <td>WHS</td>\n",
       "      <td>WL</td>\n",
       "      <td>...</td>\n",
       "      <td>WHS</td>\n",
       "      <td>WL</td>\n",
       "      <td>HRM</td>\n",
       "      <td>WHS</td>\n",
       "      <td>WL12</td>\n",
       "      <td>WOU</td>\n",
       "      <td>50</td>\n",
       "      <td>None</td>\n",
       "      <td>None</td>\n",
       "      <td>POLYGON ((11731727.120 7115525.132, 11731827.7...</td>\n",
       "    </tr>\n",
       "    <tr>\n",
       "      <td>16</td>\n",
       "      <td>17</td>\n",
       "      <td>1.0</td>\n",
       "      <td>CL12.1</td>\n",
       "      <td>116</td>\n",
       "      <td>206</td>\n",
       "      <td>303</td>\n",
       "      <td>FHR</td>\n",
       "      <td>HPM</td>\n",
       "      <td>HTH</td>\n",
       "      <td>CL</td>\n",
       "      <td>...</td>\n",
       "      <td>HTH</td>\n",
       "      <td>CL</td>\n",
       "      <td>HPM</td>\n",
       "      <td>HTH</td>\n",
       "      <td>CL12.1</td>\n",
       "      <td>WU</td>\n",
       "      <td>215</td>\n",
       "      <td>None</td>\n",
       "      <td>None</td>\n",
       "      <td>POLYGON ((11769369.102 7086861.660, 11769679.9...</td>\n",
       "    </tr>\n",
       "    <tr>\n",
       "      <td>17</td>\n",
       "      <td>18</td>\n",
       "      <td>1.0</td>\n",
       "      <td>CL14.2</td>\n",
       "      <td>141</td>\n",
       "      <td>206</td>\n",
       "      <td>303</td>\n",
       "      <td>TOL</td>\n",
       "      <td>HPM</td>\n",
       "      <td>HTH</td>\n",
       "      <td>CL</td>\n",
       "      <td>...</td>\n",
       "      <td>HTH</td>\n",
       "      <td>CL</td>\n",
       "      <td>HPM</td>\n",
       "      <td>HTH</td>\n",
       "      <td>CL14.2</td>\n",
       "      <td>WU</td>\n",
       "      <td>98</td>\n",
       "      <td>None</td>\n",
       "      <td>None</td>\n",
       "      <td>POLYGON ((11763941.697 7082888.098, 11763648.8...</td>\n",
       "    </tr>\n",
       "    <tr>\n",
       "      <td>18</td>\n",
       "      <td>19</td>\n",
       "      <td>1.0</td>\n",
       "      <td>CL25.1</td>\n",
       "      <td>153</td>\n",
       "      <td>209</td>\n",
       "      <td>304</td>\n",
       "      <td>FDE</td>\n",
       "      <td>JLS</td>\n",
       "      <td>LCH</td>\n",
       "      <td>CL</td>\n",
       "      <td>...</td>\n",
       "      <td>LCH</td>\n",
       "      <td>CL</td>\n",
       "      <td>JLS</td>\n",
       "      <td>LCH</td>\n",
       "      <td>CL25.1</td>\n",
       "      <td>WU</td>\n",
       "      <td>100</td>\n",
       "      <td>None</td>\n",
       "      <td>None</td>\n",
       "      <td>POLYGON ((11750948.000 7088879.000, 11752061.0...</td>\n",
       "    </tr>\n",
       "    <tr>\n",
       "      <td>19</td>\n",
       "      <td>20</td>\n",
       "      <td>3.0</td>\n",
       "      <td>DS13.9</td>\n",
       "      <td>149</td>\n",
       "      <td>214</td>\n",
       "      <td>310</td>\n",
       "      <td>LIB</td>\n",
       "      <td>JML</td>\n",
       "      <td>FHS</td>\n",
       "      <td>DS</td>\n",
       "      <td>...</td>\n",
       "      <td>FHS</td>\n",
       "      <td>DS</td>\n",
       "      <td>JML</td>\n",
       "      <td>FHS</td>\n",
       "      <td>DS13.9</td>\n",
       "      <td>WU</td>\n",
       "      <td>319</td>\n",
       "      <td>None</td>\n",
       "      <td>None</td>\n",
       "      <td>POLYGON ((11762364.691 7020650.677, 11762364.6...</td>\n",
       "    </tr>\n",
       "  </tbody>\n",
       "</table>\n",
       "<p>20 rows × 54 columns</p>\n",
       "</div>"
      ],
      "text/plain": [
       "    OBJECTID  COUNT_ STDYAREA  ELEM_  INT_  HIGH_ ELEM_CODE INT_CODE  \\\n",
       "0          1     5.0   WL03.4    126   205    311       LUC      HRM   \n",
       "1          2     5.0     WL03    126   205    311       LUC      HRM   \n",
       "2          3     5.0   WL27.2    118   202    305       HAM      BRM   \n",
       "3          4     5.0   WL32.1    132   205    311       MTV      HRM   \n",
       "4          5     5.0     WL02    126   205    311       LUC      HRM   \n",
       "5          6     5.0     WL01    132   205    311       MTV      HRM   \n",
       "6          7     1.0     CL01    128   211    314       LOV      SMM   \n",
       "7          8     1.0     CL02    128   211    314       LOV      SMM   \n",
       "8          9     5.0     WL55    142   205    311       WAT      HRM   \n",
       "9         10     5.0     WL56    142   205    311       WAT      HRM   \n",
       "10        11     1.0     CL03    128   211    314       LOV      SMM   \n",
       "11        12     5.0     WL11    142   205    311       WAT      HRM   \n",
       "12        13     5.0     WL13    142   205    311       WAT      HRM   \n",
       "13        14     5.0   WL03.3    126   205    311       LUC      HRM   \n",
       "14        15     5.0   WL14.1    148   205    311       KWC      HRM   \n",
       "15        16     5.0     WL12    142   205    311       WAT      HRM   \n",
       "16        17     1.0   CL12.1    116   206    303       FHR      HPM   \n",
       "17        18     1.0   CL14.2    141   206    303       TOL      HPM   \n",
       "18        19     1.0   CL25.1    153   209    304       FDE      JLS   \n",
       "19        20     3.0   DS13.9    149   214    310       LIB      JML   \n",
       "\n",
       "   HIGH_CODE DISTRICT  ... HIGH_1  DISTRICT_3  MID_2_2019 HIGH__2019  \\\n",
       "0        WHS       WL  ...    WHS          WL         HRM        WHS   \n",
       "1        WHS       WL  ...    WHS          WL         HRM        WHS   \n",
       "2        LVH       WL  ...    LVH          WL         BRM        LVH   \n",
       "3        WHS       WL  ...    WHS          WL         HRM        WHS   \n",
       "4        WHS       WL  ...    WHS          WL         HRM        WHS   \n",
       "5        WHS       WL  ...    WHS          WL         HRM        WHS   \n",
       "6        THS       CL  ...    THS          CL         SMM        THS   \n",
       "7        THS       CL  ...    THS          CL         SMM        THS   \n",
       "8        WHS       WL  ...    WHS          WL         HRM        WHS   \n",
       "9        WHS       WL  ...    WHS          WL         HRM        WHS   \n",
       "10       THS       CL  ...    THS          CL         SMM        THS   \n",
       "11       WHS       WL  ...    WHS          WL         HRM        WHS   \n",
       "12       WHS       WL  ...    WHS          WL         HRM        WHS   \n",
       "13       WHS       WL  ...    WHS          WL         HRM        WHS   \n",
       "14       WHS       WL  ...    WHS          WL         HRM        WHS   \n",
       "15       WHS       WL  ...    WHS          WL         HRM        WHS   \n",
       "16       HTH       CL  ...    HTH          CL         HPM        HTH   \n",
       "17       HTH       CL  ...    HTH          CL         HPM        HTH   \n",
       "18       LCH       CL  ...    LCH          CL         JLS        LCH   \n",
       "19       FHS       DS  ...    FHS          DS         JML        FHS   \n",
       "\n",
       "   PLANNING_1 UTILITIE_2 STUDENTS_P Field39 Field40  \\\n",
       "0      WL03.4        WOU         49    None    None   \n",
       "1        WL03        WOU         95    None    None   \n",
       "2      WL27.2        WOU         17    None    None   \n",
       "3      WL32.1         WU        263    None    None   \n",
       "4        WL02        WOU        191    None    None   \n",
       "5        WL01        WOU         53    None    None   \n",
       "6        CL01        WOU         48    None    None   \n",
       "7        CL02        WOU        492    None    None   \n",
       "8        WL55        WOU         12    None    None   \n",
       "9        WL56        WOU        109    None    None   \n",
       "10       CL03        WOU         62    None    None   \n",
       "11       WL11        WOU         91    None    None   \n",
       "12       WL13        WOU         90    None    None   \n",
       "13     WL03.3        WOU         12    None    None   \n",
       "14     WL14.1        WOU         38    None    None   \n",
       "15       WL12        WOU         50    None    None   \n",
       "16     CL12.1         WU        215    None    None   \n",
       "17     CL14.2         WU         98    None    None   \n",
       "18     CL25.1         WU        100    None    None   \n",
       "19     DS13.9         WU        319    None    None   \n",
       "\n",
       "                                             geometry  \n",
       "0   POLYGON ((11725868.086 7152149.053, 11725870.6...  \n",
       "1   POLYGON ((11726805.147 7160565.438, 11726826.6...  \n",
       "2   POLYGON ((11720159.464 7099502.139, 11720172.1...  \n",
       "3   POLYGON ((11694466.485 7097608.657, 11694418.5...  \n",
       "4   POLYGON ((11715899.153 7166497.655, 11715932.1...  \n",
       "5   POLYGON ((11709341.498 7147774.958, 11709316.1...  \n",
       "6   POLYGON ((11762515.349 7141310.177, 11762191.6...  \n",
       "7   POLYGON ((11763559.098 7140746.475, 11763578.5...  \n",
       "8   POLYGON ((11743508.857 7139679.777, 11743061.7...  \n",
       "9   POLYGON ((11744311.447 7128275.012, 11744378.8...  \n",
       "10  POLYGON ((11773415.403 7123991.860, 11773415.4...  \n",
       "11  POLYGON ((11739899.612 7122738.953, 11739914.5...  \n",
       "12  POLYGON ((11725040.657 7119396.938, 11726474.3...  \n",
       "13  POLYGON ((11728280.681 7146422.990, 11728380.4...  \n",
       "14  POLYGON ((11716319.365 7115637.892, 11716341.7...  \n",
       "15  POLYGON ((11731727.120 7115525.132, 11731827.7...  \n",
       "16  POLYGON ((11769369.102 7086861.660, 11769679.9...  \n",
       "17  POLYGON ((11763941.697 7082888.098, 11763648.8...  \n",
       "18  POLYGON ((11750948.000 7088879.000, 11752061.0...  \n",
       "19  POLYGON ((11762364.691 7020650.677, 11762364.6...  \n",
       "\n",
       "[20 rows x 54 columns]"
      ]
     },
     "execution_count": 18,
     "metadata": {},
     "output_type": "execute_result"
    }
   ],
   "source": [
    "#spas.loc [0, \"ELEM_CODE\"]= \"changed_assignment\"\n",
    "#spas.loc [0, \"SPA\"]= \"WL03.4\"\n",
    "\n",
    "#spas.head()\n",
    "is_LOV = spas [\"ELEM_CODE\"] == \"LOV\" \n",
    "spas.loc[is_LOV, (\"ELEM_CODE\", )]  = \"temporary_change\"\n",
    "spas.head(10)\n",
    "\n",
    "is_LUC = spas [\"ELEM_CODE\"] == \"LUC\" \n",
    "spas.loc[is_LUC, (\"ELEM_CODE\", )]  = \"LOV\"\n",
    "\n",
    "\n",
    "spas.loc[is_LOV, (\"ELEM_CODE\", )]  = \"LUC\"\n",
    "spas.head(20)\n",
    "\n",
    "#Trying to change LOV to something different,\n",
    "#began with a temporary_change assignment and finally set that to LUC"
   ]
  },
  {
   "cell_type": "code",
   "execution_count": 19,
   "metadata": {
    "scrolled": true
   },
   "outputs": [
    {
     "name": "stdout",
     "output_type": "stream",
     "text": [
      "OBJECTID                                                1\n",
      "SCH_CODE                                              HCA\n",
      "CLASS                                             CHARTER\n",
      "SCH_NUM                                               119\n",
      "NAME                            HILLSBORO CHARTER ACADEMY\n",
      "DATE_OPENE                                           1966\n",
      "BUILDING_D                                              7\n",
      "CLASSROOMS                                              6\n",
      "SPECIAL_SI                                              0\n",
      "TRAILERS                                                0\n",
      "SCHL_CODE                                             119\n",
      "STRT_GRD                                               -1\n",
      "END_GRD                                                 5\n",
      "ELEM_                                                 119\n",
      "INT_                                                    0\n",
      "MID_                                                    0\n",
      "HIGH_                                                   0\n",
      "CAPACITY                                                0\n",
      "PERM_CLRM                                               6\n",
      "PORT_CLRM                                               0\n",
      "geometry      POINT (11704031.79184122 7120651.488835394)\n",
      "Name: 0, dtype: object\n"
     ]
    }
   ],
   "source": [
    "for ind, school in schools.iterrows():\n",
    "    print(school)\n",
    "    break"
   ]
  },
  {
   "cell_type": "code",
   "execution_count": 20,
   "metadata": {},
   "outputs": [
    {
     "data": {
      "text/plain": [
       "<matplotlib.axes._subplots.AxesSubplot at 0x17d561b5348>"
      ]
     },
     "execution_count": 20,
     "metadata": {},
     "output_type": "execute_result"
    },
    {
     "data": {
      "image/png": "[encoded data removed]",
      "text/plain": [
       "<Figure size 432x288 with 1 Axes>"
      ]
     },
     "metadata": {
      "needs_background": "light"
     },
     "output_type": "display_data"
    }
   ],
   "source": [
    "schools.plot()"
   ]
  },
  {
   "cell_type": "code",
   "execution_count": 21,
   "metadata": {
    "scrolled": true
   },
   "outputs": [
    {
     "name": "stdout",
     "output_type": "stream",
     "text": [
      "ObjectID                                                1\n",
      "ARC_Single                     21365 FITZGERALD DR, 20147\n",
      "Loud_ID                                            100011\n",
      "Address                                             21365\n",
      "Address_Ex                                           None\n",
      "ADDwEXT                                             21365\n",
      "Prefix                                               None\n",
      "Street_Nam                                     FITZGERALD\n",
      "Street_Typ                                             DR\n",
      "Suffix                                               None\n",
      "Town                                              ASHBURN\n",
      "Zip_1                                               20147\n",
      "Subdivisio                                  FARMWELL HUNT\n",
      "GRID_CODE                                          100011\n",
      "GRADE                                                  13\n",
      "IEP_FLAG                                                N\n",
      "GENDER                                                  M\n",
      "ETHNIC                                                  A\n",
      "BIRTH                                               41039\n",
      "APT_PH                                               None\n",
      "STATE_PH                                               VA\n",
      "LEP_FLAG                                                N\n",
      "FSI                                                     6\n",
      "Current_S                                             DIS\n",
      "Previous_S                                           None\n",
      "ELEM_CODE                                             DIS\n",
      "INT_CODE                                              FWS\n",
      "HIGH_CODE                                             BRH\n",
      "geometry      POINT (11771103.05687501 7057937.072916672)\n",
      "Name: 0, dtype: object\n"
     ]
    }
   ],
   "source": [
    "for index, student in students.iterrows():\n",
    "    print(student)\n",
    "    break"
   ]
  },
  {
   "cell_type": "markdown",
   "metadata": {},
   "source": [
    "### Printout the CRS of the SPAs, SCHOOLs and STUDENTs"
   ]
  },
  {
   "cell_type": "code",
   "execution_count": 22,
   "metadata": {
    "scrolled": true
   },
   "outputs": [
    {
     "data": {
      "text/plain": [
       "{'init': 'epsg:2924'}"
      ]
     },
     "execution_count": 22,
     "metadata": {},
     "output_type": "execute_result"
    }
   ],
   "source": [
    "spas.crs    # Printout the CRS"
   ]
  },
  {
   "cell_type": "code",
   "execution_count": 23,
   "metadata": {},
   "outputs": [
    {
     "data": {
      "text/plain": [
       "Index(['OBJECTID', 'COUNT_', 'STDYAREA', 'ELEM_', 'INT_', 'HIGH_', 'ELEM_CODE',\n",
       "       'INT_CODE', 'HIGH_CODE', 'DISTRICT', 'UTILITIES', 'SHAPE_Leng',\n",
       "       'SHAPE_Area', 'STDYAREA_1', 'DISTRICT_1', 'PLANNING_Z', 'ELEM', 'MID',\n",
       "       'HIGH', 'UTILITIE_1', 'DISTRICT_2', 'MID_2018', 'HIGH_2018', 'PK', 'KG',\n",
       "       'GR1', 'GR2', 'GR3', 'GR4', 'GR5', 'GR6', 'GR7', 'GR8', 'GR9', 'GR10',\n",
       "       'GR11', 'GR12', 'TOTAL_KG_5', 'TOTAL_6_8', 'TOTAL_9_12', 'TOTAL_KG_1',\n",
       "       'TOTAL_PK_1', 'ELEM_1', 'MID_1', 'HIGH_1', 'DISTRICT_3', 'MID_2_2019',\n",
       "       'HIGH__2019', 'PLANNING_1', 'UTILITIE_2', 'STUDENTS_P', 'Field39',\n",
       "       'Field40', 'geometry'],\n",
       "      dtype='object')"
      ]
     },
     "execution_count": 23,
     "metadata": {},
     "output_type": "execute_result"
    }
   ],
   "source": [
    "spas.keys()"
   ]
  },
  {
   "cell_type": "code",
   "execution_count": 24,
   "metadata": {},
   "outputs": [
    {
     "data": {
      "text/plain": [
       "['DS07.2',\n",
       " 'DS07.7',\n",
       " 'DS07.6',\n",
       " 'DS07.5',\n",
       " 'DS07.8',\n",
       " 'DS07.1',\n",
       " 'DS07',\n",
       " 'DS07.9',\n",
       " 'DS07.3',\n",
       " 'DS07.4',\n",
       " 'DS07.11']"
      ]
     },
     "execution_count": 24,
     "metadata": {},
     "output_type": "execute_result"
    }
   ],
   "source": [
    "[x for x in list(spas.PLANNING_1) if x.startswith('DS07')]\n"
   ]
  },
  {
   "cell_type": "code",
   "execution_count": 25,
   "metadata": {},
   "outputs": [
    {
     "data": {
      "text/plain": [
       "{'init': 'epsg:2924'}"
      ]
     },
     "execution_count": 25,
     "metadata": {},
     "output_type": "execute_result"
    }
   ],
   "source": [
    "students.crs"
   ]
  },
  {
   "cell_type": "code",
   "execution_count": 26,
   "metadata": {},
   "outputs": [
    {
     "data": {
      "text/plain": [
       "{'init': 'epsg:2924'}"
      ]
     },
     "execution_count": 26,
     "metadata": {},
     "output_type": "execute_result"
    }
   ],
   "source": [
    "schools.crs"
   ]
  },
  {
   "cell_type": "markdown",
   "metadata": {},
   "source": [
    "### Read the data (supplied with the algorithm) in the folder './data'. Let's call this `new data`."
   ]
  },
  {
   "cell_type": "code",
   "execution_count": 27,
   "metadata": {},
   "outputs": [],
   "source": [
    "spas_new = gpd.read_file('./data/SPAs.json')"
   ]
  },
  {
   "cell_type": "code",
   "execution_count": 28,
   "metadata": {},
   "outputs": [
    {
     "data": {
      "text/plain": [
       "['DS07.2',\n",
       " 'DS07.12',\n",
       " 'DS07.7',\n",
       " 'DS07.6',\n",
       " 'DS07.5',\n",
       " 'DS07.8',\n",
       " 'DS07.1',\n",
       " 'DS07',\n",
       " 'DS07.9',\n",
       " 'DS07.3',\n",
       " 'DS07.4',\n",
       " 'DS07.11']"
      ]
     },
     "execution_count": 28,
     "metadata": {},
     "output_type": "execute_result"
    }
   ],
   "source": [
    "[x for x in list(spas_new.SPA) if x.startswith('DS07')]"
   ]
  },
  {
   "cell_type": "code",
   "execution_count": 29,
   "metadata": {},
   "outputs": [
    {
     "name": "stdout",
     "output_type": "stream",
     "text": [
      "OBJECTID                                                      1\n",
      "COUNT_                                                        5\n",
      "SPA                                                      WL03.4\n",
      "ELEM_                                                       126\n",
      "INT_                                                        205\n",
      "HIGH_                                                       311\n",
      "ELEM_CODE                                                   LOV\n",
      "ELEM_POP                                                     31\n",
      "MID_CODE                                                    HRM\n",
      "MID_POP                                                      12\n",
      "HIGH_CODE                                                   WHS\n",
      "HIGH_POP                                                     13\n",
      "DISTRICT                                                     WL\n",
      "UTILITIES                                                   WOU\n",
      "SHAPE_Leng                                              47261.2\n",
      "SHAPE_Area                                          6.40267e+07\n",
      "geometry      POLYGON ((11725476.14823064 7139237.834208563,...\n",
      "Name: 0, dtype: object\n"
     ]
    }
   ],
   "source": [
    "for i, s in spas_new.iterrows():\n",
    "    print(s)\n",
    "    break"
   ]
  },
  {
   "cell_type": "markdown",
   "metadata": {},
   "source": [
    "#### We have to modify the SPAs in `retrieved data` to match the entries in `new data`"
   ]
  },
  {
   "cell_type": "code",
   "execution_count": 30,
   "metadata": {},
   "outputs": [
    {
     "data": {
      "text/html": [
       "<div>\n",
       "<style scoped>\n",
       "    .dataframe tbody tr th:only-of-type {\n",
       "        vertical-align: middle;\n",
       "    }\n",
       "\n",
       "    .dataframe tbody tr th {\n",
       "        vertical-align: top;\n",
       "    }\n",
       "\n",
       "    .dataframe thead th {\n",
       "        text-align: right;\n",
       "    }\n",
       "</style>\n",
       "<table border=\"1\" class=\"dataframe\">\n",
       "  <thead>\n",
       "    <tr style=\"text-align: right;\">\n",
       "      <th></th>\n",
       "      <th>OBJECTID</th>\n",
       "      <th>COUNT_</th>\n",
       "      <th>STDYAREA</th>\n",
       "      <th>ELEM_</th>\n",
       "      <th>INT_</th>\n",
       "      <th>HIGH_</th>\n",
       "      <th>ELEM_CODE</th>\n",
       "      <th>INT_CODE</th>\n",
       "      <th>HIGH_CODE</th>\n",
       "      <th>DISTRICT</th>\n",
       "      <th>...</th>\n",
       "      <th>GR9</th>\n",
       "      <th>GR10</th>\n",
       "      <th>GR11</th>\n",
       "      <th>GR12</th>\n",
       "      <th>TOTAL_KG_5</th>\n",
       "      <th>TOTAL_6_8</th>\n",
       "      <th>TOTAL_9_12</th>\n",
       "      <th>TOTAL_KG_1</th>\n",
       "      <th>TOTAL_PK_1</th>\n",
       "      <th>geometry</th>\n",
       "    </tr>\n",
       "  </thead>\n",
       "  <tbody>\n",
       "    <tr>\n",
       "      <td>0</td>\n",
       "      <td>1</td>\n",
       "      <td>5.0</td>\n",
       "      <td>WL03.4</td>\n",
       "      <td>126</td>\n",
       "      <td>205</td>\n",
       "      <td>311</td>\n",
       "      <td>LUC</td>\n",
       "      <td>HRM</td>\n",
       "      <td>WHS</td>\n",
       "      <td>WL</td>\n",
       "      <td>...</td>\n",
       "      <td>5</td>\n",
       "      <td>3</td>\n",
       "      <td>3</td>\n",
       "      <td>3</td>\n",
       "      <td>23</td>\n",
       "      <td>10</td>\n",
       "      <td>14</td>\n",
       "      <td>47</td>\n",
       "      <td>49</td>\n",
       "      <td>POLYGON ((11725868.086 7152149.053, 11725870.6...</td>\n",
       "    </tr>\n",
       "    <tr>\n",
       "      <td>1</td>\n",
       "      <td>2</td>\n",
       "      <td>5.0</td>\n",
       "      <td>WL03</td>\n",
       "      <td>126</td>\n",
       "      <td>205</td>\n",
       "      <td>311</td>\n",
       "      <td>LUC</td>\n",
       "      <td>HRM</td>\n",
       "      <td>WHS</td>\n",
       "      <td>WL</td>\n",
       "      <td>...</td>\n",
       "      <td>10</td>\n",
       "      <td>12</td>\n",
       "      <td>9</td>\n",
       "      <td>10</td>\n",
       "      <td>32</td>\n",
       "      <td>22</td>\n",
       "      <td>41</td>\n",
       "      <td>95</td>\n",
       "      <td>95</td>\n",
       "      <td>POLYGON ((11726805.147 7160565.438, 11726826.6...</td>\n",
       "    </tr>\n",
       "    <tr>\n",
       "      <td>2</td>\n",
       "      <td>3</td>\n",
       "      <td>5.0</td>\n",
       "      <td>WL27.2</td>\n",
       "      <td>118</td>\n",
       "      <td>202</td>\n",
       "      <td>305</td>\n",
       "      <td>HAM</td>\n",
       "      <td>BRM</td>\n",
       "      <td>LVH</td>\n",
       "      <td>WL</td>\n",
       "      <td>...</td>\n",
       "      <td>0</td>\n",
       "      <td>0</td>\n",
       "      <td>2</td>\n",
       "      <td>2</td>\n",
       "      <td>10</td>\n",
       "      <td>3</td>\n",
       "      <td>4</td>\n",
       "      <td>17</td>\n",
       "      <td>17</td>\n",
       "      <td>POLYGON ((11720159.464 7099502.139, 11720172.1...</td>\n",
       "    </tr>\n",
       "    <tr>\n",
       "      <td>3</td>\n",
       "      <td>4</td>\n",
       "      <td>5.0</td>\n",
       "      <td>WL32.1</td>\n",
       "      <td>132</td>\n",
       "      <td>205</td>\n",
       "      <td>311</td>\n",
       "      <td>MTV</td>\n",
       "      <td>HRM</td>\n",
       "      <td>WHS</td>\n",
       "      <td>WL</td>\n",
       "      <td>...</td>\n",
       "      <td>13</td>\n",
       "      <td>14</td>\n",
       "      <td>15</td>\n",
       "      <td>18</td>\n",
       "      <td>146</td>\n",
       "      <td>53</td>\n",
       "      <td>60</td>\n",
       "      <td>259</td>\n",
       "      <td>263</td>\n",
       "      <td>POLYGON ((11694466.485 7097608.657, 11694418.5...</td>\n",
       "    </tr>\n",
       "    <tr>\n",
       "      <td>4</td>\n",
       "      <td>5</td>\n",
       "      <td>5.0</td>\n",
       "      <td>WL02</td>\n",
       "      <td>126</td>\n",
       "      <td>205</td>\n",
       "      <td>311</td>\n",
       "      <td>LUC</td>\n",
       "      <td>HRM</td>\n",
       "      <td>WHS</td>\n",
       "      <td>WL</td>\n",
       "      <td>...</td>\n",
       "      <td>12</td>\n",
       "      <td>25</td>\n",
       "      <td>15</td>\n",
       "      <td>19</td>\n",
       "      <td>76</td>\n",
       "      <td>40</td>\n",
       "      <td>71</td>\n",
       "      <td>187</td>\n",
       "      <td>191</td>\n",
       "      <td>POLYGON ((11715899.153 7166497.655, 11715932.1...</td>\n",
       "    </tr>\n",
       "  </tbody>\n",
       "</table>\n",
       "<p>5 rows × 43 columns</p>\n",
       "</div>"
      ],
      "text/plain": [
       "   OBJECTID  COUNT_ STDYAREA  ELEM_  INT_  HIGH_ ELEM_CODE INT_CODE HIGH_CODE  \\\n",
       "0         1     5.0   WL03.4    126   205    311       LUC      HRM       WHS   \n",
       "1         2     5.0     WL03    126   205    311       LUC      HRM       WHS   \n",
       "2         3     5.0   WL27.2    118   202    305       HAM      BRM       LVH   \n",
       "3         4     5.0   WL32.1    132   205    311       MTV      HRM       WHS   \n",
       "4         5     5.0     WL02    126   205    311       LUC      HRM       WHS   \n",
       "\n",
       "  DISTRICT  ... GR9  GR10  GR11 GR12 TOTAL_KG_5 TOTAL_6_8 TOTAL_9_12  \\\n",
       "0       WL  ...   5     3     3    3         23        10         14   \n",
       "1       WL  ...  10    12     9   10         32        22         41   \n",
       "2       WL  ...   0     0     2    2         10         3          4   \n",
       "3       WL  ...  13    14    15   18        146        53         60   \n",
       "4       WL  ...  12    25    15   19         76        40         71   \n",
       "\n",
       "  TOTAL_KG_1 TOTAL_PK_1                                           geometry  \n",
       "0         47         49  POLYGON ((11725868.086 7152149.053, 11725870.6...  \n",
       "1         95         95  POLYGON ((11726805.147 7160565.438, 11726826.6...  \n",
       "2         17         17  POLYGON ((11720159.464 7099502.139, 11720172.1...  \n",
       "3        259        263  POLYGON ((11694466.485 7097608.657, 11694418.5...  \n",
       "4        187        191  POLYGON ((11715899.153 7166497.655, 11715932.1...  \n",
       "\n",
       "[5 rows x 43 columns]"
      ]
     },
     "execution_count": 30,
     "metadata": {},
     "output_type": "execute_result"
    }
   ],
   "source": [
    "fields = ['ELEM_1', 'MID_1', 'HIGH_1', 'DISTRICT_3', 'MID_2_2019', 'HIGH__2019',\n",
    "          'PLANNING_1', 'UTILITIE_2', 'STUDENTS_P', 'Field39', 'Field40']\n",
    "spas.drop(fields, axis=1, inplace=True)\n",
    "spas.head()"
   ]
  },
  {
   "cell_type": "code",
   "execution_count": 31,
   "metadata": {},
   "outputs": [],
   "source": [
    "# Adding new fields and renaming some existing ones\n",
    "spas = spas.rename(columns={\"INT_CODE\": \"MID_CODE\"})\n",
    "spas = spas.rename(columns={\"STDYAREA\": \"SPA\"})\n",
    "new_fields = ['ELEM_POP', 'MID_POP', 'HIGH_POP', 'TOT_POP']    # Population of ELEM, MID, HIGH and TOTAL\n",
    "\n",
    "for f in new_fields:\n",
    "    spas[f] = 0"
   ]
  },
  {
   "cell_type": "markdown",
   "metadata": {},
   "source": [
    "##### Do point-in-polygon test to find out number of students attending public schools in LCPS and residing within Loudoun county, VA."
   ]
  },
  {
   "cell_type": "code",
   "execution_count": 32,
   "metadata": {},
   "outputs": [
    {
     "data": {
      "text/plain": [
       "Index(['OBJECTID', 'COUNT_', 'SPA', 'ELEM_', 'INT_', 'HIGH_', 'ELEM_CODE',\n",
       "       'MID_CODE', 'HIGH_CODE', 'DISTRICT', 'UTILITIES', 'SHAPE_Leng',\n",
       "       'SHAPE_Area', 'STDYAREA_1', 'DISTRICT_1', 'PLANNING_Z', 'ELEM', 'MID',\n",
       "       'HIGH', 'UTILITIE_1', 'DISTRICT_2', 'MID_2018', 'HIGH_2018', 'PK', 'KG',\n",
       "       'GR1', 'GR2', 'GR3', 'GR4', 'GR5', 'GR6', 'GR7', 'GR8', 'GR9', 'GR10',\n",
       "       'GR11', 'GR12', 'TOTAL_KG_5', 'TOTAL_6_8', 'TOTAL_9_12', 'TOTAL_KG_1',\n",
       "       'TOTAL_PK_1', 'geometry', 'ELEM_POP', 'MID_POP', 'HIGH_POP', 'TOT_POP'],\n",
       "      dtype='object')"
      ]
     },
     "execution_count": 32,
     "metadata": {},
     "output_type": "execute_result"
    }
   ],
   "source": [
    "spas.columns"
   ]
  },
  {
   "cell_type": "code",
   "execution_count": 33,
   "metadata": {},
   "outputs": [],
   "source": [
    "# spas['SPA'] = spas['STDYAREA_1']"
   ]
  },
  {
   "cell_type": "code",
   "execution_count": 34,
   "metadata": {},
   "outputs": [
    {
     "data": {
      "text/plain": [
       "{1, 2, 3, 4, 5, 6, 7, 8, 9, 10, 11, 12, 13, 14}"
      ]
     },
     "execution_count": 34,
     "metadata": {},
     "output_type": "execute_result"
    }
   ],
   "source": [
    "set(students['GRADE'])    # Possible values of grade"
   ]
  },
  {
   "cell_type": "code",
   "execution_count": 35,
   "metadata": {
    "code_folding": []
   },
   "outputs": [
    {
     "name": "stderr",
     "output_type": "stream",
     "text": [
      "81427it [1:11:48, 18.90it/s]\n"
     ]
    }
   ],
   "source": [
    "count = 0\n",
    "others = 0\n",
    "for index, student in tqdm(students.iterrows()):\n",
    "    student_location = student.geometry\n",
    "    student_grade = student['GRADE']\n",
    "    legit = True\n",
    "    for ind, spa in spas.iterrows():\n",
    "        \n",
    "        if student_location.within(spa.geometry):\n",
    "            count += 1\n",
    "            if 0 < student_grade < 6 or student_grade == 13:    # ELEMENTARY School has grades KG-5\n",
    "                spas.at[ind, 'ELEM_POP'] = spas['ELEM_POP'][ind] + 1\n",
    "            elif 5 < student_grade < 9:    # MIDDLE School has grades 6-8\n",
    "                spas.at[ind, 'MID_POP'] = spas['MID_POP'][ind] + 1\n",
    "            elif 8 < student_grade < 13:    # HIGH School has grades 9-12\n",
    "                spas.at[ind, 'HIGH_POP'] = spas['HIGH_POP'][ind] + 1\n",
    "            else:\n",
    "                legit = False\n",
    "                others += 1\n",
    "#                 print(others)\n",
    "                \n",
    "            if legit:\n",
    "                spas.at[ind, 'TOT_POP'] = spas['TOT_POP'][ind] + 1\n",
    "                \n",
    "            break\n",
    "            \n",
    "total_students = len(students)\n"
   ]
  },
  {
   "cell_type": "code",
   "execution_count": 36,
   "metadata": {},
   "outputs": [
    {
     "name": "stdout",
     "output_type": "stream",
     "text": [
      "80345/81427 students living inside LCPS' boundary are considered for redistricting\n",
      "1054/81427 students living inside LCPS' boundary are ignored\n",
      "28/81427 students living outside LCPS' boundary are ignored\n"
     ]
    }
   ],
   "source": [
    "print('{}/{} students living inside LCPS\\' boundary are considered for redistricting'.format(count - others,\n",
    "                                                                                             total_students))\n",
    "print('{}/{} students living inside LCPS\\' boundary are ignored'.format(others, total_students))\n",
    "print('{}/{} students living outside LCPS\\' boundary are ignored'.format(total_students - count,\n",
    "                                                                         total_students))"
   ]
  },
  {
   "cell_type": "code",
   "execution_count": 37,
   "metadata": {},
   "outputs": [
    {
     "name": "stderr",
     "output_type": "stream",
     "text": [
      "\r",
      "0it [00:00, ?it/s]"
     ]
    },
    {
     "name": "stdout",
     "output_type": "stream",
     "text": [
      "WL53\n"
     ]
    },
    {
     "name": "stderr",
     "output_type": "stream",
     "text": [
      "\r",
      "1it [00:00,  7.69it/s]"
     ]
    },
    {
     "name": "stdout",
     "output_type": "stream",
     "text": [
      "DN46.1\n"
     ]
    },
    {
     "name": "stderr",
     "output_type": "stream",
     "text": [
      "\r",
      "2it [00:00,  7.40it/s]"
     ]
    },
    {
     "name": "stdout",
     "output_type": "stream",
     "text": [
      "EL05\n",
      "DS13\n"
     ]
    },
    {
     "name": "stderr",
     "output_type": "stream",
     "text": [
      "\r",
      "4it [00:00,  8.52it/s]"
     ]
    },
    {
     "name": "stdout",
     "output_type": "stream",
     "text": [
      "CL27\n",
      "DS12.3\n",
      "WL38\n"
     ]
    },
    {
     "name": "stderr",
     "output_type": "stream",
     "text": [
      "\r",
      "7it [00:00, 10.67it/s]"
     ]
    },
    {
     "name": "stdout",
     "output_type": "stream",
     "text": [
      "DN30\n",
      "CL27\n"
     ]
    },
    {
     "name": "stderr",
     "output_type": "stream",
     "text": [
      "\r",
      "9it [00:00, 10.88it/s]"
     ]
    },
    {
     "name": "stdout",
     "output_type": "stream",
     "text": [
      "EL03\n",
      "EL03\n",
      "EL27\n"
     ]
    },
    {
     "name": "stderr",
     "output_type": "stream",
     "text": [
      "\r",
      "12it [00:00, 12.72it/s]"
     ]
    },
    {
     "name": "stdout",
     "output_type": "stream",
     "text": [
      "EL27\n",
      "CL37\n"
     ]
    },
    {
     "name": "stderr",
     "output_type": "stream",
     "text": [
      "\r",
      "14it [00:01, 11.19it/s]"
     ]
    },
    {
     "name": "stdout",
     "output_type": "stream",
     "text": [
      "DN36.3\n",
      "DS13.1\n",
      "WL31\n",
      "CL34\n"
     ]
    },
    {
     "name": "stderr",
     "output_type": "stream",
     "text": [
      "\r",
      "18it [00:01, 12.89it/s]"
     ]
    },
    {
     "name": "stdout",
     "output_type": "stream",
     "text": [
      "CL10.2\n",
      "CL25.1\n",
      "CL27\n"
     ]
    },
    {
     "name": "stderr",
     "output_type": "stream",
     "text": [
      "\r",
      "21it [00:01, 15.06it/s]"
     ]
    },
    {
     "name": "stdout",
     "output_type": "stream",
     "text": [
      "CL38\n",
      "CL37.2\n",
      "CL07\n",
      "WL30\n"
     ]
    },
    {
     "name": "stderr",
     "output_type": "stream",
     "text": [
      "\r",
      "25it [00:01, 18.53it/s]"
     ]
    },
    {
     "name": "stdout",
     "output_type": "stream",
     "text": [
      "DN33\n",
      "DN01.4\n",
      "DN01.3\n"
     ]
    },
    {
     "name": "stderr",
     "output_type": "stream",
     "text": [
      "\r",
      "28it [00:01, 18.49it/s]"
     ]
    },
    {
     "name": "stdout",
     "output_type": "stream",
     "text": [
      "DS17\n",
      "DN15\n",
      "DN15\n"
     ]
    },
    {
     "name": "stderr",
     "output_type": "stream",
     "text": [
      "\r",
      "31it [00:01, 19.32it/s]"
     ]
    },
    {
     "name": "stdout",
     "output_type": "stream",
     "text": [
      "WL11\n",
      "WL27.1\n",
      "WL67\n"
     ]
    },
    {
     "name": "stderr",
     "output_type": "stream",
     "text": [
      "\r",
      "34it [00:02, 18.11it/s]"
     ]
    },
    {
     "name": "stdout",
     "output_type": "stream",
     "text": [
      "CL36\n",
      "DS12.2\n",
      "DN05\n"
     ]
    },
    {
     "name": "stderr",
     "output_type": "stream",
     "text": [
      "\r",
      "37it [00:02, 17.97it/s]"
     ]
    },
    {
     "name": "stdout",
     "output_type": "stream",
     "text": [
      "CL35\n",
      "CL15.3\n",
      "DS07.7\n"
     ]
    },
    {
     "name": "stderr",
     "output_type": "stream",
     "text": [
      "\r",
      "40it [00:02, 19.66it/s]"
     ]
    },
    {
     "name": "stdout",
     "output_type": "stream",
     "text": [
      "CL15.3\n",
      "WL45\n",
      "WL20\n"
     ]
    },
    {
     "name": "stderr",
     "output_type": "stream",
     "text": [
      "\r",
      "43it [00:02, 17.09it/s]"
     ]
    },
    {
     "name": "stdout",
     "output_type": "stream",
     "text": [
      "DS05\n",
      "DN32.3\n"
     ]
    },
    {
     "name": "stderr",
     "output_type": "stream",
     "text": [
      "\r",
      "45it [00:02, 17.45it/s]"
     ]
    },
    {
     "name": "stdout",
     "output_type": "stream",
     "text": [
      "DN32.3\n",
      "EL09\n",
      "WL19\n"
     ]
    },
    {
     "name": "stderr",
     "output_type": "stream",
     "text": [
      "\r",
      "48it [00:02, 19.23it/s]"
     ]
    },
    {
     "name": "stdout",
     "output_type": "stream",
     "text": [
      "DS14\n",
      "WL22.1\n",
      "WL22.1\n"
     ]
    },
    {
     "name": "stderr",
     "output_type": "stream",
     "text": [
      "\r",
      "51it [00:03, 16.05it/s]"
     ]
    },
    {
     "name": "stdout",
     "output_type": "stream",
     "text": [
      "DN10\n",
      "EL11\n"
     ]
    },
    {
     "name": "stderr",
     "output_type": "stream",
     "text": [
      "\r",
      "53it [00:03, 16.11it/s]"
     ]
    },
    {
     "name": "stdout",
     "output_type": "stream",
     "text": [
      "DN13\n",
      "EL24\n"
     ]
    },
    {
     "name": "stderr",
     "output_type": "stream",
     "text": [
      "\r",
      "55it [00:03, 14.13it/s]"
     ]
    },
    {
     "name": "stdout",
     "output_type": "stream",
     "text": [
      "EL12\n",
      "EL20\n"
     ]
    },
    {
     "name": "stderr",
     "output_type": "stream",
     "text": [
      "\r",
      "57it [00:03, 12.23it/s]"
     ]
    },
    {
     "name": "stdout",
     "output_type": "stream",
     "text": [
      "DN17.1\n",
      "DN19\n"
     ]
    },
    {
     "name": "stderr",
     "output_type": "stream",
     "text": [
      "\r",
      "59it [00:03, 11.85it/s]"
     ]
    },
    {
     "name": "stdout",
     "output_type": "stream",
     "text": [
      "CL13\n",
      "DN27\n"
     ]
    },
    {
     "name": "stderr",
     "output_type": "stream",
     "text": [
      "\r",
      "61it [00:03, 11.15it/s]"
     ]
    },
    {
     "name": "stdout",
     "output_type": "stream",
     "text": [
      "EL16\n",
      "EL37\n",
      "WL29.1\n",
      "WL29.1\n"
     ]
    },
    {
     "name": "stderr",
     "output_type": "stream",
     "text": [
      "\r",
      "65it [00:04, 13.39it/s]"
     ]
    },
    {
     "name": "stdout",
     "output_type": "stream",
     "text": [
      "WL29\n",
      "EL37\n"
     ]
    },
    {
     "name": "stderr",
     "output_type": "stream",
     "text": [
      "\r",
      "67it [00:04, 14.23it/s]"
     ]
    },
    {
     "name": "stdout",
     "output_type": "stream",
     "text": [
      "EL48\n",
      "DN12\n"
     ]
    },
    {
     "name": "stderr",
     "output_type": "stream",
     "text": [
      "\r",
      "69it [00:04, 12.25it/s]"
     ]
    },
    {
     "name": "stdout",
     "output_type": "stream",
     "text": [
      "EL38\n",
      "DN50.2\n"
     ]
    },
    {
     "name": "stderr",
     "output_type": "stream",
     "text": [
      "\r",
      "71it [00:04, 10.40it/s]"
     ]
    },
    {
     "name": "stdout",
     "output_type": "stream",
     "text": [
      "EL39\n",
      "WL29.1\n"
     ]
    },
    {
     "name": "stderr",
     "output_type": "stream",
     "text": [
      "\r",
      "73it [00:04, 11.96it/s]"
     ]
    },
    {
     "name": "stdout",
     "output_type": "stream",
     "text": [
      "DS13.4\n",
      "EL44\n"
     ]
    },
    {
     "name": "stderr",
     "output_type": "stream",
     "text": [
      "\r",
      "75it [00:05,  9.79it/s]"
     ]
    },
    {
     "name": "stdout",
     "output_type": "stream",
     "text": [
      "EL43\n",
      "DN36.1\n"
     ]
    },
    {
     "name": "stderr",
     "output_type": "stream",
     "text": [
      "\r",
      "77it [00:05, 10.81it/s]"
     ]
    },
    {
     "name": "stdout",
     "output_type": "stream",
     "text": [
      "DS12.5\n",
      "WL03.2\n"
     ]
    },
    {
     "name": "stderr",
     "output_type": "stream",
     "text": [
      "\r",
      "79it [00:05,  9.46it/s]"
     ]
    },
    {
     "name": "stdout",
     "output_type": "stream",
     "text": [
      "CL02\n",
      "CL07.2\n",
      "CL07.2\n"
     ]
    },
    {
     "name": "stderr",
     "output_type": "stream",
     "text": [
      "\r",
      "82it [00:05, 11.20it/s]"
     ]
    },
    {
     "name": "stdout",
     "output_type": "stream",
     "text": [
      "WL67\n",
      "CL07\n"
     ]
    },
    {
     "name": "stderr",
     "output_type": "stream",
     "text": [
      "\r",
      "84it [00:05,  9.62it/s]"
     ]
    },
    {
     "name": "stdout",
     "output_type": "stream",
     "text": [
      "DN08.5\n",
      "DN51\n"
     ]
    },
    {
     "name": "stderr",
     "output_type": "stream",
     "text": [
      "\r",
      "86it [00:06, 10.09it/s]"
     ]
    },
    {
     "name": "stdout",
     "output_type": "stream",
     "text": [
      "DN47\n",
      "DN47\n",
      "DN36\n"
     ]
    },
    {
     "name": "stderr",
     "output_type": "stream",
     "text": [
      "\r",
      "89it [00:06, 11.00it/s]"
     ]
    },
    {
     "name": "stdout",
     "output_type": "stream",
     "text": [
      "DN04\n",
      "DS11\n"
     ]
    },
    {
     "name": "stderr",
     "output_type": "stream",
     "text": [
      "\r",
      "91it [00:06, 12.16it/s]"
     ]
    },
    {
     "name": "stdout",
     "output_type": "stream",
     "text": [
      "CL07.2\n",
      "DS07.5\n",
      "DN23\n"
     ]
    },
    {
     "name": "stderr",
     "output_type": "stream",
     "text": [
      "\r",
      "94it [00:06, 14.09it/s]"
     ]
    },
    {
     "name": "stdout",
     "output_type": "stream",
     "text": [
      "DN08.4\n",
      "DS12.5\n"
     ]
    },
    {
     "name": "stderr",
     "output_type": "stream",
     "text": [
      "\r",
      "96it [00:06, 13.22it/s]"
     ]
    },
    {
     "name": "stdout",
     "output_type": "stream",
     "text": [
      "DS07.5\n",
      "CL25.1\n"
     ]
    },
    {
     "name": "stderr",
     "output_type": "stream",
     "text": [
      "\r",
      "98it [00:06, 13.92it/s]"
     ]
    },
    {
     "name": "stdout",
     "output_type": "stream",
     "text": [
      "DN01.4\n",
      "DS07.11\n"
     ]
    },
    {
     "name": "stderr",
     "output_type": "stream",
     "text": [
      "\r",
      "100it [00:07, 13.04it/s]"
     ]
    },
    {
     "name": "stdout",
     "output_type": "stream",
     "text": [
      "DN36.3\n",
      "DN36.3\n",
      "CL34.1\n"
     ]
    },
    {
     "name": "stderr",
     "output_type": "stream",
     "text": [
      "\r",
      "103it [00:07, 15.27it/s]"
     ]
    },
    {
     "name": "stdout",
     "output_type": "stream",
     "text": [
      "DS07.3\n",
      "DS07.3\n"
     ]
    },
    {
     "name": "stderr",
     "output_type": "stream",
     "text": [
      "105it [00:07, 14.15it/s]\n"
     ]
    }
   ],
   "source": [
    "count = 0\n",
    "others = 0\n",
    "for index, school in tqdm(schools.iterrows()):\n",
    "    school_location = school.geometry\n",
    "    legit = True\n",
    "    for ind, spa in spas.iterrows():\n",
    "        \n",
    "        if school_location.within(spa.geometry):\n",
    "            count += 1\n",
    "            if spa['STDYAREA_1']:\n",
    "                print(spa['STDYAREA_1'])\n",
    "                schools.at[index, 'SPA'] = str(spa['STDYAREA_1'])\n",
    "            else:\n",
    "                legit = False\n",
    "                others += 1\n",
    "                \n",
    "            if legit:\n",
    "                pass\n",
    "                \n",
    "            break\n",
    "#         assert 0, 'not contained'\n",
    "            \n"
   ]
  },
  {
   "cell_type": "code",
   "execution_count": 38,
   "metadata": {},
   "outputs": [
    {
     "data": {
      "text/plain": [
       "446"
      ]
     },
     "execution_count": 38,
     "metadata": {},
     "output_type": "execute_result"
    }
   ],
   "source": [
    "len(spas)"
   ]
  },
  {
   "cell_type": "code",
   "execution_count": 39,
   "metadata": {},
   "outputs": [],
   "source": [
    "schools['SCHOOL_TYP'] = ''\n",
    "\n",
    "schools.loc[schools['CLASS'] == 'ELEMENTARY','SCHOOL_TYP'] = 'ES'\n",
    "\n",
    "schools.loc[schools['CLASS'] == 'MIDDLE','SCHOOL_TYP'] = 'MS'\n",
    "\n",
    "schools.loc[schools['CLASS'] == 'HIGH','SCHOOL_TYP'] = 'HS'"
   ]
  },
  {
   "cell_type": "code",
   "execution_count": 40,
   "metadata": {},
   "outputs": [
    {
     "data": {
      "text/plain": [
       "Index(['OBJECTID', 'COUNT_', 'SPA', 'ELEM_', 'INT_', 'HIGH_', 'ELEM_CODE',\n",
       "       'ELEM_POP', 'MID_CODE', 'MID_POP', 'HIGH_CODE', 'HIGH_POP', 'DISTRICT',\n",
       "       'UTILITIES', 'SHAPE_Leng', 'SHAPE_Area', 'geometry'],\n",
       "      dtype='object')"
      ]
     },
     "execution_count": 40,
     "metadata": {},
     "output_type": "execute_result"
    }
   ],
   "source": [
    "spas_new.keys()\n",
    "\n",
    "#edited this from spas.keys()"
   ]
  },
  {
   "cell_type": "markdown",
   "metadata": {},
   "source": [
    "### Transform the CRS of the `retrieved data` to match `new data`. We need to project the shapefiles into a new coordinate system to ensure that the data you are working with uses common geometric projection. For more details refer to the [link](https://geopandas.org/projections.html)."
   ]
  },
  {
   "cell_type": "code",
   "execution_count": 41,
   "metadata": {},
   "outputs": [],
   "source": [
    "new_crs = spas_new.crs"
   ]
  },
  {
   "cell_type": "code",
   "execution_count": 42,
   "metadata": {},
   "outputs": [
    {
     "data": {
      "text/plain": [
       "{'init': 'epsg:2924'}"
      ]
     },
     "execution_count": 42,
     "metadata": {},
     "output_type": "execute_result"
    }
   ],
   "source": [
    "new_crs"
   ]
  },
  {
   "cell_type": "code",
   "execution_count": 43,
   "metadata": {},
   "outputs": [],
   "source": [
    "spas = spas.to_crs(new_crs)"
   ]
  },
  {
   "cell_type": "code",
   "execution_count": 44,
   "metadata": {
    "scrolled": true
   },
   "outputs": [
    {
     "data": {
      "text/plain": [
       "0        \n",
       "1      ES\n",
       "2      ES\n",
       "3      ES\n",
       "4      HS\n",
       "       ..\n",
       "100    ES\n",
       "101      \n",
       "102      \n",
       "103      \n",
       "104      \n",
       "Name: SCHOOL_TYP, Length: 105, dtype: object"
      ]
     },
     "execution_count": 44,
     "metadata": {},
     "output_type": "execute_result"
    }
   ],
   "source": [
    "schools['SCHOOL_TYP'].fillna('')"
   ]
  },
  {
   "cell_type": "code",
   "execution_count": 45,
   "metadata": {},
   "outputs": [],
   "source": [
    "schools = schools.to_crs(new_crs)"
   ]
  },
  {
   "cell_type": "code",
   "execution_count": 46,
   "metadata": {},
   "outputs": [
    {
     "name": "stdout",
     "output_type": "stream",
     "text": [
      "{'init': 'epsg:2924'} {'init': 'epsg:2924'}\n"
     ]
    }
   ],
   "source": [
    "# Check if the projections have been reprojected \n",
    "print(spas.crs, schools.crs)"
   ]
  },
  {
   "cell_type": "code",
   "execution_count": 47,
   "metadata": {},
   "outputs": [
    {
     "data": {
      "text/plain": [
       "Index(['OBJECTID', 'COUNT_', 'SPA', 'ELEM_', 'INT_', 'HIGH_', 'ELEM_CODE',\n",
       "       'MID_CODE', 'HIGH_CODE', 'DISTRICT', 'UTILITIES', 'SHAPE_Leng',\n",
       "       'SHAPE_Area', 'STDYAREA_1', 'DISTRICT_1', 'PLANNING_Z', 'ELEM', 'MID',\n",
       "       'HIGH', 'UTILITIE_1', 'DISTRICT_2', 'MID_2018', 'HIGH_2018', 'PK', 'KG',\n",
       "       'GR1', 'GR2', 'GR3', 'GR4', 'GR5', 'GR6', 'GR7', 'GR8', 'GR9', 'GR10',\n",
       "       'GR11', 'GR12', 'TOTAL_KG_5', 'TOTAL_6_8', 'TOTAL_9_12', 'TOTAL_KG_1',\n",
       "       'TOTAL_PK_1', 'geometry', 'ELEM_POP', 'MID_POP', 'HIGH_POP', 'TOT_POP'],\n",
       "      dtype='object')"
      ]
     },
     "execution_count": 47,
     "metadata": {},
     "output_type": "execute_result"
    }
   ],
   "source": [
    "spas.keys()"
   ]
  },
  {
   "cell_type": "code",
   "execution_count": 48,
   "metadata": {},
   "outputs": [],
   "source": [
    "adjacency_matrix = dict(lp.weights.Rook.from_dataframe(spas, idVariable=\"STDYAREA_1\"))\n",
    "for key in adjacency_matrix:\n",
    "    adjacency_matrix[key] = list(adjacency_matrix[key].keys())\n",
    "with open(\"data/nbrlist_SPA.json\", \"w\") as fp:\n",
    "    json.dump(adjacency_matrix, fp)"
   ]
  },
  {
   "cell_type": "markdown",
   "metadata": {},
   "source": [
    "### Write out the updated data as geojson files"
   ]
  },
  {
   "cell_type": "code",
   "execution_count": 49,
   "metadata": {},
   "outputs": [],
   "source": [
    "def write_data(schools, spas, students, sy):\n",
    "    \"\"\"\n",
    "    Retrieve data for a given school year (sy)\n",
    "    \"\"\"\n",
    "    data_dir = \"data\"\n",
    "    # Read the data files\n",
    "    schools.to_file('{}/Schools_{}.json'.format(data_dir, sy), driver='GeoJSON')\n",
    "    spas.to_file('{}/SPAs_{}.json'.format(data_dir, sy), driver='GeoJSON')\n",
    "    students.to_file('{}/Students_{}.json'.format(data_dir, sy), driver='GeoJSON')\n",
    "    \n",
    "    #added the last line for students here and modified write_data to include students"
   ]
  },
  {
   "cell_type": "code",
   "execution_count": 50,
   "metadata": {},
   "outputs": [],
   "source": [
    "write_data(schools, spas, students, sy)"
   ]
  },
  {
   "cell_type": "code",
   "execution_count": 51,
   "metadata": {},
   "outputs": [
    {
     "data": {
      "text/html": [
       "<div>\n",
       "<style scoped>\n",
       "    .dataframe tbody tr th:only-of-type {\n",
       "        vertical-align: middle;\n",
       "    }\n",
       "\n",
       "    .dataframe tbody tr th {\n",
       "        vertical-align: top;\n",
       "    }\n",
       "\n",
       "    .dataframe thead th {\n",
       "        text-align: right;\n",
       "    }\n",
       "</style>\n",
       "<table border=\"1\" class=\"dataframe\">\n",
       "  <thead>\n",
       "    <tr style=\"text-align: right;\">\n",
       "      <th></th>\n",
       "      <th>OBJECTID</th>\n",
       "      <th>COUNT_</th>\n",
       "      <th>SPA</th>\n",
       "      <th>ELEM_</th>\n",
       "      <th>INT_</th>\n",
       "      <th>HIGH_</th>\n",
       "      <th>ELEM_CODE</th>\n",
       "      <th>MID_CODE</th>\n",
       "      <th>HIGH_CODE</th>\n",
       "      <th>DISTRICT</th>\n",
       "      <th>...</th>\n",
       "      <th>TOTAL_KG_5</th>\n",
       "      <th>TOTAL_6_8</th>\n",
       "      <th>TOTAL_9_12</th>\n",
       "      <th>TOTAL_KG_1</th>\n",
       "      <th>TOTAL_PK_1</th>\n",
       "      <th>geometry</th>\n",
       "      <th>ELEM_POP</th>\n",
       "      <th>MID_POP</th>\n",
       "      <th>HIGH_POP</th>\n",
       "      <th>TOT_POP</th>\n",
       "    </tr>\n",
       "  </thead>\n",
       "  <tbody>\n",
       "    <tr>\n",
       "      <td>0</td>\n",
       "      <td>1</td>\n",
       "      <td>5.0</td>\n",
       "      <td>WL03.4</td>\n",
       "      <td>126</td>\n",
       "      <td>205</td>\n",
       "      <td>311</td>\n",
       "      <td>LUC</td>\n",
       "      <td>HRM</td>\n",
       "      <td>WHS</td>\n",
       "      <td>WL</td>\n",
       "      <td>...</td>\n",
       "      <td>23</td>\n",
       "      <td>10</td>\n",
       "      <td>14</td>\n",
       "      <td>47</td>\n",
       "      <td>49</td>\n",
       "      <td>POLYGON ((11725868.086 7152149.053, 11725870.6...</td>\n",
       "      <td>23</td>\n",
       "      <td>10</td>\n",
       "      <td>14</td>\n",
       "      <td>47</td>\n",
       "    </tr>\n",
       "    <tr>\n",
       "      <td>1</td>\n",
       "      <td>2</td>\n",
       "      <td>5.0</td>\n",
       "      <td>WL03</td>\n",
       "      <td>126</td>\n",
       "      <td>205</td>\n",
       "      <td>311</td>\n",
       "      <td>LUC</td>\n",
       "      <td>HRM</td>\n",
       "      <td>WHS</td>\n",
       "      <td>WL</td>\n",
       "      <td>...</td>\n",
       "      <td>32</td>\n",
       "      <td>22</td>\n",
       "      <td>41</td>\n",
       "      <td>95</td>\n",
       "      <td>95</td>\n",
       "      <td>POLYGON ((11726805.147 7160565.438, 11726826.6...</td>\n",
       "      <td>32</td>\n",
       "      <td>22</td>\n",
       "      <td>41</td>\n",
       "      <td>95</td>\n",
       "    </tr>\n",
       "    <tr>\n",
       "      <td>2</td>\n",
       "      <td>3</td>\n",
       "      <td>5.0</td>\n",
       "      <td>WL27.2</td>\n",
       "      <td>118</td>\n",
       "      <td>202</td>\n",
       "      <td>305</td>\n",
       "      <td>HAM</td>\n",
       "      <td>BRM</td>\n",
       "      <td>LVH</td>\n",
       "      <td>WL</td>\n",
       "      <td>...</td>\n",
       "      <td>10</td>\n",
       "      <td>3</td>\n",
       "      <td>4</td>\n",
       "      <td>17</td>\n",
       "      <td>17</td>\n",
       "      <td>POLYGON ((11720159.464 7099502.139, 11720172.1...</td>\n",
       "      <td>10</td>\n",
       "      <td>3</td>\n",
       "      <td>4</td>\n",
       "      <td>17</td>\n",
       "    </tr>\n",
       "    <tr>\n",
       "      <td>3</td>\n",
       "      <td>4</td>\n",
       "      <td>5.0</td>\n",
       "      <td>WL32.1</td>\n",
       "      <td>132</td>\n",
       "      <td>205</td>\n",
       "      <td>311</td>\n",
       "      <td>MTV</td>\n",
       "      <td>HRM</td>\n",
       "      <td>WHS</td>\n",
       "      <td>WL</td>\n",
       "      <td>...</td>\n",
       "      <td>146</td>\n",
       "      <td>53</td>\n",
       "      <td>60</td>\n",
       "      <td>259</td>\n",
       "      <td>263</td>\n",
       "      <td>POLYGON ((11694466.485 7097608.657, 11694418.5...</td>\n",
       "      <td>146</td>\n",
       "      <td>53</td>\n",
       "      <td>60</td>\n",
       "      <td>259</td>\n",
       "    </tr>\n",
       "    <tr>\n",
       "      <td>4</td>\n",
       "      <td>5</td>\n",
       "      <td>5.0</td>\n",
       "      <td>WL02</td>\n",
       "      <td>126</td>\n",
       "      <td>205</td>\n",
       "      <td>311</td>\n",
       "      <td>LUC</td>\n",
       "      <td>HRM</td>\n",
       "      <td>WHS</td>\n",
       "      <td>WL</td>\n",
       "      <td>...</td>\n",
       "      <td>76</td>\n",
       "      <td>40</td>\n",
       "      <td>71</td>\n",
       "      <td>187</td>\n",
       "      <td>191</td>\n",
       "      <td>POLYGON ((11715899.153 7166497.655, 11715932.1...</td>\n",
       "      <td>76</td>\n",
       "      <td>40</td>\n",
       "      <td>71</td>\n",
       "      <td>187</td>\n",
       "    </tr>\n",
       "  </tbody>\n",
       "</table>\n",
       "<p>5 rows × 47 columns</p>\n",
       "</div>"
      ],
      "text/plain": [
       "   OBJECTID  COUNT_     SPA  ELEM_  INT_  HIGH_ ELEM_CODE MID_CODE HIGH_CODE  \\\n",
       "0         1     5.0  WL03.4    126   205    311       LUC      HRM       WHS   \n",
       "1         2     5.0    WL03    126   205    311       LUC      HRM       WHS   \n",
       "2         3     5.0  WL27.2    118   202    305       HAM      BRM       LVH   \n",
       "3         4     5.0  WL32.1    132   205    311       MTV      HRM       WHS   \n",
       "4         5     5.0    WL02    126   205    311       LUC      HRM       WHS   \n",
       "\n",
       "  DISTRICT  ... TOTAL_KG_5  TOTAL_6_8  TOTAL_9_12 TOTAL_KG_1 TOTAL_PK_1  \\\n",
       "0       WL  ...         23         10          14         47         49   \n",
       "1       WL  ...         32         22          41         95         95   \n",
       "2       WL  ...         10          3           4         17         17   \n",
       "3       WL  ...        146         53          60        259        263   \n",
       "4       WL  ...         76         40          71        187        191   \n",
       "\n",
       "                                            geometry ELEM_POP MID_POP  \\\n",
       "0  POLYGON ((11725868.086 7152149.053, 11725870.6...       23      10   \n",
       "1  POLYGON ((11726805.147 7160565.438, 11726826.6...       32      22   \n",
       "2  POLYGON ((11720159.464 7099502.139, 11720172.1...       10       3   \n",
       "3  POLYGON ((11694466.485 7097608.657, 11694418.5...      146      53   \n",
       "4  POLYGON ((11715899.153 7166497.655, 11715932.1...       76      40   \n",
       "\n",
       "  HIGH_POP TOT_POP  \n",
       "0       14      47  \n",
       "1       41      95  \n",
       "2        4      17  \n",
       "3       60     259  \n",
       "4       71     187  \n",
       "\n",
       "[5 rows x 47 columns]"
      ]
     },
     "execution_count": 51,
     "metadata": {},
     "output_type": "execute_result"
    }
   ],
   "source": [
    "spas.head()\n"
   ]
  },
  {
   "cell_type": "markdown",
   "metadata": {},
   "source": [
    "# New Plans from REGAL algorithm output"
   ]
  },
  {
   "cell_type": "code",
   "execution_count": 52,
   "metadata": {},
   "outputs": [
    {
     "data": {
      "text/html": [
       "<div>\n",
       "<style scoped>\n",
       "    .dataframe tbody tr th:only-of-type {\n",
       "        vertical-align: middle;\n",
       "    }\n",
       "\n",
       "    .dataframe tbody tr th {\n",
       "        vertical-align: top;\n",
       "    }\n",
       "\n",
       "    .dataframe thead th {\n",
       "        text-align: right;\n",
       "    }\n",
       "</style>\n",
       "<table border=\"1\" class=\"dataframe\">\n",
       "  <thead>\n",
       "    <tr style=\"text-align: right;\">\n",
       "      <th></th>\n",
       "      <th>1</th>\n",
       "      <th>2</th>\n",
       "      <th>3</th>\n",
       "      <th>4</th>\n",
       "      <th>5</th>\n",
       "      <th>6</th>\n",
       "      <th>7</th>\n",
       "      <th>8</th>\n",
       "      <th>9</th>\n",
       "      <th>10</th>\n",
       "      <th>...</th>\n",
       "      <th>16</th>\n",
       "      <th>17</th>\n",
       "      <th>18</th>\n",
       "      <th>19</th>\n",
       "      <th>20</th>\n",
       "      <th>21</th>\n",
       "      <th>22</th>\n",
       "      <th>23</th>\n",
       "      <th>24</th>\n",
       "      <th>25</th>\n",
       "    </tr>\n",
       "  </thead>\n",
       "  <tbody>\n",
       "    <tr>\n",
       "      <td>properties</td>\n",
       "      <td>{'AlgParams': {'w1': 0.0, 'w2': 0.0, 'epsilon'...</td>\n",
       "      <td>{'AlgParams': {'w1': 0.0, 'w2': 0.0, 'epsilon'...</td>\n",
       "      <td>{'AlgParams': {'w1': 0.0, 'w2': 0.0, 'epsilon'...</td>\n",
       "      <td>{'AlgParams': {'w1': 0.0, 'w2': 0.0, 'epsilon'...</td>\n",
       "      <td>{'AlgParams': {'w1': 0.0, 'w2': 0.0, 'epsilon'...</td>\n",
       "      <td>{'AlgParams': {'w1': 0.0, 'w2': 0.0, 'epsilon'...</td>\n",
       "      <td>{'AlgParams': {'w1': 0.0, 'w2': 0.0, 'epsilon'...</td>\n",
       "      <td>{'AlgParams': {'w1': 0.0, 'w2': 0.0, 'epsilon'...</td>\n",
       "      <td>{'AlgParams': {'w1': 0.0, 'w2': 0.0, 'epsilon'...</td>\n",
       "      <td>{'AlgParams': {'w1': 0.0, 'w2': 0.0, 'epsilon'...</td>\n",
       "      <td>...</td>\n",
       "      <td>{'AlgParams': {'w1': 0.0, 'w2': 0.0, 'epsilon'...</td>\n",
       "      <td>{'AlgParams': {'w1': 0.0, 'w2': 0.0, 'epsilon'...</td>\n",
       "      <td>{'AlgParams': {'w1': 0.0, 'w2': 0.0, 'epsilon'...</td>\n",
       "      <td>{'AlgParams': {'w1': 0.0, 'w2': 0.0, 'epsilon'...</td>\n",
       "      <td>{'AlgParams': {'w1': 0.0, 'w2': 0.0, 'epsilon'...</td>\n",
       "      <td>{'AlgParams': {'w1': 0.0, 'w2': 0.0, 'epsilon'...</td>\n",
       "      <td>{'AlgParams': {'w1': 0.0, 'w2': 0.0, 'epsilon'...</td>\n",
       "      <td>{'AlgParams': {'w1': 0.0, 'w2': 0.0, 'epsilon'...</td>\n",
       "      <td>{'AlgParams': {'w1': 0.0, 'w2': 0.0, 'epsilon'...</td>\n",
       "      <td>{'AlgParams': {'w1': 0.0, 'w2': 0.0, 'epsilon'...</td>\n",
       "    </tr>\n",
       "    <tr>\n",
       "      <td>info</td>\n",
       "      <td>{'Existing': {'zones': {'LOV': {'STATE': ['WL0...</td>\n",
       "      <td>{'Existing': {'zones': {'LOV': {'STATE': ['WL0...</td>\n",
       "      <td>{'Existing': {'zones': {'LOV': {'STATE': ['WL0...</td>\n",
       "      <td>{'Existing': {'zones': {'LOV': {'STATE': ['WL0...</td>\n",
       "      <td>{'Existing': {'zones': {'LOV': {'STATE': ['WL0...</td>\n",
       "      <td>{'Existing': {'zones': {'LOV': {'STATE': ['WL0...</td>\n",
       "      <td>{'Existing': {'zones': {'LOV': {'STATE': ['WL0...</td>\n",
       "      <td>{'Existing': {'zones': {'LOV': {'STATE': ['WL0...</td>\n",
       "      <td>{'Existing': {'zones': {'LOV': {'STATE': ['WL0...</td>\n",
       "      <td>{'Existing': {'zones': {'LOV': {'STATE': ['WL0...</td>\n",
       "      <td>...</td>\n",
       "      <td>{'Existing': {'zones': {'LOV': {'STATE': ['WL0...</td>\n",
       "      <td>{'Existing': {'zones': {'LOV': {'STATE': ['WL0...</td>\n",
       "      <td>{'Existing': {'zones': {'LOV': {'STATE': ['WL0...</td>\n",
       "      <td>{'Existing': {'zones': {'LOV': {'STATE': ['WL0...</td>\n",
       "      <td>{'Existing': {'zones': {'LOV': {'STATE': ['WL0...</td>\n",
       "      <td>{'Existing': {'zones': {'LOV': {'STATE': ['WL0...</td>\n",
       "      <td>{'Existing': {'zones': {'LOV': {'STATE': ['WL0...</td>\n",
       "      <td>{'Existing': {'zones': {'LOV': {'STATE': ['WL0...</td>\n",
       "      <td>{'Existing': {'zones': {'LOV': {'STATE': ['WL0...</td>\n",
       "      <td>{'Existing': {'zones': {'LOV': {'STATE': ['WL0...</td>\n",
       "    </tr>\n",
       "  </tbody>\n",
       "</table>\n",
       "<p>2 rows × 25 columns</p>\n",
       "</div>"
      ],
      "text/plain": [
       "                                                           1   \\\n",
       "properties  {'AlgParams': {'w1': 0.0, 'w2': 0.0, 'epsilon'...   \n",
       "info        {'Existing': {'zones': {'LOV': {'STATE': ['WL0...   \n",
       "\n",
       "                                                           2   \\\n",
       "properties  {'AlgParams': {'w1': 0.0, 'w2': 0.0, 'epsilon'...   \n",
       "info        {'Existing': {'zones': {'LOV': {'STATE': ['WL0...   \n",
       "\n",
       "                                                           3   \\\n",
       "properties  {'AlgParams': {'w1': 0.0, 'w2': 0.0, 'epsilon'...   \n",
       "info        {'Existing': {'zones': {'LOV': {'STATE': ['WL0...   \n",
       "\n",
       "                                                           4   \\\n",
       "properties  {'AlgParams': {'w1': 0.0, 'w2': 0.0, 'epsilon'...   \n",
       "info        {'Existing': {'zones': {'LOV': {'STATE': ['WL0...   \n",
       "\n",
       "                                                           5   \\\n",
       "properties  {'AlgParams': {'w1': 0.0, 'w2': 0.0, 'epsilon'...   \n",
       "info        {'Existing': {'zones': {'LOV': {'STATE': ['WL0...   \n",
       "\n",
       "                                                           6   \\\n",
       "properties  {'AlgParams': {'w1': 0.0, 'w2': 0.0, 'epsilon'...   \n",
       "info        {'Existing': {'zones': {'LOV': {'STATE': ['WL0...   \n",
       "\n",
       "                                                           7   \\\n",
       "properties  {'AlgParams': {'w1': 0.0, 'w2': 0.0, 'epsilon'...   \n",
       "info        {'Existing': {'zones': {'LOV': {'STATE': ['WL0...   \n",
       "\n",
       "                                                           8   \\\n",
       "properties  {'AlgParams': {'w1': 0.0, 'w2': 0.0, 'epsilon'...   \n",
       "info        {'Existing': {'zones': {'LOV': {'STATE': ['WL0...   \n",
       "\n",
       "                                                           9   \\\n",
       "properties  {'AlgParams': {'w1': 0.0, 'w2': 0.0, 'epsilon'...   \n",
       "info        {'Existing': {'zones': {'LOV': {'STATE': ['WL0...   \n",
       "\n",
       "                                                           10  ...  \\\n",
       "properties  {'AlgParams': {'w1': 0.0, 'w2': 0.0, 'epsilon'...  ...   \n",
       "info        {'Existing': {'zones': {'LOV': {'STATE': ['WL0...  ...   \n",
       "\n",
       "                                                           16  \\\n",
       "properties  {'AlgParams': {'w1': 0.0, 'w2': 0.0, 'epsilon'...   \n",
       "info        {'Existing': {'zones': {'LOV': {'STATE': ['WL0...   \n",
       "\n",
       "                                                           17  \\\n",
       "properties  {'AlgParams': {'w1': 0.0, 'w2': 0.0, 'epsilon'...   \n",
       "info        {'Existing': {'zones': {'LOV': {'STATE': ['WL0...   \n",
       "\n",
       "                                                           18  \\\n",
       "properties  {'AlgParams': {'w1': 0.0, 'w2': 0.0, 'epsilon'...   \n",
       "info        {'Existing': {'zones': {'LOV': {'STATE': ['WL0...   \n",
       "\n",
       "                                                           19  \\\n",
       "properties  {'AlgParams': {'w1': 0.0, 'w2': 0.0, 'epsilon'...   \n",
       "info        {'Existing': {'zones': {'LOV': {'STATE': ['WL0...   \n",
       "\n",
       "                                                           20  \\\n",
       "properties  {'AlgParams': {'w1': 0.0, 'w2': 0.0, 'epsilon'...   \n",
       "info        {'Existing': {'zones': {'LOV': {'STATE': ['WL0...   \n",
       "\n",
       "                                                           21  \\\n",
       "properties  {'AlgParams': {'w1': 0.0, 'w2': 0.0, 'epsilon'...   \n",
       "info        {'Existing': {'zones': {'LOV': {'STATE': ['WL0...   \n",
       "\n",
       "                                                           22  \\\n",
       "properties  {'AlgParams': {'w1': 0.0, 'w2': 0.0, 'epsilon'...   \n",
       "info        {'Existing': {'zones': {'LOV': {'STATE': ['WL0...   \n",
       "\n",
       "                                                           23  \\\n",
       "properties  {'AlgParams': {'w1': 0.0, 'w2': 0.0, 'epsilon'...   \n",
       "info        {'Existing': {'zones': {'LOV': {'STATE': ['WL0...   \n",
       "\n",
       "                                                           24  \\\n",
       "properties  {'AlgParams': {'w1': 0.0, 'w2': 0.0, 'epsilon'...   \n",
       "info        {'Existing': {'zones': {'LOV': {'STATE': ['WL0...   \n",
       "\n",
       "                                                           25  \n",
       "properties  {'AlgParams': {'w1': 0.0, 'w2': 0.0, 'epsilon'...  \n",
       "info        {'Existing': {'zones': {'LOV': {'STATE': ['WL0...  \n",
       "\n",
       "[2 rows x 25 columns]"
      ]
     },
     "execution_count": 52,
     "metadata": {},
     "output_type": "execute_result"
    }
   ],
   "source": [
    "output_df = pd.read_json('results_for_original_data/SA/run7_ES_SA.json')\n",
    "output_df.head()\n",
    "\n",
    "#read the information in the json file and see what it presents\n",
    "#it makes the outermost keys as the column headers. \n",
    "# the next level keys in the nested dictionary became the rows\n",
    "\n",
    "                   "
   ]
  },
  {
   "cell_type": "code",
   "execution_count": 53,
   "metadata": {},
   "outputs": [],
   "source": [
    "# Still experimented here and found that the keys wanted was in 25 -> info -> Final -> zoneIDs\n",
    "with open('results_for_original_data/SA/run7_ES_SA.json') as file:\n",
    "    obj = json.loads(''.join(file.readlines()))\n",
    "                      \n",
    "# obj.keys()\n",
    "# obj['25'].keys()\n",
    "# obj['25']['info']   \n",
    "# obj['25']['info']['Final'].keys()\n",
    "# obj['25']['info']['Final']['zoneIds'].keys()\n",
    "#values(), items()  \n",
    "\n",
    "\n",
    "# obj['25']['info']['Final']['zoneIds'].items()\n",
    "#returns a list with planning zone and corresponding elem_code"
   ]
  },
  {
   "cell_type": "code",
   "execution_count": 54,
   "metadata": {},
   "outputs": [],
   "source": [
    "output_df2 = pd.DataFrame({\"SPA\":[], \"New_Elem_Code\":[]})\n",
    "\n",
    "\n",
    "#Load the file as json. \n",
    "with open('results_for_original_data/SA/run7_ES_SA.json') as file:\n",
    "    #readlines() reads the file as string and loads() loads it into a dict\n",
    "    obj = json.loads(''.join(file.readlines()))\n",
    "    \n",
    "    #Then iterate its items() as key value pairs\n",
    "    for spa_code, elem_code in obj['25']['info']['Final']['zoneIds'].items():\n",
    "        output_df2.loc[len(output_df2.index)] = [spa_code, elem_code]"
   ]
  },
  {
   "cell_type": "code",
   "execution_count": 55,
   "metadata": {},
   "outputs": [
    {
     "data": {
      "text/html": [
       "<div>\n",
       "<style scoped>\n",
       "    .dataframe tbody tr th:only-of-type {\n",
       "        vertical-align: middle;\n",
       "    }\n",
       "\n",
       "    .dataframe tbody tr th {\n",
       "        vertical-align: top;\n",
       "    }\n",
       "\n",
       "    .dataframe thead th {\n",
       "        text-align: right;\n",
       "    }\n",
       "</style>\n",
       "<table border=\"1\" class=\"dataframe\">\n",
       "  <thead>\n",
       "    <tr style=\"text-align: right;\">\n",
       "      <th></th>\n",
       "      <th>SPA</th>\n",
       "      <th>New_Elem_Code</th>\n",
       "    </tr>\n",
       "  </thead>\n",
       "  <tbody>\n",
       "    <tr>\n",
       "      <td>0</td>\n",
       "      <td>CL01</td>\n",
       "      <td>LUC</td>\n",
       "    </tr>\n",
       "    <tr>\n",
       "      <td>1</td>\n",
       "      <td>CL02</td>\n",
       "      <td>LUC</td>\n",
       "    </tr>\n",
       "    <tr>\n",
       "      <td>2</td>\n",
       "      <td>CL02.1</td>\n",
       "      <td>LUC</td>\n",
       "    </tr>\n",
       "    <tr>\n",
       "      <td>3</td>\n",
       "      <td>CL03</td>\n",
       "      <td>WAT</td>\n",
       "    </tr>\n",
       "    <tr>\n",
       "      <td>4</td>\n",
       "      <td>CL04</td>\n",
       "      <td>FHR</td>\n",
       "    </tr>\n",
       "    <tr>\n",
       "      <td>...</td>\n",
       "      <td>...</td>\n",
       "      <td>...</td>\n",
       "    </tr>\n",
       "    <tr>\n",
       "      <td>441</td>\n",
       "      <td>WL62</td>\n",
       "      <td>FHR</td>\n",
       "    </tr>\n",
       "    <tr>\n",
       "      <td>442</td>\n",
       "      <td>WL63</td>\n",
       "      <td>LIN</td>\n",
       "    </tr>\n",
       "    <tr>\n",
       "      <td>443</td>\n",
       "      <td>WL65</td>\n",
       "      <td>BAN</td>\n",
       "    </tr>\n",
       "    <tr>\n",
       "      <td>444</td>\n",
       "      <td>WL66</td>\n",
       "      <td>BAN</td>\n",
       "    </tr>\n",
       "    <tr>\n",
       "      <td>445</td>\n",
       "      <td>WL67</td>\n",
       "      <td>BAN</td>\n",
       "    </tr>\n",
       "  </tbody>\n",
       "</table>\n",
       "<p>446 rows × 2 columns</p>\n",
       "</div>"
      ],
      "text/plain": [
       "        SPA New_Elem_Code\n",
       "0      CL01           LUC\n",
       "1      CL02           LUC\n",
       "2    CL02.1           LUC\n",
       "3      CL03           WAT\n",
       "4      CL04           FHR\n",
       "..      ...           ...\n",
       "441    WL62           FHR\n",
       "442    WL63           LIN\n",
       "443    WL65           BAN\n",
       "444    WL66           BAN\n",
       "445    WL67           BAN\n",
       "\n",
       "[446 rows x 2 columns]"
      ]
     },
     "execution_count": 55,
     "metadata": {},
     "output_type": "execute_result"
    }
   ],
   "source": [
    "output_df2"
   ]
  },
  {
   "cell_type": "code",
   "execution_count": 56,
   "metadata": {},
   "outputs": [
    {
     "data": {
      "text/html": [
       "<div>\n",
       "<style scoped>\n",
       "    .dataframe tbody tr th:only-of-type {\n",
       "        vertical-align: middle;\n",
       "    }\n",
       "\n",
       "    .dataframe tbody tr th {\n",
       "        vertical-align: top;\n",
       "    }\n",
       "\n",
       "    .dataframe thead th {\n",
       "        text-align: right;\n",
       "    }\n",
       "</style>\n",
       "<table border=\"1\" class=\"dataframe\">\n",
       "  <thead>\n",
       "    <tr style=\"text-align: right;\">\n",
       "      <th></th>\n",
       "      <th>OBJECTID</th>\n",
       "      <th>COUNT_</th>\n",
       "      <th>SPA</th>\n",
       "      <th>ELEM_</th>\n",
       "      <th>INT_</th>\n",
       "      <th>HIGH_</th>\n",
       "      <th>ELEM_CODE</th>\n",
       "      <th>MID_CODE</th>\n",
       "      <th>HIGH_CODE</th>\n",
       "      <th>DISTRICT</th>\n",
       "      <th>...</th>\n",
       "      <th>TOTAL_KG_5</th>\n",
       "      <th>TOTAL_6_8</th>\n",
       "      <th>TOTAL_9_12</th>\n",
       "      <th>TOTAL_KG_1</th>\n",
       "      <th>TOTAL_PK_1</th>\n",
       "      <th>geometry</th>\n",
       "      <th>ELEM_POP</th>\n",
       "      <th>MID_POP</th>\n",
       "      <th>HIGH_POP</th>\n",
       "      <th>TOT_POP</th>\n",
       "    </tr>\n",
       "  </thead>\n",
       "  <tbody>\n",
       "    <tr>\n",
       "      <td>0</td>\n",
       "      <td>1</td>\n",
       "      <td>5.0</td>\n",
       "      <td>WL03.4</td>\n",
       "      <td>126</td>\n",
       "      <td>205</td>\n",
       "      <td>311</td>\n",
       "      <td>LUC</td>\n",
       "      <td>HRM</td>\n",
       "      <td>WHS</td>\n",
       "      <td>WL</td>\n",
       "      <td>...</td>\n",
       "      <td>23</td>\n",
       "      <td>10</td>\n",
       "      <td>14</td>\n",
       "      <td>47</td>\n",
       "      <td>49</td>\n",
       "      <td>POLYGON ((11725868.086 7152149.053, 11725870.6...</td>\n",
       "      <td>23</td>\n",
       "      <td>10</td>\n",
       "      <td>14</td>\n",
       "      <td>47</td>\n",
       "    </tr>\n",
       "    <tr>\n",
       "      <td>1</td>\n",
       "      <td>2</td>\n",
       "      <td>5.0</td>\n",
       "      <td>WL03</td>\n",
       "      <td>126</td>\n",
       "      <td>205</td>\n",
       "      <td>311</td>\n",
       "      <td>LUC</td>\n",
       "      <td>HRM</td>\n",
       "      <td>WHS</td>\n",
       "      <td>WL</td>\n",
       "      <td>...</td>\n",
       "      <td>32</td>\n",
       "      <td>22</td>\n",
       "      <td>41</td>\n",
       "      <td>95</td>\n",
       "      <td>95</td>\n",
       "      <td>POLYGON ((11726805.147 7160565.438, 11726826.6...</td>\n",
       "      <td>32</td>\n",
       "      <td>22</td>\n",
       "      <td>41</td>\n",
       "      <td>95</td>\n",
       "    </tr>\n",
       "    <tr>\n",
       "      <td>2</td>\n",
       "      <td>3</td>\n",
       "      <td>5.0</td>\n",
       "      <td>WL27.2</td>\n",
       "      <td>118</td>\n",
       "      <td>202</td>\n",
       "      <td>305</td>\n",
       "      <td>HAM</td>\n",
       "      <td>BRM</td>\n",
       "      <td>LVH</td>\n",
       "      <td>WL</td>\n",
       "      <td>...</td>\n",
       "      <td>10</td>\n",
       "      <td>3</td>\n",
       "      <td>4</td>\n",
       "      <td>17</td>\n",
       "      <td>17</td>\n",
       "      <td>POLYGON ((11720159.464 7099502.139, 11720172.1...</td>\n",
       "      <td>10</td>\n",
       "      <td>3</td>\n",
       "      <td>4</td>\n",
       "      <td>17</td>\n",
       "    </tr>\n",
       "    <tr>\n",
       "      <td>3</td>\n",
       "      <td>4</td>\n",
       "      <td>5.0</td>\n",
       "      <td>WL32.1</td>\n",
       "      <td>132</td>\n",
       "      <td>205</td>\n",
       "      <td>311</td>\n",
       "      <td>MTV</td>\n",
       "      <td>HRM</td>\n",
       "      <td>WHS</td>\n",
       "      <td>WL</td>\n",
       "      <td>...</td>\n",
       "      <td>146</td>\n",
       "      <td>53</td>\n",
       "      <td>60</td>\n",
       "      <td>259</td>\n",
       "      <td>263</td>\n",
       "      <td>POLYGON ((11694466.485 7097608.657, 11694418.5...</td>\n",
       "      <td>146</td>\n",
       "      <td>53</td>\n",
       "      <td>60</td>\n",
       "      <td>259</td>\n",
       "    </tr>\n",
       "    <tr>\n",
       "      <td>4</td>\n",
       "      <td>5</td>\n",
       "      <td>5.0</td>\n",
       "      <td>WL02</td>\n",
       "      <td>126</td>\n",
       "      <td>205</td>\n",
       "      <td>311</td>\n",
       "      <td>LUC</td>\n",
       "      <td>HRM</td>\n",
       "      <td>WHS</td>\n",
       "      <td>WL</td>\n",
       "      <td>...</td>\n",
       "      <td>76</td>\n",
       "      <td>40</td>\n",
       "      <td>71</td>\n",
       "      <td>187</td>\n",
       "      <td>191</td>\n",
       "      <td>POLYGON ((11715899.153 7166497.655, 11715932.1...</td>\n",
       "      <td>76</td>\n",
       "      <td>40</td>\n",
       "      <td>71</td>\n",
       "      <td>187</td>\n",
       "    </tr>\n",
       "  </tbody>\n",
       "</table>\n",
       "<p>5 rows × 47 columns</p>\n",
       "</div>"
      ],
      "text/plain": [
       "   OBJECTID  COUNT_     SPA  ELEM_  INT_  HIGH_ ELEM_CODE MID_CODE HIGH_CODE  \\\n",
       "0         1     5.0  WL03.4    126   205    311       LUC      HRM       WHS   \n",
       "1         2     5.0    WL03    126   205    311       LUC      HRM       WHS   \n",
       "2         3     5.0  WL27.2    118   202    305       HAM      BRM       LVH   \n",
       "3         4     5.0  WL32.1    132   205    311       MTV      HRM       WHS   \n",
       "4         5     5.0    WL02    126   205    311       LUC      HRM       WHS   \n",
       "\n",
       "  DISTRICT  ... TOTAL_KG_5  TOTAL_6_8  TOTAL_9_12 TOTAL_KG_1 TOTAL_PK_1  \\\n",
       "0       WL  ...         23         10          14         47         49   \n",
       "1       WL  ...         32         22          41         95         95   \n",
       "2       WL  ...         10          3           4         17         17   \n",
       "3       WL  ...        146         53          60        259        263   \n",
       "4       WL  ...         76         40          71        187        191   \n",
       "\n",
       "                                            geometry ELEM_POP MID_POP  \\\n",
       "0  POLYGON ((11725868.086 7152149.053, 11725870.6...       23      10   \n",
       "1  POLYGON ((11726805.147 7160565.438, 11726826.6...       32      22   \n",
       "2  POLYGON ((11720159.464 7099502.139, 11720172.1...       10       3   \n",
       "3  POLYGON ((11694466.485 7097608.657, 11694418.5...      146      53   \n",
       "4  POLYGON ((11715899.153 7166497.655, 11715932.1...       76      40   \n",
       "\n",
       "  HIGH_POP TOT_POP  \n",
       "0       14      47  \n",
       "1       41      95  \n",
       "2        4      17  \n",
       "3       60     259  \n",
       "4       71     187  \n",
       "\n",
       "[5 rows x 47 columns]"
      ]
     },
     "execution_count": 56,
     "metadata": {},
     "output_type": "execute_result"
    }
   ],
   "source": [
    "spas.head()\n",
    "\n",
    "#which also has an SPA column. Since the SPA column is unique we decided to merge on that"
   ]
  },
  {
   "cell_type": "code",
   "execution_count": 57,
   "metadata": {},
   "outputs": [],
   "source": [
    "# adding new column to spa dataframe\n",
    "new_spas2 = pd.merge(spas, output_df2, on='SPA')"
   ]
  },
  {
   "cell_type": "code",
   "execution_count": 58,
   "metadata": {},
   "outputs": [
    {
     "data": {
      "text/html": [
       "<div>\n",
       "<style scoped>\n",
       "    .dataframe tbody tr th:only-of-type {\n",
       "        vertical-align: middle;\n",
       "    }\n",
       "\n",
       "    .dataframe tbody tr th {\n",
       "        vertical-align: top;\n",
       "    }\n",
       "\n",
       "    .dataframe thead th {\n",
       "        text-align: right;\n",
       "    }\n",
       "</style>\n",
       "<table border=\"1\" class=\"dataframe\">\n",
       "  <thead>\n",
       "    <tr style=\"text-align: right;\">\n",
       "      <th></th>\n",
       "      <th>ELEM_CODE</th>\n",
       "      <th>New_Elem_Code</th>\n",
       "    </tr>\n",
       "  </thead>\n",
       "  <tbody>\n",
       "    <tr>\n",
       "      <td>0</td>\n",
       "      <td>LUC</td>\n",
       "      <td>LOV</td>\n",
       "    </tr>\n",
       "    <tr>\n",
       "      <td>1</td>\n",
       "      <td>LUC</td>\n",
       "      <td>LOV</td>\n",
       "    </tr>\n",
       "    <tr>\n",
       "      <td>2</td>\n",
       "      <td>HAM</td>\n",
       "      <td>HAM</td>\n",
       "    </tr>\n",
       "    <tr>\n",
       "      <td>3</td>\n",
       "      <td>MTV</td>\n",
       "      <td>RHL</td>\n",
       "    </tr>\n",
       "    <tr>\n",
       "      <td>4</td>\n",
       "      <td>LUC</td>\n",
       "      <td>RHL</td>\n",
       "    </tr>\n",
       "    <tr>\n",
       "      <td>...</td>\n",
       "      <td>...</td>\n",
       "      <td>...</td>\n",
       "    </tr>\n",
       "    <tr>\n",
       "      <td>441</td>\n",
       "      <td>ALD</td>\n",
       "      <td>ALD</td>\n",
       "    </tr>\n",
       "    <tr>\n",
       "      <td>442</td>\n",
       "      <td>BUF</td>\n",
       "      <td>PNB</td>\n",
       "    </tr>\n",
       "    <tr>\n",
       "      <td>443</td>\n",
       "      <td>PNB</td>\n",
       "      <td>PNB</td>\n",
       "    </tr>\n",
       "    <tr>\n",
       "      <td>444</td>\n",
       "      <td>ARC</td>\n",
       "      <td>GPE</td>\n",
       "    </tr>\n",
       "    <tr>\n",
       "      <td>445</td>\n",
       "      <td>LOV</td>\n",
       "      <td>LUC</td>\n",
       "    </tr>\n",
       "  </tbody>\n",
       "</table>\n",
       "<p>446 rows × 2 columns</p>\n",
       "</div>"
      ],
      "text/plain": [
       "    ELEM_CODE New_Elem_Code\n",
       "0         LUC           LOV\n",
       "1         LUC           LOV\n",
       "2         HAM           HAM\n",
       "3         MTV           RHL\n",
       "4         LUC           RHL\n",
       "..        ...           ...\n",
       "441       ALD           ALD\n",
       "442       BUF           PNB\n",
       "443       PNB           PNB\n",
       "444       ARC           GPE\n",
       "445       LOV           LUC\n",
       "\n",
       "[446 rows x 2 columns]"
      ]
     },
     "execution_count": 58,
     "metadata": {},
     "output_type": "execute_result"
    }
   ],
   "source": [
    "new_spas2[['ELEM_CODE', 'New_Elem_Code']]\n",
    "\n",
    "#ELEM_CODE now refers to the old plan assignment and the New_Elem_Code refers to the \n",
    "#new plan from the output of the REGAL algorithm"
   ]
  },
  {
   "cell_type": "code",
   "execution_count": 59,
   "metadata": {
    "scrolled": true
   },
   "outputs": [
    {
     "data": {
      "text/plain": [
       "<matplotlib.axes._subplots.AxesSubplot at 0x17d58844888>"
      ]
     },
     "execution_count": 59,
     "metadata": {},
     "output_type": "execute_result"
    },
    {
     "data": {
      "image/png": "[encoded data removed]",
      "text/plain": [
       "<Figure size 1080x1008 with 1 Axes>"
      ]
     },
     "metadata": {
      "needs_background": "light"
     },
     "output_type": "display_data"
    }
   ],
   "source": [
    "new_spas2.plot(column=\"New_Elem_Code\",cmap=\"tab20\", figsize=(15,14))\n",
    "\n",
    "#new addition to see contiguity\n",
    "\n",
    "#Is there a quantification for contiguity? Are there any other measures for contiguous?\n",
    "#Objective criteria tells us that"
   ]
  },
  {
   "cell_type": "code",
   "execution_count": 67,
   "metadata": {},
   "outputs": [
    {
     "data": {
      "text/plain": [
       "<matplotlib.axes._subplots.AxesSubplot at 0x17d586e3c88>"
      ]
     },
     "execution_count": 67,
     "metadata": {},
     "output_type": "execute_result"
    },
    {
     "data": {
      "image/png": "[encoded data removed]",
      "text/plain": [
       "<Figure size 1080x1008 with 1 Axes>"
      ]
     },
     "metadata": {
      "needs_background": "light"
     },
     "output_type": "display_data"
    }
   ],
   "source": [
    "spas.plot(column=\"ELEM_CODE\",cmap=\"tab20\", figsize=(15,14))"
   ]
  },
  {
   "cell_type": "code",
   "execution_count": 60,
   "metadata": {},
   "outputs": [],
   "source": [
    "# import geopandas as gpd\n",
    "# import pandas as pd"
   ]
  },
  {
   "cell_type": "code",
   "execution_count": 61,
   "metadata": {},
   "outputs": [
    {
     "data": {
      "text/html": [
       "<div>\n",
       "<style scoped>\n",
       "    .dataframe tbody tr th:only-of-type {\n",
       "        vertical-align: middle;\n",
       "    }\n",
       "\n",
       "    .dataframe tbody tr th {\n",
       "        vertical-align: top;\n",
       "    }\n",
       "\n",
       "    .dataframe thead th {\n",
       "        text-align: right;\n",
       "    }\n",
       "</style>\n",
       "<table border=\"1\" class=\"dataframe\">\n",
       "  <thead>\n",
       "    <tr style=\"text-align: right;\">\n",
       "      <th></th>\n",
       "      <th>OBJECTID</th>\n",
       "      <th>COUNT_</th>\n",
       "      <th>SPA</th>\n",
       "      <th>ELEM_</th>\n",
       "      <th>INT_</th>\n",
       "      <th>HIGH_</th>\n",
       "      <th>ELEM_CODE</th>\n",
       "      <th>MID_CODE</th>\n",
       "      <th>HIGH_CODE</th>\n",
       "      <th>DISTRICT</th>\n",
       "      <th>...</th>\n",
       "      <th>HIGH_POP_N</th>\n",
       "      <th>HIGH_POP_P</th>\n",
       "      <th>TOT_POP_A</th>\n",
       "      <th>TOT_POP_W</th>\n",
       "      <th>TOT_POP_M2</th>\n",
       "      <th>TOT_POP_B</th>\n",
       "      <th>TOT_POP_H</th>\n",
       "      <th>TOT_POP_N</th>\n",
       "      <th>TOT_POP_P</th>\n",
       "      <th>geometry</th>\n",
       "    </tr>\n",
       "  </thead>\n",
       "  <tbody>\n",
       "    <tr>\n",
       "      <td>0</td>\n",
       "      <td>1</td>\n",
       "      <td>5.0</td>\n",
       "      <td>WL03.4</td>\n",
       "      <td>126</td>\n",
       "      <td>205</td>\n",
       "      <td>311</td>\n",
       "      <td>LOV</td>\n",
       "      <td>HRM</td>\n",
       "      <td>WHS</td>\n",
       "      <td>WL</td>\n",
       "      <td>...</td>\n",
       "      <td>0</td>\n",
       "      <td>0</td>\n",
       "      <td>1</td>\n",
       "      <td>37</td>\n",
       "      <td>0</td>\n",
       "      <td>2</td>\n",
       "      <td>7</td>\n",
       "      <td>0</td>\n",
       "      <td>0</td>\n",
       "      <td>POLYGON ((11725868.086 7152149.054, 11725870.6...</td>\n",
       "    </tr>\n",
       "    <tr>\n",
       "      <td>1</td>\n",
       "      <td>2</td>\n",
       "      <td>5.0</td>\n",
       "      <td>WL03</td>\n",
       "      <td>126</td>\n",
       "      <td>205</td>\n",
       "      <td>311</td>\n",
       "      <td>LOV</td>\n",
       "      <td>HRM</td>\n",
       "      <td>WHS</td>\n",
       "      <td>WL</td>\n",
       "      <td>...</td>\n",
       "      <td>0</td>\n",
       "      <td>0</td>\n",
       "      <td>0</td>\n",
       "      <td>83</td>\n",
       "      <td>5</td>\n",
       "      <td>0</td>\n",
       "      <td>6</td>\n",
       "      <td>1</td>\n",
       "      <td>0</td>\n",
       "      <td>POLYGON ((11726805.147 7160565.439, 11726826.6...</td>\n",
       "    </tr>\n",
       "    <tr>\n",
       "      <td>2</td>\n",
       "      <td>3</td>\n",
       "      <td>5.0</td>\n",
       "      <td>WL27.2</td>\n",
       "      <td>118</td>\n",
       "      <td>202</td>\n",
       "      <td>305</td>\n",
       "      <td>HAM</td>\n",
       "      <td>BRM</td>\n",
       "      <td>LVH</td>\n",
       "      <td>WL</td>\n",
       "      <td>...</td>\n",
       "      <td>0</td>\n",
       "      <td>0</td>\n",
       "      <td>0</td>\n",
       "      <td>11</td>\n",
       "      <td>0</td>\n",
       "      <td>1</td>\n",
       "      <td>5</td>\n",
       "      <td>0</td>\n",
       "      <td>0</td>\n",
       "      <td>POLYGON ((11720159.464 7099502.139, 11720172.1...</td>\n",
       "    </tr>\n",
       "    <tr>\n",
       "      <td>3</td>\n",
       "      <td>4</td>\n",
       "      <td>5.0</td>\n",
       "      <td>WL32.1</td>\n",
       "      <td>132</td>\n",
       "      <td>205</td>\n",
       "      <td>311</td>\n",
       "      <td>MTV</td>\n",
       "      <td>HRM</td>\n",
       "      <td>WHS</td>\n",
       "      <td>WL</td>\n",
       "      <td>...</td>\n",
       "      <td>0</td>\n",
       "      <td>0</td>\n",
       "      <td>8</td>\n",
       "      <td>205</td>\n",
       "      <td>14</td>\n",
       "      <td>8</td>\n",
       "      <td>23</td>\n",
       "      <td>1</td>\n",
       "      <td>0</td>\n",
       "      <td>POLYGON ((11694466.485 7097608.657, 11694418.5...</td>\n",
       "    </tr>\n",
       "    <tr>\n",
       "      <td>4</td>\n",
       "      <td>5</td>\n",
       "      <td>5.0</td>\n",
       "      <td>WL02</td>\n",
       "      <td>126</td>\n",
       "      <td>205</td>\n",
       "      <td>311</td>\n",
       "      <td>LOV</td>\n",
       "      <td>HRM</td>\n",
       "      <td>WHS</td>\n",
       "      <td>WL</td>\n",
       "      <td>...</td>\n",
       "      <td>0</td>\n",
       "      <td>0</td>\n",
       "      <td>9</td>\n",
       "      <td>170</td>\n",
       "      <td>3</td>\n",
       "      <td>0</td>\n",
       "      <td>5</td>\n",
       "      <td>0</td>\n",
       "      <td>0</td>\n",
       "      <td>POLYGON ((11715899.154 7166497.655, 11715932.1...</td>\n",
       "    </tr>\n",
       "  </tbody>\n",
       "</table>\n",
       "<p>5 rows × 75 columns</p>\n",
       "</div>"
      ],
      "text/plain": [
       "   OBJECTID  COUNT_     SPA  ELEM_  INT_  HIGH_ ELEM_CODE MID_CODE HIGH_CODE  \\\n",
       "0         1     5.0  WL03.4    126   205    311       LOV      HRM       WHS   \n",
       "1         2     5.0    WL03    126   205    311       LOV      HRM       WHS   \n",
       "2         3     5.0  WL27.2    118   202    305       HAM      BRM       LVH   \n",
       "3         4     5.0  WL32.1    132   205    311       MTV      HRM       WHS   \n",
       "4         5     5.0    WL02    126   205    311       LOV      HRM       WHS   \n",
       "\n",
       "  DISTRICT  ... HIGH_POP_N  HIGH_POP_P  TOT_POP_A TOT_POP_W TOT_POP_M2  \\\n",
       "0       WL  ...          0           0          1        37          0   \n",
       "1       WL  ...          0           0          0        83          5   \n",
       "2       WL  ...          0           0          0        11          0   \n",
       "3       WL  ...          0           0          8       205         14   \n",
       "4       WL  ...          0           0          9       170          3   \n",
       "\n",
       "  TOT_POP_B TOT_POP_H TOT_POP_N TOT_POP_P  \\\n",
       "0         2         7         0         0   \n",
       "1         0         6         1         0   \n",
       "2         1         5         0         0   \n",
       "3         8        23         1         0   \n",
       "4         0         5         0         0   \n",
       "\n",
       "                                            geometry  \n",
       "0  POLYGON ((11725868.086 7152149.054, 11725870.6...  \n",
       "1  POLYGON ((11726805.147 7160565.439, 11726826.6...  \n",
       "2  POLYGON ((11720159.464 7099502.139, 11720172.1...  \n",
       "3  POLYGON ((11694466.485 7097608.657, 11694418.5...  \n",
       "4  POLYGON ((11715899.154 7166497.655, 11715932.1...  \n",
       "\n",
       "[5 rows x 75 columns]"
      ]
     },
     "execution_count": 61,
     "metadata": {},
     "output_type": "execute_result"
    }
   ],
   "source": [
    "#spas_processed = gpd.read_file('new_SPAs_2017_2018.json', driver='GeoJSON')\n",
    "spas_processed = gpd.read_file('./data/new_SPAs_2017_2018.json', driver='GeoJSON')\n",
    "spas_processed.head()\n",
    "\n",
    "#new line to run the newly downloaded json files, should move around anywhere."
   ]
  },
  {
   "cell_type": "code",
   "execution_count": 62,
   "metadata": {},
   "outputs": [],
   "source": [
    "# There were 3 different files in the output, but only SA was analyzed. "
   ]
  }
 ],
 "metadata": {
  "kernelspec": {
   "display_name": "Python 3",
   "language": "python",
   "name": "python3"
  },
  "language_info": {
   "codemirror_mode": {
    "name": "ipython",
    "version": 3
   },
   "file_extension": ".py",
   "mimetype": "text/x-python",
   "name": "python",
   "nbconvert_exporter": "python",
   "pygments_lexer": "ipython3",
   "version": "3.7.4"
  }
 },
 "nbformat": 4,
 "nbformat_minor": 1
}
